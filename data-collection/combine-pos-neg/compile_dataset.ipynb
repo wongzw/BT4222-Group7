{
 "cells": [
  {
   "cell_type": "code",
   "execution_count": 2,
   "id": "50da9f39",
   "metadata": {},
   "outputs": [
    {
     "name": "stdout",
     "output_type": "stream",
     "text": [
      "Current date and time : \n",
      "2022-11-08 00:24:31\n"
     ]
    }
   ],
   "source": [
    "import datetime\n",
    "now = datetime.datetime.now()\n",
    "print (\"Current date and time : \")\n",
    "print (now.strftime(\"%Y-%m-%d %H:%M:%S\"))"
   ]
  },
  {
   "cell_type": "code",
   "execution_count": 4,
   "id": "59b6c845",
   "metadata": {},
   "outputs": [],
   "source": [
    "import pandas as pd\n",
    "import numpy as np"
   ]
  },
  {
   "cell_type": "code",
   "execution_count": 9,
   "id": "70118cd0",
   "metadata": {},
   "outputs": [],
   "source": [
    "df_neg = pd.read_csv('neg_compiled.csv')\n",
    "df_pos = pd.read_csv('pos_compiled.csv')"
   ]
  },
  {
   "cell_type": "code",
   "execution_count": null,
   "id": "89acc33f",
   "metadata": {},
   "outputs": [],
   "source": [
    "pd.concat([df_neg, df_pos]).to_csv('compiled_final.csv')"
   ]
  }
 ],
 "metadata": {
  "kernelspec": {
   "display_name": "Python 3 (ipykernel)",
   "language": "python",
   "name": "python3"
  },
  "language_info": {
   "codemirror_mode": {
    "name": "ipython",
    "version": 3
   },
   "file_extension": ".py",
   "mimetype": "text/x-python",
   "name": "python",
   "nbconvert_exporter": "python",
   "pygments_lexer": "ipython3",
   "version": "3.9.13"
  }
 },
 "nbformat": 4,
 "nbformat_minor": 5
}
