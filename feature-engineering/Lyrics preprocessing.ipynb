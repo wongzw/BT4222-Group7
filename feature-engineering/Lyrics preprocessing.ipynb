{
 "cells": [
  {
   "cell_type": "code",
   "execution_count": 2,
   "metadata": {},
   "outputs": [
    {
     "name": "stdout",
     "output_type": "stream",
     "text": [
      "Current date and time : \n",
      "2022-11-07 23:39:35\n"
     ]
    }
   ],
   "source": [
    "import datetime\n",
    "now = datetime.datetime.now()\n",
    "print (\"Current date and time : \")\n",
    "print (now.strftime(\"%Y-%m-%d %H:%M:%S\"))"
   ]
  },
  {
   "cell_type": "code",
   "execution_count": 1,
   "metadata": {
    "collapsed": true,
    "pycharm": {
     "name": "#%%\n"
    }
   },
   "outputs": [
    {
     "data": {
      "text/plain": [
       "<module 'documentSummaries' from 'C:\\\\Users\\\\clvnt\\\\OneDrive\\\\Desktop\\\\BT4222\\\\Python Notebook files\\\\Project\\\\BERT\\\\documentSummaries.py'>"
      ]
     },
     "execution_count": 1,
     "metadata": {},
     "output_type": "execute_result"
    }
   ],
   "source": [
    "import importlib\n",
    "import pandas as pd\n",
    "import numpy as np\n",
    "import torch\n",
    "import nltk\n",
    "import documentSummaries\n",
    "from topicModel import TopicModel as tm\n",
    "from documentSummaries import DocumentSummaries\n",
    "from keras.layers import Input, Flatten, Dense\n",
    "from keras_preprocessing.sequence import pad_sequences\n",
    "from keras import Model\n",
    "from sklearn.model_selection import train_test_split\n",
    "from transformers import BertTokenizer, TFBertForPreTraining\n",
    "from copy import deepcopy\n",
    "importlib.reload(documentSummaries)"
   ]
  },
  {
   "cell_type": "code",
   "execution_count": 2,
   "metadata": {
    "pycharm": {
     "name": "#%%\n"
    }
   },
   "outputs": [
    {
     "name": "stderr",
     "output_type": "stream",
     "text": [
      "C:\\Users\\clvnt\\AppData\\Local\\Temp\\ipykernel_21444\\713654814.py:1: DtypeWarning: Columns (19) have mixed types. Specify dtype option on import or set low_memory=False.\n",
      "  df = pd.read_csv('final_compiled_final.csv')\n"
     ]
    },
    {
     "data": {
      "text/html": [
       "<div>\n",
       "<style scoped>\n",
       "    .dataframe tbody tr th:only-of-type {\n",
       "        vertical-align: middle;\n",
       "    }\n",
       "\n",
       "    .dataframe tbody tr th {\n",
       "        vertical-align: top;\n",
       "    }\n",
       "\n",
       "    .dataframe thead th {\n",
       "        text-align: right;\n",
       "    }\n",
       "</style>\n",
       "<table border=\"1\" class=\"dataframe\">\n",
       "  <thead>\n",
       "    <tr style=\"text-align: right;\">\n",
       "      <th></th>\n",
       "      <th>Unnamed: 0</th>\n",
       "      <th>id</th>\n",
       "      <th>name</th>\n",
       "      <th>artists</th>\n",
       "      <th>artist_ids</th>\n",
       "      <th>track_number</th>\n",
       "      <th>danceability</th>\n",
       "      <th>energy</th>\n",
       "      <th>key</th>\n",
       "      <th>loudness</th>\n",
       "      <th>...</th>\n",
       "      <th>liveness</th>\n",
       "      <th>valence</th>\n",
       "      <th>tempo</th>\n",
       "      <th>explicit</th>\n",
       "      <th>duration_ms</th>\n",
       "      <th>date</th>\n",
       "      <th>release_date</th>\n",
       "      <th>genres</th>\n",
       "      <th>lyrics</th>\n",
       "      <th>target</th>\n",
       "    </tr>\n",
       "  </thead>\n",
       "  <tbody>\n",
       "    <tr>\n",
       "      <th>0</th>\n",
       "      <td>0</td>\n",
       "      <td>0gplL1WMoJ6iYaPgMCL0gX</td>\n",
       "      <td>Easy On Me</td>\n",
       "      <td>['Adele']</td>\n",
       "      <td>['4dpARuHxo51G3z768sgnrY']</td>\n",
       "      <td>1</td>\n",
       "      <td>0.604</td>\n",
       "      <td>0.366</td>\n",
       "      <td>5</td>\n",
       "      <td>-7.519</td>\n",
       "      <td>...</td>\n",
       "      <td>0.1330</td>\n",
       "      <td>0.130</td>\n",
       "      <td>141.981</td>\n",
       "      <td>False</td>\n",
       "      <td>224695</td>\n",
       "      <td>6/11/2021</td>\n",
       "      <td>NaN</td>\n",
       "      <td>['pop soul', 'pop', 'british soul', 'uk pop']</td>\n",
       "      <td>. There ain't no gold in this river. That I've...</td>\n",
       "      <td>1</td>\n",
       "    </tr>\n",
       "    <tr>\n",
       "      <th>1</th>\n",
       "      <td>1</td>\n",
       "      <td>4BI4iNZigfF4SUq13TcFPh</td>\n",
       "      <td>INDUSTRY BABY - EXTENDED</td>\n",
       "      <td>['Lil Nas X', 'Jack Harlow']</td>\n",
       "      <td>['7jVv8c5Fj3E9VhNjxT4snq', '2LIk90788K0zvyj2JJ...</td>\n",
       "      <td>2</td>\n",
       "      <td>0.732</td>\n",
       "      <td>0.708</td>\n",
       "      <td>10</td>\n",
       "      <td>-6.775</td>\n",
       "      <td>...</td>\n",
       "      <td>0.0528</td>\n",
       "      <td>0.883</td>\n",
       "      <td>149.988</td>\n",
       "      <td>True</td>\n",
       "      <td>227200</td>\n",
       "      <td>6/11/2021</td>\n",
       "      <td>NaN</td>\n",
       "      <td>['deep underground hip hop', 'lgbtq+ hip hop',...</td>\n",
       "      <td>. (D-D-Daytrip took it to ten, hey). Baby back...</td>\n",
       "      <td>1</td>\n",
       "    </tr>\n",
       "    <tr>\n",
       "      <th>2</th>\n",
       "      <td>2</td>\n",
       "      <td>58UKC45GPNTflCN6nwCUeF</td>\n",
       "      <td>Fancy Like</td>\n",
       "      <td>['Walker Hayes']</td>\n",
       "      <td>['7sKxqpSqbIzphAKAhrqvlf']</td>\n",
       "      <td>6</td>\n",
       "      <td>0.647</td>\n",
       "      <td>0.765</td>\n",
       "      <td>1</td>\n",
       "      <td>-6.459</td>\n",
       "      <td>...</td>\n",
       "      <td>0.3150</td>\n",
       "      <td>0.855</td>\n",
       "      <td>79.994</td>\n",
       "      <td>False</td>\n",
       "      <td>161853</td>\n",
       "      <td>6/11/2021</td>\n",
       "      <td>NaN</td>\n",
       "      <td>['modern country rock', 'contemporary country'...</td>\n",
       "      <td>. Ayy. My girl is bangin', she's so low mainte...</td>\n",
       "      <td>1</td>\n",
       "    </tr>\n",
       "    <tr>\n",
       "      <th>3</th>\n",
       "      <td>3</td>\n",
       "      <td>3rmo8F54jFF8OgYsqTxm5d</td>\n",
       "      <td>Bad Habits</td>\n",
       "      <td>['Ed Sheeran']</td>\n",
       "      <td>['6eUKZXaKkcviH0Ku9w2n3V']</td>\n",
       "      <td>4</td>\n",
       "      <td>0.807</td>\n",
       "      <td>0.893</td>\n",
       "      <td>11</td>\n",
       "      <td>-3.745</td>\n",
       "      <td>...</td>\n",
       "      <td>0.3660</td>\n",
       "      <td>0.537</td>\n",
       "      <td>126.011</td>\n",
       "      <td>False</td>\n",
       "      <td>230747</td>\n",
       "      <td>6/11/2021</td>\n",
       "      <td>NaN</td>\n",
       "      <td>['pop', 'uk pop']</td>\n",
       "      <td>. (One, two, three, four). Ooh, ooh. . Every t...</td>\n",
       "      <td>1</td>\n",
       "    </tr>\n",
       "    <tr>\n",
       "      <th>4</th>\n",
       "      <td>4</td>\n",
       "      <td>50nfwKoDiSYg8zOCREWAm5</td>\n",
       "      <td>Shivers</td>\n",
       "      <td>['Ed Sheeran']</td>\n",
       "      <td>['6eUKZXaKkcviH0Ku9w2n3V']</td>\n",
       "      <td>2</td>\n",
       "      <td>0.788</td>\n",
       "      <td>0.859</td>\n",
       "      <td>2</td>\n",
       "      <td>-2.724</td>\n",
       "      <td>...</td>\n",
       "      <td>0.0424</td>\n",
       "      <td>0.822</td>\n",
       "      <td>141.020</td>\n",
       "      <td>False</td>\n",
       "      <td>207853</td>\n",
       "      <td>6/11/2021</td>\n",
       "      <td>NaN</td>\n",
       "      <td>['pop', 'uk pop']</td>\n",
       "      <td>. I took an arrow to the heart. I never kissed...</td>\n",
       "      <td>1</td>\n",
       "    </tr>\n",
       "  </tbody>\n",
       "</table>\n",
       "<p>5 rows × 24 columns</p>\n",
       "</div>"
      ],
      "text/plain": [
       "   Unnamed: 0                      id                      name  \\\n",
       "0           0  0gplL1WMoJ6iYaPgMCL0gX                Easy On Me   \n",
       "1           1  4BI4iNZigfF4SUq13TcFPh  INDUSTRY BABY - EXTENDED   \n",
       "2           2  58UKC45GPNTflCN6nwCUeF                Fancy Like   \n",
       "3           3  3rmo8F54jFF8OgYsqTxm5d                Bad Habits   \n",
       "4           4  50nfwKoDiSYg8zOCREWAm5                   Shivers   \n",
       "\n",
       "                        artists  \\\n",
       "0                     ['Adele']   \n",
       "1  ['Lil Nas X', 'Jack Harlow']   \n",
       "2              ['Walker Hayes']   \n",
       "3                ['Ed Sheeran']   \n",
       "4                ['Ed Sheeran']   \n",
       "\n",
       "                                          artist_ids  track_number  \\\n",
       "0                         ['4dpARuHxo51G3z768sgnrY']             1   \n",
       "1  ['7jVv8c5Fj3E9VhNjxT4snq', '2LIk90788K0zvyj2JJ...             2   \n",
       "2                         ['7sKxqpSqbIzphAKAhrqvlf']             6   \n",
       "3                         ['6eUKZXaKkcviH0Ku9w2n3V']             4   \n",
       "4                         ['6eUKZXaKkcviH0Ku9w2n3V']             2   \n",
       "\n",
       "   danceability  energy  key  loudness  ...  liveness  valence    tempo  \\\n",
       "0         0.604   0.366    5    -7.519  ...    0.1330    0.130  141.981   \n",
       "1         0.732   0.708   10    -6.775  ...    0.0528    0.883  149.988   \n",
       "2         0.647   0.765    1    -6.459  ...    0.3150    0.855   79.994   \n",
       "3         0.807   0.893   11    -3.745  ...    0.3660    0.537  126.011   \n",
       "4         0.788   0.859    2    -2.724  ...    0.0424    0.822  141.020   \n",
       "\n",
       "   explicit  duration_ms       date  release_date  \\\n",
       "0     False       224695  6/11/2021           NaN   \n",
       "1      True       227200  6/11/2021           NaN   \n",
       "2     False       161853  6/11/2021           NaN   \n",
       "3     False       230747  6/11/2021           NaN   \n",
       "4     False       207853  6/11/2021           NaN   \n",
       "\n",
       "                                              genres  \\\n",
       "0      ['pop soul', 'pop', 'british soul', 'uk pop']   \n",
       "1  ['deep underground hip hop', 'lgbtq+ hip hop',...   \n",
       "2  ['modern country rock', 'contemporary country'...   \n",
       "3                                  ['pop', 'uk pop']   \n",
       "4                                  ['pop', 'uk pop']   \n",
       "\n",
       "                                              lyrics target  \n",
       "0  . There ain't no gold in this river. That I've...      1  \n",
       "1  . (D-D-Daytrip took it to ten, hey). Baby back...      1  \n",
       "2  . Ayy. My girl is bangin', she's so low mainte...      1  \n",
       "3  . (One, two, three, four). Ooh, ooh. . Every t...      1  \n",
       "4  . I took an arrow to the heart. I never kissed...      1  \n",
       "\n",
       "[5 rows x 24 columns]"
      ]
     },
     "execution_count": 2,
     "metadata": {},
     "output_type": "execute_result"
    }
   ],
   "source": [
    "df = pd.read_csv('final_compiled_final.csv')\n",
    "df.head()"
   ]
  },
  {
   "cell_type": "code",
   "execution_count": 3,
   "metadata": {
    "pycharm": {
     "name": "#%%\n"
    }
   },
   "outputs": [
    {
     "data": {
      "text/html": [
       "<div>\n",
       "<style scoped>\n",
       "    .dataframe tbody tr th:only-of-type {\n",
       "        vertical-align: middle;\n",
       "    }\n",
       "\n",
       "    .dataframe tbody tr th {\n",
       "        vertical-align: top;\n",
       "    }\n",
       "\n",
       "    .dataframe thead th {\n",
       "        text-align: right;\n",
       "    }\n",
       "</style>\n",
       "<table border=\"1\" class=\"dataframe\">\n",
       "  <thead>\n",
       "    <tr style=\"text-align: right;\">\n",
       "      <th></th>\n",
       "      <th>id</th>\n",
       "      <th>name</th>\n",
       "      <th>lyrics</th>\n",
       "      <th>target</th>\n",
       "    </tr>\n",
       "  </thead>\n",
       "  <tbody>\n",
       "    <tr>\n",
       "      <th>0</th>\n",
       "      <td>0gplL1WMoJ6iYaPgMCL0gX</td>\n",
       "      <td>Easy On Me</td>\n",
       "      <td>. There ain't no gold in this river. That I've...</td>\n",
       "      <td>1</td>\n",
       "    </tr>\n",
       "    <tr>\n",
       "      <th>1</th>\n",
       "      <td>4BI4iNZigfF4SUq13TcFPh</td>\n",
       "      <td>INDUSTRY BABY - EXTENDED</td>\n",
       "      <td>. (D-D-Daytrip took it to ten, hey). Baby back...</td>\n",
       "      <td>1</td>\n",
       "    </tr>\n",
       "    <tr>\n",
       "      <th>2</th>\n",
       "      <td>58UKC45GPNTflCN6nwCUeF</td>\n",
       "      <td>Fancy Like</td>\n",
       "      <td>. Ayy. My girl is bangin', she's so low mainte...</td>\n",
       "      <td>1</td>\n",
       "    </tr>\n",
       "    <tr>\n",
       "      <th>3</th>\n",
       "      <td>3rmo8F54jFF8OgYsqTxm5d</td>\n",
       "      <td>Bad Habits</td>\n",
       "      <td>. (One, two, three, four). Ooh, ooh. . Every t...</td>\n",
       "      <td>1</td>\n",
       "    </tr>\n",
       "    <tr>\n",
       "      <th>4</th>\n",
       "      <td>50nfwKoDiSYg8zOCREWAm5</td>\n",
       "      <td>Shivers</td>\n",
       "      <td>. I took an arrow to the heart. I never kissed...</td>\n",
       "      <td>1</td>\n",
       "    </tr>\n",
       "  </tbody>\n",
       "</table>\n",
       "</div>"
      ],
      "text/plain": [
       "                       id                      name  \\\n",
       "0  0gplL1WMoJ6iYaPgMCL0gX                Easy On Me   \n",
       "1  4BI4iNZigfF4SUq13TcFPh  INDUSTRY BABY - EXTENDED   \n",
       "2  58UKC45GPNTflCN6nwCUeF                Fancy Like   \n",
       "3  3rmo8F54jFF8OgYsqTxm5d                Bad Habits   \n",
       "4  50nfwKoDiSYg8zOCREWAm5                   Shivers   \n",
       "\n",
       "                                              lyrics  target  \n",
       "0  . There ain't no gold in this river. That I've...       1  \n",
       "1  . (D-D-Daytrip took it to ten, hey). Baby back...       1  \n",
       "2  . Ayy. My girl is bangin', she's so low mainte...       1  \n",
       "3  . (One, two, three, four). Ooh, ooh. . Every t...       1  \n",
       "4  . I took an arrow to the heart. I never kissed...       1  "
      ]
     },
     "execution_count": 3,
     "metadata": {},
     "output_type": "execute_result"
    }
   ],
   "source": [
    "df_focus = df[['id','name','lyrics','target']]\n",
    "df_focus.head()"
   ]
  },
  {
   "cell_type": "code",
   "execution_count": 4,
   "metadata": {
    "pycharm": {
     "name": "#%%\n"
    }
   },
   "outputs": [],
   "source": [
    "topicModel = tm(num_topics=30,max_doc_length=31971,min_doc_length=0)\n",
    "compiled_lyrics_list = []\n",
    "for i in df_focus['lyrics']:\n",
    "    compiled_lyrics_list.append(i)"
   ]
  },
  {
   "cell_type": "code",
   "execution_count": 5,
   "metadata": {
    "pycharm": {
     "name": "#%%\n"
    }
   },
   "outputs": [
    {
     "name": "stdout",
     "output_type": "stream",
     "text": [
      "\n",
      "number of low frequency tokens pruned = 218,011\n",
      "min_word_count = 20, top_most_common_words = 10\n",
      "number of high frequency tokens pruned = 10\n",
      "tokens = 57,279 rows\n",
      "text pre-processing is complete\n",
      "\n",
      "computing LDA...\n",
      "computing dominant topics...\n"
     ]
    }
   ],
   "source": [
    "topicModel.fit(compiled_lyrics_list)"
   ]
  },
  {
   "cell_type": "code",
   "execution_count": 6,
   "metadata": {
    "pycharm": {
     "name": "#%%\n"
    }
   },
   "outputs": [],
   "source": [
    "overall_docs_group = []\n",
    "for i in df_focus['lyrics']:\n",
    "    sentence_detector = nltk.data.load('tokenizers/punkt/english.pickle')\n",
    "    sentences = sentence_detector.tokenize(i)\n",
    "    doc_group = []\n",
    "    for j in range(0,len(sentences),4):\n",
    "        doc_group.append(' '.join(sentences[j-4:j]))\n",
    "    doc_group.pop(0)\n",
    "    overall_docs_group.append(doc_group)"
   ]
  },
  {
   "cell_type": "code",
   "execution_count": 8,
   "metadata": {
    "pycharm": {
     "name": "#%%\n"
    }
   },
   "outputs": [],
   "source": [
    "chosen_verses_for_each_song = []\n",
    "for i in overall_docs_group:\n",
    "    doc_sum = DocumentSummaries(topicModel,num_dominant_topics=30,number_of_sentences=3)\n",
    "    doc_sum.summarize(i)\n",
    "    result = doc_sum.return_possible_sentences()\n",
    "    chosen_verses_for_each_song.append(result[:3])"
   ]
  },
  {
   "cell_type": "code",
   "execution_count": 11,
   "metadata": {
    "pycharm": {
     "name": "#%%\n"
    }
   },
   "outputs": [],
   "source": [
    "import pickle\n",
    "with open(\"chosen_verses\", \"wb\") as fp:\n",
    "    pickle.dump(chosen_verses_for_each_song, fp)"
   ]
  },
  {
   "cell_type": "code",
   "execution_count": 12,
   "metadata": {
    "pycharm": {
     "name": "#%%\n"
    }
   },
   "outputs": [],
   "source": [
    "with open(\"chosen_verses\", \"rb\") as fp:   # Unpickling\n",
    "    test = pickle.load(fp)"
   ]
  },
  {
   "cell_type": "code",
   "execution_count": 14,
   "metadata": {
    "pycharm": {
     "name": "#%%\n"
    }
   },
   "outputs": [
    {
     "name": "stdout",
     "output_type": "stream",
     "text": [
      "['Had no time to choose what I chose to do.', \"You can't deny how hard I've tried.\", 'I was still a child.']\n"
     ]
    }
   ],
   "source": [
    "print(test[0])"
   ]
  }
 ],
 "metadata": {
  "kernelspec": {
   "display_name": "Python 3 (ipykernel)",
   "language": "python",
   "name": "python3"
  },
  "language_info": {
   "codemirror_mode": {
    "name": "ipython",
    "version": 3
   },
   "file_extension": ".py",
   "mimetype": "text/x-python",
   "name": "python",
   "nbconvert_exporter": "python",
   "pygments_lexer": "ipython3",
   "version": "3.9.13"
  }
 },
 "nbformat": 4,
 "nbformat_minor": 1
}
