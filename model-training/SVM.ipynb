{
  "cells": [
    {
      "cell_type": "code",
      "execution_count": null,
      "metadata": {
        "colab": {
          "base_uri": "https://localhost:8080/"
        },
        "id": "P8QWQGGLqFu5",
        "outputId": "9a58fc94-5586-491e-cdf1-0fa1ac284aab"
      },
      "outputs": [
        {
          "name": "stdout",
          "output_type": "stream",
          "text": [
            "Current date and time : \n",
            "2022-11-03 04:08:37\n"
          ]
        }
      ],
      "source": [
        "import datetime\n",
        "now = datetime.datetime.now()\n",
        "print (\"Current date and time : \")\n",
        "print (now.strftime(\"%Y-%m-%d %H:%M:%S\"))"
      ]
    },
    {
      "cell_type": "code",
      "execution_count": null,
      "metadata": {
        "colab": {
          "base_uri": "https://localhost:8080/"
        },
        "id": "0nzWmz4_OqMu",
        "outputId": "6893d188-6535-4a3b-ec30-3b89beb160e3"
      },
      "outputs": [
        {
          "output_type": "stream",
          "name": "stdout",
          "text": [
            "Mounted at /content/drive\n"
          ]
        }
      ],
      "source": [
        "import numpy as np\n",
        "import pandas as pd\n",
        "from google.colab import drive\n",
        "drive.mount('/content/drive', force_remount=True)"
      ]
    },
    {
      "cell_type": "code",
      "execution_count": null,
      "metadata": {
        "colab": {
          "base_uri": "https://localhost:8080/",
          "height": 713
        },
        "id": "-FJBpqLWPGhx",
        "outputId": "2655fff6-1b12-46ba-ddcb-230d5648230a"
      },
      "outputs": [
        {
          "output_type": "stream",
          "name": "stderr",
          "text": [
            "/usr/local/lib/python3.7/dist-packages/IPython/core/interactiveshell.py:3326: DtypeWarning: Columns (19) have mixed types.Specify dtype option on import or set low_memory=False.\n",
            "  exec(code_obj, self.user_global_ns, self.user_ns)\n"
          ]
        },
        {
          "output_type": "execute_result",
          "data": {
            "text/plain": [
              "       Unnamed: 0                      id                       name  \\\n",
              "0               0  0gplL1WMoJ6iYaPgMCL0gX                 Easy On Me   \n",
              "1               1  4BI4iNZigfF4SUq13TcFPh   INDUSTRY BABY - EXTENDED   \n",
              "2               2  58UKC45GPNTflCN6nwCUeF                 Fancy Like   \n",
              "3               3  3rmo8F54jFF8OgYsqTxm5d                 Bad Habits   \n",
              "4               4  50nfwKoDiSYg8zOCREWAm5                    Shivers   \n",
              "...           ...                     ...                        ...   \n",
              "56830       56830  4lCAS06lKCJiFVGhHqxCtW              Talk About It   \n",
              "56831       56831  60xDmDoYJytWs5do9aHI0F              Beat the Odds   \n",
              "56832       56832  6bAHtwPD7MBjSD8UmZFsh8                  Geography   \n",
              "56833       56833  0G9CL2p0TP4kTIXroDR326  twin hearts (feat. YURMS)   \n",
              "56834       56834  1S0EjHjqfjjadNWQMxv6rb                      Fácil   \n",
              "\n",
              "                                                 artists  \\\n",
              "0                                              ['Adele']   \n",
              "1                           ['Lil Nas X', 'Jack Harlow']   \n",
              "2                                       ['Walker Hayes']   \n",
              "3                                         ['Ed Sheeran']   \n",
              "4                                         ['Ed Sheeran']   \n",
              "...                                                  ...   \n",
              "56830                         ['A Boogie Wit da Hoodie']   \n",
              "56831                                      ['Money Man']   \n",
              "56832  ['Chaos Chaos', 'Kevin Hickey', 'Lucas McCross...   \n",
              "56833                            ['ITSOKTOCRY', 'Yurms']   \n",
              "56834                                     ['Kat Dahlia']   \n",
              "\n",
              "                                              artist_ids  track_number  \\\n",
              "0                             ['4dpARuHxo51G3z768sgnrY']             1   \n",
              "1      ['7jVv8c5Fj3E9VhNjxT4snq', '2LIk90788K0zvyj2JJ...             2   \n",
              "2                             ['7sKxqpSqbIzphAKAhrqvlf']             6   \n",
              "3                             ['6eUKZXaKkcviH0Ku9w2n3V']             4   \n",
              "4                             ['6eUKZXaKkcviH0Ku9w2n3V']             2   \n",
              "...                                                  ...           ...   \n",
              "56830                         ['31W5EY0aAly4Qieq6OFu6I']             9   \n",
              "56831                         ['3Rx4PJ7SP6unkOk5elPUK7']             8   \n",
              "56832  ['6D6rjLdxyE5vwhMlkuQq0E', '12Cqmjoj96GR0wFIup...             1   \n",
              "56833  ['2BUUAEl4BwFRA9NBDgMWSf', '2IaEQEZ606L3nZuGnm...             6   \n",
              "56834                         ['1peH5tSqnYm8W6Bo3I5egE']             3   \n",
              "\n",
              "       danceability  energy  key  loudness  ...  rock  soft rock  \\\n",
              "0             0.604   0.366    5    -7.519  ...     0          0   \n",
              "1             0.732   0.708   10    -6.775  ...     0          0   \n",
              "2             0.647   0.765    1    -6.459  ...     0          0   \n",
              "3             0.807   0.893   11    -3.745  ...     0          0   \n",
              "4             0.788   0.859    2    -2.724  ...     0          0   \n",
              "...             ...     ...  ...       ...  ...   ...        ...   \n",
              "56830         0.445   0.584    1    -9.666  ...     0          0   \n",
              "56831         0.787   0.590   10    -7.123  ...     0          0   \n",
              "56832         0.522   0.788   10    -5.926  ...     0          0   \n",
              "56833         0.786   0.609   11    -6.139  ...     0          0   \n",
              "56834         0.869   0.590   11    -4.453  ...     0          0   \n",
              "\n",
              "       southern hip hop  trap  urban contemporary  release_date  \\\n",
              "0                     0     0                   0      14/10/21   \n",
              "1                     0     0                   0       9/10/21   \n",
              "2                     0     0                   0       21/1/22   \n",
              "3                     0     0                   0      29/10/21   \n",
              "4                     0     0                   0      29/10/21   \n",
              "...                 ...   ...                 ...           ...   \n",
              "56830                 0     1                   0       18/6/20   \n",
              "56831                 1     1                   0       20/3/20   \n",
              "56832                 0     0                   0       21/2/20   \n",
              "56833                 0     0                   0       6/11/20   \n",
              "56834                 0     0                   0      30/10/20   \n",
              "\n",
              "       release_month  average_year_success  is_success bert_dense_lyrics  \n",
              "0            2021-10                    38           1          0.677761  \n",
              "1            2021-10                    27           1          0.587171  \n",
              "2            2022-01                    12           1          0.616422  \n",
              "3            2021-10                    22           1          0.596769  \n",
              "4            2021-10                    22           1          0.640173  \n",
              "...              ...                   ...         ...               ...  \n",
              "56830        2020-06                    64           1          0.597523  \n",
              "56831        2020-03                    -1           0          0.596241  \n",
              "56832        2020-02                    -1           0          0.652086  \n",
              "56833        2020-11                    -1           0          0.560518  \n",
              "56834        2020-10                    71           1          0.613869  \n",
              "\n",
              "[56835 rows x 59 columns]"
            ],
            "text/html": [
              "\n",
              "  <div id=\"df-2d1c55f9-ff44-43b5-adaa-bc8bbecbe5ac\">\n",
              "    <div class=\"colab-df-container\">\n",
              "      <div>\n",
              "<style scoped>\n",
              "    .dataframe tbody tr th:only-of-type {\n",
              "        vertical-align: middle;\n",
              "    }\n",
              "\n",
              "    .dataframe tbody tr th {\n",
              "        vertical-align: top;\n",
              "    }\n",
              "\n",
              "    .dataframe thead th {\n",
              "        text-align: right;\n",
              "    }\n",
              "</style>\n",
              "<table border=\"1\" class=\"dataframe\">\n",
              "  <thead>\n",
              "    <tr style=\"text-align: right;\">\n",
              "      <th></th>\n",
              "      <th>Unnamed: 0</th>\n",
              "      <th>id</th>\n",
              "      <th>name</th>\n",
              "      <th>artists</th>\n",
              "      <th>artist_ids</th>\n",
              "      <th>track_number</th>\n",
              "      <th>danceability</th>\n",
              "      <th>energy</th>\n",
              "      <th>key</th>\n",
              "      <th>loudness</th>\n",
              "      <th>...</th>\n",
              "      <th>rock</th>\n",
              "      <th>soft rock</th>\n",
              "      <th>southern hip hop</th>\n",
              "      <th>trap</th>\n",
              "      <th>urban contemporary</th>\n",
              "      <th>release_date</th>\n",
              "      <th>release_month</th>\n",
              "      <th>average_year_success</th>\n",
              "      <th>is_success</th>\n",
              "      <th>bert_dense_lyrics</th>\n",
              "    </tr>\n",
              "  </thead>\n",
              "  <tbody>\n",
              "    <tr>\n",
              "      <th>0</th>\n",
              "      <td>0</td>\n",
              "      <td>0gplL1WMoJ6iYaPgMCL0gX</td>\n",
              "      <td>Easy On Me</td>\n",
              "      <td>['Adele']</td>\n",
              "      <td>['4dpARuHxo51G3z768sgnrY']</td>\n",
              "      <td>1</td>\n",
              "      <td>0.604</td>\n",
              "      <td>0.366</td>\n",
              "      <td>5</td>\n",
              "      <td>-7.519</td>\n",
              "      <td>...</td>\n",
              "      <td>0</td>\n",
              "      <td>0</td>\n",
              "      <td>0</td>\n",
              "      <td>0</td>\n",
              "      <td>0</td>\n",
              "      <td>14/10/21</td>\n",
              "      <td>2021-10</td>\n",
              "      <td>38</td>\n",
              "      <td>1</td>\n",
              "      <td>0.677761</td>\n",
              "    </tr>\n",
              "    <tr>\n",
              "      <th>1</th>\n",
              "      <td>1</td>\n",
              "      <td>4BI4iNZigfF4SUq13TcFPh</td>\n",
              "      <td>INDUSTRY BABY - EXTENDED</td>\n",
              "      <td>['Lil Nas X', 'Jack Harlow']</td>\n",
              "      <td>['7jVv8c5Fj3E9VhNjxT4snq', '2LIk90788K0zvyj2JJ...</td>\n",
              "      <td>2</td>\n",
              "      <td>0.732</td>\n",
              "      <td>0.708</td>\n",
              "      <td>10</td>\n",
              "      <td>-6.775</td>\n",
              "      <td>...</td>\n",
              "      <td>0</td>\n",
              "      <td>0</td>\n",
              "      <td>0</td>\n",
              "      <td>0</td>\n",
              "      <td>0</td>\n",
              "      <td>9/10/21</td>\n",
              "      <td>2021-10</td>\n",
              "      <td>27</td>\n",
              "      <td>1</td>\n",
              "      <td>0.587171</td>\n",
              "    </tr>\n",
              "    <tr>\n",
              "      <th>2</th>\n",
              "      <td>2</td>\n",
              "      <td>58UKC45GPNTflCN6nwCUeF</td>\n",
              "      <td>Fancy Like</td>\n",
              "      <td>['Walker Hayes']</td>\n",
              "      <td>['7sKxqpSqbIzphAKAhrqvlf']</td>\n",
              "      <td>6</td>\n",
              "      <td>0.647</td>\n",
              "      <td>0.765</td>\n",
              "      <td>1</td>\n",
              "      <td>-6.459</td>\n",
              "      <td>...</td>\n",
              "      <td>0</td>\n",
              "      <td>0</td>\n",
              "      <td>0</td>\n",
              "      <td>0</td>\n",
              "      <td>0</td>\n",
              "      <td>21/1/22</td>\n",
              "      <td>2022-01</td>\n",
              "      <td>12</td>\n",
              "      <td>1</td>\n",
              "      <td>0.616422</td>\n",
              "    </tr>\n",
              "    <tr>\n",
              "      <th>3</th>\n",
              "      <td>3</td>\n",
              "      <td>3rmo8F54jFF8OgYsqTxm5d</td>\n",
              "      <td>Bad Habits</td>\n",
              "      <td>['Ed Sheeran']</td>\n",
              "      <td>['6eUKZXaKkcviH0Ku9w2n3V']</td>\n",
              "      <td>4</td>\n",
              "      <td>0.807</td>\n",
              "      <td>0.893</td>\n",
              "      <td>11</td>\n",
              "      <td>-3.745</td>\n",
              "      <td>...</td>\n",
              "      <td>0</td>\n",
              "      <td>0</td>\n",
              "      <td>0</td>\n",
              "      <td>0</td>\n",
              "      <td>0</td>\n",
              "      <td>29/10/21</td>\n",
              "      <td>2021-10</td>\n",
              "      <td>22</td>\n",
              "      <td>1</td>\n",
              "      <td>0.596769</td>\n",
              "    </tr>\n",
              "    <tr>\n",
              "      <th>4</th>\n",
              "      <td>4</td>\n",
              "      <td>50nfwKoDiSYg8zOCREWAm5</td>\n",
              "      <td>Shivers</td>\n",
              "      <td>['Ed Sheeran']</td>\n",
              "      <td>['6eUKZXaKkcviH0Ku9w2n3V']</td>\n",
              "      <td>2</td>\n",
              "      <td>0.788</td>\n",
              "      <td>0.859</td>\n",
              "      <td>2</td>\n",
              "      <td>-2.724</td>\n",
              "      <td>...</td>\n",
              "      <td>0</td>\n",
              "      <td>0</td>\n",
              "      <td>0</td>\n",
              "      <td>0</td>\n",
              "      <td>0</td>\n",
              "      <td>29/10/21</td>\n",
              "      <td>2021-10</td>\n",
              "      <td>22</td>\n",
              "      <td>1</td>\n",
              "      <td>0.640173</td>\n",
              "    </tr>\n",
              "    <tr>\n",
              "      <th>...</th>\n",
              "      <td>...</td>\n",
              "      <td>...</td>\n",
              "      <td>...</td>\n",
              "      <td>...</td>\n",
              "      <td>...</td>\n",
              "      <td>...</td>\n",
              "      <td>...</td>\n",
              "      <td>...</td>\n",
              "      <td>...</td>\n",
              "      <td>...</td>\n",
              "      <td>...</td>\n",
              "      <td>...</td>\n",
              "      <td>...</td>\n",
              "      <td>...</td>\n",
              "      <td>...</td>\n",
              "      <td>...</td>\n",
              "      <td>...</td>\n",
              "      <td>...</td>\n",
              "      <td>...</td>\n",
              "      <td>...</td>\n",
              "      <td>...</td>\n",
              "    </tr>\n",
              "    <tr>\n",
              "      <th>56830</th>\n",
              "      <td>56830</td>\n",
              "      <td>4lCAS06lKCJiFVGhHqxCtW</td>\n",
              "      <td>Talk About It</td>\n",
              "      <td>['A Boogie Wit da Hoodie']</td>\n",
              "      <td>['31W5EY0aAly4Qieq6OFu6I']</td>\n",
              "      <td>9</td>\n",
              "      <td>0.445</td>\n",
              "      <td>0.584</td>\n",
              "      <td>1</td>\n",
              "      <td>-9.666</td>\n",
              "      <td>...</td>\n",
              "      <td>0</td>\n",
              "      <td>0</td>\n",
              "      <td>0</td>\n",
              "      <td>1</td>\n",
              "      <td>0</td>\n",
              "      <td>18/6/20</td>\n",
              "      <td>2020-06</td>\n",
              "      <td>64</td>\n",
              "      <td>1</td>\n",
              "      <td>0.597523</td>\n",
              "    </tr>\n",
              "    <tr>\n",
              "      <th>56831</th>\n",
              "      <td>56831</td>\n",
              "      <td>60xDmDoYJytWs5do9aHI0F</td>\n",
              "      <td>Beat the Odds</td>\n",
              "      <td>['Money Man']</td>\n",
              "      <td>['3Rx4PJ7SP6unkOk5elPUK7']</td>\n",
              "      <td>8</td>\n",
              "      <td>0.787</td>\n",
              "      <td>0.590</td>\n",
              "      <td>10</td>\n",
              "      <td>-7.123</td>\n",
              "      <td>...</td>\n",
              "      <td>0</td>\n",
              "      <td>0</td>\n",
              "      <td>1</td>\n",
              "      <td>1</td>\n",
              "      <td>0</td>\n",
              "      <td>20/3/20</td>\n",
              "      <td>2020-03</td>\n",
              "      <td>-1</td>\n",
              "      <td>0</td>\n",
              "      <td>0.596241</td>\n",
              "    </tr>\n",
              "    <tr>\n",
              "      <th>56832</th>\n",
              "      <td>56832</td>\n",
              "      <td>6bAHtwPD7MBjSD8UmZFsh8</td>\n",
              "      <td>Geography</td>\n",
              "      <td>['Chaos Chaos', 'Kevin Hickey', 'Lucas McCross...</td>\n",
              "      <td>['6D6rjLdxyE5vwhMlkuQq0E', '12Cqmjoj96GR0wFIup...</td>\n",
              "      <td>1</td>\n",
              "      <td>0.522</td>\n",
              "      <td>0.788</td>\n",
              "      <td>10</td>\n",
              "      <td>-5.926</td>\n",
              "      <td>...</td>\n",
              "      <td>0</td>\n",
              "      <td>0</td>\n",
              "      <td>0</td>\n",
              "      <td>0</td>\n",
              "      <td>0</td>\n",
              "      <td>21/2/20</td>\n",
              "      <td>2020-02</td>\n",
              "      <td>-1</td>\n",
              "      <td>0</td>\n",
              "      <td>0.652086</td>\n",
              "    </tr>\n",
              "    <tr>\n",
              "      <th>56833</th>\n",
              "      <td>56833</td>\n",
              "      <td>0G9CL2p0TP4kTIXroDR326</td>\n",
              "      <td>twin hearts (feat. YURMS)</td>\n",
              "      <td>['ITSOKTOCRY', 'Yurms']</td>\n",
              "      <td>['2BUUAEl4BwFRA9NBDgMWSf', '2IaEQEZ606L3nZuGnm...</td>\n",
              "      <td>6</td>\n",
              "      <td>0.786</td>\n",
              "      <td>0.609</td>\n",
              "      <td>11</td>\n",
              "      <td>-6.139</td>\n",
              "      <td>...</td>\n",
              "      <td>0</td>\n",
              "      <td>0</td>\n",
              "      <td>0</td>\n",
              "      <td>0</td>\n",
              "      <td>0</td>\n",
              "      <td>6/11/20</td>\n",
              "      <td>2020-11</td>\n",
              "      <td>-1</td>\n",
              "      <td>0</td>\n",
              "      <td>0.560518</td>\n",
              "    </tr>\n",
              "    <tr>\n",
              "      <th>56834</th>\n",
              "      <td>56834</td>\n",
              "      <td>1S0EjHjqfjjadNWQMxv6rb</td>\n",
              "      <td>Fácil</td>\n",
              "      <td>['Kat Dahlia']</td>\n",
              "      <td>['1peH5tSqnYm8W6Bo3I5egE']</td>\n",
              "      <td>3</td>\n",
              "      <td>0.869</td>\n",
              "      <td>0.590</td>\n",
              "      <td>11</td>\n",
              "      <td>-4.453</td>\n",
              "      <td>...</td>\n",
              "      <td>0</td>\n",
              "      <td>0</td>\n",
              "      <td>0</td>\n",
              "      <td>0</td>\n",
              "      <td>0</td>\n",
              "      <td>30/10/20</td>\n",
              "      <td>2020-10</td>\n",
              "      <td>71</td>\n",
              "      <td>1</td>\n",
              "      <td>0.613869</td>\n",
              "    </tr>\n",
              "  </tbody>\n",
              "</table>\n",
              "<p>56835 rows × 59 columns</p>\n",
              "</div>\n",
              "      <button class=\"colab-df-convert\" onclick=\"convertToInteractive('df-2d1c55f9-ff44-43b5-adaa-bc8bbecbe5ac')\"\n",
              "              title=\"Convert this dataframe to an interactive table.\"\n",
              "              style=\"display:none;\">\n",
              "        \n",
              "  <svg xmlns=\"http://www.w3.org/2000/svg\" height=\"24px\"viewBox=\"0 0 24 24\"\n",
              "       width=\"24px\">\n",
              "    <path d=\"M0 0h24v24H0V0z\" fill=\"none\"/>\n",
              "    <path d=\"M18.56 5.44l.94 2.06.94-2.06 2.06-.94-2.06-.94-.94-2.06-.94 2.06-2.06.94zm-11 1L8.5 8.5l.94-2.06 2.06-.94-2.06-.94L8.5 2.5l-.94 2.06-2.06.94zm10 10l.94 2.06.94-2.06 2.06-.94-2.06-.94-.94-2.06-.94 2.06-2.06.94z\"/><path d=\"M17.41 7.96l-1.37-1.37c-.4-.4-.92-.59-1.43-.59-.52 0-1.04.2-1.43.59L10.3 9.45l-7.72 7.72c-.78.78-.78 2.05 0 2.83L4 21.41c.39.39.9.59 1.41.59.51 0 1.02-.2 1.41-.59l7.78-7.78 2.81-2.81c.8-.78.8-2.07 0-2.86zM5.41 20L4 18.59l7.72-7.72 1.47 1.35L5.41 20z\"/>\n",
              "  </svg>\n",
              "      </button>\n",
              "      \n",
              "  <style>\n",
              "    .colab-df-container {\n",
              "      display:flex;\n",
              "      flex-wrap:wrap;\n",
              "      gap: 12px;\n",
              "    }\n",
              "\n",
              "    .colab-df-convert {\n",
              "      background-color: #E8F0FE;\n",
              "      border: none;\n",
              "      border-radius: 50%;\n",
              "      cursor: pointer;\n",
              "      display: none;\n",
              "      fill: #1967D2;\n",
              "      height: 32px;\n",
              "      padding: 0 0 0 0;\n",
              "      width: 32px;\n",
              "    }\n",
              "\n",
              "    .colab-df-convert:hover {\n",
              "      background-color: #E2EBFA;\n",
              "      box-shadow: 0px 1px 2px rgba(60, 64, 67, 0.3), 0px 1px 3px 1px rgba(60, 64, 67, 0.15);\n",
              "      fill: #174EA6;\n",
              "    }\n",
              "\n",
              "    [theme=dark] .colab-df-convert {\n",
              "      background-color: #3B4455;\n",
              "      fill: #D2E3FC;\n",
              "    }\n",
              "\n",
              "    [theme=dark] .colab-df-convert:hover {\n",
              "      background-color: #434B5C;\n",
              "      box-shadow: 0px 1px 3px 1px rgba(0, 0, 0, 0.15);\n",
              "      filter: drop-shadow(0px 1px 2px rgba(0, 0, 0, 0.3));\n",
              "      fill: #FFFFFF;\n",
              "    }\n",
              "  </style>\n",
              "\n",
              "      <script>\n",
              "        const buttonEl =\n",
              "          document.querySelector('#df-2d1c55f9-ff44-43b5-adaa-bc8bbecbe5ac button.colab-df-convert');\n",
              "        buttonEl.style.display =\n",
              "          google.colab.kernel.accessAllowed ? 'block' : 'none';\n",
              "\n",
              "        async function convertToInteractive(key) {\n",
              "          const element = document.querySelector('#df-2d1c55f9-ff44-43b5-adaa-bc8bbecbe5ac');\n",
              "          const dataTable =\n",
              "            await google.colab.kernel.invokeFunction('convertToInteractive',\n",
              "                                                     [key], {});\n",
              "          if (!dataTable) return;\n",
              "\n",
              "          const docLinkHtml = 'Like what you see? Visit the ' +\n",
              "            '<a target=\"_blank\" href=https://colab.research.google.com/notebooks/data_table.ipynb>data table notebook</a>'\n",
              "            + ' to learn more about interactive tables.';\n",
              "          element.innerHTML = '';\n",
              "          dataTable['output_type'] = 'display_data';\n",
              "          await google.colab.output.renderOutput(dataTable, element);\n",
              "          const docLink = document.createElement('div');\n",
              "          docLink.innerHTML = docLinkHtml;\n",
              "          element.appendChild(docLink);\n",
              "        }\n",
              "      </script>\n",
              "    </div>\n",
              "  </div>\n",
              "  "
            ]
          },
          "metadata": {},
          "execution_count": 6
        }
      ],
      "source": [
        "fname = f\"/content/drive/MyDrive/NUS/Y4S1/BT4222 (1)/data/feature_eng_combined_v2.csv\"\n",
        "\n",
        "df = pd.read_csv(fname)\n",
        "df"
      ]
    },
    {
      "cell_type": "code",
      "execution_count": null,
      "metadata": {
        "colab": {
          "base_uri": "https://localhost:8080/"
        },
        "id": "akhIXwBYPjiN",
        "outputId": "9c990184-00b5-4840-9b9a-b5300720ae51"
      },
      "outputs": [
        {
          "output_type": "stream",
          "name": "stdout",
          "text": [
            "Index(['Unnamed: 0', 'id', 'name', 'artists', 'artist_ids', 'track_number',\n",
            "       'danceability', 'energy', 'key', 'loudness', 'mode', 'speechiness',\n",
            "       'acousticness', 'instrumentalness', 'liveness', 'valence', 'tempo',\n",
            "       'explicit', 'duration_ms', 'date', 'release_date_x', 'lyrics', 'target',\n",
            "       'length_lyrics', 'unique_length_lyrics', 'title_length',\n",
            "       'non_stop_lyrics', 'length_lyrics_non', 'unique_length_lyrics_non',\n",
            "       'sentiment', 'positive', 'neutral', 'negative', 'compound',\n",
            "       'alternative rock', 'country', 'country rock', 'dance pop', 'folk',\n",
            "       'gangster rap', 'hip hop', 'indie rock', 'mellow gold', 'pop',\n",
            "       'pop rap', 'pop rock', 'post-teen pop', 'r&b', 'rap', 'rock',\n",
            "       'soft rock', 'southern hip hop', 'trap', 'urban contemporary',\n",
            "       'release_date', 'release_month', 'average_year_success', 'is_success',\n",
            "       'bert_dense_lyrics'],\n",
            "      dtype='object')\n"
          ]
        }
      ],
      "source": [
        "from sklearn.model_selection import train_test_split\n",
        "\n",
        "#Feature selection for training\n",
        "print(df.columns)\n",
        "df_model = df.copy().drop(columns=['Unnamed: 0', 'id', 'name', 'artists', 'artist_ids', 'release_date_x', 'release_date', 'date', 'lyrics', 'non_stop_lyrics', 'release_month', 'sentiment'])\n",
        "\n",
        "#Split train and test set\n",
        "X, y = df_model.drop(columns=['target']), df_model['target']\n",
        "X_train, X_test, y_train, y_test = train_test_split(X, y, test_size=0.33, random_state=42)"
      ]
    },
    {
      "cell_type": "markdown",
      "metadata": {
        "id": "FwOMKJrGRDtl"
      },
      "source": [
        "Check for imbalanced class"
      ]
    },
    {
      "cell_type": "code",
      "execution_count": null,
      "metadata": {
        "colab": {
          "base_uri": "https://localhost:8080/"
        },
        "id": "I1iqsILDRF_8",
        "outputId": "eb070a61-cd27-488b-bc14-faaf68e51e11"
      },
      "outputs": [
        {
          "data": {
            "text/plain": [
              "0    48641\n",
              "1     8194\n",
              "Name: target, dtype: int64"
            ]
          },
          "execution_count": 4,
          "metadata": {},
          "output_type": "execute_result"
        }
      ],
      "source": [
        "df_model[\"target\"].value_counts()"
      ]
    },
    {
      "cell_type": "markdown",
      "metadata": {
        "id": "NvQQ_7gJQtLd"
      },
      "source": [
        "Training with SMOTE oversampling minority class"
      ]
    },
    {
      "cell_type": "code",
      "execution_count": null,
      "metadata": {
        "colab": {
          "base_uri": "https://localhost:8080/"
        },
        "id": "NUodz5PKQn-h",
        "outputId": "a4cd9f47-cabc-46ba-80dd-1db715acad91"
      },
      "outputs": [
        {
          "name": "stdout",
          "output_type": "stream",
          "text": [
            "Counter({0: 32660, 1: 32660})\n"
          ]
        }
      ],
      "source": [
        "# Oversample and plot imbalanced dataset with SMOTE\n",
        "from collections import Counter\n",
        "from imblearn.over_sampling import SMOTE\n",
        "from matplotlib import pyplot\n",
        "from numpy import where\n",
        "# transform the dataset\n",
        "oversample = SMOTE()\n",
        "X_train_smote, y_train_smote = oversample.fit_resample(X_train, y_train)\n",
        "# summarize the new class distribution\n",
        "counter = Counter(y_train_smote)\n",
        "print(counter)"
      ]
    },
    {
      "cell_type": "markdown",
      "metadata": {
        "id": "m5v6j17CPrai"
      },
      "source": [
        "# kNN\n",
        "\n",
        "---\n",
        "\n"
      ]
    },
    {
      "cell_type": "code",
      "execution_count": null,
      "metadata": {
        "colab": {
          "base_uri": "https://localhost:8080/"
        },
        "id": "xSj96FQX2QVe",
        "outputId": "d93b446c-d0a7-4492-f9bf-5e893d4d5665"
      },
      "outputs": [
        {
          "name": "stdout",
          "output_type": "stream",
          "text": [
            "0.7765515035188739\n"
          ]
        }
      ],
      "source": [
        "from sklearn.neighbors import KNeighborsClassifier\n",
        "from sklearn import metrics\n",
        "from sklearn.model_selection import cross_val_score\n",
        "from sklearn.model_selection import RepeatedStratifiedKFold\n",
        "\n",
        "neigh = KNeighborsClassifier(n_neighbors=2)\n",
        "neigh.fit(X_train_smote, y_train_smote)\n",
        "y_pred = neigh.predict(X_test)\n",
        "print(metrics.accuracy_score(y_test, y_pred))\n"
      ]
    },
    {
      "cell_type": "code",
      "execution_count": null,
      "metadata": {
        "colab": {
          "base_uri": "https://localhost:8080/",
          "height": 577
        },
        "id": "vXDZUipI65dS",
        "outputId": "074af846-a60c-4f6c-86c9-718518e20466"
      },
      "outputs": [
        {
          "name": "stdout",
          "output_type": "stream",
          "text": [
            "              precision    recall  f1-score   support\n",
            "\n",
            "           0       0.88      0.85      0.87     15981\n",
            "           1       0.29      0.34      0.31      2775\n",
            "\n",
            "    accuracy                           0.78     18756\n",
            "   macro avg       0.58      0.60      0.59     18756\n",
            "weighted avg       0.79      0.78      0.78     18756\n",
            "\n",
            "Accuracy: 0.7765515035188739\n",
            "Precision: 0.2853244390539721\n",
            "Recall: 0.3390990990990991\n",
            "F1-score: 0.3098962621439157\n"
          ]
        },
        {
          "name": "stderr",
          "output_type": "stream",
          "text": [
            "/usr/local/lib/python3.7/dist-packages/sklearn/utils/deprecation.py:87: FutureWarning: Function plot_confusion_matrix is deprecated; Function `plot_confusion_matrix` is deprecated in 1.0 and will be removed in 1.2. Use one of the class methods: ConfusionMatrixDisplay.from_predictions or ConfusionMatrixDisplay.from_estimator.\n",
            "  warnings.warn(msg, category=FutureWarning)\n"
          ]
        },
        {
          "data": {
            "text/plain": [
              "<sklearn.metrics._plot.confusion_matrix.ConfusionMatrixDisplay at 0x7f93aed8b450>"
            ]
          },
          "execution_count": 11,
          "metadata": {},
          "output_type": "execute_result"
        },
        {
          "data": {
            "image/png": "[encoded data removed]",
            "text/plain": [
              "<Figure size 432x288 with 2 Axes>"
            ]
          },
          "metadata": {},
          "output_type": "display_data"
        }
      ],
      "source": [
        "from sklearn.metrics import f1_score\n",
        "from sklearn.metrics import recall_score\n",
        "from sklearn.metrics import accuracy_score\n",
        "from sklearn.metrics import roc_auc_score\n",
        "from sklearn.metrics import precision_score\n",
        "from sklearn.metrics import plot_confusion_matrix\n",
        "from sklearn.metrics import classification_report\n",
        "\n",
        "print(classification_report(y_test, y_pred))\n",
        "print(f\"Accuracy: {accuracy_score(y_test, y_pred)}\")\n",
        "print(f\"Precision: {precision_score(y_test, y_pred)}\")\n",
        "print(f\"Recall: {recall_score(y_test, y_pred)}\")\n",
        "print(f\"F1-score: {f1_score(y_test, y_pred)}\")\n",
        "\n",
        "plot_confusion_matrix(neigh, X_test, y_test)  "
      ]
    },
    {
      "cell_type": "markdown",
      "metadata": {
        "id": "a11v0Jvp6yoq"
      },
      "source": [
        "Locating a Better K-value\n",
        "\n",
        "---\n",
        "\n"
      ]
    },
    {
      "cell_type": "code",
      "execution_count": null,
      "metadata": {
        "id": "wZ0xIpjj6xca"
      },
      "outputs": [],
      "source": [
        "k_range = range(2,10)\n",
        "\n",
        "score = []\n",
        "\n",
        "for k in k_range:\n",
        "  knn = KNeighborsClassifier(n_neighbors=k)\n",
        "  knn.fit(X_train_smote, y_train_smote)\n",
        "  y_pred = knn.predict(X_test)\n",
        "  score.append(metrics.accuracy_score(y_test,y_pred))"
      ]
    },
    {
      "cell_type": "code",
      "execution_count": null,
      "metadata": {
        "colab": {
          "base_uri": "https://localhost:8080/"
        },
        "id": "20XfhFNO_1ke",
        "outputId": "253e32cf-7cc2-4620-a068-40a89f7b1ee3"
      },
      "outputs": [
        {
          "data": {
            "text/plain": [
              "[0.7765515035188739,\n",
              " 0.7081467263808915,\n",
              " 0.740296438473022,\n",
              " 0.6906589891234804,\n",
              " 0.7197696737044146,\n",
              " 0.6850074642780977,\n",
              " 0.7064939219449776,\n",
              " 0.6771166560034122]"
            ]
          },
          "execution_count": 14,
          "metadata": {},
          "output_type": "execute_result"
        }
      ],
      "source": [
        "score"
      ]
    },
    {
      "cell_type": "markdown",
      "metadata": {
        "id": "uxAtFKTa_6y8"
      },
      "source": [
        "K-Value of 2 provides the best result\n",
        "\n"
      ]
    },
    {
      "cell_type": "markdown",
      "metadata": {
        "id": "jOZ_fSvkUy1V"
      },
      "source": [
        "Attempting with L1 \n",
        "\n",
        "---\n",
        "\n"
      ]
    },
    {
      "cell_type": "code",
      "execution_count": null,
      "metadata": {
        "colab": {
          "base_uri": "https://localhost:8080/"
        },
        "id": "LFCh_hbDUvN3",
        "outputId": "0bb81292-edc5-46aa-ea00-d4e318459773"
      },
      "outputs": [
        {
          "name": "stdout",
          "output_type": "stream",
          "text": [
            "0.7928129665173811\n"
          ]
        }
      ],
      "source": [
        "from sklearn.neighbors import KNeighborsClassifier\n",
        "from sklearn import metrics\n",
        "from sklearn.model_selection import cross_val_score\n",
        "from sklearn.model_selection import RepeatedStratifiedKFold\n",
        "\n",
        "neigh_l1 = KNeighborsClassifier(n_neighbors=2, p=1)\n",
        "neigh_l1.fit(X_train_smote, y_train_smote)\n",
        "y_pred_l1 = neigh_l1.predict(X_test)\n",
        "print(metrics.accuracy_score(y_test, y_pred_l1))\n"
      ]
    },
    {
      "cell_type": "code",
      "execution_count": null,
      "metadata": {
        "colab": {
          "base_uri": "https://localhost:8080/",
          "height": 577
        },
        "id": "H2k_hI3eVDRo",
        "outputId": "86a9462e-89e2-45be-9db7-b7cd49b0617c"
      },
      "outputs": [
        {
          "name": "stdout",
          "output_type": "stream",
          "text": [
            "              precision    recall  f1-score   support\n",
            "\n",
            "           0       0.89      0.86      0.88     15981\n",
            "           1       0.33      0.38      0.35      2775\n",
            "\n",
            "    accuracy                           0.79     18756\n",
            "   macro avg       0.61      0.62      0.61     18756\n",
            "weighted avg       0.81      0.79      0.80     18756\n",
            "\n",
            "Accuracy: 0.7928129665173811\n",
            "Precision: 0.32775193798449614\n",
            "Recall: 0.3809009009009009\n",
            "F1-score: 0.35233333333333333\n"
          ]
        },
        {
          "name": "stderr",
          "output_type": "stream",
          "text": [
            "/usr/local/lib/python3.7/dist-packages/sklearn/utils/deprecation.py:87: FutureWarning: Function plot_confusion_matrix is deprecated; Function `plot_confusion_matrix` is deprecated in 1.0 and will be removed in 1.2. Use one of the class methods: ConfusionMatrixDisplay.from_predictions or ConfusionMatrixDisplay.from_estimator.\n",
            "  warnings.warn(msg, category=FutureWarning)\n"
          ]
        },
        {
          "data": {
            "text/plain": [
              "<sklearn.metrics._plot.confusion_matrix.ConfusionMatrixDisplay at 0x7f93ae0a2dd0>"
            ]
          },
          "execution_count": 16,
          "metadata": {},
          "output_type": "execute_result"
        },
        {
          "data": {
            "image/png": "[encoded data removed]",
            "text/plain": [
              "<Figure size 432x288 with 2 Axes>"
            ]
          },
          "metadata": {},
          "output_type": "display_data"
        }
      ],
      "source": [
        "from sklearn.metrics import f1_score\n",
        "from sklearn.metrics import recall_score\n",
        "from sklearn.metrics import accuracy_score\n",
        "from sklearn.metrics import roc_auc_score\n",
        "from sklearn.metrics import precision_score\n",
        "from sklearn.metrics import plot_confusion_matrix\n",
        "from sklearn.metrics import classification_report\n",
        "\n",
        "print(classification_report(y_test, y_pred_l1))\n",
        "print(f\"Accuracy: {accuracy_score(y_test, y_pred_l1)}\")\n",
        "print(f\"Precision: {precision_score(y_test, y_pred_l1)}\")\n",
        "print(f\"Recall: {recall_score(y_test, y_pred_l1)}\")\n",
        "print(f\"F1-score: {f1_score(y_test, y_pred_l1)}\")\n",
        "\n",
        "plot_confusion_matrix(neigh_l1, X_test, y_test)  "
      ]
    },
    {
      "cell_type": "markdown",
      "metadata": {
        "id": "wlvOF3p_VT4k"
      },
      "source": [
        "Saving Model\n",
        "\n",
        "---\n",
        "\n"
      ]
    },
    {
      "cell_type": "code",
      "execution_count": null,
      "metadata": {
        "id": "2sEtM5_PVH39"
      },
      "outputs": [],
      "source": [
        "import pickle\n",
        "filename = 'model_knn_k2_l1.sav'\n",
        "pickle.dump(neigh_l1, open(f\"/content/drive/MyDrive/NUS/Y4S1/BT4222 (1)/{filename}\", 'wb'))"
      ]
    },
    {
      "cell_type": "markdown",
      "metadata": {
        "id": "lGgfa5H18Et-"
      },
      "source": [
        "# LinearSVC, SVC\n",
        "\n",
        "---\n"
      ]
    },
    {
      "cell_type": "code",
      "execution_count": null,
      "metadata": {
        "id": "CIoEPxXF8Eb3"
      },
      "outputs": [],
      "source": [
        "# Run Scaling on X_Train and X_test\n",
        "from sklearn.preprocessing import MinMaxScaler\n",
        "\n",
        "scaler = MinMaxScaler()\n",
        "X_train_scaled = scaler.fit_transform(X_train)\n",
        "X_test_scaled = scaler.fit_transform(X_test)\n"
      ]
    },
    {
      "cell_type": "code",
      "execution_count": null,
      "metadata": {
        "colab": {
          "base_uri": "https://localhost:8080/"
        },
        "id": "VkQlnXUD8yNR",
        "outputId": "bfdc0723-ebaf-4407-db0d-9e2a2a7c65e7"
      },
      "outputs": [
        {
          "output_type": "stream",
          "name": "stdout",
          "text": [
            "Counter({0: 32660, 1: 32660})\n"
          ]
        }
      ],
      "source": [
        "# Oversample and plot imbalanced dataset with SMOTE\n",
        "from collections import Counter\n",
        "from imblearn.over_sampling import SMOTE\n",
        "from matplotlib import pyplot\n",
        "from numpy import where\n",
        "# transform the dataset\n",
        "oversample = SMOTE()\n",
        "X_train_scaled_smote, y_train_smote = oversample.fit_resample(X_train_scaled, y_train)\n",
        "# summarize the new class distribution\n",
        "counter = Counter(y_train_smote)\n",
        "print(counter)"
      ]
    },
    {
      "cell_type": "code",
      "execution_count": null,
      "metadata": {
        "id": "zCSCyBOY9Jmi"
      },
      "outputs": [],
      "source": [
        "from sklearn.svm import LinearSVC\n",
        "\n",
        "lsvc = LinearSVC(random_state=42)\n",
        "lsvc.fit(X_train_scaled_smote, y_train_smote)\n",
        "\n",
        "y_pred_lsvc = lsvc.predict(X_test_scaled)"
      ]
    },
    {
      "cell_type": "code",
      "execution_count": null,
      "metadata": {
        "colab": {
          "base_uri": "https://localhost:8080/",
          "height": 577
        },
        "id": "RxbQCcvf97lr",
        "outputId": "e3d161d8-704d-40b0-f820-53d45abe7b0e"
      },
      "outputs": [
        {
          "name": "stdout",
          "output_type": "stream",
          "text": [
            "              precision    recall  f1-score   support\n",
            "\n",
            "           0       0.96      0.88      0.92     15981\n",
            "           1       0.53      0.80      0.63      2775\n",
            "\n",
            "    accuracy                           0.86     18756\n",
            "   macro avg       0.74      0.84      0.77     18756\n",
            "weighted avg       0.90      0.86      0.87     18756\n",
            "\n",
            "Accuracy: 0.86340371081254\n",
            "Precision: 0.5253390435403283\n",
            "Recall: 0.7956756756756757\n",
            "F1-score: 0.6328460877042132\n"
          ]
        },
        {
          "name": "stderr",
          "output_type": "stream",
          "text": [
            "/usr/local/lib/python3.7/dist-packages/sklearn/utils/deprecation.py:87: FutureWarning: Function plot_confusion_matrix is deprecated; Function `plot_confusion_matrix` is deprecated in 1.0 and will be removed in 1.2. Use one of the class methods: ConfusionMatrixDisplay.from_predictions or ConfusionMatrixDisplay.from_estimator.\n",
            "  warnings.warn(msg, category=FutureWarning)\n"
          ]
        },
        {
          "data": {
            "text/plain": [
              "<sklearn.metrics._plot.confusion_matrix.ConfusionMatrixDisplay at 0x7f4920bb1890>"
            ]
          },
          "execution_count": 11,
          "metadata": {},
          "output_type": "execute_result"
        },
        {
          "data": {
            "image/png": "[encoded data removed]",
            "text/plain": [
              "<Figure size 432x288 with 2 Axes>"
            ]
          },
          "metadata": {},
          "output_type": "display_data"
        }
      ],
      "source": [
        "from sklearn.metrics import f1_score\n",
        "from sklearn.metrics import recall_score\n",
        "from sklearn.metrics import accuracy_score\n",
        "from sklearn.metrics import roc_auc_score\n",
        "from sklearn.metrics import precision_score\n",
        "from sklearn.metrics import plot_confusion_matrix\n",
        "from sklearn.metrics import classification_report\n",
        "\n",
        "print(classification_report(y_test, y_pred_lsvc))\n",
        "print(f\"Accuracy: {accuracy_score(y_test, y_pred_lsvc)}\")\n",
        "print(f\"Precision: {precision_score(y_test, y_pred_lsvc)}\")\n",
        "print(f\"Recall: {recall_score(y_test, y_pred_lsvc)}\")\n",
        "print(f\"F1-score: {f1_score(y_test, y_pred_lsvc)}\")\n",
        "\n",
        "plot_confusion_matrix(lsvc, X_test_scaled, y_test)  "
      ]
    },
    {
      "cell_type": "code",
      "execution_count": null,
      "metadata": {
        "id": "hx48EeHH_YRE"
      },
      "outputs": [],
      "source": [
        "import pickle\n",
        "filename = 'model_linear_svc.sav'\n",
        "pickle.dump(lsvc, open(f\"/content/drive/MyDrive/NUS/Y4S1/BT4222 (1)/{filename}\", 'wb'))"
      ]
    },
    {
      "cell_type": "code",
      "execution_count": null,
      "metadata": {
        "id": "LRQcLfXs9dn1"
      },
      "outputs": [],
      "source": [
        "from sklearn.svm import SVC\n",
        "\n",
        "svc_rbf = SVC(kernel = \"rbf\", gamma = \"scale\", random_state=42)\n",
        "\n",
        "svc_rbf.fit(X_train_scaled_smote, y_train_smote)\n",
        "\n",
        "y_pred_svc_rbf = svc_rbf.predict(X_test_scaled)"
      ]
    },
    {
      "cell_type": "code",
      "execution_count": null,
      "metadata": {
        "colab": {
          "base_uri": "https://localhost:8080/",
          "height": 580
        },
        "id": "u3-8Tba0-uIi",
        "outputId": "1f85c89e-72d1-44ce-e408-24bd1c1e2c63"
      },
      "outputs": [
        {
          "name": "stdout",
          "output_type": "stream",
          "text": [
            "              precision    recall  f1-score   support\n",
            "\n",
            "           0       0.96      0.88      0.92     15981\n",
            "           1       0.54      0.80      0.64      2775\n",
            "\n",
            "    accuracy                           0.87     18756\n",
            "   macro avg       0.75      0.84      0.78     18756\n",
            "weighted avg       0.90      0.87      0.88     18756\n",
            "\n",
            "Accuracy: 0.8692151844743016\n",
            "Precision: 0.5389453313981616\n",
            "Recall: 0.8028828828828829\n",
            "F1-score: 0.6449558546822984\n"
          ]
        },
        {
          "name": "stderr",
          "output_type": "stream",
          "text": [
            "/usr/local/lib/python3.7/dist-packages/sklearn/utils/deprecation.py:87: FutureWarning: Function plot_confusion_matrix is deprecated; Function `plot_confusion_matrix` is deprecated in 1.0 and will be removed in 1.2. Use one of the class methods: ConfusionMatrixDisplay.from_predictions or ConfusionMatrixDisplay.from_estimator.\n",
            "  warnings.warn(msg, category=FutureWarning)\n"
          ]
        },
        {
          "data": {
            "text/plain": [
              "<sklearn.metrics._plot.confusion_matrix.ConfusionMatrixDisplay at 0x7f0247022510>"
            ]
          },
          "execution_count": 9,
          "metadata": {},
          "output_type": "execute_result"
        },
        {
          "data": {
            "image/png": "[encoded data removed]",
            "text/plain": [
              "<Figure size 432x288 with 2 Axes>"
            ]
          },
          "metadata": {},
          "output_type": "display_data"
        }
      ],
      "source": [
        "from sklearn.metrics import f1_score\n",
        "from sklearn.metrics import recall_score\n",
        "from sklearn.metrics import accuracy_score\n",
        "from sklearn.metrics import roc_auc_score\n",
        "from sklearn.metrics import precision_score\n",
        "from sklearn.metrics import plot_confusion_matrix\n",
        "from sklearn.metrics import classification_report\n",
        "\n",
        "print(classification_report(y_test, y_pred_svc_rbf))\n",
        "print(f\"Accuracy: {accuracy_score(y_test, y_pred_svc_rbf)}\")\n",
        "print(f\"Precision: {precision_score(y_test, y_pred_svc_rbf)}\")\n",
        "print(f\"Recall: {recall_score(y_test, y_pred_svc_rbf)}\")\n",
        "print(f\"F1-score: {f1_score(y_test, y_pred_svc_rbf)}\")\n",
        "\n",
        "plot_confusion_matrix(svc_rbf, X_test_scaled, y_test)  "
      ]
    },
    {
      "cell_type": "code",
      "execution_count": null,
      "metadata": {
        "id": "O5toaEdTCcoG"
      },
      "outputs": [],
      "source": [
        "import pickle\n",
        "filename = 'model_svc_untuned.sav'\n",
        "pickle.dump(lsvc, open(f\"/content/drive/MyDrive/NUS/Y4S1/BT4222 (1)/{filename}\", 'wb'))"
      ]
    },
    {
      "cell_type": "markdown",
      "metadata": {
        "id": "KVZqArBf_b_V"
      },
      "source": [
        "Hyperparameter Tuning\n",
        "\n",
        "---\n",
        "\n"
      ]
    },
    {
      "cell_type": "code",
      "execution_count": null,
      "metadata": {
        "id": "wToLwIuc_eor",
        "colab": {
          "base_uri": "https://localhost:8080/"
        },
        "outputId": "d2c4a507-3420-4002-fe1e-7a47898a198e"
      },
      "outputs": [
        {
          "output_type": "stream",
          "name": "stdout",
          "text": [
            "('tuned hyperparameters: ', {'C': 4.745401188473625, 'gamma': 0.07969454818643928, 'kernel': 'rbf'})\n",
            "Mean Cross-Validated Score:  0.8675137783221064\n"
          ]
        }
      ],
      "source": [
        "from sklearn.model_selection import RandomizedSearchCV\n",
        "from scipy import stats\n",
        "\n",
        "param_distribs = {\n",
        "    'C': stats.uniform(1,10),\n",
        "    'gamma': stats.reciprocal(0.001,0.1),\n",
        "    'kernel': ['linear', 'poly','rbf','sigmoid']\n",
        "}\n",
        "\n",
        "rng_search = RandomizedSearchCV(svc_rbf, param_distributions=param_distribs,n_iter=10, cv=5, random_state=42)\n",
        "rng_search.fit(X_train_scaled_smote, y_train_smote)\n",
        "\n",
        "print((\"tuned hyperparameters: \",  rng_search.best_params_))\n",
        "\n",
        "print(\"Mean Cross-Validated Score: \", rng_search.best_score_)\n"
      ]
    },
    {
      "cell_type": "code",
      "execution_count": null,
      "metadata": {
        "id": "nAB5Rp4CeA71"
      },
      "outputs": [],
      "source": [
        "import pickle\n",
        "filename = 'rng_search_model.sav'\n",
        "pickle.dump(rng_search, open(f\"/content/drive/MyDrive/NUS/Y4S1/BT4222 (1)/{filename}\", 'wb'))"
      ]
    },
    {
      "cell_type": "code",
      "execution_count": null,
      "metadata": {
        "id": "NaaNXpFj_o27"
      },
      "outputs": [],
      "source": [
        "c_tuned = rng_search.best_params_[\"C\"]\n",
        "gamma_tuned = rng_search.best_params_[\"gamma\"]\n",
        "kernel_tuned = rng_search.best_params_['kernel']\n",
        "\n",
        "svc_tuned = SVC(kernel = kernel_tuned, C = c_tuned, gamma = gamma_tuned, random_state=42)\n",
        "\n",
        "svc_tuned.fit(X_train_scaled_smote, y_train_smote)\n",
        "y_pred_svc_tuned = svc_tuned.predict(X_test_scaled)"
      ]
    },
    {
      "cell_type": "code",
      "execution_count": null,
      "metadata": {
        "id": "YAErrwYlAh5a",
        "colab": {
          "base_uri": "https://localhost:8080/",
          "height": 579
        },
        "outputId": "1c79b24f-dd40-49c8-88f3-a5c287f0ffef"
      },
      "outputs": [
        {
          "output_type": "stream",
          "name": "stdout",
          "text": [
            "              precision    recall  f1-score   support\n",
            "\n",
            "           0       0.96      0.88      0.92     15981\n",
            "           1       0.55      0.80      0.65      2775\n",
            "\n",
            "    accuracy                           0.87     18756\n",
            "   macro avg       0.75      0.84      0.78     18756\n",
            "weighted avg       0.90      0.87      0.88     18756\n",
            "\n",
            "Accuracy: 0.871614416719983\n",
            "Precision: 0.5451859147993106\n",
            "Recall: 0.7978378378378378\n",
            "F1-score: 0.6477472205968403\n"
          ]
        },
        {
          "output_type": "stream",
          "name": "stderr",
          "text": [
            "/usr/local/lib/python3.7/dist-packages/sklearn/utils/deprecation.py:87: FutureWarning: Function plot_confusion_matrix is deprecated; Function `plot_confusion_matrix` is deprecated in 1.0 and will be removed in 1.2. Use one of the class methods: ConfusionMatrixDisplay.from_predictions or ConfusionMatrixDisplay.from_estimator.\n",
            "  warnings.warn(msg, category=FutureWarning)\n"
          ]
        },
        {
          "output_type": "execute_result",
          "data": {
            "text/plain": [
              "<sklearn.metrics._plot.confusion_matrix.ConfusionMatrixDisplay at 0x7fb229ba1510>"
            ]
          },
          "metadata": {},
          "execution_count": 15
        },
        {
          "output_type": "display_data",
          "data": {
            "text/plain": [
              "<Figure size 432x288 with 2 Axes>"
            ],
            "image/png": "[encoded data removed]"
          },
          "metadata": {
            "needs_background": "light"
          }
        }
      ],
      "source": [
        "from sklearn.metrics import f1_score\n",
        "from sklearn.metrics import recall_score\n",
        "from sklearn.metrics import accuracy_score\n",
        "from sklearn.metrics import roc_auc_score\n",
        "from sklearn.metrics import precision_score\n",
        "from sklearn.metrics import plot_confusion_matrix\n",
        "from sklearn.metrics import classification_report\n",
        "\n",
        "print(classification_report(y_test, y_pred_svc_tuned))\n",
        "print(f\"Accuracy: {accuracy_score(y_test, y_pred_svc_tuned)}\")\n",
        "print(f\"Precision: {precision_score(y_test, y_pred_svc_tuned)}\")\n",
        "print(f\"Recall: {recall_score(y_test, y_pred_svc_tuned)}\")\n",
        "print(f\"F1-score: {f1_score(y_test, y_pred_svc_tuned)}\")\n",
        "\n",
        "plot_confusion_matrix(svc_tuned, X_test_scaled, y_test)  "
      ]
    },
    {
      "cell_type": "code",
      "execution_count": null,
      "metadata": {
        "id": "YiPeOG9mCcxU"
      },
      "outputs": [],
      "source": [
        "import pickle\n",
        "filename = 'model_svc_tuned.sav'\n",
        "pickle.dump(svc_tuned, open(f\"/content/drive/MyDrive/NUS/Y4S1/BT4222 (1)/{filename}\", 'wb'))"
      ]
    },
    {
      "cell_type": "markdown",
      "metadata": {
        "id": "V5-ebArkCRAr"
      },
      "source": [
        "Saving the model\n",
        "\n",
        "\n",
        "---\n",
        "\n"
      ]
    },
    {
      "cell_type": "code",
      "execution_count": null,
      "metadata": {
        "id": "rmIuj3IgCWR_"
      },
      "outputs": [],
      "source": []
    },
    {
      "cell_type": "markdown",
      "metadata": {
        "id": "qfFN0E8UCVtf"
      },
      "source": []
    }
  ],
  "metadata": {
    "accelerator": "TPU",
    "colab": {
      "collapsed_sections": [],
      "provenance": [],
      "history_visible": true
    },
    "gpuClass": "premium",
    "kernelspec": {
      "display_name": "Python 3",
      "name": "python3"
    },
    "language_info": {
      "name": "python"
    }
  },
  "nbformat": 4,
  "nbformat_minor": 0
}