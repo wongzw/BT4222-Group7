{
  "nbformat": 4,
  "nbformat_minor": 0,
  "metadata": {
    "colab": {
      "provenance": []
    },
    "kernelspec": {
      "name": "python3",
      "display_name": "Python 3"
    },
    "language_info": {
      "name": "python"
    },
    "gpuClass": "standard"
  },
  "cells": [
    {
      "cell_type": "markdown",
      "source": [
        "## Installations"
      ],
      "metadata": {
        "id": "QkH_tpsaTmFC"
      }
    },
    {
      "cell_type": "code",
      "source": [
        "import datetime\n",
        "now = datetime.datetime.now()\n",
        "print (\"Current date and time : \")\n",
        "print (now.strftime(\"%Y-%m-%d %H:%M:%S\"))"
      ],
      "metadata": {
        "id": "npIm0ikyzQ4A",
        "outputId": "1a77fb3c-030d-431f-c3cc-c9f1055c4f66",
        "colab": {
          "base_uri": "https://localhost:8080/"
        }
      },
      "execution_count": 1,
      "outputs": [
        {
          "output_type": "stream",
          "name": "stdout",
          "text": [
            "Current date and time : \n",
            "2022-11-07 15:55:01\n"
          ]
        }
      ]
    },
    {
      "cell_type": "code",
      "source": [
        "! pip install skorch\n",
        "! pip install pytorch-tabnet"
      ],
      "metadata": {
        "colab": {
          "base_uri": "https://localhost:8080/"
        },
        "id": "SLldlMT5TlYo",
        "outputId": "f4a2e059-b6d3-4e9b-8f29-f848b500e590"
      },
      "execution_count": null,
      "outputs": [
        {
          "output_type": "stream",
          "name": "stdout",
          "text": [
            "Looking in indexes: https://pypi.org/simple, https://us-python.pkg.dev/colab-wheels/public/simple/\n",
            "Requirement already satisfied: skorch in /usr/local/lib/python3.7/dist-packages (0.12.0)\n",
            "Requirement already satisfied: numpy>=1.13.3 in /usr/local/lib/python3.7/dist-packages (from skorch) (1.21.6)\n",
            "Requirement already satisfied: tqdm>=4.14.0 in /usr/local/lib/python3.7/dist-packages (from skorch) (4.64.1)\n",
            "Requirement already satisfied: tabulate>=0.7.7 in /usr/local/lib/python3.7/dist-packages (from skorch) (0.8.10)\n",
            "Requirement already satisfied: scipy>=1.1.0 in /usr/local/lib/python3.7/dist-packages (from skorch) (1.7.3)\n",
            "Requirement already satisfied: scikit-learn>=0.22.0 in /usr/local/lib/python3.7/dist-packages (from skorch) (1.0.2)\n",
            "Requirement already satisfied: threadpoolctl>=2.0.0 in /usr/local/lib/python3.7/dist-packages (from scikit-learn>=0.22.0->skorch) (3.1.0)\n",
            "Requirement already satisfied: joblib>=0.11 in /usr/local/lib/python3.7/dist-packages (from scikit-learn>=0.22.0->skorch) (1.2.0)\n",
            "Looking in indexes: https://pypi.org/simple, https://us-python.pkg.dev/colab-wheels/public/simple/\n",
            "Requirement already satisfied: pytorch-tabnet in /usr/local/lib/python3.7/dist-packages (4.0)\n",
            "Requirement already satisfied: torch<2.0,>=1.2 in /usr/local/lib/python3.7/dist-packages (from pytorch-tabnet) (1.12.1+cu113)\n",
            "Requirement already satisfied: numpy<2.0,>=1.17 in /usr/local/lib/python3.7/dist-packages (from pytorch-tabnet) (1.21.6)\n",
            "Requirement already satisfied: tqdm<5.0,>=4.36 in /usr/local/lib/python3.7/dist-packages (from pytorch-tabnet) (4.64.1)\n",
            "Requirement already satisfied: scikit_learn>0.21 in /usr/local/lib/python3.7/dist-packages (from pytorch-tabnet) (1.0.2)\n",
            "Requirement already satisfied: scipy>1.4 in /usr/local/lib/python3.7/dist-packages (from pytorch-tabnet) (1.7.3)\n",
            "Requirement already satisfied: threadpoolctl>=2.0.0 in /usr/local/lib/python3.7/dist-packages (from scikit_learn>0.21->pytorch-tabnet) (3.1.0)\n",
            "Requirement already satisfied: joblib>=0.11 in /usr/local/lib/python3.7/dist-packages (from scikit_learn>0.21->pytorch-tabnet) (1.2.0)\n",
            "Requirement already satisfied: typing-extensions in /usr/local/lib/python3.7/dist-packages (from torch<2.0,>=1.2->pytorch-tabnet) (4.1.1)\n"
          ]
        }
      ]
    },
    {
      "cell_type": "markdown",
      "source": [
        "## *Imports*"
      ],
      "metadata": {
        "id": "2YGyIcsufEz6"
      }
    },
    {
      "cell_type": "code",
      "execution_count": null,
      "metadata": {
        "id": "pS5RW-ckd_Nq"
      },
      "outputs": [],
      "source": [
        "import pandas as pd\n",
        "import numpy as np\n",
        "import tensorflow as tf\n",
        "import pickle\n",
        "import seaborn as sb\n",
        "from sklearn.model_selection import train_test_split\n",
        "from sklearn.ensemble import VotingClassifier, RandomForestClassifier\n",
        "from sklearn.preprocessing import MinMaxScaler\n",
        "from sklearn.linear_model import LogisticRegression\n",
        "from pytorch_tabnet.tab_model import TabNetClassifier\n",
        "from skorch import NeuralNetClassifier\n",
        "from xgboost import XGBRFClassifier\n",
        "from sklearn.metrics import accuracy_score, classification_report, f1_score,recall_score,accuracy_score,roc_auc_score,precision_score, confusion_matrix"
      ]
    },
    {
      "cell_type": "code",
      "source": [
        "from google.colab import drive\n",
        "drive.mount('/content/drive',)"
      ],
      "metadata": {
        "colab": {
          "base_uri": "https://localhost:8080/"
        },
        "id": "WJXF0wj7fj7Z",
        "outputId": "3bc0f42a-64f6-4d02-a275-8ef452c6ed32"
      },
      "execution_count": null,
      "outputs": [
        {
          "output_type": "stream",
          "name": "stdout",
          "text": [
            "Mounted at /content/drive\n"
          ]
        }
      ]
    },
    {
      "cell_type": "markdown",
      "source": [
        "## Loading of Dataset"
      ],
      "metadata": {
        "id": "q7R_TxR3XNF0"
      }
    },
    {
      "cell_type": "code",
      "source": [
        "fname = f\"/content/drive/MyDrive/BT4222/data/feature_eng_combined_v2.csv\"\n",
        "df = pd.read_csv(fname)\n",
        "#Feature selection for training\n",
        "df_model = df.copy().drop(columns=['Unnamed: 0', 'id', 'name', 'artists', 'artist_ids', 'release_date_x', 'release_date', 'date', 'lyrics', 'non_stop_lyrics', 'release_month', 'sentiment'])\n",
        "\n",
        "#Split train and test set\n",
        "X, y = df_model.drop(columns=['target']), df_model['target']\n",
        "\n",
        "X_train, X_test, y_train, y_test = train_test_split(X, y, test_size=0.33, random_state=42)\n",
        "\n",
        "scaler = MinMaxScaler()\n",
        "X_train = scaler.fit_transform(X_train)\n",
        "X_test= scaler.transform(X_test)"
      ],
      "metadata": {
        "colab": {
          "base_uri": "https://localhost:8080/"
        },
        "id": "6FxLCEu1XQvo",
        "outputId": "978843f2-6c38-4234-bb70-99dece9befac"
      },
      "execution_count": null,
      "outputs": [
        {
          "output_type": "stream",
          "name": "stderr",
          "text": [
            "/usr/local/lib/python3.7/dist-packages/IPython/core/interactiveshell.py:3326: DtypeWarning: Columns (19) have mixed types.Specify dtype option on import or set low_memory=False.\n",
            "  exec(code_obj, self.user_global_ns, self.user_ns)\n"
          ]
        }
      ]
    },
    {
      "cell_type": "markdown",
      "source": [
        "## Loading of Models"
      ],
      "metadata": {
        "id": "1lmDHFFofMJy"
      }
    },
    {
      "cell_type": "markdown",
      "source": [
        "Tuned Naive Bayes Model without SMOTE\n"
      ],
      "metadata": {
        "id": "h8wfxsg1fVb-"
      }
    },
    {
      "cell_type": "code",
      "source": [
        "filename = f'/content/drive/MyDrive/BT4222/models/model_gs_nb_tuned.sav'\n",
        "Tuned_NB_model = pickle.load(open(filename, 'rb'))"
      ],
      "metadata": {
        "id": "SLJMRN1ifLDV"
      },
      "execution_count": null,
      "outputs": []
    },
    {
      "cell_type": "markdown",
      "source": [
        "Tuned DNN Model with SMOTE"
      ],
      "metadata": {
        "id": "TyvF0teTS076"
      }
    },
    {
      "cell_type": "code",
      "source": [
        "filename = f'/content/drive/MyDrive/BT4222/models/model_nn_w_tuning.sav'\n",
        "Tuned_DNN_w_SMOTE_model = pickle.load(open(filename, 'rb'))"
      ],
      "metadata": {
        "id": "hjZ63_vASroq"
      },
      "execution_count": null,
      "outputs": []
    },
    {
      "cell_type": "markdown",
      "source": [
        "TabNet With SMOTE"
      ],
      "metadata": {
        "id": "cUqfX9C2TLf5"
      }
    },
    {
      "cell_type": "code",
      "source": [
        "Tabnet_clf = TabNetClassifier()\n",
        "saved_filepath = f'/content/drive/MyDrive/BT4222/models/tabnet_model_SMOTE.zip'\n",
        "Tabnet_clf.load_model(saved_filepath)"
      ],
      "metadata": {
        "colab": {
          "base_uri": "https://localhost:8080/"
        },
        "id": "noAYc9PSTKdO",
        "outputId": "081621a8-ccb2-43d2-b1e6-bca475b16cae"
      },
      "execution_count": null,
      "outputs": [
        {
          "output_type": "stream",
          "name": "stderr",
          "text": [
            "/usr/local/lib/python3.7/dist-packages/pytorch_tabnet/abstract_model.py:75: UserWarning: Device used : cpu\n",
            "  warnings.warn(f\"Device used : {self.device}\")\n"
          ]
        }
      ]
    },
    {
      "cell_type": "markdown",
      "source": [
        "Ensembled (RFC, GradientBoosted, ExtraTrees) w Oversample (NOT SMOTE) and MinMaxScale"
      ],
      "metadata": {
        "id": "MRCKFQspT6p7"
      }
    },
    {
      "cell_type": "code",
      "source": [
        "filename = f'/content/drive/MyDrive/BT4222/models/ensembled_over.sav'\n",
        "Ensembled_Trees_model = pickle.load(open(filename, 'rb'))"
      ],
      "metadata": {
        "id": "IbcSlZubT9EV"
      },
      "execution_count": null,
      "outputs": []
    },
    {
      "cell_type": "markdown",
      "source": [
        "RandomForest (Oversampled) w Scaling"
      ],
      "metadata": {
        "id": "l70S3FSxU9bu"
      }
    },
    {
      "cell_type": "code",
      "source": [
        "filename = f'/content/drive/MyDrive/BT4222/models/rfc_over_tuned.sav'\n",
        "Random_forest_model = pickle.load(open(filename, 'rb'))"
      ],
      "metadata": {
        "id": "TYdus4xIU8hR"
      },
      "execution_count": null,
      "outputs": []
    },
    {
      "cell_type": "markdown",
      "source": [
        "XGBoost Smote Scaled"
      ],
      "metadata": {
        "id": "2jvTqwovVPyN"
      }
    },
    {
      "cell_type": "code",
      "source": [
        "filename = f'/content/drive/MyDrive/BT4222/models/model_xgboost_tuned_smote_npy_ver.sav'\n",
        "XGB_SMOTE_Scaled = pickle.load(open(filename, 'rb'))"
      ],
      "metadata": {
        "id": "BMzOGl_xVMsu"
      },
      "execution_count": null,
      "outputs": []
    },
    {
      "cell_type": "markdown",
      "source": [
        "Tuned SVM Classifier"
      ],
      "metadata": {
        "id": "9rSCS44EVYeQ"
      }
    },
    {
      "cell_type": "code",
      "source": [
        "filename = f'/content/drive/MyDrive/BT4222/models/model_svc_tuned.sav'\n",
        "Tuned_SVC = pickle.load(open(filename, 'rb'))"
      ],
      "metadata": {
        "id": "u3c7KSOEVXnR"
      },
      "execution_count": null,
      "outputs": []
    },
    {
      "cell_type": "markdown",
      "source": [
        "### Get altered_train_test set for stacking model"
      ],
      "metadata": {
        "id": "mG_z6-jIGVif"
      }
    },
    {
      "cell_type": "code",
      "source": [
        "estimators = [\n",
        "    ('NB',Tuned_NB_model),\n",
        "    ('DNN',Tuned_DNN_w_SMOTE_model),\n",
        "    ('TBNT',Tabnet_clf),\n",
        "    ('Ensb',Ensembled_Trees_model),\n",
        "    ('RndmF',Random_forest_model),\n",
        "    ('XGB',XGB_SMOTE_Scaled),\n",
        "    ('SVC',Tuned_SVC)\n",
        "]\n",
        "\n",
        "predicition_train_list = []\n",
        "for i in range(0,len(estimators)):\n",
        "  temp_estimator = estimators[i][1]\n",
        "  y_pred_hard_component = temp_estimator.predict(X_train)\n",
        "  if i==1:\n",
        "    y_pred_hard_component = (y_pred_hard_component > 0.5).astype(\"int32\")\n",
        "    y_pred_hard_component = y_pred_hard_component.reshape(-1)\n",
        "  predicition_train_list.append(y_pred_hard_component)\n",
        "\n",
        "\n",
        "predicition_train_list = np.vstack(predicition_train_list).transpose()"
      ],
      "metadata": {
        "colab": {
          "base_uri": "https://localhost:8080/"
        },
        "id": "dJtxjeESGjMZ",
        "outputId": "31d51529-2b5c-472b-8870-89b0cdd94ee3"
      },
      "execution_count": null,
      "outputs": [
        {
          "output_type": "stream",
          "name": "stdout",
          "text": [
            "1190/1190 [==============================] - 3s 2ms/step\n"
          ]
        }
      ]
    },
    {
      "cell_type": "code",
      "source": [
        "predicition_test_list = []\n",
        "for i in range(0,len(estimators)):\n",
        "  temp_estimator = estimators[i][1]\n",
        "  y_pred_component = temp_estimator.predict(X_test)\n",
        "  if i==1:\n",
        "    y_pred_component = (y_pred_component > 0.5).astype(\"int32\")\n",
        "    y_pred_component = y_pred_component.reshape(-1)\n",
        "  predicition_test_list.append(y_pred_component)\n",
        "\n",
        "\n",
        "predicition_test_list = np.vstack(predicition_test_list).transpose()"
      ],
      "metadata": {
        "colab": {
          "base_uri": "https://localhost:8080/"
        },
        "id": "cN4xbN1hVCfo",
        "outputId": "3a53b0c2-c0d2-43b4-833f-ba0529ca28fa"
      },
      "execution_count": null,
      "outputs": [
        {
          "output_type": "stream",
          "name": "stdout",
          "text": [
            "587/587 [==============================] - 1s 2ms/step\n"
          ]
        }
      ]
    },
    {
      "cell_type": "code",
      "source": [
        "predicition_train_list"
      ],
      "metadata": {
        "colab": {
          "base_uri": "https://localhost:8080/"
        },
        "id": "v9kL3PFFUy33",
        "outputId": "b01a4347-8678-49ef-b552-58fffd33c86f"
      },
      "execution_count": null,
      "outputs": [
        {
          "output_type": "execute_result",
          "data": {
            "text/plain": [
              "array([[0, 0, 0, ..., 0, 0, 0],\n",
              "       [0, 0, 0, ..., 0, 0, 0],\n",
              "       [0, 1, 0, ..., 0, 0, 1],\n",
              "       ...,\n",
              "       [0, 1, 1, ..., 1, 0, 1],\n",
              "       [0, 0, 0, ..., 0, 0, 0],\n",
              "       [0, 1, 1, ..., 0, 0, 1]])"
            ]
          },
          "metadata": {},
          "execution_count": 31
        }
      ]
    },
    {
      "cell_type": "markdown",
      "source": [
        "## Logistic regression Stacking Model"
      ],
      "metadata": {
        "id": "tousZZYRWK_B"
      }
    },
    {
      "cell_type": "code",
      "source": [
        "basic_lr_model = LogisticRegression()\n",
        "basic_lr_model.fit(predicition_train_list,y_train)"
      ],
      "metadata": {
        "colab": {
          "base_uri": "https://localhost:8080/"
        },
        "id": "bucK7j0oUQX3",
        "outputId": "1f59d734-b71a-4804-8410-7eb06f84df16"
      },
      "execution_count": null,
      "outputs": [
        {
          "output_type": "execute_result",
          "data": {
            "text/plain": [
              "LogisticRegression()"
            ]
          },
          "metadata": {},
          "execution_count": 33
        }
      ]
    },
    {
      "cell_type": "code",
      "source": [
        "y_pred_final = basic_lr_model.predict(predicition_test_list)"
      ],
      "metadata": {
        "id": "iozgnL4pU963"
      },
      "execution_count": null,
      "outputs": []
    },
    {
      "cell_type": "code",
      "source": [
        "print(classification_report(y_test,y_pred_final))\n",
        "print(f\"Accuracy: {accuracy_score(y_test,y_pred_final)}\")\n",
        "print(f\"Precision: {precision_score(y_test,y_pred_final)}\")\n",
        "print(f\"Recall: {recall_score(y_test,y_pred_final)}\")\n",
        "print(f\"F1-score: {f1_score(y_test,y_pred_final)}\")\n",
        "\n",
        "\n",
        "cf_matrix = confusion_matrix(y_test,y_pred_final)  \n",
        "sb.heatmap(cf_matrix, annot=True, fmt='g')"
      ],
      "metadata": {
        "colab": {
          "base_uri": "https://localhost:8080/",
          "height": 508
        },
        "id": "X2FB3ImwVY6f",
        "outputId": "574da307-5f71-4934-cb07-c8c291b22bd7"
      },
      "execution_count": null,
      "outputs": [
        {
          "output_type": "stream",
          "name": "stdout",
          "text": [
            "              precision    recall  f1-score   support\n",
            "\n",
            "           0       0.94      0.96      0.95     15981\n",
            "           1       0.72      0.68      0.70      2775\n",
            "\n",
            "    accuracy                           0.91     18756\n",
            "   macro avg       0.83      0.82      0.82     18756\n",
            "weighted avg       0.91      0.91      0.91     18756\n",
            "\n",
            "Accuracy: 0.9136809554275965\n",
            "Precision: 0.7228218966846569\n",
            "Recall: 0.6756756756756757\n",
            "F1-score: 0.6984540882845968\n"
          ]
        },
        {
          "output_type": "execute_result",
          "data": {
            "text/plain": [
              "<matplotlib.axes._subplots.AxesSubplot at 0x7fdf3b7368d0>"
            ]
          },
          "metadata": {},
          "execution_count": 37
        },
        {
          "output_type": "display_data",
          "data": {
            "text/plain": [
              "<Figure size 432x288 with 2 Axes>"
            ],
            "image/png": "[encoded data removed]"
          },
          "metadata": {
            "needs_background": "light"
          }
        }
      ]
    },
    {
      "cell_type": "markdown",
      "source": [
        "## XGB Stacking Model"
      ],
      "metadata": {
        "id": "cpNBG_o-V9I1"
      }
    },
    {
      "cell_type": "code",
      "source": [
        "from hyperopt import STATUS_OK, Trials, fmin, hp, tpe\n",
        "\n",
        "space={'max_depth': hp.quniform(\"max_depth\", 3, 18, 1),\n",
        "        'gamma': hp.uniform ('gamma', 1,9),\n",
        "        'reg_alpha' : hp.quniform('reg_alpha', 40,180,1),\n",
        "        'reg_lambda' : hp.uniform('reg_lambda', 0,1),\n",
        "        'colsample_bytree' : hp.uniform('colsample_bytree', 0.5,1),\n",
        "        'min_child_weight' : hp.quniform('min_child_weight', 0, 10, 1),\n",
        "        'n_estimators': 180,\n",
        "        'seed': 0\n",
        "    }"
      ],
      "metadata": {
        "id": "dEDnFFQOWBdW"
      },
      "execution_count": null,
      "outputs": []
    },
    {
      "cell_type": "code",
      "source": [
        "X_train_temp, X_val_smote, y_train_temp, y_val_smote = train_test_split(predicition_train_list, y_train, test_size=0.33, random_state=42)"
      ],
      "metadata": {
        "id": "r1vYVuz3Wa4o"
      },
      "execution_count": null,
      "outputs": []
    },
    {
      "cell_type": "code",
      "source": [
        "model = XGBRFClassifier()\n",
        "model.fit(predicition_train_list, y_train)"
      ],
      "metadata": {
        "colab": {
          "base_uri": "https://localhost:8080/"
        },
        "id": "zz_HU92qXINU",
        "outputId": "6d509cb4-6889-42c1-fc50-befc68feb717"
      },
      "execution_count": null,
      "outputs": [
        {
          "output_type": "execute_result",
          "data": {
            "text/plain": [
              "XGBRFClassifier()"
            ]
          },
          "metadata": {},
          "execution_count": 57
        }
      ]
    },
    {
      "cell_type": "code",
      "source": [
        "y_pred_final = model.predict(predicition_test_list)"
      ],
      "metadata": {
        "id": "eB85ogSHXfj9"
      },
      "execution_count": null,
      "outputs": []
    },
    {
      "cell_type": "code",
      "source": [
        "print(classification_report(y_test,y_pred_final))\n",
        "print(f\"Accuracy: {accuracy_score(y_test,y_pred_final)}\")\n",
        "print(f\"Precision: {precision_score(y_test,y_pred_final)}\")\n",
        "print(f\"Recall: {recall_score(y_test,y_pred_final)}\")\n",
        "print(f\"F1-score: {f1_score(y_test,y_pred_final)}\")\n",
        "\n",
        "\n",
        "cf_matrix = confusion_matrix(y_test,y_pred_final)  \n",
        "sb.heatmap(cf_matrix, annot=True, fmt='g')"
      ],
      "metadata": {
        "colab": {
          "base_uri": "https://localhost:8080/",
          "height": 508
        },
        "id": "3mJMZzl9Xlvv",
        "outputId": "16cb7f4b-ac1a-4d9f-c043-b0f8d3135112"
      },
      "execution_count": null,
      "outputs": [
        {
          "output_type": "stream",
          "name": "stdout",
          "text": [
            "              precision    recall  f1-score   support\n",
            "\n",
            "           0       0.95      0.95      0.95     15981\n",
            "           1       0.72      0.69      0.70      2775\n",
            "\n",
            "    accuracy                           0.91     18756\n",
            "   macro avg       0.83      0.82      0.83     18756\n",
            "weighted avg       0.91      0.91      0.91     18756\n",
            "\n",
            "Accuracy: 0.9141074856046065\n",
            "Precision: 0.7186326070623591\n",
            "Recall: 0.6893693693693693\n",
            "F1-score: 0.7036968916681994\n"
          ]
        },
        {
          "output_type": "execute_result",
          "data": {
            "text/plain": [
              "<matplotlib.axes._subplots.AxesSubplot at 0x7fdf3a7cf710>"
            ]
          },
          "metadata": {},
          "execution_count": 59
        },
        {
          "output_type": "display_data",
          "data": {
            "text/plain": [
              "<Figure size 432x288 with 2 Axes>"
            ],
            "image/png": "[encoded data removed]"
          },
          "metadata": {
            "needs_background": "light"
          }
        }
      ]
    },
    {
      "cell_type": "markdown",
      "source": [
        "## Random Forest"
      ],
      "metadata": {
        "id": "WviGDP8dYUB0"
      }
    },
    {
      "cell_type": "code",
      "source": [
        "rndm_frst_model = RandomForestClassifier(n_estimators=100, random_state=42, oob_score=True, bootstrap=True)\n",
        "rndm_frst_model.fit(predicition_train_list, y_train)"
      ],
      "metadata": {
        "colab": {
          "base_uri": "https://localhost:8080/"
        },
        "id": "TFBs9W1NYWKJ",
        "outputId": "074f6180-ef8a-4540-80ab-1e1f86a49a10"
      },
      "execution_count": null,
      "outputs": [
        {
          "output_type": "execute_result",
          "data": {
            "text/plain": [
              "RandomForestClassifier(oob_score=True, random_state=42)"
            ]
          },
          "metadata": {},
          "execution_count": 62
        }
      ]
    },
    {
      "cell_type": "code",
      "source": [
        "y_pred_final = rndm_frst_model.predict(predicition_test_list)"
      ],
      "metadata": {
        "id": "b9O0P4NcYm5H"
      },
      "execution_count": null,
      "outputs": []
    },
    {
      "cell_type": "code",
      "source": [
        "print(classification_report(y_test,y_pred_final))\n",
        "print(f\"Accuracy: {accuracy_score(y_test,y_pred_final)}\")\n",
        "print(f\"Precision: {precision_score(y_test,y_pred_final)}\")\n",
        "print(f\"Recall: {recall_score(y_test,y_pred_final)}\")\n",
        "print(f\"F1-score: {f1_score(y_test,y_pred_final)}\")\n",
        "\n",
        "\n",
        "cf_matrix = confusion_matrix(y_test,y_pred_final)  \n",
        "sb.heatmap(cf_matrix, annot=True, fmt='g')"
      ],
      "metadata": {
        "colab": {
          "base_uri": "https://localhost:8080/",
          "height": 508
        },
        "id": "izpmbHqnYrn1",
        "outputId": "c556a255-7382-4a30-b157-b72beed229e8"
      },
      "execution_count": null,
      "outputs": [
        {
          "output_type": "stream",
          "name": "stdout",
          "text": [
            "              precision    recall  f1-score   support\n",
            "\n",
            "           0       0.94      0.96      0.95     15981\n",
            "           1       0.73      0.67      0.70      2775\n",
            "\n",
            "    accuracy                           0.91     18756\n",
            "   macro avg       0.84      0.81      0.82     18756\n",
            "weighted avg       0.91      0.91      0.91     18756\n",
            "\n",
            "Accuracy: 0.9140541693324803\n",
            "Precision: 0.7292077256602286\n",
            "Recall: 0.6666666666666666\n",
            "F1-score: 0.6965361445783133\n"
          ]
        },
        {
          "output_type": "execute_result",
          "data": {
            "text/plain": [
              "<matplotlib.axes._subplots.AxesSubplot at 0x7fdf3a6b9c10>"
            ]
          },
          "metadata": {},
          "execution_count": 64
        },
        {
          "output_type": "display_data",
          "data": {
            "text/plain": [
              "<Figure size 432x288 with 2 Axes>"
            ],
            "image/png": "[encoded data removed]"
          },
          "metadata": {
            "needs_background": "light"
          }
        }
      ]
    }
  ]
}