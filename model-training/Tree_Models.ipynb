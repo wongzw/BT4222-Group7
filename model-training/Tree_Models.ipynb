{
  "nbformat": 4,
  "nbformat_minor": 0,
  "metadata": {
    "colab": {
      "provenance": [],
      "collapsed_sections": []
    },
    "kernelspec": {
      "name": "python3",
      "display_name": "Python 3"
    },
    "language_info": {
      "name": "python"
    },
    "gpuClass": "standard"
  },
  "cells": [
    {
      "cell_type": "code",
      "source": [
        "import datetime\n",
        "now = datetime.datetime.now()\n",
        "print (\"Current date and time : \")\n",
        "print (now.strftime(\"%Y-%m-%d %H:%M:%S\"))"
      ],
      "metadata": {
        "colab": {
          "base_uri": "https://localhost:8080/"
        },
        "id": "4jb83-YC0O9A",
        "outputId": "6803f01c-e7a6-4f5f-97d0-9424fab69f2b"
      },
      "execution_count": 1,
      "outputs": [
        {
          "output_type": "stream",
          "name": "stdout",
          "text": [
            "Current date and time : \n",
            "2022-11-07 15:59:15\n"
          ]
        }
      ]
    },
    {
      "cell_type": "code",
      "execution_count": null,
      "metadata": {
        "colab": {
          "base_uri": "https://localhost:8080/"
        },
        "id": "0nzWmz4_OqMu",
        "outputId": "d8cd6cf7-64cf-4e68-830d-797273285a1b"
      },
      "outputs": [
        {
          "output_type": "stream",
          "name": "stdout",
          "text": [
            "Mounted at /content/drive\n"
          ]
        }
      ],
      "source": [
        "import numpy as np\n",
        "import pandas as pd\n",
        "from google.colab import drive\n",
        "drive.mount('/content/drive', force_remount=True)"
      ]
    },
    {
      "cell_type": "code",
      "source": [
        "!cd /content/drive/My Drive/"
      ],
      "metadata": {
        "colab": {
          "base_uri": "https://localhost:8080/"
        },
        "id": "7ykFApWzOavq",
        "outputId": "dd6c4699-bfad-4667-9bbd-941be4faabb9"
      },
      "execution_count": null,
      "outputs": [
        {
          "output_type": "stream",
          "name": "stdout",
          "text": [
            "/bin/bash: line 0: cd: too many arguments\n"
          ]
        }
      ]
    },
    {
      "cell_type": "code",
      "source": [
        "fname = f\"/content/drive/MyDrive/BT4222/data/feature_eng_combined_v2.csv\"\n",
        "\n",
        "df = pd.read_csv(fname)\n",
        "df"
      ],
      "metadata": {
        "colab": {
          "base_uri": "https://localhost:8080/",
          "height": 714
        },
        "id": "-FJBpqLWPGhx",
        "outputId": "01a65439-c049-4da0-f91d-901cf31c46d5"
      },
      "execution_count": null,
      "outputs": [
        {
          "output_type": "stream",
          "name": "stderr",
          "text": [
            "/usr/local/lib/python3.7/dist-packages/IPython/core/interactiveshell.py:3326: DtypeWarning: Columns (19) have mixed types.Specify dtype option on import or set low_memory=False.\n",
            "  exec(code_obj, self.user_global_ns, self.user_ns)\n"
          ]
        },
        {
          "output_type": "execute_result",
          "data": {
            "text/plain": [
              "       Unnamed: 0                      id                       name  \\\n",
              "0               0  0gplL1WMoJ6iYaPgMCL0gX                 Easy On Me   \n",
              "1               1  4BI4iNZigfF4SUq13TcFPh   INDUSTRY BABY - EXTENDED   \n",
              "2               2  58UKC45GPNTflCN6nwCUeF                 Fancy Like   \n",
              "3               3  3rmo8F54jFF8OgYsqTxm5d                 Bad Habits   \n",
              "4               4  50nfwKoDiSYg8zOCREWAm5                    Shivers   \n",
              "...           ...                     ...                        ...   \n",
              "56830       56830  4lCAS06lKCJiFVGhHqxCtW              Talk About It   \n",
              "56831       56831  60xDmDoYJytWs5do9aHI0F              Beat the Odds   \n",
              "56832       56832  6bAHtwPD7MBjSD8UmZFsh8                  Geography   \n",
              "56833       56833  0G9CL2p0TP4kTIXroDR326  twin hearts (feat. YURMS)   \n",
              "56834       56834  1S0EjHjqfjjadNWQMxv6rb                      Fácil   \n",
              "\n",
              "                                                 artists  \\\n",
              "0                                              ['Adele']   \n",
              "1                           ['Lil Nas X', 'Jack Harlow']   \n",
              "2                                       ['Walker Hayes']   \n",
              "3                                         ['Ed Sheeran']   \n",
              "4                                         ['Ed Sheeran']   \n",
              "...                                                  ...   \n",
              "56830                         ['A Boogie Wit da Hoodie']   \n",
              "56831                                      ['Money Man']   \n",
              "56832  ['Chaos Chaos', 'Kevin Hickey', 'Lucas McCross...   \n",
              "56833                            ['ITSOKTOCRY', 'Yurms']   \n",
              "56834                                     ['Kat Dahlia']   \n",
              "\n",
              "                                              artist_ids  track_number  \\\n",
              "0                             ['4dpARuHxo51G3z768sgnrY']             1   \n",
              "1      ['7jVv8c5Fj3E9VhNjxT4snq', '2LIk90788K0zvyj2JJ...             2   \n",
              "2                             ['7sKxqpSqbIzphAKAhrqvlf']             6   \n",
              "3                             ['6eUKZXaKkcviH0Ku9w2n3V']             4   \n",
              "4                             ['6eUKZXaKkcviH0Ku9w2n3V']             2   \n",
              "...                                                  ...           ...   \n",
              "56830                         ['31W5EY0aAly4Qieq6OFu6I']             9   \n",
              "56831                         ['3Rx4PJ7SP6unkOk5elPUK7']             8   \n",
              "56832  ['6D6rjLdxyE5vwhMlkuQq0E', '12Cqmjoj96GR0wFIup...             1   \n",
              "56833  ['2BUUAEl4BwFRA9NBDgMWSf', '2IaEQEZ606L3nZuGnm...             6   \n",
              "56834                         ['1peH5tSqnYm8W6Bo3I5egE']             3   \n",
              "\n",
              "       danceability  energy  key  loudness  ...  rock  soft rock  \\\n",
              "0             0.604   0.366    5    -7.519  ...     0          0   \n",
              "1             0.732   0.708   10    -6.775  ...     0          0   \n",
              "2             0.647   0.765    1    -6.459  ...     0          0   \n",
              "3             0.807   0.893   11    -3.745  ...     0          0   \n",
              "4             0.788   0.859    2    -2.724  ...     0          0   \n",
              "...             ...     ...  ...       ...  ...   ...        ...   \n",
              "56830         0.445   0.584    1    -9.666  ...     0          0   \n",
              "56831         0.787   0.590   10    -7.123  ...     0          0   \n",
              "56832         0.522   0.788   10    -5.926  ...     0          0   \n",
              "56833         0.786   0.609   11    -6.139  ...     0          0   \n",
              "56834         0.869   0.590   11    -4.453  ...     0          0   \n",
              "\n",
              "       southern hip hop  trap  urban contemporary  release_date  \\\n",
              "0                     0     0                   0      14/10/21   \n",
              "1                     0     0                   0       9/10/21   \n",
              "2                     0     0                   0       21/1/22   \n",
              "3                     0     0                   0      29/10/21   \n",
              "4                     0     0                   0      29/10/21   \n",
              "...                 ...   ...                 ...           ...   \n",
              "56830                 0     1                   0       18/6/20   \n",
              "56831                 1     1                   0       20/3/20   \n",
              "56832                 0     0                   0       21/2/20   \n",
              "56833                 0     0                   0       6/11/20   \n",
              "56834                 0     0                   0      30/10/20   \n",
              "\n",
              "       release_month  average_year_success  is_success bert_dense_lyrics  \n",
              "0            2021-10                    38           1          0.677761  \n",
              "1            2021-10                    27           1          0.587171  \n",
              "2            2022-01                    12           1          0.616422  \n",
              "3            2021-10                    22           1          0.596769  \n",
              "4            2021-10                    22           1          0.640173  \n",
              "...              ...                   ...         ...               ...  \n",
              "56830        2020-06                    64           1          0.597523  \n",
              "56831        2020-03                    -1           0          0.596241  \n",
              "56832        2020-02                    -1           0          0.652086  \n",
              "56833        2020-11                    -1           0          0.560518  \n",
              "56834        2020-10                    71           1          0.613869  \n",
              "\n",
              "[56835 rows x 59 columns]"
            ],
            "text/html": [
              "\n",
              "  <div id=\"df-da84c965-1cfd-493d-bffc-b49a73f9be83\">\n",
              "    <div class=\"colab-df-container\">\n",
              "      <div>\n",
              "<style scoped>\n",
              "    .dataframe tbody tr th:only-of-type {\n",
              "        vertical-align: middle;\n",
              "    }\n",
              "\n",
              "    .dataframe tbody tr th {\n",
              "        vertical-align: top;\n",
              "    }\n",
              "\n",
              "    .dataframe thead th {\n",
              "        text-align: right;\n",
              "    }\n",
              "</style>\n",
              "<table border=\"1\" class=\"dataframe\">\n",
              "  <thead>\n",
              "    <tr style=\"text-align: right;\">\n",
              "      <th></th>\n",
              "      <th>Unnamed: 0</th>\n",
              "      <th>id</th>\n",
              "      <th>name</th>\n",
              "      <th>artists</th>\n",
              "      <th>artist_ids</th>\n",
              "      <th>track_number</th>\n",
              "      <th>danceability</th>\n",
              "      <th>energy</th>\n",
              "      <th>key</th>\n",
              "      <th>loudness</th>\n",
              "      <th>...</th>\n",
              "      <th>rock</th>\n",
              "      <th>soft rock</th>\n",
              "      <th>southern hip hop</th>\n",
              "      <th>trap</th>\n",
              "      <th>urban contemporary</th>\n",
              "      <th>release_date</th>\n",
              "      <th>release_month</th>\n",
              "      <th>average_year_success</th>\n",
              "      <th>is_success</th>\n",
              "      <th>bert_dense_lyrics</th>\n",
              "    </tr>\n",
              "  </thead>\n",
              "  <tbody>\n",
              "    <tr>\n",
              "      <th>0</th>\n",
              "      <td>0</td>\n",
              "      <td>0gplL1WMoJ6iYaPgMCL0gX</td>\n",
              "      <td>Easy On Me</td>\n",
              "      <td>['Adele']</td>\n",
              "      <td>['4dpARuHxo51G3z768sgnrY']</td>\n",
              "      <td>1</td>\n",
              "      <td>0.604</td>\n",
              "      <td>0.366</td>\n",
              "      <td>5</td>\n",
              "      <td>-7.519</td>\n",
              "      <td>...</td>\n",
              "      <td>0</td>\n",
              "      <td>0</td>\n",
              "      <td>0</td>\n",
              "      <td>0</td>\n",
              "      <td>0</td>\n",
              "      <td>14/10/21</td>\n",
              "      <td>2021-10</td>\n",
              "      <td>38</td>\n",
              "      <td>1</td>\n",
              "      <td>0.677761</td>\n",
              "    </tr>\n",
              "    <tr>\n",
              "      <th>1</th>\n",
              "      <td>1</td>\n",
              "      <td>4BI4iNZigfF4SUq13TcFPh</td>\n",
              "      <td>INDUSTRY BABY - EXTENDED</td>\n",
              "      <td>['Lil Nas X', 'Jack Harlow']</td>\n",
              "      <td>['7jVv8c5Fj3E9VhNjxT4snq', '2LIk90788K0zvyj2JJ...</td>\n",
              "      <td>2</td>\n",
              "      <td>0.732</td>\n",
              "      <td>0.708</td>\n",
              "      <td>10</td>\n",
              "      <td>-6.775</td>\n",
              "      <td>...</td>\n",
              "      <td>0</td>\n",
              "      <td>0</td>\n",
              "      <td>0</td>\n",
              "      <td>0</td>\n",
              "      <td>0</td>\n",
              "      <td>9/10/21</td>\n",
              "      <td>2021-10</td>\n",
              "      <td>27</td>\n",
              "      <td>1</td>\n",
              "      <td>0.587171</td>\n",
              "    </tr>\n",
              "    <tr>\n",
              "      <th>2</th>\n",
              "      <td>2</td>\n",
              "      <td>58UKC45GPNTflCN6nwCUeF</td>\n",
              "      <td>Fancy Like</td>\n",
              "      <td>['Walker Hayes']</td>\n",
              "      <td>['7sKxqpSqbIzphAKAhrqvlf']</td>\n",
              "      <td>6</td>\n",
              "      <td>0.647</td>\n",
              "      <td>0.765</td>\n",
              "      <td>1</td>\n",
              "      <td>-6.459</td>\n",
              "      <td>...</td>\n",
              "      <td>0</td>\n",
              "      <td>0</td>\n",
              "      <td>0</td>\n",
              "      <td>0</td>\n",
              "      <td>0</td>\n",
              "      <td>21/1/22</td>\n",
              "      <td>2022-01</td>\n",
              "      <td>12</td>\n",
              "      <td>1</td>\n",
              "      <td>0.616422</td>\n",
              "    </tr>\n",
              "    <tr>\n",
              "      <th>3</th>\n",
              "      <td>3</td>\n",
              "      <td>3rmo8F54jFF8OgYsqTxm5d</td>\n",
              "      <td>Bad Habits</td>\n",
              "      <td>['Ed Sheeran']</td>\n",
              "      <td>['6eUKZXaKkcviH0Ku9w2n3V']</td>\n",
              "      <td>4</td>\n",
              "      <td>0.807</td>\n",
              "      <td>0.893</td>\n",
              "      <td>11</td>\n",
              "      <td>-3.745</td>\n",
              "      <td>...</td>\n",
              "      <td>0</td>\n",
              "      <td>0</td>\n",
              "      <td>0</td>\n",
              "      <td>0</td>\n",
              "      <td>0</td>\n",
              "      <td>29/10/21</td>\n",
              "      <td>2021-10</td>\n",
              "      <td>22</td>\n",
              "      <td>1</td>\n",
              "      <td>0.596769</td>\n",
              "    </tr>\n",
              "    <tr>\n",
              "      <th>4</th>\n",
              "      <td>4</td>\n",
              "      <td>50nfwKoDiSYg8zOCREWAm5</td>\n",
              "      <td>Shivers</td>\n",
              "      <td>['Ed Sheeran']</td>\n",
              "      <td>['6eUKZXaKkcviH0Ku9w2n3V']</td>\n",
              "      <td>2</td>\n",
              "      <td>0.788</td>\n",
              "      <td>0.859</td>\n",
              "      <td>2</td>\n",
              "      <td>-2.724</td>\n",
              "      <td>...</td>\n",
              "      <td>0</td>\n",
              "      <td>0</td>\n",
              "      <td>0</td>\n",
              "      <td>0</td>\n",
              "      <td>0</td>\n",
              "      <td>29/10/21</td>\n",
              "      <td>2021-10</td>\n",
              "      <td>22</td>\n",
              "      <td>1</td>\n",
              "      <td>0.640173</td>\n",
              "    </tr>\n",
              "    <tr>\n",
              "      <th>...</th>\n",
              "      <td>...</td>\n",
              "      <td>...</td>\n",
              "      <td>...</td>\n",
              "      <td>...</td>\n",
              "      <td>...</td>\n",
              "      <td>...</td>\n",
              "      <td>...</td>\n",
              "      <td>...</td>\n",
              "      <td>...</td>\n",
              "      <td>...</td>\n",
              "      <td>...</td>\n",
              "      <td>...</td>\n",
              "      <td>...</td>\n",
              "      <td>...</td>\n",
              "      <td>...</td>\n",
              "      <td>...</td>\n",
              "      <td>...</td>\n",
              "      <td>...</td>\n",
              "      <td>...</td>\n",
              "      <td>...</td>\n",
              "      <td>...</td>\n",
              "    </tr>\n",
              "    <tr>\n",
              "      <th>56830</th>\n",
              "      <td>56830</td>\n",
              "      <td>4lCAS06lKCJiFVGhHqxCtW</td>\n",
              "      <td>Talk About It</td>\n",
              "      <td>['A Boogie Wit da Hoodie']</td>\n",
              "      <td>['31W5EY0aAly4Qieq6OFu6I']</td>\n",
              "      <td>9</td>\n",
              "      <td>0.445</td>\n",
              "      <td>0.584</td>\n",
              "      <td>1</td>\n",
              "      <td>-9.666</td>\n",
              "      <td>...</td>\n",
              "      <td>0</td>\n",
              "      <td>0</td>\n",
              "      <td>0</td>\n",
              "      <td>1</td>\n",
              "      <td>0</td>\n",
              "      <td>18/6/20</td>\n",
              "      <td>2020-06</td>\n",
              "      <td>64</td>\n",
              "      <td>1</td>\n",
              "      <td>0.597523</td>\n",
              "    </tr>\n",
              "    <tr>\n",
              "      <th>56831</th>\n",
              "      <td>56831</td>\n",
              "      <td>60xDmDoYJytWs5do9aHI0F</td>\n",
              "      <td>Beat the Odds</td>\n",
              "      <td>['Money Man']</td>\n",
              "      <td>['3Rx4PJ7SP6unkOk5elPUK7']</td>\n",
              "      <td>8</td>\n",
              "      <td>0.787</td>\n",
              "      <td>0.590</td>\n",
              "      <td>10</td>\n",
              "      <td>-7.123</td>\n",
              "      <td>...</td>\n",
              "      <td>0</td>\n",
              "      <td>0</td>\n",
              "      <td>1</td>\n",
              "      <td>1</td>\n",
              "      <td>0</td>\n",
              "      <td>20/3/20</td>\n",
              "      <td>2020-03</td>\n",
              "      <td>-1</td>\n",
              "      <td>0</td>\n",
              "      <td>0.596241</td>\n",
              "    </tr>\n",
              "    <tr>\n",
              "      <th>56832</th>\n",
              "      <td>56832</td>\n",
              "      <td>6bAHtwPD7MBjSD8UmZFsh8</td>\n",
              "      <td>Geography</td>\n",
              "      <td>['Chaos Chaos', 'Kevin Hickey', 'Lucas McCross...</td>\n",
              "      <td>['6D6rjLdxyE5vwhMlkuQq0E', '12Cqmjoj96GR0wFIup...</td>\n",
              "      <td>1</td>\n",
              "      <td>0.522</td>\n",
              "      <td>0.788</td>\n",
              "      <td>10</td>\n",
              "      <td>-5.926</td>\n",
              "      <td>...</td>\n",
              "      <td>0</td>\n",
              "      <td>0</td>\n",
              "      <td>0</td>\n",
              "      <td>0</td>\n",
              "      <td>0</td>\n",
              "      <td>21/2/20</td>\n",
              "      <td>2020-02</td>\n",
              "      <td>-1</td>\n",
              "      <td>0</td>\n",
              "      <td>0.652086</td>\n",
              "    </tr>\n",
              "    <tr>\n",
              "      <th>56833</th>\n",
              "      <td>56833</td>\n",
              "      <td>0G9CL2p0TP4kTIXroDR326</td>\n",
              "      <td>twin hearts (feat. YURMS)</td>\n",
              "      <td>['ITSOKTOCRY', 'Yurms']</td>\n",
              "      <td>['2BUUAEl4BwFRA9NBDgMWSf', '2IaEQEZ606L3nZuGnm...</td>\n",
              "      <td>6</td>\n",
              "      <td>0.786</td>\n",
              "      <td>0.609</td>\n",
              "      <td>11</td>\n",
              "      <td>-6.139</td>\n",
              "      <td>...</td>\n",
              "      <td>0</td>\n",
              "      <td>0</td>\n",
              "      <td>0</td>\n",
              "      <td>0</td>\n",
              "      <td>0</td>\n",
              "      <td>6/11/20</td>\n",
              "      <td>2020-11</td>\n",
              "      <td>-1</td>\n",
              "      <td>0</td>\n",
              "      <td>0.560518</td>\n",
              "    </tr>\n",
              "    <tr>\n",
              "      <th>56834</th>\n",
              "      <td>56834</td>\n",
              "      <td>1S0EjHjqfjjadNWQMxv6rb</td>\n",
              "      <td>Fácil</td>\n",
              "      <td>['Kat Dahlia']</td>\n",
              "      <td>['1peH5tSqnYm8W6Bo3I5egE']</td>\n",
              "      <td>3</td>\n",
              "      <td>0.869</td>\n",
              "      <td>0.590</td>\n",
              "      <td>11</td>\n",
              "      <td>-4.453</td>\n",
              "      <td>...</td>\n",
              "      <td>0</td>\n",
              "      <td>0</td>\n",
              "      <td>0</td>\n",
              "      <td>0</td>\n",
              "      <td>0</td>\n",
              "      <td>30/10/20</td>\n",
              "      <td>2020-10</td>\n",
              "      <td>71</td>\n",
              "      <td>1</td>\n",
              "      <td>0.613869</td>\n",
              "    </tr>\n",
              "  </tbody>\n",
              "</table>\n",
              "<p>56835 rows × 59 columns</p>\n",
              "</div>\n",
              "      <button class=\"colab-df-convert\" onclick=\"convertToInteractive('df-da84c965-1cfd-493d-bffc-b49a73f9be83')\"\n",
              "              title=\"Convert this dataframe to an interactive table.\"\n",
              "              style=\"display:none;\">\n",
              "        \n",
              "  <svg xmlns=\"http://www.w3.org/2000/svg\" height=\"24px\"viewBox=\"0 0 24 24\"\n",
              "       width=\"24px\">\n",
              "    <path d=\"M0 0h24v24H0V0z\" fill=\"none\"/>\n",
              "    <path d=\"M18.56 5.44l.94 2.06.94-2.06 2.06-.94-2.06-.94-.94-2.06-.94 2.06-2.06.94zm-11 1L8.5 8.5l.94-2.06 2.06-.94-2.06-.94L8.5 2.5l-.94 2.06-2.06.94zm10 10l.94 2.06.94-2.06 2.06-.94-2.06-.94-.94-2.06-.94 2.06-2.06.94z\"/><path d=\"M17.41 7.96l-1.37-1.37c-.4-.4-.92-.59-1.43-.59-.52 0-1.04.2-1.43.59L10.3 9.45l-7.72 7.72c-.78.78-.78 2.05 0 2.83L4 21.41c.39.39.9.59 1.41.59.51 0 1.02-.2 1.41-.59l7.78-7.78 2.81-2.81c.8-.78.8-2.07 0-2.86zM5.41 20L4 18.59l7.72-7.72 1.47 1.35L5.41 20z\"/>\n",
              "  </svg>\n",
              "      </button>\n",
              "      \n",
              "  <style>\n",
              "    .colab-df-container {\n",
              "      display:flex;\n",
              "      flex-wrap:wrap;\n",
              "      gap: 12px;\n",
              "    }\n",
              "\n",
              "    .colab-df-convert {\n",
              "      background-color: #E8F0FE;\n",
              "      border: none;\n",
              "      border-radius: 50%;\n",
              "      cursor: pointer;\n",
              "      display: none;\n",
              "      fill: #1967D2;\n",
              "      height: 32px;\n",
              "      padding: 0 0 0 0;\n",
              "      width: 32px;\n",
              "    }\n",
              "\n",
              "    .colab-df-convert:hover {\n",
              "      background-color: #E2EBFA;\n",
              "      box-shadow: 0px 1px 2px rgba(60, 64, 67, 0.3), 0px 1px 3px 1px rgba(60, 64, 67, 0.15);\n",
              "      fill: #174EA6;\n",
              "    }\n",
              "\n",
              "    [theme=dark] .colab-df-convert {\n",
              "      background-color: #3B4455;\n",
              "      fill: #D2E3FC;\n",
              "    }\n",
              "\n",
              "    [theme=dark] .colab-df-convert:hover {\n",
              "      background-color: #434B5C;\n",
              "      box-shadow: 0px 1px 3px 1px rgba(0, 0, 0, 0.15);\n",
              "      filter: drop-shadow(0px 1px 2px rgba(0, 0, 0, 0.3));\n",
              "      fill: #FFFFFF;\n",
              "    }\n",
              "  </style>\n",
              "\n",
              "      <script>\n",
              "        const buttonEl =\n",
              "          document.querySelector('#df-da84c965-1cfd-493d-bffc-b49a73f9be83 button.colab-df-convert');\n",
              "        buttonEl.style.display =\n",
              "          google.colab.kernel.accessAllowed ? 'block' : 'none';\n",
              "\n",
              "        async function convertToInteractive(key) {\n",
              "          const element = document.querySelector('#df-da84c965-1cfd-493d-bffc-b49a73f9be83');\n",
              "          const dataTable =\n",
              "            await google.colab.kernel.invokeFunction('convertToInteractive',\n",
              "                                                     [key], {});\n",
              "          if (!dataTable) return;\n",
              "\n",
              "          const docLinkHtml = 'Like what you see? Visit the ' +\n",
              "            '<a target=\"_blank\" href=https://colab.research.google.com/notebooks/data_table.ipynb>data table notebook</a>'\n",
              "            + ' to learn more about interactive tables.';\n",
              "          element.innerHTML = '';\n",
              "          dataTable['output_type'] = 'display_data';\n",
              "          await google.colab.output.renderOutput(dataTable, element);\n",
              "          const docLink = document.createElement('div');\n",
              "          docLink.innerHTML = docLinkHtml;\n",
              "          element.appendChild(docLink);\n",
              "        }\n",
              "      </script>\n",
              "    </div>\n",
              "  </div>\n",
              "  "
            ]
          },
          "metadata": {},
          "execution_count": 3
        }
      ]
    },
    {
      "cell_type": "markdown",
      "source": [
        "Training XGBoost"
      ],
      "metadata": {
        "id": "m5v6j17CPrai"
      }
    },
    {
      "cell_type": "code",
      "source": [
        "from sklearn.model_selection import train_test_split\n",
        "\n",
        "#Feature selection for training\n",
        "print(df.columns)\n",
        "df_model = df.copy().drop(columns=['Unnamed: 0', 'id', 'name', 'artists', 'artist_ids', 'release_date_x', 'release_date', 'date', 'lyrics', 'non_stop_lyrics', 'release_month', 'sentiment'])\n",
        "\n",
        "#Split train and test set\n",
        "X, y = df_model.drop(columns=['target']), df_model['target']\n",
        "X_train, X_test, y_train, y_test = train_test_split(X, y, test_size=0.33, random_state=42)"
      ],
      "metadata": {
        "colab": {
          "base_uri": "https://localhost:8080/"
        },
        "id": "akhIXwBYPjiN",
        "outputId": "1211a159-c689-49db-9fbf-d716660f3d51"
      },
      "execution_count": null,
      "outputs": [
        {
          "output_type": "stream",
          "name": "stdout",
          "text": [
            "Index(['Unnamed: 0', 'id', 'name', 'artists', 'artist_ids', 'track_number',\n",
            "       'danceability', 'energy', 'key', 'loudness', 'mode', 'speechiness',\n",
            "       'acousticness', 'instrumentalness', 'liveness', 'valence', 'tempo',\n",
            "       'explicit', 'duration_ms', 'date', 'release_date_x', 'lyrics', 'target',\n",
            "       'length_lyrics', 'unique_length_lyrics', 'title_length',\n",
            "       'non_stop_lyrics', 'length_lyrics_non', 'unique_length_lyrics_non',\n",
            "       'sentiment', 'positive', 'neutral', 'negative', 'compound',\n",
            "       'alternative rock', 'country', 'country rock', 'dance pop', 'folk',\n",
            "       'gangster rap', 'hip hop', 'indie rock', 'mellow gold', 'pop',\n",
            "       'pop rap', 'pop rock', 'post-teen pop', 'r&b', 'rap', 'rock',\n",
            "       'soft rock', 'southern hip hop', 'trap', 'urban contemporary',\n",
            "       'release_date', 'release_month', 'average_year_success', 'is_success',\n",
            "       'bert_dense_lyrics'],\n",
            "      dtype='object')\n"
          ]
        }
      ]
    },
    {
      "cell_type": "code",
      "source": [
        "df_model[\"target\"].value_counts()"
      ],
      "metadata": {
        "colab": {
          "base_uri": "https://localhost:8080/"
        },
        "id": "Gu9H9EUL428O",
        "outputId": "e5bb8325-318d-453d-f69c-121fe45aa57c"
      },
      "execution_count": null,
      "outputs": [
        {
          "output_type": "execute_result",
          "data": {
            "text/plain": [
              "0    48641\n",
              "1     8194\n",
              "Name: target, dtype: int64"
            ]
          },
          "metadata": {},
          "execution_count": 5
        }
      ]
    },
    {
      "cell_type": "code",
      "source": [
        "val = (df_model[df_model[\"target\"]==1][\"country\"].value_counts())"
      ],
      "metadata": {
        "id": "9l-fSbE06WyB"
      },
      "execution_count": null,
      "outputs": []
    },
    {
      "cell_type": "code",
      "source": [
        "val[1] / (val[0] + val[1]) * 100"
      ],
      "metadata": {
        "colab": {
          "base_uri": "https://localhost:8080/"
        },
        "id": "JjmK6PeC2JqX",
        "outputId": "cdba5325-9df2-4bb7-a8bb-264ea7dee7e6"
      },
      "execution_count": null,
      "outputs": [
        {
          "output_type": "execute_result",
          "data": {
            "text/plain": [
              "13.351232609226264"
            ]
          },
          "metadata": {},
          "execution_count": 40
        }
      ]
    },
    {
      "cell_type": "code",
      "source": [
        "val = (df_model[df_model[\"target\"]==0][\"country\"].value_counts())"
      ],
      "metadata": {
        "id": "i9AZyiiY6zRu"
      },
      "execution_count": null,
      "outputs": []
    },
    {
      "cell_type": "code",
      "source": [
        "val[1] / (val[0] + val[1]) * 100"
      ],
      "metadata": {
        "colab": {
          "base_uri": "https://localhost:8080/"
        },
        "id": "cHrEgNiF2usp",
        "outputId": "5fd7e230-f6a5-4fff-f7f5-633cbec333dd"
      },
      "execution_count": null,
      "outputs": [
        {
          "output_type": "execute_result",
          "data": {
            "text/plain": [
              "2.598630784728932"
            ]
          },
          "metadata": {},
          "execution_count": 42
        }
      ]
    },
    {
      "cell_type": "markdown",
      "source": [
        "Check for imbalanced class"
      ],
      "metadata": {
        "id": "FwOMKJrGRDtl"
      }
    },
    {
      "cell_type": "code",
      "source": [
        "df_model[\"target\"].value_counts()"
      ],
      "metadata": {
        "colab": {
          "base_uri": "https://localhost:8080/"
        },
        "id": "I1iqsILDRF_8",
        "outputId": "fafbabb4-3def-469e-836c-156088ff3a0f"
      },
      "execution_count": null,
      "outputs": [
        {
          "output_type": "execute_result",
          "data": {
            "text/plain": [
              "0    48641\n",
              "1     8194\n",
              "Name: target, dtype: int64"
            ]
          },
          "metadata": {},
          "execution_count": 16
        }
      ]
    },
    {
      "cell_type": "markdown",
      "source": [
        "Training with SMOTE oversampling minority class"
      ],
      "metadata": {
        "id": "NvQQ_7gJQtLd"
      }
    },
    {
      "cell_type": "code",
      "source": [
        "# Oversample and plot imbalanced dataset with SMOTE\n",
        "from collections import Counter\n",
        "from imblearn.over_sampling import SMOTE\n",
        "from matplotlib import pyplot\n",
        "from numpy import where\n",
        "# transform the dataset\n",
        "oversample = SMOTE()\n",
        "X_train_smote, y_train_smote = oversample.fit_resample(X_train, y_train)\n",
        "# summarize the new class distribution\n",
        "counter = Counter(y_train_smote)\n",
        "print(counter)"
      ],
      "metadata": {
        "colab": {
          "base_uri": "https://localhost:8080/"
        },
        "id": "NUodz5PKQn-h",
        "outputId": "1d3bc931-ebfd-454a-9d83-c3d255f62e3e"
      },
      "execution_count": null,
      "outputs": [
        {
          "output_type": "stream",
          "name": "stdout",
          "text": [
            "Counter({0: 32660, 1: 32660})\n"
          ]
        }
      ]
    },
    {
      "cell_type": "code",
      "source": [
        "from sklearn.model_selection import cross_val_score\n",
        "from sklearn.model_selection import RepeatedStratifiedKFold\n",
        "from xgboost import XGBRFClassifier\n",
        "from numpy import mean\n",
        "from numpy import std\n",
        "\n",
        "model = XGBRFClassifier(n_estimators=100, subsample=0.9, colsample_bynode=0.2)\n",
        "cv = RepeatedStratifiedKFold(n_splits=10, n_repeats=3, random_state=1)\n",
        "n_scores = cross_val_score(model, X_train, y_train, scoring='accuracy', cv=cv, n_jobs=-1)\n",
        "print('Mean Accuracy: %.3f (%.3f)' % (mean(n_scores), std(n_scores)))"
      ],
      "metadata": {
        "colab": {
          "base_uri": "https://localhost:8080/"
        },
        "id": "4S2EzuB9S20g",
        "outputId": "ca8433be-36d7-4ce3-e4ee-0c76ea8f1114"
      },
      "execution_count": null,
      "outputs": [
        {
          "output_type": "stream",
          "name": "stdout",
          "text": [
            "Mean Accuracy: 0.882 (0.003)\n"
          ]
        }
      ]
    },
    {
      "cell_type": "code",
      "source": [
        "model.fit(X_train_smote, y_train_smote)"
      ],
      "metadata": {
        "colab": {
          "base_uri": "https://localhost:8080/"
        },
        "id": "ZtbwoXL7Tlh5",
        "outputId": "8f640d5c-443c-4bb3-d7b3-428660037790"
      },
      "execution_count": null,
      "outputs": [
        {
          "output_type": "execute_result",
          "data": {
            "text/plain": [
              "XGBRFClassifier(colsample_bynode=0.2, subsample=0.9)"
            ]
          },
          "metadata": {},
          "execution_count": 19
        }
      ]
    },
    {
      "cell_type": "code",
      "source": [
        "model.score(X_test, y_test)"
      ],
      "metadata": {
        "colab": {
          "base_uri": "https://localhost:8080/"
        },
        "id": "AhyvhNaQVdVz",
        "outputId": "16f07ba5-1531-4697-bd03-2378b1a5d295"
      },
      "execution_count": null,
      "outputs": [
        {
          "output_type": "execute_result",
          "data": {
            "text/plain": [
              "0.8518340797611431"
            ]
          },
          "metadata": {},
          "execution_count": 22
        }
      ]
    },
    {
      "cell_type": "code",
      "source": [
        "from sklearn.metrics import f1_score\n",
        "from sklearn.metrics import recall_score\n",
        "from sklearn.metrics import accuracy_score\n",
        "from sklearn.metrics import roc_auc_score\n",
        "from sklearn.metrics import precision_score"
      ],
      "metadata": {
        "id": "Ovdg3l8WWJa7"
      },
      "execution_count": null,
      "outputs": []
    },
    {
      "cell_type": "code",
      "source": [
        "import pickle\n",
        "filename = 'model_xgboost.sav'\n",
        "model = pickle.load(open(f\"/content/gdrive/My Drive/BT4222/{filename}\", 'rb'))"
      ],
      "metadata": {
        "id": "8vqMZ7giPgK0"
      },
      "execution_count": null,
      "outputs": []
    },
    {
      "cell_type": "code",
      "source": [
        "predicted = model.predict(X_test)"
      ],
      "metadata": {
        "id": "dDNHBQaZWSFq"
      },
      "execution_count": null,
      "outputs": []
    },
    {
      "cell_type": "code",
      "source": [
        "print(classification_report(y_test, predicted))"
      ],
      "metadata": {
        "colab": {
          "base_uri": "https://localhost:8080/"
        },
        "id": "k-x61volPSBD",
        "outputId": "2a85eaea-6810-453e-94ec-89832a41cdf5"
      },
      "execution_count": null,
      "outputs": [
        {
          "output_type": "stream",
          "name": "stdout",
          "text": [
            "              precision    recall  f1-score   support\n",
            "\n",
            "           0       0.94      0.89      0.91     15981\n",
            "           1       0.50      0.66      0.57      2775\n",
            "\n",
            "    accuracy                           0.85     18756\n",
            "   macro avg       0.72      0.77      0.74     18756\n",
            "weighted avg       0.87      0.85      0.86     18756\n",
            "\n"
          ]
        }
      ]
    },
    {
      "cell_type": "code",
      "source": [
        "print(f\"Accuracy: {accuracy_score(y_test, predicted)}\")\n",
        "print(f\"Precision: {precision_score(y_test, predicted)}\")\n",
        "print(f\"Recall: {recall_score(y_test, predicted)}\")\n",
        "print(f\"F1-score: {f1_score(y_test, predicted)}\")"
      ],
      "metadata": {
        "colab": {
          "base_uri": "https://localhost:8080/"
        },
        "id": "bRmFP2lpWKDy",
        "outputId": "da090df4-9e7c-40a9-be99-86748acefc20"
      },
      "execution_count": null,
      "outputs": [
        {
          "output_type": "stream",
          "name": "stdout",
          "text": [
            "Accuracy: 0.8518340797611431\n",
            "Precision: 0.49945054945054945\n",
            "Recall: 0.6551351351351351\n",
            "F1-score: 0.566796570537802\n"
          ]
        }
      ]
    },
    {
      "cell_type": "code",
      "source": [
        "from sklearn.metrics import plot_confusion_matrix\n",
        "plot_confusion_matrix(model, X_test, y_test)  "
      ],
      "metadata": {
        "colab": {
          "base_uri": "https://localhost:8080/",
          "height": 353
        },
        "id": "A2eNyAyjWkQD",
        "outputId": "127cbdc1-dad4-4040-8eee-6a40f84f3651"
      },
      "execution_count": null,
      "outputs": [
        {
          "output_type": "stream",
          "name": "stderr",
          "text": [
            "/usr/local/lib/python3.7/dist-packages/sklearn/utils/deprecation.py:87: FutureWarning: Function plot_confusion_matrix is deprecated; Function `plot_confusion_matrix` is deprecated in 1.0 and will be removed in 1.2. Use one of the class methods: ConfusionMatrixDisplay.from_predictions or ConfusionMatrixDisplay.from_estimator.\n",
            "  warnings.warn(msg, category=FutureWarning)\n"
          ]
        },
        {
          "output_type": "execute_result",
          "data": {
            "text/plain": [
              "<sklearn.metrics._plot.confusion_matrix.ConfusionMatrixDisplay at 0x7f8d7ca4f4d0>"
            ]
          },
          "metadata": {},
          "execution_count": 33
        },
        {
          "output_type": "display_data",
          "data": {
            "text/plain": [
              "<Figure size 432x288 with 2 Axes>"
            ],
            "image/png": "[encoded data removed]"
          },
          "metadata": {
            "needs_background": "light"
          }
        }
      ]
    },
    {
      "cell_type": "markdown",
      "source": [
        "Hyperparameter tuning (Needs work to split on validation set)"
      ],
      "metadata": {
        "id": "tVYN0YFU0cxn"
      }
    },
    {
      "cell_type": "code",
      "source": [
        "X_train_temp, X_val_smote, y_train_temp, y_val_smote = train_test_split(X_train_smote, y_train_smote, test_size=0.33, random_state=42)"
      ],
      "metadata": {
        "id": "Uh0W70CD0f4S"
      },
      "execution_count": null,
      "outputs": []
    },
    {
      "cell_type": "code",
      "source": [
        "from sklearn.metrics import accuracy_score\n",
        "from hyperopt import STATUS_OK, Trials, fmin, hp, tpe\n",
        "\n",
        "space={'max_depth': hp.quniform(\"max_depth\", 3, 18, 1),\n",
        "        'gamma': hp.uniform ('gamma', 1,9),\n",
        "        'reg_alpha' : hp.quniform('reg_alpha', 40,180,1),\n",
        "        'reg_lambda' : hp.uniform('reg_lambda', 0,1),\n",
        "        'colsample_bytree' : hp.uniform('colsample_bytree', 0.5,1),\n",
        "        'min_child_weight' : hp.quniform('min_child_weight', 0, 10, 1),\n",
        "        'n_estimators': 180,\n",
        "        'seed': 0\n",
        "    }"
      ],
      "metadata": {
        "id": "EzpRqlnPHK7-"
      },
      "execution_count": null,
      "outputs": []
    },
    {
      "cell_type": "code",
      "source": [
        "def objective(space):\n",
        "    clf=XGBRFClassifier(\n",
        "                    n_estimators =space['n_estimators'], max_depth = int(space['max_depth']), gamma = space['gamma'],\n",
        "                    reg_alpha = int(space['reg_alpha']),min_child_weight=int(space['min_child_weight']),\n",
        "                    colsample_bytree=int(space['colsample_bytree']))\n",
        "    \n",
        "    evaluation = [( X_train_temp, y_train_temp), ( X_val_smote, y_val_smote)]\n",
        "    \n",
        "    clf.fit(X_train_temp, y_train_temp,\n",
        "            eval_set=evaluation, eval_metric=\"auc\",\n",
        "            early_stopping_rounds=10,verbose=False)\n",
        "    \n",
        "\n",
        "    pred = clf.predict(X_val_smote)\n",
        "    accuracy = accuracy_score(y_val_smote, pred>0.5)\n",
        "    print (\"SCORE:\", accuracy)\n",
        "    return {'loss': -accuracy, 'status': STATUS_OK }"
      ],
      "metadata": {
        "id": "9lytiWnd1Yj6"
      },
      "execution_count": null,
      "outputs": []
    },
    {
      "cell_type": "code",
      "source": [
        "trials = Trials()\n",
        "\n",
        "best_hyperparams_smote = fmin(fn = objective,\n",
        "                        space = space,\n",
        "                        algo = tpe.suggest,\n",
        "                        max_evals = 500,\n",
        "                        trials = trials)"
      ],
      "metadata": {
        "colab": {
          "base_uri": "https://localhost:8080/"
        },
        "id": "Z4Y6tvV1IB8K",
        "outputId": "7a0dd196-cff8-422e-ec04-70ea34ae8cb3"
      },
      "execution_count": null,
      "outputs": [
        {
          "output_type": "stream",
          "name": "stdout",
          "text": [
            "SCORE:\n",
            "0.811328632399332\n",
            "SCORE:\n",
            "0.8051586565225459\n",
            "SCORE:\n",
            "0.804462794581555\n",
            "SCORE:\n",
            "0.8040916682130266\n",
            "SCORE:\n",
            "0.8094730005566896\n",
            "SCORE:\n",
            "0.8080348858786417\n",
            "SCORE:\n",
            "0.8125811838931156\n",
            "SCORE:\n",
            "0.8101224717016144\n",
            "SCORE:\n",
            "0.8076637595101132\n",
            "SCORE:\n",
            "0.8076637595101132\n",
            "SCORE:\n",
            "0.8099369085173501\n",
            "SCORE:\n",
            "0.8104472072740768\n",
            "SCORE:\n",
            "0.8099369085173501\n",
            "SCORE:\n",
            "0.8063184264241975\n",
            "SCORE:\n",
            "0.8063648172202635\n",
            "SCORE:\n",
            "0.8100760809055484\n",
            "SCORE:\n",
            "0.8076637595101132\n",
            "SCORE:\n",
            "0.8053442197068101\n",
            "SCORE:\n",
            "0.8098905177212841\n",
            "SCORE:\n",
            "0.8056225644832066\n",
            "SCORE:\n",
            "0.8123956207088514\n",
            "SCORE:\n",
            "0.812117275932455\n",
            "SCORE:\n",
            "0.8103544256819447\n",
            "SCORE:\n",
            "0.8117461495639265\n",
            "SCORE:\n",
            "0.8106791612544071\n",
            "SCORE:\n",
            "0.8117925403599926\n",
            "SCORE:\n",
            "0.8104472072740768\n",
            "SCORE:\n",
            "0.8108647244386714\n",
            "SCORE:\n",
            "0.8115605863796623\n",
            "SCORE:\n",
            "0.8094730005566896\n",
            "SCORE:\n",
            "0.8099832993134162\n",
            "SCORE:\n",
            "0.8107719428465392\n",
            "SCORE:\n",
            "0.8114678047875301\n",
            "SCORE:\n",
            "0.8081740582668399\n",
            "SCORE:\n",
            "0.8097049545370198\n",
            "SCORE:\n",
            "0.8103544256819447\n",
            "SCORE:\n",
            "0.8115605863796623\n",
            "SCORE:\n",
            "0.8103080348858787\n",
            "SCORE:\n",
            "0.8091946557802931\n",
            "SCORE:\n",
            "0.8070606791612545\n",
            "SCORE:\n",
            "0.8035813694562999\n",
            "SCORE:\n",
            "0.8080348858786417\n",
            "SCORE:\n",
            "0.805205047318612\n",
            "SCORE:\n",
            "0.8103544256819447\n",
            "SCORE:\n",
            "0.809844126925218\n",
            "SCORE:\n",
            "0.8096121729448877\n",
            "SCORE:\n",
            "0.8110502876229356\n",
            "SCORE:\n",
            "0.8099369085173501\n",
            "SCORE:\n",
            "0.8052978289107441\n",
            "SCORE:\n",
            "0.8116069771757284\n",
            "SCORE:\n",
            "0.805251438114678\n",
            "SCORE:\n",
            "0.813694562998701\n",
            "SCORE:\n",
            "0.8084060122471701\n",
            "SCORE:\n",
            "0.8081276674707738\n",
            "SCORE:\n",
            "0.8104008164780108\n",
            "SCORE:\n",
            "0.8096585637409538\n",
            "SCORE:\n",
            "0.8124884023009835\n",
            "SCORE:\n",
            "0.8071070699573205\n",
            "SCORE:\n",
            "0.8102152532937466\n",
            "SCORE:\n",
            "0.8082204490629059\n",
            "SCORE:\n",
            "0.8104472072740768\n",
            "SCORE:\n",
            "0.8100296901094822\n",
            "SCORE:\n",
            "0.8050194841343478\n",
            "SCORE:\n",
            "0.8078957134904435\n",
            "SCORE:\n",
            "0.8120708851363889\n",
            "SCORE:\n",
            "0.8104008164780108\n",
            "SCORE:\n",
            "0.8102152532937466\n",
            "SCORE:\n",
            "0.8117925403599926\n",
            "SCORE:\n",
            "0.810632770458341\n",
            "SCORE:\n",
            "0.8128131378734459\n",
            "SCORE:\n",
            "0.8098905177212841\n",
            "SCORE:\n",
            "0.8132306550380405\n",
            "SCORE:\n",
            "0.8106791612544071\n",
            "SCORE:\n",
            "0.8125811838931156\n",
            "SCORE:\n",
            "0.8107719428465392\n",
            "SCORE:\n",
            "0.8100760809055484\n",
            "SCORE:\n",
            "0.8103080348858787\n",
            "SCORE:\n",
            "0.8112358508071998\n",
            "SCORE:\n",
            "0.8102152532937466\n",
            "SCORE:\n",
            "0.8118389311560587\n",
            "SCORE:\n",
            "0.8100760809055484\n",
            "SCORE:\n",
            "0.8039524958248283\n",
            "SCORE:\n",
            "0.8091482649842271\n",
            "SCORE:\n",
            "0.8061792540359992\n",
            "SCORE:\n",
            "0.8101224717016144\n",
            "SCORE:\n",
            "0.810586379662275\n",
            "SCORE:\n",
            "0.8108183336426054\n",
            "SCORE:\n",
            "0.8055297828910745\n",
            "SCORE:\n",
            "0.8057153460753387\n",
            "SCORE:\n",
            "0.8096585637409538\n",
            "SCORE:\n",
            "0.8139265169790314\n",
            "SCORE:\n",
            "0.8104008164780108\n",
            "SCORE:\n",
            "0.8081276674707738\n",
            "SCORE:\n",
            "0.8112822416032659\n",
            "SCORE:\n",
            "0.8097513453330859\n",
            "SCORE:\n",
            "0.8074318055297829\n",
            "SCORE:\n",
            "0.8094730005566896\n",
            "SCORE:\n",
            "0.8066431619966599\n",
            "SCORE:\n",
            "0.8105399888662089\n",
            "SCORE:\n",
            "0.8110502876229356\n",
            "SCORE:\n",
            "0.806040081647801\n",
            "SCORE:\n",
            "0.8120244943403229\n",
            "SCORE:\n",
            "0.8099369085173501\n",
            "SCORE:\n",
            "0.8123492299127854\n",
            "SCORE:\n",
            "0.8102616440898126\n",
            "SCORE:\n",
            "0.8120244943403229\n",
            "SCORE:\n",
            "0.8076637595101132\n",
            "SCORE:\n",
            "0.8100760809055484\n",
            "SCORE:\n",
            "0.8056689552792726\n",
            "SCORE:\n",
            "0.8101224717016144\n",
            "SCORE:\n",
            "0.8099832993134162\n",
            "SCORE:\n",
            "0.8103544256819447\n",
            "SCORE:\n",
            "0.8096121729448877\n",
            "SCORE:\n",
            "0.8110038968268696\n",
            "SCORE:\n",
            "0.8108647244386714\n",
            "SCORE:\n",
            "0.8123956207088514\n",
            "SCORE:\n",
            "0.8105399888662089\n",
            "SCORE:\n",
            "0.8130914826498423\n",
            "SCORE:\n",
            "0.8105399888662089\n",
            "SCORE:\n",
            "0.8092874373724253\n",
            "SCORE:\n",
            "0.8101688624976805\n",
            "SCORE:\n",
            "0.8103080348858787\n",
            "SCORE:\n",
            "0.8045091853776211\n",
            "SCORE:\n",
            "0.8091482649842271\n",
            "SCORE:\n",
            "0.8078493226943775\n",
            "SCORE:\n",
            "0.8100296901094822\n",
            "SCORE:\n",
            "0.8100760809055484\n",
            "SCORE:\n",
            "0.8074318055297829\n",
            "SCORE:\n",
            "0.805993690851735\n",
            "SCORE:\n",
            "0.8123492299127854\n",
            "SCORE:\n",
            "0.810632770458341\n",
            "SCORE:\n",
            "0.8099369085173501\n",
            "SCORE:\n",
            "0.8094730005566896\n",
            "SCORE:\n",
            "0.8101224717016144\n",
            "SCORE:\n",
            "0.8110966784190017\n",
            "SCORE:\n",
            "0.8079884950825756\n",
            "SCORE:\n",
            "0.8103544256819447\n",
            "SCORE:\n",
            "0.8132306550380405\n",
            "SCORE:\n",
            "0.8116069771757284\n",
            "SCORE:\n",
            "0.8120708851363889\n",
            "SCORE:\n",
            "0.8101688624976805\n",
            "SCORE:\n",
            "0.805205047318612\n",
            "SCORE:\n",
            "0.8105399888662089\n",
            "SCORE:\n",
            "0.806040081647801\n",
            "SCORE:\n",
            "0.8097513453330859\n",
            "SCORE:\n",
            "0.8132306550380405\n",
            "SCORE:\n",
            "0.8133698274262386\n",
            "SCORE:\n",
            "0.8104008164780108\n",
            "SCORE:\n",
            "0.8116069771757284\n",
            "SCORE:\n",
            "0.8118389311560587\n",
            "SCORE:\n",
            "0.8102616440898126\n",
            "SCORE:\n",
            "0.8110966784190017\n",
            "SCORE:\n",
            "0.8124420115049175\n",
            "SCORE:\n",
            "0.8100760809055484\n",
            "SCORE:\n",
            "0.8115605863796623\n",
            "SCORE:\n",
            "0.8100760809055484\n",
            "SCORE:\n",
            "0.8123492299127854\n",
            "SCORE:\n",
            "0.8111894600111338\n",
            "SCORE:\n",
            "0.8111430692150677\n",
            "SCORE:\n",
            "0.809844126925218\n",
            "SCORE:\n",
            "0.810632770458341\n",
            "SCORE:\n",
            "0.8122100575245871\n",
            "SCORE:\n",
            "0.8102152532937466\n",
            "SCORE:\n",
            "0.8101224717016144\n",
            "SCORE:\n",
            "0.8130914826498423\n",
            "SCORE:\n",
            "0.8112822416032659\n",
            "SCORE:\n",
            "0.8098905177212841\n",
            "SCORE:\n",
            "0.8050658749304138\n",
            "SCORE:\n",
            "0.8110038968268696\n",
            "SCORE:\n",
            "0.8107719428465392\n",
            "SCORE:\n",
            "0.8119317127481908\n",
            "SCORE:\n",
            "0.810586379662275\n",
            "SCORE:\n",
            "0.810586379662275\n",
            "SCORE:\n",
            "0.8128131378734459\n",
            "SCORE:\n",
            "0.809797736129152\n",
            "SCORE:\n",
            "0.8122564483206531\n",
            "SCORE:\n",
            "0.8102616440898126\n",
            "SCORE:\n",
            "0.8102152532937466\n",
            "SCORE:\n",
            "0.811328632399332\n",
            "SCORE:\n",
            "0.8077565411022453\n",
            "SCORE:\n",
            "0.809844126925218\n",
            "SCORE:\n",
            "0.8085915754314345\n",
            "SCORE:\n",
            "0.8065039896084617\n",
            "SCORE:\n",
            "0.8108183336426054\n",
            "SCORE:\n",
            "0.8055761736871405\n",
            "SCORE:\n",
            "0.812117275932455\n",
            "SCORE:\n",
            "0.809797736129152\n",
            "SCORE:\n",
            "0.8112822416032659\n",
            "SCORE:\n",
            "0.8097513453330859\n",
            "SCORE:\n",
            "0.8102152532937466\n",
            "SCORE:\n",
            "0.8104472072740768\n",
            "SCORE:\n",
            "0.8080348858786417\n",
            "SCORE:\n",
            "0.8059009092596029\n",
            "SCORE:\n",
            "0.8110966784190017\n",
            "SCORE:\n",
            "0.8097513453330859\n",
            "SCORE:\n",
            "0.8099369085173501\n",
            "SCORE:\n",
            "0.8039524958248283\n",
            "SCORE:\n",
            "0.8133234366301726\n",
            "SCORE:\n",
            "0.8099369085173501\n",
            "SCORE:\n",
            "0.8125347930970496\n",
            "SCORE:\n",
            "0.8135089998144368\n",
            "SCORE:\n",
            "0.8064112080163296\n",
            "SCORE:\n",
            "0.8099369085173501\n",
            "SCORE:\n",
            "0.8103544256819447\n",
            "SCORE:\n",
            "0.811375023195398\n",
            "SCORE:\n",
            "0.8099369085173501\n",
            "SCORE:\n",
            "0.8107255520504731\n",
            "SCORE:\n",
            "0.8123956207088514\n",
            "SCORE:\n",
            "0.8104008164780108\n",
            "SCORE:\n",
            "0.810586379662275\n",
            "SCORE:\n",
            "0.8095657821488217\n",
            "SCORE:\n",
            "0.8116069771757284\n",
            "SCORE:\n",
            "0.8079884950825756\n",
            "SCORE:\n",
            "0.810632770458341\n",
            "SCORE:\n",
            "0.8101688624976805\n",
            "SCORE:\n",
            "0.8137873445908331\n",
            "SCORE:\n",
            "0.811375023195398\n",
            "SCORE:\n",
            "0.8136017814065689\n",
            "SCORE:\n",
            "0.8072462423455187\n",
            "SCORE:\n",
            "0.8122100575245871\n",
            "SCORE:\n",
            "0.8091482649842271\n",
            "SCORE:\n",
            "0.8046947485618853\n",
            "SCORE:\n",
            "0.8099832993134162\n",
            "SCORE:\n",
            "0.8104472072740768\n",
            "SCORE:\n",
            "0.8104008164780108\n",
            "SCORE:\n",
            "0.812117275932455\n",
            "SCORE:\n",
            "0.8103544256819447\n",
            "SCORE:\n",
            "0.8099369085173501\n",
            "SCORE:\n",
            "0.8058081276674708\n",
            "SCORE:\n",
            "0.8116069771757284\n",
            "SCORE:\n",
            "0.8101224717016144\n",
            "SCORE:\n",
            "0.8095193913527556\n",
            "SCORE:\n",
            "0.8112822416032659\n",
            "SCORE:\n",
            "0.8139729077750975\n",
            "SCORE:\n",
            "0.8101224717016144\n",
            "SCORE:\n",
            "0.809844126925218\n",
            "SCORE:\n",
            "0.8110038968268696\n",
            "SCORE:\n",
            "0.8077565411022453\n",
            "SCORE:\n",
            "0.811328632399332\n",
            "SCORE:\n",
            "0.8099832993134162\n",
            "SCORE:\n",
            "0.8123492299127854\n",
            "SCORE:\n",
            "0.8118853219521247\n",
            "SCORE:\n",
            "0.8104935980701429\n",
            "SCORE:\n",
            "0.8102152532937466\n",
            "SCORE:\n",
            "0.8101224717016144\n",
            "SCORE:\n",
            "0.8139265169790314\n",
            "SCORE:\n",
            "0.8089627017999629\n",
            "SCORE:\n",
            "0.8100760809055484\n",
            "SCORE:\n",
            "0.8124420115049175\n",
            "SCORE:\n",
            "0.809844126925218\n",
            "SCORE:\n",
            "0.8063184264241975\n",
            "SCORE:\n",
            "0.8133234366301726\n",
            "SCORE:\n",
            "0.8051586565225459\n",
            "SCORE:\n",
            "0.811328632399332\n",
            "SCORE:\n",
            "0.8101224717016144\n",
            "SCORE:\n",
            "0.8087771386156987\n",
            "SCORE:\n",
            "0.8104935980701429\n",
            "SCORE:\n",
            "0.8133234366301726\n",
            "SCORE:\n",
            "0.8122564483206531\n",
            "SCORE:\n",
            "0.8116997587678605\n",
            "SCORE:\n",
            "0.8109111152347375\n",
            "SCORE:\n",
            "0.8122100575245871\n",
            "SCORE:\n",
            "0.8136017814065689\n",
            "SCORE:\n",
            "0.8106791612544071\n",
            "SCORE:\n",
            "0.8100296901094822\n",
            "SCORE:\n",
            "0.8112358508071998\n",
            "SCORE:\n",
            "0.8116533679717944\n",
            "SCORE:\n",
            "0.8140192985711635\n",
            "SCORE:\n",
            "0.8123028391167192\n",
            "SCORE:\n",
            "0.8116069771757284\n",
            "SCORE:\n",
            "0.8125347930970496\n",
            "SCORE:\n",
            "0.8107719428465392\n",
            "SCORE:\n",
            "0.8135553906105029\n",
            "SCORE:\n",
            "0.8108183336426054\n",
            "SCORE:\n",
            "0.8107719428465392\n",
            "SCORE:\n",
            "0.8116069771757284\n",
            "SCORE:\n",
            "0.8123956207088514\n",
            "SCORE:\n",
            "0.8130914826498423\n",
            "SCORE:\n",
            "0.8099369085173501\n",
            "SCORE:\n",
            "0.8142976433475598\n",
            "SCORE:\n",
            "0.8110966784190017\n",
            "SCORE:\n",
            "0.8081276674707738\n",
            "SCORE:\n",
            "0.8116997587678605\n",
            "SCORE:\n",
            "0.8097049545370198\n",
            "SCORE:\n",
            "0.8100760809055484\n",
            "SCORE:\n",
            "0.8112822416032659\n",
            "SCORE:\n",
            "0.812163666728521\n",
            "SCORE:\n",
            "0.8142976433475598\n",
            "SCORE:\n",
            "0.8105399888662089\n",
            "SCORE:\n",
            "0.813694562998701\n",
            "SCORE:\n",
            "0.8093338281684914\n",
            "SCORE:\n",
            "0.8130914826498423\n",
            "SCORE:\n",
            "0.8053442197068101\n",
            "SCORE:\n",
            "0.8103544256819447\n",
            "SCORE:\n",
            "0.8077565411022453\n",
            "SCORE:\n",
            "0.8058081276674708\n",
            "SCORE:\n",
            "0.8098905177212841\n",
            "SCORE:\n",
            "0.8069678975691222\n",
            "SCORE:\n",
            "0.8109111152347375\n",
            "SCORE:\n",
            "0.812117275932455\n",
            "SCORE:\n",
            "0.8103544256819447\n",
            "SCORE:\n",
            "0.8098905177212841\n",
            "SCORE:\n",
            "0.8106791612544071\n",
            "SCORE:\n",
            "0.8134626090183708\n",
            "SCORE:\n",
            "0.8109575060308035\n",
            "SCORE:\n",
            "0.8116533679717944\n",
            "SCORE:\n",
            "0.8107255520504731\n",
            "SCORE:\n",
            "0.8051122657264799\n",
            "SCORE:\n",
            "0.8135089998144368\n",
            "SCORE:\n",
            "0.8103080348858787\n",
            "SCORE:\n",
            "0.8102152532937466\n",
            "SCORE:\n",
            "0.8100296901094822\n",
            "SCORE:\n",
            "0.8105399888662089\n",
            "SCORE:\n",
            "0.8127667470773798\n",
            "SCORE:\n",
            "0.8115605863796623\n",
            "SCORE:\n",
            "0.8112822416032659\n",
            "SCORE:\n",
            "0.8097513453330859\n",
            "SCORE:\n",
            "0.8099832993134162\n",
            "SCORE:\n",
            "0.8138337353868993\n",
            "SCORE:\n",
            "0.8100296901094822\n",
            "SCORE:\n",
            "0.8122100575245871\n",
            "SCORE:\n",
            "0.811375023195398\n",
            "SCORE:\n",
            "0.8062256448320653\n",
            "SCORE:\n",
            "0.8102616440898126\n",
            "SCORE:\n",
            "0.8093338281684914\n",
            "SCORE:\n",
            "0.8035349786602338\n",
            "SCORE:\n",
            "0.8122564483206531\n",
            "SCORE:\n",
            "0.8034421970681017\n",
            "SCORE:\n",
            "0.807570977917981\n",
            "SCORE:\n",
            "0.8103544256819447\n",
            "SCORE:\n",
            "0.8107255520504731\n",
            "SCORE:\n",
            "0.8133698274262386\n",
            "SCORE:\n",
            "0.8115141955835962\n",
            "SCORE:\n",
            "0.8093338281684914\n",
            "SCORE:\n",
            "0.8101688624976805\n",
            "SCORE:\n",
            "0.8137409537947671\n",
            "SCORE:\n",
            "0.8045091853776211\n",
            "SCORE:\n",
            "0.811328632399332\n",
            "SCORE:\n",
            "0.810586379662275\n",
            "SCORE:\n",
            "0.8102152532937466\n",
            "SCORE:\n",
            "0.8107719428465392\n",
            "SCORE:\n",
            "0.809797736129152\n",
            "SCORE:\n",
            "0.8122564483206531\n",
            "SCORE:\n",
            "0.808313230655038\n",
            "SCORE:\n",
            "0.8107719428465392\n",
            "SCORE:\n",
            "0.8076637595101132\n",
            "SCORE:\n",
            "0.811375023195398\n",
            "SCORE:\n",
            "0.8093802189645575\n",
            "SCORE:\n",
            "0.8104008164780108\n",
            "SCORE:\n",
            "0.814483206531824\n",
            "SCORE:\n",
            "0.812952310261644\n",
            "SCORE:\n",
            "0.8049267025422157\n",
            "SCORE:\n",
            "0.8104008164780108\n",
            "SCORE:\n",
            "0.8116069771757284\n",
            "SCORE:\n",
            "0.8137409537947671\n",
            "SCORE:\n",
            "0.810632770458341\n",
            "SCORE:\n",
            "0.809797736129152\n",
            "SCORE:\n",
            "0.8119781035442568\n",
            "SCORE:\n",
            "0.8107255520504731\n",
            "SCORE:\n",
            "0.809844126925218\n",
            "SCORE:\n",
            "0.8089627017999629\n",
            "SCORE:\n",
            "0.813694562998701\n",
            "SCORE:\n",
            "0.8058081276674708\n",
            "SCORE:\n",
            "0.809797736129152\n",
            "SCORE:\n",
            "0.8119781035442568\n",
            "SCORE:\n",
            "0.811328632399332\n",
            "SCORE:\n",
            "0.812117275932455\n",
            "SCORE:\n",
            "0.8137409537947671\n",
            "SCORE:\n",
            "0.8106791612544071\n",
            "SCORE:\n",
            "0.8100760809055484\n",
            "SCORE:\n",
            "0.8103080348858787\n",
            "SCORE:\n",
            "0.8097513453330859\n",
            "SCORE:\n",
            "0.8117461495639265\n",
            "SCORE:\n",
            "0.810586379662275\n",
            "SCORE:\n",
            "0.8110502876229356\n",
            "SCORE:\n",
            "0.8100296901094822\n",
            "SCORE:\n",
            "0.8077101503061792\n",
            "SCORE:\n",
            "0.8134162182223047\n",
            "SCORE:\n",
            "0.810586379662275\n",
            "SCORE:\n",
            "0.8110966784190017\n",
            "SCORE:\n",
            "0.8102152532937466\n",
            "SCORE:\n",
            "0.8065039896084617\n",
            "SCORE:\n",
            "0.8128131378734459\n",
            "SCORE:\n",
            "0.8095193913527556\n",
            "SCORE:\n",
            "0.8065503804045278\n",
            "SCORE:\n",
            "0.8097513453330859\n",
            "SCORE:\n",
            "0.8103544256819447\n",
            "SCORE:\n",
            "0.8108647244386714\n",
            "SCORE:\n",
            "0.8117925403599926\n",
            "SCORE:\n",
            "0.8129987010577101\n",
            "SCORE:\n",
            "0.8056689552792726\n",
            "SCORE:\n",
            "0.8104472072740768\n",
            "SCORE:\n",
            "0.8110038968268696\n",
            "SCORE:\n",
            "0.8103080348858787\n",
            "SCORE:\n",
            "0.8141584709593617\n",
            "SCORE:\n",
            "0.8115141955835962\n",
            "SCORE:\n",
            "0.8099369085173501\n",
            "SCORE:\n",
            "0.8127667470773798\n",
            "SCORE:\n",
            "0.8109575060308035\n",
            "SCORE:\n",
            "0.8105399888662089\n",
            "SCORE:\n",
            "0.8099369085173501\n",
            "SCORE:\n",
            "0.8123956207088514\n",
            "SCORE:\n",
            "0.8139265169790314\n",
            "SCORE:\n",
            "0.8138337353868993\n",
            "SCORE:\n",
            "0.8119317127481908\n",
            "SCORE:\n",
            "0.8135089998144368\n",
            "SCORE:\n",
            "0.8145759881239562\n",
            "SCORE:\n",
            "0.8115605863796623\n",
            "SCORE:\n",
            "0.8127667470773798\n",
            "SCORE:\n",
            "0.8132770458341065\n",
            "SCORE:\n",
            "0.8117461495639265\n",
            "SCORE:\n",
            "0.8107719428465392\n",
            "SCORE:\n",
            "0.8128595286695119\n",
            "SCORE:\n",
            "0.8140656893672296\n",
            "SCORE:\n",
            "0.810632770458341\n",
            "SCORE:\n",
            "0.8109575060308035\n",
            "SCORE:\n",
            "0.8117925403599926\n",
            "SCORE:\n",
            "0.8132770458341065\n",
            "SCORE:\n",
            "0.8109575060308035\n",
            "SCORE:\n",
            "0.8122100575245871\n",
            "SCORE:\n",
            "0.8139265169790314\n",
            "SCORE:\n",
            "0.8109111152347375\n",
            "SCORE:\n",
            "0.8132306550380405\n",
            "SCORE:\n",
            "0.8102152532937466\n",
            "SCORE:\n",
            "0.8110038968268696\n",
            "SCORE:\n",
            "0.812117275932455\n",
            "SCORE:\n",
            "0.8118853219521247\n",
            "SCORE:\n",
            "0.8100760809055484\n",
            "SCORE:\n",
            "0.8135089998144368\n",
            "SCORE:\n",
            "0.8141584709593617\n",
            "SCORE:\n",
            "0.811328632399332\n",
            "SCORE:\n",
            "0.8126739654852477\n",
            "SCORE:\n",
            "0.8107719428465392\n",
            "SCORE:\n",
            "0.8115605863796623\n",
            "SCORE:\n",
            "0.810586379662275\n",
            "SCORE:\n",
            "0.8105399888662089\n",
            "SCORE:\n",
            "0.8141120801632956\n",
            "SCORE:\n",
            "0.8125347930970496\n",
            "SCORE:\n",
            "0.8123028391167192\n",
            "SCORE:\n",
            "0.8104472072740768\n",
            "SCORE:\n",
            "0.8100296901094822\n",
            "SCORE:\n",
            "0.8133698274262386\n",
            "SCORE:\n",
            "0.8115141955835962\n",
            "SCORE:\n",
            "0.8141584709593617\n",
            "SCORE:\n",
            "0.8098905177212841\n",
            "SCORE:\n",
            "0.8105399888662089\n",
            "SCORE:\n",
            "0.8109111152347375\n",
            "SCORE:\n",
            "0.8100760809055484\n",
            "SCORE:\n",
            "0.8118389311560587\n",
            "SCORE:\n",
            "0.8115605863796623\n",
            "SCORE:\n",
            "0.8127203562813138\n",
            "SCORE:\n",
            "0.8135553906105029\n",
            "SCORE:\n",
            "0.8107255520504731\n",
            "SCORE:\n",
            "0.8124420115049175\n",
            "SCORE:\n",
            "0.8071070699573205\n",
            "SCORE:\n",
            "0.8104935980701429\n",
            "SCORE:\n",
            "0.8077565411022453\n",
            "SCORE:\n",
            "0.8117461495639265\n",
            "SCORE:\n",
            "0.8104935980701429\n",
            "SCORE:\n",
            "0.8134626090183708\n",
            "SCORE:\n",
            "0.8107719428465392\n",
            "SCORE:\n",
            "0.8143904249396919\n",
            "SCORE:\n",
            "0.809844126925218\n",
            "SCORE:\n",
            "0.8107255520504731\n",
            "SCORE:\n",
            "0.8124420115049175\n",
            "SCORE:\n",
            "0.809844126925218\n",
            "SCORE:\n",
            "0.8052978289107441\n",
            "SCORE:\n",
            "0.8102152532937466\n",
            "SCORE:\n",
            "0.8107255520504731\n",
            "SCORE:\n",
            "0.8143904249396919\n",
            "SCORE:\n",
            "0.805205047318612\n",
            "SCORE:\n",
            "0.8106791612544071\n",
            "SCORE:\n",
            "0.8115605863796623\n",
            "SCORE:\n",
            "0.812952310261644\n",
            "SCORE:\n",
            "0.8125811838931156\n",
            "SCORE:\n",
            "0.8104472072740768\n",
            "SCORE:\n",
            "0.8110038968268696\n",
            "SCORE:\n",
            "0.8103544256819447\n",
            "SCORE:\n",
            "0.8054370012989422\n",
            "SCORE:\n",
            "0.8104935980701429\n",
            "SCORE:\n",
            "0.8108647244386714\n",
            "SCORE:\n",
            "0.814483206531824\n",
            "SCORE:\n",
            "0.8110038968268696\n",
            "SCORE:\n",
            "0.8080812766747077\n",
            "SCORE:\n",
            "0.8129987010577101\n",
            "SCORE:\n",
            "0.8091482649842271\n",
            "SCORE:\n",
            "0.8102152532937466\n",
            "SCORE:\n",
            "0.809797736129152\n",
            "SCORE:\n",
            "0.8112822416032659\n",
            "SCORE:\n",
            "0.8103544256819447\n",
            "SCORE:\n",
            "0.8102616440898126\n",
            "SCORE:\n",
            "0.810632770458341\n",
            "SCORE:\n",
            "0.8114214139914641\n",
            "SCORE:\n",
            "0.8108183336426054\n",
            "SCORE:\n",
            "0.8137409537947671\n",
            "SCORE:\n",
            "0.8074318055297829\n",
            "SCORE:\n",
            "0.8099369085173501\n",
            "SCORE:\n",
            "0.8135553906105029\n",
            "SCORE:\n",
            "0.8101688624976805\n",
            "SCORE:\n",
            "0.8111894600111338\n",
            "100%|██████████| 500/500 [20:57<00:00,  2.51s/it, best loss: -0.8145759881239562]\n"
          ]
        }
      ]
    },
    {
      "cell_type": "code",
      "source": [
        "best_hyperparams_smote"
      ],
      "metadata": {
        "colab": {
          "base_uri": "https://localhost:8080/"
        },
        "id": "tVsafvbtJTtg",
        "outputId": "1db2ed3e-cb04-4a38-8d64-63f3126f2321"
      },
      "execution_count": null,
      "outputs": [
        {
          "output_type": "execute_result",
          "data": {
            "text/plain": [
              "{'colsample_bytree': 0.7803077414055443,\n",
              " 'gamma': 1.019803739305032,\n",
              " 'max_depth': 18.0,\n",
              " 'min_child_weight': 0.0,\n",
              " 'reg_alpha': 40.0,\n",
              " 'reg_lambda': 0.6984977649129657}"
            ]
          },
          "metadata": {},
          "execution_count": 15
        }
      ]
    },
    {
      "cell_type": "code",
      "source": [
        "model = XGBRFClassifier(max_depth=18, gamma=1.019803739305032, min_child_weight=0, reg_alpha=40,\n",
        "          reg_lambda=0.6984977649129657, colsample_bytree=0.7803077414055443, n_estimators=300, subsample=0.9, colsample_bynode=0.2)\n",
        "model.fit(X_train_smote.to_numpy(), y_train_smote.to_numpy())\n",
        "model.score(X_test.to_numpy(), y_test.to_numpy())"
      ],
      "metadata": {
        "colab": {
          "base_uri": "https://localhost:8080/"
        },
        "id": "ef01PTlC2-1y",
        "outputId": "ba171f4f-b4a7-4845-dda4-5bb3d6c477c5"
      },
      "execution_count": null,
      "outputs": [
        {
          "output_type": "execute_result",
          "data": {
            "text/plain": [
              "0.8725741096182555"
            ]
          },
          "metadata": {},
          "execution_count": 16
        }
      ]
    },
    {
      "cell_type": "code",
      "source": [
        "import pickle\n",
        "filename = 'model_xgboost_tuned_smote_npy_ver.sav'\n",
        "\n",
        "pickle.dump(model, open(f\"/content/drive/MyDrive/BT4222/{filename}\", 'wb'))\n",
        "# pickle.dump(model, open(f\"/content/gdrive/My Drive/BT4222/{filename}\", 'wb'))"
      ],
      "metadata": {
        "id": "40uo--ST4Lzf"
      },
      "execution_count": null,
      "outputs": []
    },
    {
      "cell_type": "code",
      "source": [
        "import pickle\n",
        "filename = 'model_xgboost_tuned_smote.sav'\n",
        "model = pickle.load(open(f\"/content/gdrive/My Drive/BT4222/{filename}\", 'rb'))"
      ],
      "metadata": {
        "id": "Ud42mfyhPscO"
      },
      "execution_count": null,
      "outputs": []
    },
    {
      "cell_type": "code",
      "source": [
        "predicted = model.predict(X_test.to_numpy())"
      ],
      "metadata": {
        "id": "8UmPHLfU4IuS"
      },
      "execution_count": null,
      "outputs": []
    },
    {
      "cell_type": "code",
      "source": [
        "from sklearn.metrics import classification_report\n",
        "print(classification_report(y_test, predicted))"
      ],
      "metadata": {
        "colab": {
          "base_uri": "https://localhost:8080/"
        },
        "id": "FNtyDdfAPzrg",
        "outputId": "91b6b005-2542-4a18-dc9a-55ae61b0af00"
      },
      "execution_count": null,
      "outputs": [
        {
          "output_type": "stream",
          "name": "stdout",
          "text": [
            "              precision    recall  f1-score   support\n",
            "\n",
            "           0       0.95      0.90      0.92     15981\n",
            "           1       0.55      0.70      0.62      2775\n",
            "\n",
            "    accuracy                           0.87     18756\n",
            "   macro avg       0.75      0.80      0.77     18756\n",
            "weighted avg       0.89      0.87      0.88     18756\n",
            "\n"
          ]
        }
      ]
    },
    {
      "cell_type": "code",
      "source": [
        "from sklearn.metrics import plot_confusion_matrix\n",
        "plot_confusion_matrix(model, X_test.to_numpy(), y_test.to_numpy())  "
      ],
      "metadata": {
        "colab": {
          "base_uri": "https://localhost:8080/",
          "height": 351
        },
        "id": "FbB0IUCi4WwJ",
        "outputId": "24693910-579c-4959-abe6-07eeb4a12474"
      },
      "execution_count": null,
      "outputs": [
        {
          "output_type": "stream",
          "name": "stderr",
          "text": [
            "/usr/local/lib/python3.7/dist-packages/sklearn/utils/deprecation.py:87: FutureWarning: Function plot_confusion_matrix is deprecated; Function `plot_confusion_matrix` is deprecated in 1.0 and will be removed in 1.2. Use one of the class methods: ConfusionMatrixDisplay.from_predictions or ConfusionMatrixDisplay.from_estimator.\n",
            "  warnings.warn(msg, category=FutureWarning)\n"
          ]
        },
        {
          "output_type": "execute_result",
          "data": {
            "text/plain": [
              "<sklearn.metrics._plot.confusion_matrix.ConfusionMatrixDisplay at 0x7fe652652bd0>"
            ]
          },
          "metadata": {},
          "execution_count": 18
        },
        {
          "output_type": "display_data",
          "data": {
            "text/plain": [
              "<Figure size 432x288 with 2 Axes>"
            ],
            "image/png": "[encoded data removed]"
          },
          "metadata": {
            "needs_background": "light"
          }
        }
      ]
    },
    {
      "cell_type": "code",
      "source": [
        "[i[0] for i in model.predict_proba(X_test)]"
      ],
      "metadata": {
        "colab": {
          "base_uri": "https://localhost:8080/"
        },
        "id": "5pfj2LTQR63A",
        "outputId": "59e79069-5afb-4662-ae2c-bc2932a5c064"
      },
      "execution_count": null,
      "outputs": [
        {
          "output_type": "execute_result",
          "data": {
            "text/plain": [
              "array([[0.34937012, 0.6506299 ],\n",
              "       [0.6380037 , 0.36199632],\n",
              "       [0.7997135 , 0.20028651],\n",
              "       ...,\n",
              "       [0.21391946, 0.78608054],\n",
              "       [0.7431307 , 0.25686935],\n",
              "       [0.7234678 , 0.27653214]], dtype=float32)"
            ]
          },
          "metadata": {},
          "execution_count": 131
        }
      ]
    },
    {
      "cell_type": "code",
      "source": [
        "print(f\"Accuracy: {accuracy_score(y_test.to_numpy(), predicted)}\")\n",
        "print(f\"Precision: {precision_score(y_test.to_numpy(), predicted)}\")\n",
        "print(f\"Recall: {recall_score(y_test.to_numpy(), predicted)}\")\n",
        "print(f\"F1-score: {f1_score(y_test.to_numpy(), predicted)}\")\n",
        "print(f\"ROCAUC-score: {roc_auc_score(y_test.to_numpy(), [i[1] for i in model.predict_proba(X_test.to_numpy())])}\")"
      ],
      "metadata": {
        "colab": {
          "base_uri": "https://localhost:8080/"
        },
        "id": "09ej_tPaJuHf",
        "outputId": "f4290861-19ce-4a4b-9ce0-9fac1e653a22"
      },
      "execution_count": null,
      "outputs": [
        {
          "output_type": "stream",
          "name": "stdout",
          "text": [
            "Accuracy: 0.8734271699722755\n",
            "Precision: 0.5577310682407141\n",
            "Recall: 0.698018018018018\n",
            "F1-score: 0.6200384122919335\n",
            "ROCAUC-score: 0.8909895140118531\n"
          ]
        }
      ]
    },
    {
      "cell_type": "markdown",
      "source": [
        "Oversampling training set"
      ],
      "metadata": {
        "id": "N278aeEm38f4"
      }
    },
    {
      "cell_type": "code",
      "source": [
        "from imblearn.over_sampling import RandomOverSampler\n",
        "\n",
        "print(Counter(y_train))\n",
        "oversample = RandomOverSampler(sampling_strategy='minority')\n",
        "X_train_over, y_train_over = oversample.fit_resample(X_train, y_train)\n",
        "print(Counter(y_train_over))"
      ],
      "metadata": {
        "colab": {
          "base_uri": "https://localhost:8080/"
        },
        "id": "Z7J06qkp3SI5",
        "outputId": "36e74e11-fe31-48ea-b07e-b555a30cc6aa"
      },
      "execution_count": null,
      "outputs": [
        {
          "output_type": "stream",
          "name": "stdout",
          "text": [
            "Counter({0: 32660, 1: 5419})\n",
            "Counter({0: 32660, 1: 32660})\n"
          ]
        }
      ]
    },
    {
      "cell_type": "code",
      "source": [
        "model_over = XGBRFClassifier(n_estimators=100, subsample=0.9, colsample_bynode=0.2)\n",
        "model_over.fit(X_train_over, y_train_over)\n",
        "model_over.score(X_test, y_test)"
      ],
      "metadata": {
        "colab": {
          "base_uri": "https://localhost:8080/"
        },
        "id": "_GrF1PdH5G2Z",
        "outputId": "2eb52775-2da1-47d5-e9a6-9255ea4229f0"
      },
      "execution_count": null,
      "outputs": [
        {
          "output_type": "execute_result",
          "data": {
            "text/plain": [
              "0.8420238856899126"
            ]
          },
          "metadata": {},
          "execution_count": 30
        }
      ]
    },
    {
      "cell_type": "code",
      "source": [
        "predicted_over = model_over.predict(X_test)"
      ],
      "metadata": {
        "id": "1j0_dhKH5X09"
      },
      "execution_count": null,
      "outputs": []
    },
    {
      "cell_type": "code",
      "source": [
        "print(f\"Accuracy: {accuracy_score(y_test, predicted_over)}\")\n",
        "print(f\"Precision: {precision_score(y_test, predicted_over)}\")\n",
        "print(f\"Recall: {recall_score(y_test, predicted_over)}\")\n",
        "print(f\"F1-score: {f1_score(y_test, predicted_over)}\")"
      ],
      "metadata": {
        "colab": {
          "base_uri": "https://localhost:8080/"
        },
        "id": "0zaVh4On5eJ0",
        "outputId": "8a79e0bc-8cae-4acd-c0f8-673e33a47b9b"
      },
      "execution_count": null,
      "outputs": [
        {
          "output_type": "stream",
          "name": "stdout",
          "text": [
            "Accuracy: 0.8420238856899126\n",
            "Precision: 0.4788858939802336\n",
            "Recall: 0.7682882882882883\n",
            "F1-score: 0.590009685900097\n"
          ]
        }
      ]
    },
    {
      "cell_type": "code",
      "source": [
        "from sklearn.metrics import plot_confusion_matrix\n",
        "plot_confusion_matrix(model_over, X_test, y_test)  "
      ],
      "metadata": {
        "colab": {
          "base_uri": "https://localhost:8080/",
          "height": 351
        },
        "id": "n0sw4xdk5pjf",
        "outputId": "684e2266-00d6-4ad4-b897-926c1bb29598"
      },
      "execution_count": null,
      "outputs": [
        {
          "output_type": "stream",
          "name": "stderr",
          "text": [
            "/usr/local/lib/python3.7/dist-packages/sklearn/utils/deprecation.py:87: FutureWarning: Function plot_confusion_matrix is deprecated; Function `plot_confusion_matrix` is deprecated in 1.0 and will be removed in 1.2. Use one of the class methods: ConfusionMatrixDisplay.from_predictions or ConfusionMatrixDisplay.from_estimator.\n",
            "  warnings.warn(msg, category=FutureWarning)\n"
          ]
        },
        {
          "output_type": "execute_result",
          "data": {
            "text/plain": [
              "<sklearn.metrics._plot.confusion_matrix.ConfusionMatrixDisplay at 0x7f73f024dd10>"
            ]
          },
          "metadata": {},
          "execution_count": 35
        },
        {
          "output_type": "display_data",
          "data": {
            "text/plain": [
              "<Figure size 432x288 with 2 Axes>"
            ],
            "image/png": "[encoded data removed]"
          },
          "metadata": {
            "needs_background": "light"
          }
        }
      ]
    },
    {
      "cell_type": "code",
      "source": [
        "X_train.shape"
      ],
      "metadata": {
        "colab": {
          "base_uri": "https://localhost:8080/"
        },
        "id": "DgCcnSAJ9Sql",
        "outputId": "12191cd4-e372-4f00-9069-19fc3ca0d5f6"
      },
      "execution_count": null,
      "outputs": [
        {
          "output_type": "execute_result",
          "data": {
            "text/plain": [
              "(38079, 46)"
            ]
          },
          "metadata": {},
          "execution_count": 48
        }
      ]
    },
    {
      "cell_type": "markdown",
      "source": [
        "Train XGBoost with Standerdisation"
      ],
      "metadata": {
        "id": "u517c3Qy8qoo"
      }
    },
    {
      "cell_type": "code",
      "source": [
        "from sklearn.preprocessing import MinMaxScaler\n",
        "scaler = MinMaxScaler()\n",
        "X_train_scaled = scaler.fit_transform(X_train)\n",
        "X_test_scaled = scaler.transform(X_test)"
      ],
      "metadata": {
        "id": "KjIIkKwfAEAZ"
      },
      "execution_count": null,
      "outputs": []
    },
    {
      "cell_type": "code",
      "source": [
        "oversample = SMOTE()\n",
        "X_train_smote_scaled, y_train_smote_scaled = oversample.fit_resample(X_train_scaled, y_train)\n",
        "# summarize the new class distribution\n",
        "counter = Counter(y_train_smote_scaled)\n",
        "print(counter)"
      ],
      "metadata": {
        "id": "Uoab7JFcAYpE"
      },
      "execution_count": null,
      "outputs": []
    },
    {
      "cell_type": "code",
      "source": [
        "model_smote_scaled = XGBRFClassifier(n_estimators=100, subsample=0.9, colsample_bynode=0.2)\n",
        "model_smote_scaled.fit(X_train_smote_scaled, y_train_smote_scaled)\n",
        "model_smote_scaled.score(X_test_scaled, y_test)"
      ],
      "metadata": {
        "colab": {
          "base_uri": "https://localhost:8080/"
        },
        "id": "GmGc2bqQApwj",
        "outputId": "c220b29a-e1a9-4d47-e48d-d94efa932586"
      },
      "execution_count": null,
      "outputs": [
        {
          "output_type": "execute_result",
          "data": {
            "text/plain": [
              "0.8506078055022392"
            ]
          },
          "metadata": {},
          "execution_count": 87
        }
      ]
    },
    {
      "cell_type": "code",
      "source": [
        "predicted_smote_scaled = model_smote_scaled.predict(X_test_scaled)"
      ],
      "metadata": {
        "id": "nSWprqi7BXJz"
      },
      "execution_count": null,
      "outputs": []
    },
    {
      "cell_type": "code",
      "source": [
        "print(f\"Accuracy: {accuracy_score(y_test, predicted_smote_scaled)}\")\n",
        "print(f\"Precision: {precision_score(y_test, predicted_smote_scaled)}\")\n",
        "print(f\"Recall: {recall_score(y_test, predicted_smote_scaled)}\")\n",
        "print(f\"F1-score: {f1_score(y_test, predicted_smote_scaled)}\")"
      ],
      "metadata": {
        "colab": {
          "base_uri": "https://localhost:8080/"
        },
        "id": "pnIiNuDdBMBM",
        "outputId": "c601e1e4-45d9-4395-fde1-ed0019a90bab"
      },
      "execution_count": null,
      "outputs": [
        {
          "output_type": "stream",
          "name": "stdout",
          "text": [
            "Accuracy: 0.8506078055022392\n",
            "Precision: 0.49677881173944166\n",
            "Recall: 0.7502702702702703\n",
            "F1-score: 0.5977605512489234\n"
          ]
        }
      ]
    },
    {
      "cell_type": "code",
      "source": [
        "plot_confusion_matrix(model_smote_scaled, X_test_scaled, y_test) "
      ],
      "metadata": {
        "colab": {
          "base_uri": "https://localhost:8080/",
          "height": 351
        },
        "id": "fsYhOXOjBwj2",
        "outputId": "a20319c2-4c1e-4387-9124-cc49923fc625"
      },
      "execution_count": null,
      "outputs": [
        {
          "output_type": "stream",
          "name": "stderr",
          "text": [
            "/usr/local/lib/python3.7/dist-packages/sklearn/utils/deprecation.py:87: FutureWarning: Function plot_confusion_matrix is deprecated; Function `plot_confusion_matrix` is deprecated in 1.0 and will be removed in 1.2. Use one of the class methods: ConfusionMatrixDisplay.from_predictions or ConfusionMatrixDisplay.from_estimator.\n",
            "  warnings.warn(msg, category=FutureWarning)\n"
          ]
        },
        {
          "output_type": "execute_result",
          "data": {
            "text/plain": [
              "<sklearn.metrics._plot.confusion_matrix.ConfusionMatrixDisplay at 0x7f732cac12d0>"
            ]
          },
          "metadata": {},
          "execution_count": 90
        },
        {
          "output_type": "display_data",
          "data": {
            "text/plain": [
              "<Figure size 432x288 with 2 Axes>"
            ],
            "image/png": "[encoded data removed]"
          },
          "metadata": {
            "needs_background": "light"
          }
        }
      ]
    },
    {
      "cell_type": "markdown",
      "source": [
        "Random Forest Algorithm"
      ],
      "metadata": {
        "id": "fJ0bnM49k__1"
      }
    },
    {
      "cell_type": "code",
      "source": [
        "from sklearn.ensemble import RandomForestClassifier\n",
        "rfc = RandomForestClassifier(n_estimators=100, random_state=42)\n",
        "#rfc.fit(X_train_smote, y_train_smote)"
      ],
      "metadata": {
        "id": "veScAmY9lHpb"
      },
      "execution_count": null,
      "outputs": []
    },
    {
      "cell_type": "code",
      "source": [
        "rfc.score(X_test, y_test)"
      ],
      "metadata": {
        "colab": {
          "base_uri": "https://localhost:8080/"
        },
        "id": "393tOfXXlUeJ",
        "outputId": "ccc3c535-0dae-49da-f61a-320f298eaeec"
      },
      "execution_count": null,
      "outputs": [
        {
          "output_type": "execute_result",
          "data": {
            "text/plain": [
              "0.8950735764555342"
            ]
          },
          "metadata": {},
          "execution_count": 89
        }
      ]
    },
    {
      "cell_type": "code",
      "source": [
        "predicted_rfc = rfc.predict(X_test)"
      ],
      "metadata": {
        "id": "t38btrUBlwU9"
      },
      "execution_count": null,
      "outputs": []
    },
    {
      "cell_type": "code",
      "source": [
        "print(f\"Accuracy: {accuracy_score(y_test, predicted_rfc)}\")\n",
        "print(f\"Precision: {precision_score(y_test, predicted_rfc)}\")\n",
        "print(f\"Recall: {recall_score(y_test, predicted_rfc)}\")\n",
        "print(f\"F1-score: {f1_score(y_test, predicted_rfc)}\")"
      ],
      "metadata": {
        "colab": {
          "base_uri": "https://localhost:8080/"
        },
        "id": "pyuzV_Bil1uf",
        "outputId": "3161b52f-4ae3-4103-a8ee-183ed0097b5c"
      },
      "execution_count": null,
      "outputs": [
        {
          "output_type": "stream",
          "name": "stdout",
          "text": [
            "Accuracy: 0.8950735764555342\n",
            "Precision: 0.6473165388828039\n",
            "Recall: 0.6389189189189189\n",
            "F1-score: 0.6430903155603918\n"
          ]
        }
      ]
    },
    {
      "cell_type": "code",
      "source": [
        "from sklearn.metrics import plot_confusion_matrix\n",
        "plot_confusion_matrix(rfc, X_test, y_test) "
      ],
      "metadata": {
        "id": "e7porzr0mCaK"
      },
      "execution_count": null,
      "outputs": []
    },
    {
      "cell_type": "code",
      "source": [
        "from sklearn.model_selection import RandomizedSearchCV\n",
        "# Number of trees in random forest\n",
        "n_estimators = [100, 200, 300]\n",
        "# Number of features to consider at every split\n",
        "max_features = ['auto', 'sqrt']\n",
        "# Maximum number of levels in tree\n",
        "max_depth = [int(x) for x in np.linspace(10, 110, num = 11)]\n",
        "max_depth.append(None)\n",
        "# Minimum number of samples required to split a node\n",
        "min_samples_split = [2, 5, 10]\n",
        "# Minimum number of samples required at each leaf node\n",
        "min_samples_leaf = [1, 2, 4]\n",
        "# Method of selecting samples for training each tree\n",
        "bootstrap = [True, False]\n",
        "# Create the random grid\n",
        "random_grid = {'n_estimators': n_estimators,\n",
        "               'max_features': max_features,\n",
        "               'max_depth': max_depth,\n",
        "               'min_samples_split': min_samples_split,\n",
        "               'min_samples_leaf': min_samples_leaf,\n",
        "               'bootstrap': bootstrap}"
      ],
      "metadata": {
        "id": "kXt2Vzpa2LI8"
      },
      "execution_count": null,
      "outputs": []
    },
    {
      "cell_type": "code",
      "source": [
        "from sklearn.ensemble import RandomForestClassifier"
      ],
      "metadata": {
        "id": "td11lssc41qc"
      },
      "execution_count": null,
      "outputs": []
    },
    {
      "cell_type": "code",
      "source": [
        "rf_random = RandomizedSearchCV(estimator = RandomForestClassifier(n_estimators=100, random_state=42), param_distributions = random_grid, n_iter = 100, cv = 3, verbose=2, random_state=42,)\n",
        "rf_random.fit(X_train_smote, y_train_smote)\n"
      ],
      "metadata": {
        "colab": {
          "base_uri": "https://localhost:8080/"
        },
        "id": "LsB57rz22Y6K",
        "outputId": "a2ba60f4-61a4-475e-d622-3ffe1f7fcec6"
      },
      "execution_count": null,
      "outputs": [
        {
          "output_type": "stream",
          "name": "stdout",
          "text": [
            "Fitting 3 folds for each of 100 candidates, totalling 300 fits\n",
            "[CV] END bootstrap=True, max_depth=60, max_features=sqrt, min_samples_leaf=1, min_samples_split=2, n_estimators=100; total time=  14.0s\n",
            "[CV] END bootstrap=True, max_depth=60, max_features=sqrt, min_samples_leaf=1, min_samples_split=2, n_estimators=100; total time=  13.1s\n",
            "[CV] END bootstrap=True, max_depth=60, max_features=sqrt, min_samples_leaf=1, min_samples_split=2, n_estimators=100; total time=  13.0s\n",
            "[CV] END bootstrap=False, max_depth=90, max_features=auto, min_samples_leaf=1, min_samples_split=2, n_estimators=100; total time=  20.6s\n",
            "[CV] END bootstrap=False, max_depth=90, max_features=auto, min_samples_leaf=1, min_samples_split=2, n_estimators=100; total time=  20.6s\n",
            "[CV] END bootstrap=False, max_depth=90, max_features=auto, min_samples_leaf=1, min_samples_split=2, n_estimators=100; total time=  20.1s\n",
            "[CV] END bootstrap=False, max_depth=60, max_features=sqrt, min_samples_leaf=1, min_samples_split=10, n_estimators=200; total time=  40.9s\n",
            "[CV] END bootstrap=False, max_depth=60, max_features=sqrt, min_samples_leaf=1, min_samples_split=10, n_estimators=200; total time=  40.0s\n",
            "[CV] END bootstrap=False, max_depth=60, max_features=sqrt, min_samples_leaf=1, min_samples_split=10, n_estimators=200; total time=  40.8s\n",
            "[CV] END bootstrap=True, max_depth=90, max_features=sqrt, min_samples_leaf=1, min_samples_split=5, n_estimators=200; total time=  25.7s\n",
            "[CV] END bootstrap=True, max_depth=90, max_features=sqrt, min_samples_leaf=1, min_samples_split=5, n_estimators=200; total time=  25.9s\n",
            "[CV] END bootstrap=True, max_depth=90, max_features=sqrt, min_samples_leaf=1, min_samples_split=5, n_estimators=200; total time=  25.7s\n",
            "[CV] END bootstrap=True, max_depth=10, max_features=sqrt, min_samples_leaf=1, min_samples_split=10, n_estimators=200; total time=  15.3s\n",
            "[CV] END bootstrap=True, max_depth=10, max_features=sqrt, min_samples_leaf=1, min_samples_split=10, n_estimators=200; total time=  15.2s\n",
            "[CV] END bootstrap=True, max_depth=10, max_features=sqrt, min_samples_leaf=1, min_samples_split=10, n_estimators=200; total time=  15.3s\n",
            "[CV] END bootstrap=True, max_depth=90, max_features=auto, min_samples_leaf=2, min_samples_split=10, n_estimators=200; total time=  25.5s\n",
            "[CV] END bootstrap=True, max_depth=90, max_features=auto, min_samples_leaf=2, min_samples_split=10, n_estimators=200; total time=  25.2s\n",
            "[CV] END bootstrap=True, max_depth=90, max_features=auto, min_samples_leaf=2, min_samples_split=10, n_estimators=200; total time=  24.7s\n",
            "[CV] END bootstrap=False, max_depth=50, max_features=auto, min_samples_leaf=4, min_samples_split=10, n_estimators=200; total time=  39.7s\n",
            "[CV] END bootstrap=False, max_depth=50, max_features=auto, min_samples_leaf=4, min_samples_split=10, n_estimators=200; total time=  38.2s\n",
            "[CV] END bootstrap=False, max_depth=50, max_features=auto, min_samples_leaf=4, min_samples_split=10, n_estimators=200; total time=  37.6s\n",
            "[CV] END bootstrap=True, max_depth=90, max_features=auto, min_samples_leaf=2, min_samples_split=10, n_estimators=100; total time=  12.6s\n",
            "[CV] END bootstrap=True, max_depth=90, max_features=auto, min_samples_leaf=2, min_samples_split=10, n_estimators=100; total time=  12.5s\n",
            "[CV] END bootstrap=True, max_depth=90, max_features=auto, min_samples_leaf=2, min_samples_split=10, n_estimators=100; total time=  12.4s\n",
            "[CV] END bootstrap=False, max_depth=20, max_features=auto, min_samples_leaf=4, min_samples_split=10, n_estimators=200; total time=  33.2s\n",
            "[CV] END bootstrap=False, max_depth=20, max_features=auto, min_samples_leaf=4, min_samples_split=10, n_estimators=200; total time=  35.3s\n",
            "[CV] END bootstrap=False, max_depth=20, max_features=auto, min_samples_leaf=4, min_samples_split=10, n_estimators=200; total time=  34.0s\n",
            "[CV] END bootstrap=False, max_depth=60, max_features=auto, min_samples_leaf=4, min_samples_split=2, n_estimators=200; total time=  38.3s\n",
            "[CV] END bootstrap=False, max_depth=60, max_features=auto, min_samples_leaf=4, min_samples_split=2, n_estimators=200; total time=  38.2s\n",
            "[CV] END bootstrap=False, max_depth=60, max_features=auto, min_samples_leaf=4, min_samples_split=2, n_estimators=200; total time=  37.7s\n",
            "[CV] END bootstrap=True, max_depth=110, max_features=sqrt, min_samples_leaf=4, min_samples_split=5, n_estimators=200; total time=  24.2s\n",
            "[CV] END bootstrap=True, max_depth=110, max_features=sqrt, min_samples_leaf=4, min_samples_split=5, n_estimators=200; total time=  24.4s\n",
            "[CV] END bootstrap=True, max_depth=110, max_features=sqrt, min_samples_leaf=4, min_samples_split=5, n_estimators=200; total time=  25.1s\n",
            "[CV] END bootstrap=False, max_depth=100, max_features=sqrt, min_samples_leaf=1, min_samples_split=10, n_estimators=100; total time=  20.4s\n",
            "[CV] END bootstrap=False, max_depth=100, max_features=sqrt, min_samples_leaf=1, min_samples_split=10, n_estimators=100; total time=  20.0s\n",
            "[CV] END bootstrap=False, max_depth=100, max_features=sqrt, min_samples_leaf=1, min_samples_split=10, n_estimators=100; total time=  20.0s\n",
            "[CV] END bootstrap=False, max_depth=60, max_features=sqrt, min_samples_leaf=1, min_samples_split=2, n_estimators=200; total time=  40.6s\n",
            "[CV] END bootstrap=False, max_depth=60, max_features=sqrt, min_samples_leaf=1, min_samples_split=2, n_estimators=200; total time=  40.9s\n",
            "[CV] END bootstrap=False, max_depth=60, max_features=sqrt, min_samples_leaf=1, min_samples_split=2, n_estimators=200; total time=  40.3s\n",
            "[CV] END bootstrap=False, max_depth=10, max_features=sqrt, min_samples_leaf=4, min_samples_split=5, n_estimators=100; total time=  11.7s\n",
            "[CV] END bootstrap=False, max_depth=10, max_features=sqrt, min_samples_leaf=4, min_samples_split=5, n_estimators=100; total time=  12.3s\n",
            "[CV] END bootstrap=False, max_depth=10, max_features=sqrt, min_samples_leaf=4, min_samples_split=5, n_estimators=100; total time=  11.5s\n",
            "[CV] END bootstrap=False, max_depth=70, max_features=sqrt, min_samples_leaf=4, min_samples_split=10, n_estimators=100; total time=  19.4s\n",
            "[CV] END bootstrap=False, max_depth=70, max_features=sqrt, min_samples_leaf=4, min_samples_split=10, n_estimators=100; total time=  19.3s\n",
            "[CV] END bootstrap=False, max_depth=70, max_features=sqrt, min_samples_leaf=4, min_samples_split=10, n_estimators=100; total time=  18.9s\n",
            "[CV] END bootstrap=False, max_depth=90, max_features=sqrt, min_samples_leaf=2, min_samples_split=2, n_estimators=200; total time=  39.7s\n",
            "[CV] END bootstrap=False, max_depth=90, max_features=sqrt, min_samples_leaf=2, min_samples_split=2, n_estimators=200; total time=  39.7s\n",
            "[CV] END bootstrap=False, max_depth=90, max_features=sqrt, min_samples_leaf=2, min_samples_split=2, n_estimators=200; total time=  39.0s\n",
            "[CV] END bootstrap=True, max_depth=20, max_features=sqrt, min_samples_leaf=4, min_samples_split=2, n_estimators=200; total time=  22.4s\n",
            "[CV] END bootstrap=True, max_depth=20, max_features=sqrt, min_samples_leaf=4, min_samples_split=2, n_estimators=200; total time=  22.2s\n",
            "[CV] END bootstrap=True, max_depth=20, max_features=sqrt, min_samples_leaf=4, min_samples_split=2, n_estimators=200; total time=  22.3s\n",
            "[CV] END bootstrap=False, max_depth=None, max_features=sqrt, min_samples_leaf=1, min_samples_split=5, n_estimators=200; total time=  40.4s\n",
            "[CV] END bootstrap=False, max_depth=None, max_features=sqrt, min_samples_leaf=1, min_samples_split=5, n_estimators=200; total time=  40.4s\n",
            "[CV] END bootstrap=False, max_depth=None, max_features=sqrt, min_samples_leaf=1, min_samples_split=5, n_estimators=200; total time=  39.8s\n",
            "[CV] END bootstrap=False, max_depth=80, max_features=sqrt, min_samples_leaf=4, min_samples_split=5, n_estimators=100; total time=  19.2s\n",
            "[CV] END bootstrap=False, max_depth=80, max_features=sqrt, min_samples_leaf=4, min_samples_split=5, n_estimators=100; total time=  20.0s\n",
            "[CV] END bootstrap=False, max_depth=80, max_features=sqrt, min_samples_leaf=4, min_samples_split=5, n_estimators=100; total time=  19.0s\n",
            "[CV] END bootstrap=True, max_depth=30, max_features=sqrt, min_samples_leaf=2, min_samples_split=2, n_estimators=100; total time=  12.4s\n",
            "[CV] END bootstrap=True, max_depth=30, max_features=sqrt, min_samples_leaf=2, min_samples_split=2, n_estimators=100; total time=  12.3s\n",
            "[CV] END bootstrap=True, max_depth=30, max_features=sqrt, min_samples_leaf=2, min_samples_split=2, n_estimators=100; total time=  12.4s\n",
            "[CV] END bootstrap=False, max_depth=70, max_features=auto, min_samples_leaf=4, min_samples_split=10, n_estimators=100; total time=  19.2s\n",
            "[CV] END bootstrap=False, max_depth=70, max_features=auto, min_samples_leaf=4, min_samples_split=10, n_estimators=100; total time=  19.4s\n",
            "[CV] END bootstrap=False, max_depth=70, max_features=auto, min_samples_leaf=4, min_samples_split=10, n_estimators=100; total time=  18.9s\n",
            "[CV] END bootstrap=False, max_depth=70, max_features=auto, min_samples_leaf=2, min_samples_split=10, n_estimators=200; total time=  39.6s\n",
            "[CV] END bootstrap=False, max_depth=70, max_features=auto, min_samples_leaf=2, min_samples_split=10, n_estimators=200; total time=  39.1s\n",
            "[CV] END bootstrap=False, max_depth=70, max_features=auto, min_samples_leaf=2, min_samples_split=10, n_estimators=200; total time=  39.8s\n",
            "[CV] END bootstrap=False, max_depth=20, max_features=sqrt, min_samples_leaf=4, min_samples_split=5, n_estimators=100; total time=  16.9s\n",
            "[CV] END bootstrap=False, max_depth=20, max_features=sqrt, min_samples_leaf=4, min_samples_split=5, n_estimators=100; total time=  17.4s\n",
            "[CV] END bootstrap=False, max_depth=20, max_features=sqrt, min_samples_leaf=4, min_samples_split=5, n_estimators=100; total time=  17.1s\n",
            "[CV] END bootstrap=False, max_depth=50, max_features=auto, min_samples_leaf=1, min_samples_split=10, n_estimators=200; total time=  40.2s\n",
            "[CV] END bootstrap=False, max_depth=50, max_features=auto, min_samples_leaf=1, min_samples_split=10, n_estimators=200; total time=  39.9s\n",
            "[CV] END bootstrap=False, max_depth=50, max_features=auto, min_samples_leaf=1, min_samples_split=10, n_estimators=200; total time=  39.6s\n",
            "[CV] END bootstrap=True, max_depth=30, max_features=auto, min_samples_leaf=4, min_samples_split=5, n_estimators=100; total time=  13.0s\n",
            "[CV] END bootstrap=True, max_depth=30, max_features=auto, min_samples_leaf=4, min_samples_split=5, n_estimators=100; total time=  12.2s\n",
            "[CV] END bootstrap=True, max_depth=30, max_features=auto, min_samples_leaf=4, min_samples_split=5, n_estimators=100; total time=  12.1s\n",
            "[CV] END bootstrap=False, max_depth=10, max_features=sqrt, min_samples_leaf=2, min_samples_split=2, n_estimators=200; total time=  22.8s\n",
            "[CV] END bootstrap=False, max_depth=10, max_features=sqrt, min_samples_leaf=2, min_samples_split=2, n_estimators=200; total time=  22.2s\n",
            "[CV] END bootstrap=False, max_depth=10, max_features=sqrt, min_samples_leaf=2, min_samples_split=2, n_estimators=200; total time=  22.4s\n",
            "[CV] END bootstrap=True, max_depth=40, max_features=sqrt, min_samples_leaf=2, min_samples_split=10, n_estimators=200; total time=  24.7s\n",
            "[CV] END bootstrap=True, max_depth=40, max_features=sqrt, min_samples_leaf=2, min_samples_split=10, n_estimators=200; total time=  24.8s\n",
            "[CV] END bootstrap=True, max_depth=40, max_features=sqrt, min_samples_leaf=2, min_samples_split=10, n_estimators=200; total time=  24.7s\n",
            "[CV] END bootstrap=True, max_depth=None, max_features=auto, min_samples_leaf=4, min_samples_split=5, n_estimators=200; total time=  24.1s\n",
            "[CV] END bootstrap=True, max_depth=None, max_features=auto, min_samples_leaf=4, min_samples_split=5, n_estimators=200; total time=  28.9s\n",
            "[CV] END bootstrap=True, max_depth=None, max_features=auto, min_samples_leaf=4, min_samples_split=5, n_estimators=200; total time=  23.9s\n",
            "[CV] END bootstrap=True, max_depth=70, max_features=sqrt, min_samples_leaf=4, min_samples_split=10, n_estimators=100; total time=  12.5s\n",
            "[CV] END bootstrap=True, max_depth=70, max_features=sqrt, min_samples_leaf=4, min_samples_split=10, n_estimators=100; total time=  12.0s\n",
            "[CV] END bootstrap=True, max_depth=70, max_features=sqrt, min_samples_leaf=4, min_samples_split=10, n_estimators=100; total time=  11.9s\n",
            "[CV] END bootstrap=True, max_depth=110, max_features=auto, min_samples_leaf=1, min_samples_split=2, n_estimators=200; total time=  26.5s\n",
            "[CV] END bootstrap=True, max_depth=110, max_features=auto, min_samples_leaf=1, min_samples_split=2, n_estimators=200; total time=  27.4s\n",
            "[CV] END bootstrap=True, max_depth=110, max_features=auto, min_samples_leaf=1, min_samples_split=2, n_estimators=200; total time=  25.6s\n",
            "[CV] END bootstrap=True, max_depth=100, max_features=auto, min_samples_leaf=1, min_samples_split=5, n_estimators=100; total time=  13.0s\n",
            "[CV] END bootstrap=True, max_depth=100, max_features=auto, min_samples_leaf=1, min_samples_split=5, n_estimators=100; total time=  12.6s\n",
            "[CV] END bootstrap=True, max_depth=100, max_features=auto, min_samples_leaf=1, min_samples_split=5, n_estimators=100; total time=  12.8s\n",
            "[CV] END bootstrap=True, max_depth=100, max_features=sqrt, min_samples_leaf=1, min_samples_split=10, n_estimators=100; total time=  14.1s\n",
            "[CV] END bootstrap=True, max_depth=100, max_features=sqrt, min_samples_leaf=1, min_samples_split=10, n_estimators=100; total time=  12.9s\n",
            "[CV] END bootstrap=True, max_depth=100, max_features=sqrt, min_samples_leaf=1, min_samples_split=10, n_estimators=100; total time=  12.6s\n",
            "[CV] END bootstrap=False, max_depth=110, max_features=sqrt, min_samples_leaf=2, min_samples_split=5, n_estimators=100; total time=  20.0s\n",
            "[CV] END bootstrap=False, max_depth=110, max_features=sqrt, min_samples_leaf=2, min_samples_split=5, n_estimators=100; total time=  20.2s\n",
            "[CV] END bootstrap=False, max_depth=110, max_features=sqrt, min_samples_leaf=2, min_samples_split=5, n_estimators=100; total time=  19.6s\n",
            "[CV] END bootstrap=True, max_depth=110, max_features=auto, min_samples_leaf=1, min_samples_split=5, n_estimators=200; total time=  25.5s\n",
            "[CV] END bootstrap=True, max_depth=110, max_features=auto, min_samples_leaf=1, min_samples_split=5, n_estimators=200; total time=  25.4s\n",
            "[CV] END bootstrap=True, max_depth=110, max_features=auto, min_samples_leaf=1, min_samples_split=5, n_estimators=200; total time=  25.6s\n",
            "[CV] END bootstrap=False, max_depth=30, max_features=sqrt, min_samples_leaf=1, min_samples_split=2, n_estimators=100; total time=  19.1s\n",
            "[CV] END bootstrap=False, max_depth=30, max_features=sqrt, min_samples_leaf=1, min_samples_split=2, n_estimators=100; total time=  20.8s\n",
            "[CV] END bootstrap=False, max_depth=30, max_features=sqrt, min_samples_leaf=1, min_samples_split=2, n_estimators=100; total time=  19.7s\n",
            "[CV] END bootstrap=True, max_depth=40, max_features=sqrt, min_samples_leaf=2, min_samples_split=10, n_estimators=100; total time=  12.8s\n",
            "[CV] END bootstrap=True, max_depth=40, max_features=sqrt, min_samples_leaf=2, min_samples_split=10, n_estimators=100; total time=  12.7s\n",
            "[CV] END bootstrap=True, max_depth=40, max_features=sqrt, min_samples_leaf=2, min_samples_split=10, n_estimators=100; total time=  12.3s\n",
            "[CV] END bootstrap=False, max_depth=110, max_features=sqrt, min_samples_leaf=1, min_samples_split=2, n_estimators=200; total time=  40.4s\n",
            "[CV] END bootstrap=False, max_depth=110, max_features=sqrt, min_samples_leaf=1, min_samples_split=2, n_estimators=200; total time=  40.9s\n",
            "[CV] END bootstrap=False, max_depth=110, max_features=sqrt, min_samples_leaf=1, min_samples_split=2, n_estimators=200; total time=  39.9s\n",
            "[CV] END bootstrap=True, max_depth=70, max_features=sqrt, min_samples_leaf=1, min_samples_split=10, n_estimators=200; total time=  26.7s\n",
            "[CV] END bootstrap=True, max_depth=70, max_features=sqrt, min_samples_leaf=1, min_samples_split=10, n_estimators=200; total time=  25.6s\n",
            "[CV] END bootstrap=True, max_depth=70, max_features=sqrt, min_samples_leaf=1, min_samples_split=10, n_estimators=200; total time=  24.8s\n",
            "[CV] END bootstrap=True, max_depth=40, max_features=sqrt, min_samples_leaf=4, min_samples_split=2, n_estimators=200; total time=  24.1s\n",
            "[CV] END bootstrap=True, max_depth=40, max_features=sqrt, min_samples_leaf=4, min_samples_split=2, n_estimators=200; total time=  24.2s\n",
            "[CV] END bootstrap=True, max_depth=40, max_features=sqrt, min_samples_leaf=4, min_samples_split=2, n_estimators=200; total time=  24.0s\n",
            "[CV] END bootstrap=False, max_depth=30, max_features=sqrt, min_samples_leaf=1, min_samples_split=5, n_estimators=200; total time=  38.3s\n",
            "[CV] END bootstrap=False, max_depth=30, max_features=sqrt, min_samples_leaf=1, min_samples_split=5, n_estimators=200; total time=  40.5s\n",
            "[CV] END bootstrap=False, max_depth=30, max_features=sqrt, min_samples_leaf=1, min_samples_split=5, n_estimators=200; total time=  39.0s\n",
            "[CV] END bootstrap=False, max_depth=90, max_features=sqrt, min_samples_leaf=2, min_samples_split=10, n_estimators=200; total time=  39.4s\n",
            "[CV] END bootstrap=False, max_depth=90, max_features=sqrt, min_samples_leaf=2, min_samples_split=10, n_estimators=200; total time=  39.1s\n",
            "[CV] END bootstrap=False, max_depth=90, max_features=sqrt, min_samples_leaf=2, min_samples_split=10, n_estimators=200; total time=  38.5s\n",
            "[CV] END bootstrap=True, max_depth=60, max_features=sqrt, min_samples_leaf=2, min_samples_split=10, n_estimators=200; total time=  24.8s\n",
            "[CV] END bootstrap=True, max_depth=60, max_features=sqrt, min_samples_leaf=2, min_samples_split=10, n_estimators=200; total time=  25.8s\n",
            "[CV] END bootstrap=True, max_depth=60, max_features=sqrt, min_samples_leaf=2, min_samples_split=10, n_estimators=200; total time=  24.5s\n",
            "[CV] END bootstrap=True, max_depth=110, max_features=auto, min_samples_leaf=4, min_samples_split=10, n_estimators=200; total time=  24.1s\n",
            "[CV] END bootstrap=True, max_depth=110, max_features=auto, min_samples_leaf=4, min_samples_split=10, n_estimators=200; total time=  24.1s\n",
            "[CV] END bootstrap=True, max_depth=110, max_features=auto, min_samples_leaf=4, min_samples_split=10, n_estimators=200; total time=  23.7s\n",
            "[CV] END bootstrap=True, max_depth=90, max_features=auto, min_samples_leaf=4, min_samples_split=5, n_estimators=100; total time=  12.1s\n",
            "[CV] END bootstrap=True, max_depth=90, max_features=auto, min_samples_leaf=4, min_samples_split=5, n_estimators=100; total time=  12.3s\n",
            "[CV] END bootstrap=True, max_depth=90, max_features=auto, min_samples_leaf=4, min_samples_split=5, n_estimators=100; total time=  12.1s\n",
            "[CV] END bootstrap=True, max_depth=90, max_features=auto, min_samples_leaf=1, min_samples_split=5, n_estimators=200; total time=  25.9s\n",
            "[CV] END bootstrap=True, max_depth=90, max_features=auto, min_samples_leaf=1, min_samples_split=5, n_estimators=200; total time=  25.7s\n",
            "[CV] END bootstrap=True, max_depth=90, max_features=auto, min_samples_leaf=1, min_samples_split=5, n_estimators=200; total time=  26.6s\n",
            "[CV] END bootstrap=True, max_depth=60, max_features=sqrt, min_samples_leaf=4, min_samples_split=2, n_estimators=100; total time=  12.4s\n",
            "[CV] END bootstrap=True, max_depth=60, max_features=sqrt, min_samples_leaf=4, min_samples_split=2, n_estimators=100; total time=  12.5s\n",
            "[CV] END bootstrap=True, max_depth=60, max_features=sqrt, min_samples_leaf=4, min_samples_split=2, n_estimators=100; total time=  12.2s\n",
            "[CV] END bootstrap=True, max_depth=20, max_features=auto, min_samples_leaf=1, min_samples_split=5, n_estimators=200; total time=  22.2s\n",
            "[CV] END bootstrap=True, max_depth=20, max_features=auto, min_samples_leaf=1, min_samples_split=5, n_estimators=200; total time=  23.1s\n",
            "[CV] END bootstrap=True, max_depth=20, max_features=auto, min_samples_leaf=1, min_samples_split=5, n_estimators=200; total time=  23.5s\n",
            "[CV] END bootstrap=True, max_depth=110, max_features=auto, min_samples_leaf=4, min_samples_split=5, n_estimators=200; total time=  24.3s\n",
            "[CV] END bootstrap=True, max_depth=110, max_features=auto, min_samples_leaf=4, min_samples_split=5, n_estimators=200; total time=  24.4s\n",
            "[CV] END bootstrap=True, max_depth=110, max_features=auto, min_samples_leaf=4, min_samples_split=5, n_estimators=200; total time=  25.0s\n",
            "[CV] END bootstrap=False, max_depth=50, max_features=sqrt, min_samples_leaf=2, min_samples_split=2, n_estimators=200; total time=  39.4s\n",
            "[CV] END bootstrap=False, max_depth=50, max_features=sqrt, min_samples_leaf=2, min_samples_split=2, n_estimators=200; total time=  39.8s\n",
            "[CV] END bootstrap=False, max_depth=50, max_features=sqrt, min_samples_leaf=2, min_samples_split=2, n_estimators=200; total time=  39.2s\n",
            "[CV] END bootstrap=True, max_depth=100, max_features=auto, min_samples_leaf=2, min_samples_split=5, n_estimators=100; total time=  12.7s\n",
            "[CV] END bootstrap=True, max_depth=100, max_features=auto, min_samples_leaf=2, min_samples_split=5, n_estimators=100; total time=  12.7s\n",
            "[CV] END bootstrap=True, max_depth=100, max_features=auto, min_samples_leaf=2, min_samples_split=5, n_estimators=100; total time=  12.8s\n",
            "[CV] END bootstrap=True, max_depth=100, max_features=auto, min_samples_leaf=4, min_samples_split=5, n_estimators=100; total time=  12.4s\n",
            "[CV] END bootstrap=True, max_depth=100, max_features=auto, min_samples_leaf=4, min_samples_split=5, n_estimators=100; total time=  12.4s\n",
            "[CV] END bootstrap=True, max_depth=100, max_features=auto, min_samples_leaf=4, min_samples_split=5, n_estimators=100; total time=  12.0s\n",
            "[CV] END bootstrap=True, max_depth=10, max_features=sqrt, min_samples_leaf=4, min_samples_split=2, n_estimators=100; total time=   8.6s\n",
            "[CV] END bootstrap=True, max_depth=10, max_features=sqrt, min_samples_leaf=4, min_samples_split=2, n_estimators=100; total time=   7.7s\n",
            "[CV] END bootstrap=True, max_depth=10, max_features=sqrt, min_samples_leaf=4, min_samples_split=2, n_estimators=100; total time=   7.6s\n",
            "[CV] END bootstrap=True, max_depth=70, max_features=sqrt, min_samples_leaf=2, min_samples_split=10, n_estimators=100; total time=  12.6s\n",
            "[CV] END bootstrap=True, max_depth=70, max_features=sqrt, min_samples_leaf=2, min_samples_split=10, n_estimators=100; total time=  12.6s\n",
            "[CV] END bootstrap=True, max_depth=70, max_features=sqrt, min_samples_leaf=2, min_samples_split=10, n_estimators=100; total time=  12.4s\n",
            "[CV] END bootstrap=False, max_depth=80, max_features=sqrt, min_samples_leaf=4, min_samples_split=5, n_estimators=200; total time=  38.3s\n",
            "[CV] END bootstrap=False, max_depth=80, max_features=sqrt, min_samples_leaf=4, min_samples_split=5, n_estimators=200; total time=  38.2s\n",
            "[CV] END bootstrap=False, max_depth=80, max_features=sqrt, min_samples_leaf=4, min_samples_split=5, n_estimators=200; total time=  37.9s\n",
            "[CV] END bootstrap=False, max_depth=110, max_features=sqrt, min_samples_leaf=4, min_samples_split=2, n_estimators=100; total time=  19.3s\n",
            "[CV] END bootstrap=False, max_depth=110, max_features=sqrt, min_samples_leaf=4, min_samples_split=2, n_estimators=100; total time=  20.2s\n",
            "[CV] END bootstrap=False, max_depth=110, max_features=sqrt, min_samples_leaf=4, min_samples_split=2, n_estimators=100; total time=  19.0s\n",
            "[CV] END bootstrap=False, max_depth=110, max_features=sqrt, min_samples_leaf=4, min_samples_split=10, n_estimators=200; total time=  38.6s\n",
            "[CV] END bootstrap=False, max_depth=110, max_features=sqrt, min_samples_leaf=4, min_samples_split=10, n_estimators=200; total time=  38.4s\n",
            "[CV] END bootstrap=False, max_depth=110, max_features=sqrt, min_samples_leaf=4, min_samples_split=10, n_estimators=200; total time=  37.6s\n",
            "[CV] END bootstrap=True, max_depth=60, max_features=sqrt, min_samples_leaf=4, min_samples_split=5, n_estimators=200; total time=  24.5s\n",
            "[CV] END bootstrap=True, max_depth=60, max_features=sqrt, min_samples_leaf=4, min_samples_split=5, n_estimators=200; total time=  25.4s\n",
            "[CV] END bootstrap=True, max_depth=60, max_features=sqrt, min_samples_leaf=4, min_samples_split=5, n_estimators=200; total time=  24.2s\n",
            "[CV] END bootstrap=True, max_depth=None, max_features=sqrt, min_samples_leaf=1, min_samples_split=5, n_estimators=100; total time=  13.1s\n",
            "[CV] END bootstrap=True, max_depth=None, max_features=sqrt, min_samples_leaf=1, min_samples_split=5, n_estimators=100; total time=  13.0s\n",
            "[CV] END bootstrap=True, max_depth=None, max_features=sqrt, min_samples_leaf=1, min_samples_split=5, n_estimators=100; total time=  13.0s\n",
            "[CV] END bootstrap=False, max_depth=80, max_features=sqrt, min_samples_leaf=1, min_samples_split=5, n_estimators=100; total time=  20.1s\n",
            "[CV] END bootstrap=False, max_depth=80, max_features=sqrt, min_samples_leaf=1, min_samples_split=5, n_estimators=100; total time=  20.3s\n",
            "[CV] END bootstrap=False, max_depth=80, max_features=sqrt, min_samples_leaf=1, min_samples_split=5, n_estimators=100; total time=  20.1s\n",
            "[CV] END bootstrap=True, max_depth=100, max_features=sqrt, min_samples_leaf=2, min_samples_split=5, n_estimators=200; total time=  25.2s\n",
            "[CV] END bootstrap=True, max_depth=100, max_features=sqrt, min_samples_leaf=2, min_samples_split=5, n_estimators=200; total time=  25.1s\n",
            "[CV] END bootstrap=True, max_depth=100, max_features=sqrt, min_samples_leaf=2, min_samples_split=5, n_estimators=200; total time=  25.9s\n",
            "[CV] END bootstrap=True, max_depth=100, max_features=auto, min_samples_leaf=2, min_samples_split=5, n_estimators=200; total time=  25.2s\n",
            "[CV] END bootstrap=True, max_depth=100, max_features=auto, min_samples_leaf=2, min_samples_split=5, n_estimators=200; total time=  25.1s\n",
            "[CV] END bootstrap=True, max_depth=100, max_features=auto, min_samples_leaf=2, min_samples_split=5, n_estimators=200; total time=  24.9s\n",
            "[CV] END bootstrap=False, max_depth=50, max_features=sqrt, min_samples_leaf=2, min_samples_split=5, n_estimators=100; total time=  20.2s\n",
            "[CV] END bootstrap=False, max_depth=50, max_features=sqrt, min_samples_leaf=2, min_samples_split=5, n_estimators=100; total time=  20.4s\n",
            "[CV] END bootstrap=False, max_depth=50, max_features=sqrt, min_samples_leaf=2, min_samples_split=5, n_estimators=100; total time=  19.6s\n",
            "[CV] END bootstrap=False, max_depth=10, max_features=sqrt, min_samples_leaf=4, min_samples_split=10, n_estimators=200; total time=  22.7s\n",
            "[CV] END bootstrap=False, max_depth=10, max_features=sqrt, min_samples_leaf=4, min_samples_split=10, n_estimators=200; total time=  22.4s\n",
            "[CV] END bootstrap=False, max_depth=10, max_features=sqrt, min_samples_leaf=4, min_samples_split=10, n_estimators=200; total time=  23.3s\n",
            "[CV] END bootstrap=True, max_depth=110, max_features=auto, min_samples_leaf=2, min_samples_split=5, n_estimators=100; total time=  12.6s\n",
            "[CV] END bootstrap=True, max_depth=110, max_features=auto, min_samples_leaf=2, min_samples_split=5, n_estimators=100; total time=  12.7s\n",
            "[CV] END bootstrap=True, max_depth=110, max_features=auto, min_samples_leaf=2, min_samples_split=5, n_estimators=100; total time=  12.6s\n",
            "[CV] END bootstrap=True, max_depth=80, max_features=sqrt, min_samples_leaf=2, min_samples_split=10, n_estimators=200; total time=  25.2s\n",
            "[CV] END bootstrap=True, max_depth=80, max_features=sqrt, min_samples_leaf=2, min_samples_split=10, n_estimators=200; total time=  24.9s\n",
            "[CV] END bootstrap=True, max_depth=80, max_features=sqrt, min_samples_leaf=2, min_samples_split=10, n_estimators=200; total time=  24.7s\n",
            "[CV] END bootstrap=True, max_depth=20, max_features=sqrt, min_samples_leaf=4, min_samples_split=2, n_estimators=100; total time=  10.8s\n",
            "[CV] END bootstrap=True, max_depth=20, max_features=sqrt, min_samples_leaf=4, min_samples_split=2, n_estimators=100; total time=  11.3s\n",
            "[CV] END bootstrap=True, max_depth=20, max_features=sqrt, min_samples_leaf=4, min_samples_split=2, n_estimators=100; total time=  11.2s\n",
            "[CV] END bootstrap=False, max_depth=None, max_features=sqrt, min_samples_leaf=4, min_samples_split=2, n_estimators=200; total time=  38.5s\n",
            "[CV] END bootstrap=False, max_depth=None, max_features=sqrt, min_samples_leaf=4, min_samples_split=2, n_estimators=200; total time=  39.5s\n",
            "[CV] END bootstrap=False, max_depth=None, max_features=sqrt, min_samples_leaf=4, min_samples_split=2, n_estimators=200; total time=  37.9s\n",
            "[CV] END bootstrap=False, max_depth=50, max_features=auto, min_samples_leaf=4, min_samples_split=5, n_estimators=200; total time=  38.4s\n",
            "[CV] END bootstrap=False, max_depth=50, max_features=auto, min_samples_leaf=4, min_samples_split=5, n_estimators=200; total time=  38.2s\n",
            "[CV] END bootstrap=False, max_depth=50, max_features=auto, min_samples_leaf=4, min_samples_split=5, n_estimators=200; total time=  37.8s\n",
            "[CV] END bootstrap=False, max_depth=60, max_features=sqrt, min_samples_leaf=4, min_samples_split=5, n_estimators=100; total time=  20.3s\n",
            "[CV] END bootstrap=False, max_depth=60, max_features=sqrt, min_samples_leaf=4, min_samples_split=5, n_estimators=100; total time=  19.2s\n",
            "[CV] END bootstrap=False, max_depth=60, max_features=sqrt, min_samples_leaf=4, min_samples_split=5, n_estimators=100; total time=  19.0s\n",
            "[CV] END bootstrap=False, max_depth=110, max_features=auto, min_samples_leaf=1, min_samples_split=10, n_estimators=100; total time=  20.4s\n",
            "[CV] END bootstrap=False, max_depth=110, max_features=auto, min_samples_leaf=1, min_samples_split=10, n_estimators=100; total time=  20.1s\n",
            "[CV] END bootstrap=False, max_depth=110, max_features=auto, min_samples_leaf=1, min_samples_split=10, n_estimators=100; total time=  19.8s\n",
            "[CV] END bootstrap=True, max_depth=80, max_features=auto, min_samples_leaf=2, min_samples_split=2, n_estimators=200; total time=  25.1s\n",
            "[CV] END bootstrap=True, max_depth=80, max_features=auto, min_samples_leaf=2, min_samples_split=2, n_estimators=200; total time=  25.1s\n",
            "[CV] END bootstrap=True, max_depth=80, max_features=auto, min_samples_leaf=2, min_samples_split=2, n_estimators=200; total time=  24.9s\n",
            "[CV] END bootstrap=False, max_depth=10, max_features=auto, min_samples_leaf=2, min_samples_split=10, n_estimators=100; total time=  12.4s\n",
            "[CV] END bootstrap=False, max_depth=10, max_features=auto, min_samples_leaf=2, min_samples_split=10, n_estimators=100; total time=  11.2s\n",
            "[CV] END bootstrap=False, max_depth=10, max_features=auto, min_samples_leaf=2, min_samples_split=10, n_estimators=100; total time=  11.3s\n",
            "[CV] END bootstrap=False, max_depth=60, max_features=sqrt, min_samples_leaf=2, min_samples_split=2, n_estimators=100; total time=  19.7s\n",
            "[CV] END bootstrap=False, max_depth=60, max_features=sqrt, min_samples_leaf=2, min_samples_split=2, n_estimators=100; total time=  19.8s\n",
            "[CV] END bootstrap=False, max_depth=60, max_features=sqrt, min_samples_leaf=2, min_samples_split=2, n_estimators=100; total time=  19.5s\n",
            "[CV] END bootstrap=False, max_depth=60, max_features=sqrt, min_samples_leaf=2, min_samples_split=5, n_estimators=100; total time=  20.0s\n",
            "[CV] END bootstrap=False, max_depth=60, max_features=sqrt, min_samples_leaf=2, min_samples_split=5, n_estimators=100; total time=  20.2s\n",
            "[CV] END bootstrap=False, max_depth=60, max_features=sqrt, min_samples_leaf=2, min_samples_split=5, n_estimators=100; total time=  19.5s\n",
            "[CV] END bootstrap=False, max_depth=70, max_features=auto, min_samples_leaf=1, min_samples_split=5, n_estimators=100; total time=  20.0s\n",
            "[CV] END bootstrap=False, max_depth=70, max_features=auto, min_samples_leaf=1, min_samples_split=5, n_estimators=100; total time=  20.2s\n",
            "[CV] END bootstrap=False, max_depth=70, max_features=auto, min_samples_leaf=1, min_samples_split=5, n_estimators=100; total time=  21.0s\n",
            "[CV] END bootstrap=False, max_depth=None, max_features=auto, min_samples_leaf=4, min_samples_split=5, n_estimators=100; total time=  19.1s\n",
            "[CV] END bootstrap=False, max_depth=None, max_features=auto, min_samples_leaf=4, min_samples_split=5, n_estimators=100; total time=  18.9s\n",
            "[CV] END bootstrap=False, max_depth=None, max_features=auto, min_samples_leaf=4, min_samples_split=5, n_estimators=100; total time=  18.9s\n",
            "[CV] END bootstrap=False, max_depth=100, max_features=auto, min_samples_leaf=1, min_samples_split=10, n_estimators=100; total time=  20.2s\n",
            "[CV] END bootstrap=False, max_depth=100, max_features=auto, min_samples_leaf=1, min_samples_split=10, n_estimators=100; total time=  19.9s\n",
            "[CV] END bootstrap=False, max_depth=100, max_features=auto, min_samples_leaf=1, min_samples_split=10, n_estimators=100; total time=  19.7s\n",
            "[CV] END bootstrap=False, max_depth=10, max_features=auto, min_samples_leaf=4, min_samples_split=5, n_estimators=200; total time=  22.6s\n",
            "[CV] END bootstrap=False, max_depth=10, max_features=auto, min_samples_leaf=4, min_samples_split=5, n_estimators=200; total time=  22.4s\n",
            "[CV] END bootstrap=False, max_depth=10, max_features=auto, min_samples_leaf=4, min_samples_split=5, n_estimators=200; total time=  23.5s\n",
            "[CV] END bootstrap=False, max_depth=70, max_features=sqrt, min_samples_leaf=2, min_samples_split=2, n_estimators=200; total time=  39.3s\n",
            "[CV] END bootstrap=False, max_depth=70, max_features=sqrt, min_samples_leaf=2, min_samples_split=2, n_estimators=200; total time=  39.6s\n",
            "[CV] END bootstrap=False, max_depth=70, max_features=sqrt, min_samples_leaf=2, min_samples_split=2, n_estimators=200; total time=  38.8s\n",
            "[CV] END bootstrap=False, max_depth=40, max_features=auto, min_samples_leaf=1, min_samples_split=10, n_estimators=100; total time=  20.1s\n",
            "[CV] END bootstrap=False, max_depth=40, max_features=auto, min_samples_leaf=1, min_samples_split=10, n_estimators=100; total time=  19.9s\n",
            "[CV] END bootstrap=False, max_depth=40, max_features=auto, min_samples_leaf=1, min_samples_split=10, n_estimators=100; total time=  19.9s\n",
            "[CV] END bootstrap=False, max_depth=60, max_features=sqrt, min_samples_leaf=1, min_samples_split=5, n_estimators=200; total time=  41.1s\n",
            "[CV] END bootstrap=False, max_depth=60, max_features=sqrt, min_samples_leaf=1, min_samples_split=5, n_estimators=200; total time=  40.4s\n",
            "[CV] END bootstrap=False, max_depth=60, max_features=sqrt, min_samples_leaf=1, min_samples_split=5, n_estimators=200; total time=  39.8s\n",
            "[CV] END bootstrap=True, max_depth=20, max_features=sqrt, min_samples_leaf=2, min_samples_split=5, n_estimators=200; total time=  21.8s\n",
            "[CV] END bootstrap=True, max_depth=20, max_features=sqrt, min_samples_leaf=2, min_samples_split=5, n_estimators=200; total time=  22.6s\n",
            "[CV] END bootstrap=True, max_depth=20, max_features=sqrt, min_samples_leaf=2, min_samples_split=5, n_estimators=200; total time=  22.4s\n",
            "[CV] END bootstrap=False, max_depth=100, max_features=sqrt, min_samples_leaf=4, min_samples_split=10, n_estimators=100; total time=  20.2s\n",
            "[CV] END bootstrap=False, max_depth=100, max_features=sqrt, min_samples_leaf=4, min_samples_split=10, n_estimators=100; total time=  19.3s\n",
            "[CV] END bootstrap=False, max_depth=100, max_features=sqrt, min_samples_leaf=4, min_samples_split=10, n_estimators=100; total time=  18.9s\n",
            "[CV] END bootstrap=False, max_depth=30, max_features=sqrt, min_samples_leaf=2, min_samples_split=2, n_estimators=200; total time=  37.8s\n",
            "[CV] END bootstrap=False, max_depth=30, max_features=sqrt, min_samples_leaf=2, min_samples_split=2, n_estimators=200; total time=  38.5s\n",
            "[CV] END bootstrap=False, max_depth=30, max_features=sqrt, min_samples_leaf=2, min_samples_split=2, n_estimators=200; total time=  38.2s\n",
            "[CV] END bootstrap=True, max_depth=100, max_features=auto, min_samples_leaf=2, min_samples_split=2, n_estimators=200; total time=  25.1s\n",
            "[CV] END bootstrap=True, max_depth=100, max_features=auto, min_samples_leaf=2, min_samples_split=2, n_estimators=200; total time=  25.8s\n",
            "[CV] END bootstrap=True, max_depth=100, max_features=auto, min_samples_leaf=2, min_samples_split=2, n_estimators=200; total time=  24.8s\n",
            "[CV] END bootstrap=True, max_depth=20, max_features=sqrt, min_samples_leaf=2, min_samples_split=10, n_estimators=200; total time=  21.5s\n",
            "[CV] END bootstrap=True, max_depth=20, max_features=sqrt, min_samples_leaf=2, min_samples_split=10, n_estimators=200; total time=  22.4s\n",
            "[CV] END bootstrap=True, max_depth=20, max_features=sqrt, min_samples_leaf=2, min_samples_split=10, n_estimators=200; total time=  22.2s\n",
            "[CV] END bootstrap=False, max_depth=70, max_features=sqrt, min_samples_leaf=2, min_samples_split=2, n_estimators=100; total time=  19.8s\n",
            "[CV] END bootstrap=False, max_depth=70, max_features=sqrt, min_samples_leaf=2, min_samples_split=2, n_estimators=100; total time=  19.9s\n",
            "[CV] END bootstrap=False, max_depth=70, max_features=sqrt, min_samples_leaf=2, min_samples_split=2, n_estimators=100; total time=  19.5s\n",
            "[CV] END bootstrap=True, max_depth=40, max_features=auto, min_samples_leaf=4, min_samples_split=2, n_estimators=100; total time=  12.0s\n",
            "[CV] END bootstrap=True, max_depth=40, max_features=auto, min_samples_leaf=4, min_samples_split=2, n_estimators=100; total time=  12.6s\n",
            "[CV] END bootstrap=True, max_depth=40, max_features=auto, min_samples_leaf=4, min_samples_split=2, n_estimators=100; total time=  12.9s\n",
            "[CV] END bootstrap=True, max_depth=30, max_features=auto, min_samples_leaf=2, min_samples_split=2, n_estimators=100; total time=  12.4s\n",
            "[CV] END bootstrap=True, max_depth=30, max_features=auto, min_samples_leaf=2, min_samples_split=2, n_estimators=100; total time=  12.3s\n",
            "[CV] END bootstrap=True, max_depth=30, max_features=auto, min_samples_leaf=2, min_samples_split=2, n_estimators=100; total time=  12.2s\n",
            "[CV] END bootstrap=False, max_depth=40, max_features=sqrt, min_samples_leaf=2, min_samples_split=10, n_estimators=200; total time=  38.9s\n",
            "[CV] END bootstrap=False, max_depth=40, max_features=sqrt, min_samples_leaf=2, min_samples_split=10, n_estimators=200; total time=  39.0s\n",
            "[CV] END bootstrap=False, max_depth=40, max_features=sqrt, min_samples_leaf=2, min_samples_split=10, n_estimators=200; total time=  38.3s\n",
            "[CV] END bootstrap=True, max_depth=80, max_features=auto, min_samples_leaf=4, min_samples_split=5, n_estimators=100; total time=  12.3s\n",
            "[CV] END bootstrap=True, max_depth=80, max_features=auto, min_samples_leaf=4, min_samples_split=5, n_estimators=100; total time=  12.4s\n",
            "[CV] END bootstrap=True, max_depth=80, max_features=auto, min_samples_leaf=4, min_samples_split=5, n_estimators=100; total time=  12.9s\n",
            "[CV] END bootstrap=False, max_depth=30, max_features=auto, min_samples_leaf=2, min_samples_split=5, n_estimators=200; total time=  37.8s\n",
            "[CV] END bootstrap=False, max_depth=30, max_features=auto, min_samples_leaf=2, min_samples_split=5, n_estimators=200; total time=  38.7s\n",
            "[CV] END bootstrap=False, max_depth=30, max_features=auto, min_samples_leaf=2, min_samples_split=5, n_estimators=200; total time=  38.2s\n",
            "[CV] END bootstrap=False, max_depth=80, max_features=sqrt, min_samples_leaf=2, min_samples_split=2, n_estimators=100; total time=  20.0s\n",
            "[CV] END bootstrap=False, max_depth=80, max_features=sqrt, min_samples_leaf=2, min_samples_split=2, n_estimators=100; total time=  20.0s\n",
            "[CV] END bootstrap=False, max_depth=80, max_features=sqrt, min_samples_leaf=2, min_samples_split=2, n_estimators=100; total time=  19.6s\n",
            "[CV] END bootstrap=True, max_depth=None, max_features=sqrt, min_samples_leaf=4, min_samples_split=2, n_estimators=100; total time=  13.1s\n",
            "[CV] END bootstrap=True, max_depth=None, max_features=sqrt, min_samples_leaf=4, min_samples_split=2, n_estimators=100; total time=  12.3s\n",
            "[CV] END bootstrap=True, max_depth=None, max_features=sqrt, min_samples_leaf=4, min_samples_split=2, n_estimators=100; total time=  11.9s\n",
            "[CV] END bootstrap=False, max_depth=90, max_features=sqrt, min_samples_leaf=1, min_samples_split=10, n_estimators=100; total time=  20.4s\n",
            "[CV] END bootstrap=False, max_depth=90, max_features=sqrt, min_samples_leaf=1, min_samples_split=10, n_estimators=100; total time=  19.9s\n",
            "[CV] END bootstrap=False, max_depth=90, max_features=sqrt, min_samples_leaf=1, min_samples_split=10, n_estimators=100; total time=  19.8s\n",
            "[CV] END bootstrap=False, max_depth=30, max_features=sqrt, min_samples_leaf=1, min_samples_split=2, n_estimators=200; total time=  38.2s\n",
            "[CV] END bootstrap=False, max_depth=30, max_features=sqrt, min_samples_leaf=1, min_samples_split=2, n_estimators=200; total time=  39.4s\n",
            "[CV] END bootstrap=False, max_depth=30, max_features=sqrt, min_samples_leaf=1, min_samples_split=2, n_estimators=200; total time=  40.1s\n",
            "[CV] END bootstrap=True, max_depth=40, max_features=auto, min_samples_leaf=1, min_samples_split=5, n_estimators=100; total time=  13.0s\n",
            "[CV] END bootstrap=True, max_depth=40, max_features=auto, min_samples_leaf=1, min_samples_split=5, n_estimators=100; total time=  12.8s\n",
            "[CV] END bootstrap=True, max_depth=40, max_features=auto, min_samples_leaf=1, min_samples_split=5, n_estimators=100; total time=  12.7s\n",
            "[CV] END bootstrap=False, max_depth=60, max_features=sqrt, min_samples_leaf=1, min_samples_split=10, n_estimators=100; total time=  20.3s\n",
            "[CV] END bootstrap=False, max_depth=60, max_features=sqrt, min_samples_leaf=1, min_samples_split=10, n_estimators=100; total time=  21.0s\n",
            "[CV] END bootstrap=False, max_depth=60, max_features=sqrt, min_samples_leaf=1, min_samples_split=10, n_estimators=100; total time=  19.7s\n",
            "[CV] END bootstrap=True, max_depth=20, max_features=auto, min_samples_leaf=4, min_samples_split=2, n_estimators=200; total time=  21.1s\n",
            "[CV] END bootstrap=True, max_depth=20, max_features=auto, min_samples_leaf=4, min_samples_split=2, n_estimators=200; total time=  21.8s\n",
            "[CV] END bootstrap=True, max_depth=20, max_features=auto, min_samples_leaf=4, min_samples_split=2, n_estimators=200; total time=  22.0s\n",
            "[CV] END bootstrap=False, max_depth=60, max_features=sqrt, min_samples_leaf=2, min_samples_split=10, n_estimators=100; total time=  20.0s\n",
            "[CV] END bootstrap=False, max_depth=60, max_features=sqrt, min_samples_leaf=2, min_samples_split=10, n_estimators=100; total time=  19.6s\n",
            "[CV] END bootstrap=False, max_depth=60, max_features=sqrt, min_samples_leaf=2, min_samples_split=10, n_estimators=100; total time=  19.1s\n"
          ]
        },
        {
          "output_type": "execute_result",
          "data": {
            "text/plain": [
              "RandomizedSearchCV(cv=3, estimator=RandomForestClassifier(random_state=42),\n",
              "                   n_iter=100,\n",
              "                   param_distributions={'bootstrap': [True, False],\n",
              "                                        'max_depth': [10, 20, 30, 40, 50, 60,\n",
              "                                                      70, 80, 90, 100, 110,\n",
              "                                                      None],\n",
              "                                        'max_features': ['auto', 'sqrt'],\n",
              "                                        'min_samples_leaf': [1, 2, 4],\n",
              "                                        'min_samples_split': [2, 5, 10],\n",
              "                                        'n_estimators': [100, 200]},\n",
              "                   random_state=42, verbose=2)"
            ]
          },
          "metadata": {},
          "execution_count": 105
        }
      ]
    },
    {
      "cell_type": "code",
      "source": [
        "import pickle\n",
        "filename = 'grid_search_rfc.sav'\n",
        "pickle.dump(rf_random, open(f\"/content/gdrive/My Drive/BT4222/{filename}\", 'wb'))"
      ],
      "metadata": {
        "id": "rMosouWy22rT"
      },
      "execution_count": null,
      "outputs": []
    },
    {
      "cell_type": "code",
      "source": [
        "print(rf_random.best_params_)\n"
      ],
      "metadata": {
        "colab": {
          "base_uri": "https://localhost:8080/"
        },
        "id": "5H3iXoV29Ekk",
        "outputId": "850f0c62-a11f-49d0-ac12-a81f6d129f82"
      },
      "execution_count": null,
      "outputs": [
        {
          "output_type": "stream",
          "name": "stdout",
          "text": [
            "{'n_estimators': 200, 'min_samples_split': 2, 'min_samples_leaf': 1, 'max_features': 'sqrt', 'max_depth': 30, 'bootstrap': False}\n"
          ]
        }
      ]
    },
    {
      "cell_type": "markdown",
      "source": [
        "#Random Forest Hyperparameter Tuned"
      ],
      "metadata": {
        "id": "k8K2Xi9nNg-L"
      }
    },
    {
      "cell_type": "code",
      "source": [
        "rfc_tuned = RandomForestClassifier(n_estimators=200, min_samples_split=2, min_samples_leaf=1, max_features='sqrt', max_depth=30, bootstrap=False, random_state=42)\n",
        "rfc_tuned.fit(X_train_smote, y_train_smote)"
      ],
      "metadata": {
        "colab": {
          "base_uri": "https://localhost:8080/"
        },
        "id": "wB8P99vqNfWu",
        "outputId": "a8569fca-62f6-423d-d507-ea1e83ab5c51"
      },
      "execution_count": null,
      "outputs": [
        {
          "output_type": "execute_result",
          "data": {
            "text/plain": [
              "RandomForestClassifier(bootstrap=False, max_depth=30, max_features='sqrt',\n",
              "                       n_estimators=200, random_state=42)"
            ]
          },
          "metadata": {},
          "execution_count": 44
        }
      ]
    },
    {
      "cell_type": "code",
      "source": [
        "rfc_tuned.score(X_test, y_test)\n",
        "rfc_tuned_predicted = rfc_tuned.predict(X_test)"
      ],
      "metadata": {
        "id": "rQjIUywwODos"
      },
      "execution_count": null,
      "outputs": []
    },
    {
      "cell_type": "code",
      "source": [
        "import pickle\n",
        "filename = 'model_rfc_tuned.sav'\n",
        "pickle.dump(rfc_tuned, open(f\"/content/drive/MyDrive/BT4222/models/{filename}\", 'wb'))"
      ],
      "metadata": {
        "id": "p4ity4JIOazw"
      },
      "execution_count": null,
      "outputs": []
    },
    {
      "cell_type": "code",
      "source": [
        "from sklearn.metrics import classification_report\n",
        "print(classification_report(y_test,rfc_tuned_predicted))"
      ],
      "metadata": {
        "colab": {
          "base_uri": "https://localhost:8080/"
        },
        "id": "7ChoBPS9Olts",
        "outputId": "386d07e9-6a57-4820-8dab-1f809453e62d"
      },
      "execution_count": null,
      "outputs": [
        {
          "output_type": "stream",
          "name": "stdout",
          "text": [
            "              precision    recall  f1-score   support\n",
            "\n",
            "           0       0.94      0.94      0.94     15981\n",
            "           1       0.66      0.63      0.64      2775\n",
            "\n",
            "    accuracy                           0.90     18756\n",
            "   macro avg       0.80      0.79      0.79     18756\n",
            "weighted avg       0.90      0.90      0.90     18756\n",
            "\n"
          ]
        }
      ]
    },
    {
      "cell_type": "code",
      "source": [
        "plot_confusion_matrix(rfc_tuned, X_test, y_test) "
      ],
      "metadata": {
        "colab": {
          "base_uri": "https://localhost:8080/",
          "height": 386
        },
        "id": "JPRv-htzQkMv",
        "outputId": "b7b8fd36-726c-4a50-c266-1031982a3337"
      },
      "execution_count": null,
      "outputs": [
        {
          "output_type": "stream",
          "name": "stderr",
          "text": [
            "/usr/local/lib/python3.7/dist-packages/sklearn/utils/deprecation.py:87: FutureWarning: Function plot_confusion_matrix is deprecated; Function `plot_confusion_matrix` is deprecated in 1.0 and will be removed in 1.2. Use one of the class methods: ConfusionMatrixDisplay.from_predictions or ConfusionMatrixDisplay.from_estimator.\n",
            "  warnings.warn(msg, category=FutureWarning)\n",
            "/usr/local/lib/python3.7/dist-packages/sklearn/base.py:444: UserWarning: X has feature names, but RandomForestClassifier was fitted without feature names\n",
            "  f\"X has feature names, but {self.__class__.__name__} was fitted without\"\n"
          ]
        },
        {
          "output_type": "execute_result",
          "data": {
            "text/plain": [
              "<sklearn.metrics._plot.confusion_matrix.ConfusionMatrixDisplay at 0x7f8d87829ad0>"
            ]
          },
          "metadata": {},
          "execution_count": 58
        },
        {
          "output_type": "display_data",
          "data": {
            "text/plain": [
              "<Figure size 432x288 with 2 Axes>"
            ],
            "image/png": "[encoded data removed]"
          },
          "metadata": {
            "needs_background": "light"
          }
        }
      ]
    },
    {
      "cell_type": "markdown",
      "source": [
        "Random Forest with Scaling"
      ],
      "metadata": {
        "id": "oUKMpWB6RYfu"
      }
    },
    {
      "cell_type": "code",
      "source": [
        "from sklearn.pipeline import Pipeline"
      ],
      "metadata": {
        "id": "BuzI8zQqRbY3"
      },
      "execution_count": null,
      "outputs": []
    },
    {
      "cell_type": "code",
      "source": [
        "pipe = Pipeline([('scaler', MinMaxScaler()), ('rfc', rfc_tuned)])\n",
        "pipe.fit(X_train_smote, y_train_smote)\n",
        "pipe.score(X_test, y_test)"
      ],
      "metadata": {
        "id": "r06p1H9p4rLn",
        "colab": {
          "base_uri": "https://localhost:8080/"
        },
        "outputId": "3709951f-8eb4-412f-ad0f-898f3a8c9afe"
      },
      "execution_count": null,
      "outputs": [
        {
          "output_type": "execute_result",
          "data": {
            "text/plain": [
              "0.8967796971635743"
            ]
          },
          "metadata": {},
          "execution_count": 60
        }
      ]
    },
    {
      "cell_type": "code",
      "source": [
        "pipe_predicted = pipe.predict(X_test)"
      ],
      "metadata": {
        "id": "MuDcDEKwTidL"
      },
      "execution_count": null,
      "outputs": []
    },
    {
      "cell_type": "code",
      "source": [
        "from sklearn.metrics import classification_report\n",
        "print(classification_report(y_test,pipe_predicted))"
      ],
      "metadata": {
        "colab": {
          "base_uri": "https://localhost:8080/"
        },
        "id": "Yue304qOTgKU",
        "outputId": "bee1ce52-b8e8-42ce-9362-eb8507018834"
      },
      "execution_count": null,
      "outputs": [
        {
          "output_type": "stream",
          "name": "stdout",
          "text": [
            "              precision    recall  f1-score   support\n",
            "\n",
            "           0       0.94      0.94      0.94     15981\n",
            "           1       0.66      0.63      0.64      2775\n",
            "\n",
            "    accuracy                           0.90     18756\n",
            "   macro avg       0.80      0.79      0.79     18756\n",
            "weighted avg       0.90      0.90      0.90     18756\n",
            "\n"
          ]
        }
      ]
    },
    {
      "cell_type": "code",
      "source": [
        "plot_confusion_matrix(pipe, X_test, y_test) "
      ],
      "metadata": {
        "colab": {
          "base_uri": "https://localhost:8080/",
          "height": 351
        },
        "id": "Rlrep1HATtZN",
        "outputId": "35a37c74-7983-4e5e-b557-f945938e607a"
      },
      "execution_count": null,
      "outputs": [
        {
          "output_type": "stream",
          "name": "stderr",
          "text": [
            "/usr/local/lib/python3.7/dist-packages/sklearn/utils/deprecation.py:87: FutureWarning: Function plot_confusion_matrix is deprecated; Function `plot_confusion_matrix` is deprecated in 1.0 and will be removed in 1.2. Use one of the class methods: ConfusionMatrixDisplay.from_predictions or ConfusionMatrixDisplay.from_estimator.\n",
            "  warnings.warn(msg, category=FutureWarning)\n"
          ]
        },
        {
          "output_type": "execute_result",
          "data": {
            "text/plain": [
              "<sklearn.metrics._plot.confusion_matrix.ConfusionMatrixDisplay at 0x7f8d7a2dc510>"
            ]
          },
          "metadata": {},
          "execution_count": 63
        },
        {
          "output_type": "display_data",
          "data": {
            "text/plain": [
              "<Figure size 432x288 with 2 Axes>"
            ],
            "image/png": "[encoded data removed]"
          },
          "metadata": {
            "needs_background": "light"
          }
        }
      ]
    },
    {
      "cell_type": "markdown",
      "source": [
        "Hyperparameter Tuning of Scaled Set"
      ],
      "metadata": {
        "id": "E1nxuFxDdseM"
      }
    },
    {
      "cell_type": "code",
      "source": [
        "#Scaling\n",
        "scaler = MinMaxScaler()\n",
        "X_train_smote_scaled = scaler.fit_transform(X_train_smote)\n",
        "X_test_scaled = scaler.transform(X_test)"
      ],
      "metadata": {
        "id": "Ia7zPiEHdv0A"
      },
      "execution_count": null,
      "outputs": []
    },
    {
      "cell_type": "code",
      "source": [
        "rfc_temp = RandomForestClassifier(n_estimators=250, random_state=42, min_samples_leaf=2, max_features='sqrt')\n",
        "rfc_temp.fit(X_train_smote_scaled, y_train_smote)\n",
        "rfc_temp.score(X_test_scaled, y_test)"
      ],
      "metadata": {
        "colab": {
          "base_uri": "https://localhost:8080/"
        },
        "id": "r-wdsRLMYM06",
        "outputId": "9d7b76f7-44bd-4844-e341-6ac9a2d27993"
      },
      "execution_count": null,
      "outputs": [
        {
          "output_type": "execute_result",
          "data": {
            "text/plain": [
              "0.8948069950949029"
            ]
          },
          "metadata": {},
          "execution_count": 65
        }
      ]
    },
    {
      "cell_type": "code",
      "source": [
        "rf_random_scaled = RandomizedSearchCV(estimator = RandomForestClassifier(n_estimators=100, random_state=42), param_distributions = random_grid, n_iter = 100, cv = 3, verbose=2, random_state=42,)\n",
        "rf_random_scaled.fit(X_train_smote_scaled, y_train_smote)"
      ],
      "metadata": {
        "colab": {
          "base_uri": "https://localhost:8080/"
        },
        "id": "B6GTHE2RekfJ",
        "outputId": "4316d182-dc5a-47ef-fc25-9fa968c6e310"
      },
      "execution_count": null,
      "outputs": [
        {
          "metadata": {
            "tags": null
          },
          "name": "stdout",
          "output_type": "stream",
          "text": [
            "Fitting 3 folds for each of 100 candidates, totalling 300 fits\n",
            "[CV] END bootstrap=True, max_depth=None, max_features=auto, min_samples_leaf=1, min_samples_split=5, n_estimators=200; total time=  34.3s\n",
            "[CV] END bootstrap=True, max_depth=None, max_features=auto, min_samples_leaf=1, min_samples_split=5, n_estimators=200; total time=  35.1s\n",
            "[CV] END bootstrap=True, max_depth=None, max_features=auto, min_samples_leaf=1, min_samples_split=5, n_estimators=200; total time=  37.3s\n",
            "[CV] END bootstrap=True, max_depth=70, max_features=auto, min_samples_leaf=4, min_samples_split=5, n_estimators=200; total time=  32.1s\n",
            "[CV] END bootstrap=True, max_depth=70, max_features=auto, min_samples_leaf=4, min_samples_split=5, n_estimators=200; total time=  32.7s\n",
            "[CV] END bootstrap=True, max_depth=70, max_features=auto, min_samples_leaf=4, min_samples_split=5, n_estimators=200; total time=  31.6s\n",
            "[CV] END bootstrap=False, max_depth=20, max_features=sqrt, min_samples_leaf=2, min_samples_split=10, n_estimators=200; total time=  45.2s\n",
            "[CV] END bootstrap=False, max_depth=20, max_features=sqrt, min_samples_leaf=2, min_samples_split=10, n_estimators=200; total time=  48.6s\n",
            "[CV] END bootstrap=False, max_depth=20, max_features=sqrt, min_samples_leaf=2, min_samples_split=10, n_estimators=200; total time=  47.4s\n",
            "[CV] END bootstrap=False, max_depth=80, max_features=auto, min_samples_leaf=1, min_samples_split=5, n_estimators=100; total time=  27.1s\n",
            "[CV] END bootstrap=False, max_depth=80, max_features=auto, min_samples_leaf=1, min_samples_split=5, n_estimators=100; total time=  29.3s\n",
            "[CV] END bootstrap=False, max_depth=80, max_features=auto, min_samples_leaf=1, min_samples_split=5, n_estimators=100; total time=  27.4s\n",
            "[CV] END bootstrap=False, max_depth=100, max_features=auto, min_samples_leaf=4, min_samples_split=10, n_estimators=100; total time=  25.8s\n",
            "[CV] END bootstrap=False, max_depth=100, max_features=auto, min_samples_leaf=4, min_samples_split=10, n_estimators=100; total time=  27.1s\n",
            "[CV] END bootstrap=False, max_depth=100, max_features=auto, min_samples_leaf=4, min_samples_split=10, n_estimators=100; total time=  25.3s\n",
            "[CV] END bootstrap=False, max_depth=70, max_features=auto, min_samples_leaf=2, min_samples_split=5, n_estimators=300; total time= 1.3min\n",
            "[CV] END bootstrap=False, max_depth=70, max_features=auto, min_samples_leaf=2, min_samples_split=5, n_estimators=300; total time= 1.3min\n",
            "[CV] END bootstrap=False, max_depth=70, max_features=auto, min_samples_leaf=2, min_samples_split=5, n_estimators=300; total time= 1.3min\n",
            "[CV] END bootstrap=True, max_depth=90, max_features=sqrt, min_samples_leaf=4, min_samples_split=2, n_estimators=200; total time=  32.0s\n",
            "[CV] END bootstrap=True, max_depth=90, max_features=sqrt, min_samples_leaf=4, min_samples_split=2, n_estimators=200; total time=  32.2s\n",
            "[CV] END bootstrap=True, max_depth=90, max_features=sqrt, min_samples_leaf=4, min_samples_split=2, n_estimators=200; total time=  31.7s\n",
            "[CV] END bootstrap=True, max_depth=None, max_features=sqrt, min_samples_leaf=1, min_samples_split=10, n_estimators=200; total time=  34.7s\n",
            "[CV] END bootstrap=True, max_depth=None, max_features=sqrt, min_samples_leaf=1, min_samples_split=10, n_estimators=200; total time=  33.7s\n",
            "[CV] END bootstrap=True, max_depth=None, max_features=sqrt, min_samples_leaf=1, min_samples_split=10, n_estimators=200; total time=  33.7s\n",
            "[CV] END bootstrap=False, max_depth=50, max_features=auto, min_samples_leaf=4, min_samples_split=10, n_estimators=300; total time= 1.3min\n",
            "[CV] END bootstrap=False, max_depth=50, max_features=auto, min_samples_leaf=4, min_samples_split=10, n_estimators=300; total time= 1.3min\n",
            "[CV] END bootstrap=False, max_depth=50, max_features=auto, min_samples_leaf=4, min_samples_split=10, n_estimators=300; total time= 1.3min\n",
            "[CV] END bootstrap=True, max_depth=20, max_features=auto, min_samples_leaf=4, min_samples_split=5, n_estimators=200; total time=  28.6s\n",
            "[CV] END bootstrap=True, max_depth=20, max_features=auto, min_samples_leaf=4, min_samples_split=5, n_estimators=200; total time=  29.6s\n",
            "[CV] END bootstrap=True, max_depth=20, max_features=auto, min_samples_leaf=4, min_samples_split=5, n_estimators=200; total time=  30.5s\n",
            "[CV] END bootstrap=False, max_depth=20, max_features=sqrt, min_samples_leaf=1, min_samples_split=10, n_estimators=200; total time=  45.7s\n",
            "[CV] END bootstrap=False, max_depth=20, max_features=sqrt, min_samples_leaf=1, min_samples_split=10, n_estimators=200; total time=  47.6s\n",
            "[CV] END bootstrap=False, max_depth=20, max_features=sqrt, min_samples_leaf=1, min_samples_split=10, n_estimators=200; total time=  47.1s\n",
            "[CV] END bootstrap=False, max_depth=90, max_features=sqrt, min_samples_leaf=4, min_samples_split=10, n_estimators=100; total time=  25.5s\n",
            "[CV] END bootstrap=False, max_depth=90, max_features=sqrt, min_samples_leaf=4, min_samples_split=10, n_estimators=100; total time=  26.6s\n",
            "[CV] END bootstrap=False, max_depth=90, max_features=sqrt, min_samples_leaf=4, min_samples_split=10, n_estimators=100; total time=  25.2s\n",
            "[CV] END bootstrap=False, max_depth=20, max_features=auto, min_samples_leaf=4, min_samples_split=5, n_estimators=200; total time=  44.4s\n",
            "[CV] END bootstrap=False, max_depth=20, max_features=auto, min_samples_leaf=4, min_samples_split=5, n_estimators=200; total time=  45.6s\n",
            "[CV] END bootstrap=False, max_depth=20, max_features=auto, min_samples_leaf=4, min_samples_split=5, n_estimators=200; total time=  45.7s\n",
            "[CV] END bootstrap=True, max_depth=90, max_features=sqrt, min_samples_leaf=1, min_samples_split=5, n_estimators=100; total time=  16.7s\n",
            "[CV] END bootstrap=True, max_depth=90, max_features=sqrt, min_samples_leaf=1, min_samples_split=5, n_estimators=100; total time=  17.9s\n",
            "[CV] END bootstrap=True, max_depth=90, max_features=sqrt, min_samples_leaf=1, min_samples_split=5, n_estimators=100; total time=  16.8s\n",
            "[CV] END bootstrap=False, max_depth=60, max_features=sqrt, min_samples_leaf=4, min_samples_split=2, n_estimators=200; total time=  50.5s\n",
            "[CV] END bootstrap=False, max_depth=60, max_features=sqrt, min_samples_leaf=4, min_samples_split=2, n_estimators=200; total time=  51.1s\n",
            "[CV] END bootstrap=False, max_depth=60, max_features=sqrt, min_samples_leaf=4, min_samples_split=2, n_estimators=200; total time=  49.5s\n",
            "[CV] END bootstrap=True, max_depth=10, max_features=sqrt, min_samples_leaf=2, min_samples_split=10, n_estimators=300; total time=  32.3s\n",
            "[CV] END bootstrap=True, max_depth=10, max_features=sqrt, min_samples_leaf=2, min_samples_split=10, n_estimators=300; total time=  30.6s\n",
            "[CV] END bootstrap=True, max_depth=10, max_features=sqrt, min_samples_leaf=2, min_samples_split=10, n_estimators=300; total time=  31.1s\n",
            "[CV] END bootstrap=True, max_depth=20, max_features=auto, min_samples_leaf=2, min_samples_split=2, n_estimators=300; total time=  43.1s\n",
            "[CV] END bootstrap=True, max_depth=20, max_features=auto, min_samples_leaf=2, min_samples_split=2, n_estimators=300; total time=  45.6s\n",
            "[CV] END bootstrap=True, max_depth=20, max_features=auto, min_samples_leaf=2, min_samples_split=2, n_estimators=300; total time=  46.7s\n",
            "[CV] END bootstrap=False, max_depth=20, max_features=sqrt, min_samples_leaf=1, min_samples_split=2, n_estimators=300; total time= 1.1min\n",
            "[CV] END bootstrap=False, max_depth=20, max_features=sqrt, min_samples_leaf=1, min_samples_split=2, n_estimators=300; total time= 1.2min\n",
            "[CV] END bootstrap=False, max_depth=20, max_features=sqrt, min_samples_leaf=1, min_samples_split=2, n_estimators=300; total time= 1.2min\n",
            "[CV] END bootstrap=False, max_depth=10, max_features=auto, min_samples_leaf=4, min_samples_split=10, n_estimators=200; total time=  32.0s\n",
            "[CV] END bootstrap=False, max_depth=10, max_features=auto, min_samples_leaf=4, min_samples_split=10, n_estimators=200; total time=  32.0s\n",
            "[CV] END bootstrap=False, max_depth=10, max_features=auto, min_samples_leaf=4, min_samples_split=10, n_estimators=200; total time=  31.5s\n",
            "[CV] END bootstrap=True, max_depth=70, max_features=sqrt, min_samples_leaf=2, min_samples_split=5, n_estimators=100; total time=  16.5s\n",
            "[CV] END bootstrap=True, max_depth=70, max_features=sqrt, min_samples_leaf=2, min_samples_split=5, n_estimators=100; total time=  16.7s\n",
            "[CV] END bootstrap=True, max_depth=70, max_features=sqrt, min_samples_leaf=2, min_samples_split=5, n_estimators=100; total time=  16.5s\n",
            "[CV] END bootstrap=True, max_depth=80, max_features=sqrt, min_samples_leaf=4, min_samples_split=2, n_estimators=300; total time=  48.9s\n",
            "[CV] END bootstrap=True, max_depth=80, max_features=sqrt, min_samples_leaf=4, min_samples_split=2, n_estimators=300; total time=  47.3s\n",
            "[CV] END bootstrap=True, max_depth=80, max_features=sqrt, min_samples_leaf=4, min_samples_split=2, n_estimators=300; total time=  47.2s\n",
            "[CV] END bootstrap=False, max_depth=70, max_features=auto, min_samples_leaf=1, min_samples_split=5, n_estimators=300; total time= 1.3min\n",
            "[CV] END bootstrap=False, max_depth=70, max_features=auto, min_samples_leaf=1, min_samples_split=5, n_estimators=300; total time= 1.3min\n",
            "[CV] END bootstrap=False, max_depth=70, max_features=auto, min_samples_leaf=1, min_samples_split=5, n_estimators=300; total time= 1.3min\n",
            "[CV] END bootstrap=False, max_depth=80, max_features=auto, min_samples_leaf=4, min_samples_split=10, n_estimators=100; total time=  25.4s\n",
            "[CV] END bootstrap=False, max_depth=80, max_features=auto, min_samples_leaf=4, min_samples_split=10, n_estimators=100; total time=  26.9s\n",
            "[CV] END bootstrap=False, max_depth=80, max_features=auto, min_samples_leaf=4, min_samples_split=10, n_estimators=100; total time=  25.4s\n",
            "[CV] END bootstrap=True, max_depth=20, max_features=sqrt, min_samples_leaf=4, min_samples_split=2, n_estimators=300; total time=  43.6s\n",
            "[CV] END bootstrap=True, max_depth=20, max_features=sqrt, min_samples_leaf=4, min_samples_split=2, n_estimators=300; total time=  44.6s\n",
            "[CV] END bootstrap=True, max_depth=20, max_features=sqrt, min_samples_leaf=4, min_samples_split=2, n_estimators=300; total time=  44.2s\n",
            "[CV] END bootstrap=True, max_depth=90, max_features=sqrt, min_samples_leaf=4, min_samples_split=2, n_estimators=300; total time=  49.2s\n",
            "[CV] END bootstrap=True, max_depth=90, max_features=sqrt, min_samples_leaf=4, min_samples_split=2, n_estimators=300; total time=  47.9s\n",
            "[CV] END bootstrap=True, max_depth=90, max_features=sqrt, min_samples_leaf=4, min_samples_split=2, n_estimators=300; total time=  47.5s\n",
            "[CV] END bootstrap=True, max_depth=50, max_features=sqrt, min_samples_leaf=4, min_samples_split=5, n_estimators=200; total time=  31.7s\n",
            "[CV] END bootstrap=True, max_depth=50, max_features=sqrt, min_samples_leaf=4, min_samples_split=5, n_estimators=200; total time=  31.9s\n",
            "[CV] END bootstrap=True, max_depth=50, max_features=sqrt, min_samples_leaf=4, min_samples_split=5, n_estimators=200; total time=  31.5s\n",
            "[CV] END bootstrap=False, max_depth=110, max_features=auto, min_samples_leaf=4, min_samples_split=5, n_estimators=100; total time=  26.4s\n",
            "[CV] END bootstrap=False, max_depth=110, max_features=auto, min_samples_leaf=4, min_samples_split=5, n_estimators=100; total time=  25.6s\n",
            "[CV] END bootstrap=False, max_depth=110, max_features=auto, min_samples_leaf=4, min_samples_split=5, n_estimators=100; total time=  24.9s\n",
            "[CV] END bootstrap=True, max_depth=50, max_features=auto, min_samples_leaf=1, min_samples_split=2, n_estimators=300; total time=  50.4s\n",
            "[CV] END bootstrap=True, max_depth=50, max_features=auto, min_samples_leaf=1, min_samples_split=2, n_estimators=300; total time=  51.6s\n",
            "[CV] END bootstrap=True, max_depth=50, max_features=auto, min_samples_leaf=1, min_samples_split=2, n_estimators=300; total time=  52.5s\n",
            "[CV] END bootstrap=False, max_depth=40, max_features=sqrt, min_samples_leaf=1, min_samples_split=10, n_estimators=300; total time= 1.3min\n",
            "[CV] END bootstrap=False, max_depth=40, max_features=sqrt, min_samples_leaf=1, min_samples_split=10, n_estimators=300; total time= 1.3min\n",
            "[CV] END bootstrap=False, max_depth=40, max_features=sqrt, min_samples_leaf=1, min_samples_split=10, n_estimators=300; total time= 1.3min\n",
            "[CV] END bootstrap=True, max_depth=70, max_features=auto, min_samples_leaf=4, min_samples_split=2, n_estimators=100; total time=  16.0s\n",
            "[CV] END bootstrap=True, max_depth=70, max_features=auto, min_samples_leaf=4, min_samples_split=2, n_estimators=100; total time=  16.2s\n",
            "[CV] END bootstrap=True, max_depth=70, max_features=auto, min_samples_leaf=4, min_samples_split=2, n_estimators=100; total time=  15.8s\n",
            "[CV] END bootstrap=False, max_depth=None, max_features=auto, min_samples_leaf=2, min_samples_split=5, n_estimators=300; total time= 1.3min\n",
            "[CV] END bootstrap=False, max_depth=None, max_features=auto, min_samples_leaf=2, min_samples_split=5, n_estimators=300; total time= 1.3min\n",
            "[CV] END bootstrap=False, max_depth=None, max_features=auto, min_samples_leaf=2, min_samples_split=5, n_estimators=300; total time= 1.3min\n",
            "[CV] END bootstrap=True, max_depth=80, max_features=auto, min_samples_leaf=1, min_samples_split=5, n_estimators=100; total time=  16.9s\n",
            "[CV] END bootstrap=True, max_depth=80, max_features=auto, min_samples_leaf=1, min_samples_split=5, n_estimators=100; total time=  16.7s\n",
            "[CV] END bootstrap=True, max_depth=80, max_features=auto, min_samples_leaf=1, min_samples_split=5, n_estimators=100; total time=  16.8s\n",
            "[CV] END bootstrap=False, max_depth=30, max_features=auto, min_samples_leaf=4, min_samples_split=10, n_estimators=100; total time=  25.7s\n",
            "[CV] END bootstrap=False, max_depth=30, max_features=auto, min_samples_leaf=4, min_samples_split=10, n_estimators=100; total time=  24.9s\n",
            "[CV] END bootstrap=False, max_depth=30, max_features=auto, min_samples_leaf=4, min_samples_split=10, n_estimators=100; total time=  24.8s\n",
            "[CV] END bootstrap=False, max_depth=40, max_features=sqrt, min_samples_leaf=1, min_samples_split=10, n_estimators=100; total time=  26.2s\n",
            "[CV] END bootstrap=False, max_depth=40, max_features=sqrt, min_samples_leaf=1, min_samples_split=10, n_estimators=100; total time=  26.5s\n",
            "[CV] END bootstrap=False, max_depth=40, max_features=sqrt, min_samples_leaf=1, min_samples_split=10, n_estimators=100; total time=  26.2s\n",
            "[CV] END bootstrap=True, max_depth=None, max_features=auto, min_samples_leaf=2, min_samples_split=10, n_estimators=100; total time=  16.0s\n",
            "[CV] END bootstrap=True, max_depth=None, max_features=auto, min_samples_leaf=2, min_samples_split=10, n_estimators=100; total time=  16.1s\n",
            "[CV] END bootstrap=True, max_depth=None, max_features=auto, min_samples_leaf=2, min_samples_split=10, n_estimators=100; total time=  16.4s\n",
            "[CV] END bootstrap=True, max_depth=20, max_features=auto, min_samples_leaf=2, min_samples_split=2, n_estimators=100; total time=  14.5s\n",
            "[CV] END bootstrap=True, max_depth=20, max_features=auto, min_samples_leaf=2, min_samples_split=2, n_estimators=100; total time=  16.5s\n",
            "[CV] END bootstrap=True, max_depth=20, max_features=auto, min_samples_leaf=2, min_samples_split=2, n_estimators=100; total time=  15.4s\n",
            "[CV] END bootstrap=False, max_depth=60, max_features=auto, min_samples_leaf=4, min_samples_split=10, n_estimators=300; total time= 1.3min\n",
            "[CV] END bootstrap=False, max_depth=60, max_features=auto, min_samples_leaf=4, min_samples_split=10, n_estimators=300; total time= 1.3min\n",
            "[CV] END bootstrap=False, max_depth=60, max_features=auto, min_samples_leaf=4, min_samples_split=10, n_estimators=300; total time= 1.3min\n",
            "[CV] END bootstrap=False, max_depth=20, max_features=sqrt, min_samples_leaf=4, min_samples_split=10, n_estimators=300; total time= 1.1min\n",
            "[CV] END bootstrap=False, max_depth=20, max_features=sqrt, min_samples_leaf=4, min_samples_split=10, n_estimators=300; total time= 1.1min\n",
            "[CV] END bootstrap=False, max_depth=20, max_features=sqrt, min_samples_leaf=4, min_samples_split=10, n_estimators=300; total time= 1.2min\n",
            "[CV] END bootstrap=True, max_depth=90, max_features=auto, min_samples_leaf=2, min_samples_split=10, n_estimators=100; total time=  15.9s\n",
            "[CV] END bootstrap=True, max_depth=90, max_features=auto, min_samples_leaf=2, min_samples_split=10, n_estimators=100; total time=  16.1s\n",
            "[CV] END bootstrap=True, max_depth=90, max_features=auto, min_samples_leaf=2, min_samples_split=10, n_estimators=100; total time=  16.3s\n",
            "[CV] END bootstrap=True, max_depth=100, max_features=sqrt, min_samples_leaf=1, min_samples_split=2, n_estimators=200; total time=  33.3s\n",
            "[CV] END bootstrap=True, max_depth=100, max_features=sqrt, min_samples_leaf=1, min_samples_split=2, n_estimators=200; total time=  35.3s\n",
            "[CV] END bootstrap=True, max_depth=100, max_features=sqrt, min_samples_leaf=1, min_samples_split=2, n_estimators=200; total time=  33.7s\n",
            "[CV] END bootstrap=True, max_depth=20, max_features=auto, min_samples_leaf=4, min_samples_split=10, n_estimators=100; total time=  14.1s\n",
            "[CV] END bootstrap=True, max_depth=20, max_features=auto, min_samples_leaf=4, min_samples_split=10, n_estimators=100; total time=  16.0s\n",
            "[CV] END bootstrap=True, max_depth=20, max_features=auto, min_samples_leaf=4, min_samples_split=10, n_estimators=100; total time=  14.7s\n",
            "[CV] END bootstrap=False, max_depth=50, max_features=sqrt, min_samples_leaf=2, min_samples_split=5, n_estimators=200; total time=  51.9s\n",
            "[CV] END bootstrap=False, max_depth=50, max_features=sqrt, min_samples_leaf=2, min_samples_split=5, n_estimators=200; total time=  52.6s\n",
            "[CV] END bootstrap=False, max_depth=50, max_features=sqrt, min_samples_leaf=2, min_samples_split=5, n_estimators=200; total time=  52.1s\n",
            "[CV] END bootstrap=True, max_depth=60, max_features=sqrt, min_samples_leaf=2, min_samples_split=5, n_estimators=100; total time=  16.5s\n",
            "[CV] END bootstrap=True, max_depth=60, max_features=sqrt, min_samples_leaf=2, min_samples_split=5, n_estimators=100; total time=  17.8s\n",
            "[CV] END bootstrap=True, max_depth=60, max_features=sqrt, min_samples_leaf=2, min_samples_split=5, n_estimators=100; total time=  16.6s\n",
            "[CV] END bootstrap=False, max_depth=10, max_features=auto, min_samples_leaf=4, min_samples_split=10, n_estimators=100; total time=  16.0s\n",
            "[CV] END bootstrap=False, max_depth=10, max_features=auto, min_samples_leaf=4, min_samples_split=10, n_estimators=100; total time=  15.7s\n",
            "[CV] END bootstrap=False, max_depth=10, max_features=auto, min_samples_leaf=4, min_samples_split=10, n_estimators=100; total time=  15.7s\n",
            "[CV] END bootstrap=False, max_depth=100, max_features=sqrt, min_samples_leaf=1, min_samples_split=2, n_estimators=300; total time= 1.3min\n",
            "[CV] END bootstrap=False, max_depth=100, max_features=sqrt, min_samples_leaf=1, min_samples_split=2, n_estimators=300; total time= 1.4min\n",
            "[CV] END bootstrap=False, max_depth=100, max_features=sqrt, min_samples_leaf=1, min_samples_split=2, n_estimators=300; total time= 1.3min\n",
            "[CV] END bootstrap=False, max_depth=90, max_features=sqrt, min_samples_leaf=1, min_samples_split=5, n_estimators=300; total time= 1.3min\n",
            "[CV] END bootstrap=False, max_depth=90, max_features=sqrt, min_samples_leaf=1, min_samples_split=5, n_estimators=300; total time= 1.4min\n",
            "[CV] END bootstrap=False, max_depth=90, max_features=sqrt, min_samples_leaf=1, min_samples_split=5, n_estimators=300; total time= 1.3min\n",
            "[CV] END bootstrap=False, max_depth=80, max_features=auto, min_samples_leaf=4, min_samples_split=10, n_estimators=300; total time= 1.3min\n",
            "[CV] END bootstrap=False, max_depth=80, max_features=auto, min_samples_leaf=4, min_samples_split=10, n_estimators=300; total time= 1.3min\n",
            "[CV] END bootstrap=False, max_depth=80, max_features=auto, min_samples_leaf=4, min_samples_split=10, n_estimators=300; total time= 1.3min\n",
            "[CV] END bootstrap=True, max_depth=40, max_features=sqrt, min_samples_leaf=2, min_samples_split=2, n_estimators=100; total time=  16.7s\n",
            "[CV] END bootstrap=True, max_depth=40, max_features=sqrt, min_samples_leaf=2, min_samples_split=2, n_estimators=100; total time=  16.5s\n",
            "[CV] END bootstrap=True, max_depth=40, max_features=sqrt, min_samples_leaf=2, min_samples_split=2, n_estimators=100; total time=  16.4s\n",
            "[CV] END bootstrap=False, max_depth=80, max_features=auto, min_samples_leaf=1, min_samples_split=5, n_estimators=300; total time= 1.4min\n",
            "[CV] END bootstrap=False, max_depth=80, max_features=auto, min_samples_leaf=1, min_samples_split=5, n_estimators=300; total time= 1.3min\n",
            "[CV] END bootstrap=False, max_depth=80, max_features=auto, min_samples_leaf=1, min_samples_split=5, n_estimators=300; total time= 1.4min\n",
            "[CV] END bootstrap=False, max_depth=50, max_features=sqrt, min_samples_leaf=4, min_samples_split=5, n_estimators=300; total time= 1.3min\n",
            "[CV] END bootstrap=False, max_depth=50, max_features=sqrt, min_samples_leaf=4, min_samples_split=5, n_estimators=300; total time= 1.3min\n",
            "[CV] END bootstrap=False, max_depth=50, max_features=sqrt, min_samples_leaf=4, min_samples_split=5, n_estimators=300; total time= 1.3min\n",
            "[CV] END bootstrap=True, max_depth=40, max_features=sqrt, min_samples_leaf=4, min_samples_split=2, n_estimators=200; total time=  32.1s\n",
            "[CV] END bootstrap=True, max_depth=40, max_features=sqrt, min_samples_leaf=4, min_samples_split=2, n_estimators=200; total time=  32.4s\n",
            "[CV] END bootstrap=True, max_depth=40, max_features=sqrt, min_samples_leaf=4, min_samples_split=2, n_estimators=200; total time=  31.7s\n",
            "[CV] END bootstrap=True, max_depth=110, max_features=auto, min_samples_leaf=4, min_samples_split=2, n_estimators=300; total time=  48.3s\n",
            "[CV] END bootstrap=True, max_depth=110, max_features=auto, min_samples_leaf=4, min_samples_split=2, n_estimators=300; total time=  49.7s\n",
            "[CV] END bootstrap=True, max_depth=110, max_features=auto, min_samples_leaf=4, min_samples_split=2, n_estimators=300; total time=  47.9s\n",
            "[CV] END bootstrap=False, max_depth=100, max_features=auto, min_samples_leaf=1, min_samples_split=5, n_estimators=200; total time=  53.9s\n",
            "[CV] END bootstrap=False, max_depth=100, max_features=auto, min_samples_leaf=1, min_samples_split=5, n_estimators=200; total time=  54.2s\n",
            "[CV] END bootstrap=False, max_depth=100, max_features=auto, min_samples_leaf=1, min_samples_split=5, n_estimators=200; total time=  55.1s\n",
            "[CV] END bootstrap=False, max_depth=80, max_features=sqrt, min_samples_leaf=4, min_samples_split=10, n_estimators=200; total time=  50.8s\n",
            "[CV] END bootstrap=False, max_depth=80, max_features=sqrt, min_samples_leaf=4, min_samples_split=10, n_estimators=200; total time=  51.0s\n",
            "[CV] END bootstrap=False, max_depth=80, max_features=sqrt, min_samples_leaf=4, min_samples_split=10, n_estimators=200; total time=  50.8s\n",
            "[CV] END bootstrap=True, max_depth=100, max_features=sqrt, min_samples_leaf=2, min_samples_split=10, n_estimators=100; total time=  16.3s\n",
            "[CV] END bootstrap=True, max_depth=100, max_features=sqrt, min_samples_leaf=2, min_samples_split=10, n_estimators=100; total time=  16.5s\n",
            "[CV] END bootstrap=True, max_depth=100, max_features=sqrt, min_samples_leaf=2, min_samples_split=10, n_estimators=100; total time=  17.7s\n",
            "[CV] END bootstrap=True, max_depth=10, max_features=auto, min_samples_leaf=4, min_samples_split=5, n_estimators=300; total time=  31.2s\n",
            "[CV] END bootstrap=True, max_depth=10, max_features=auto, min_samples_leaf=4, min_samples_split=5, n_estimators=300; total time=  31.2s\n",
            "[CV] END bootstrap=True, max_depth=10, max_features=auto, min_samples_leaf=4, min_samples_split=5, n_estimators=300; total time=  31.1s\n",
            "[CV] END bootstrap=False, max_depth=70, max_features=auto, min_samples_leaf=4, min_samples_split=2, n_estimators=200; total time=  50.7s\n",
            "[CV] END bootstrap=False, max_depth=70, max_features=auto, min_samples_leaf=4, min_samples_split=2, n_estimators=200; total time=  51.1s\n",
            "[CV] END bootstrap=False, max_depth=70, max_features=auto, min_samples_leaf=4, min_samples_split=2, n_estimators=200; total time=  51.2s\n",
            "[CV] END bootstrap=False, max_depth=None, max_features=sqrt, min_samples_leaf=1, min_samples_split=5, n_estimators=200; total time=  53.5s\n",
            "[CV] END bootstrap=False, max_depth=None, max_features=sqrt, min_samples_leaf=1, min_samples_split=5, n_estimators=200; total time=  53.8s\n",
            "[CV] END bootstrap=False, max_depth=None, max_features=sqrt, min_samples_leaf=1, min_samples_split=5, n_estimators=200; total time=  53.8s\n",
            "[CV] END bootstrap=False, max_depth=10, max_features=auto, min_samples_leaf=4, min_samples_split=2, n_estimators=100; total time=  17.1s\n",
            "[CV] END bootstrap=False, max_depth=10, max_features=auto, min_samples_leaf=4, min_samples_split=2, n_estimators=100; total time=  15.9s\n",
            "[CV] END bootstrap=False, max_depth=10, max_features=auto, min_samples_leaf=4, min_samples_split=2, n_estimators=100; total time=  15.6s\n",
            "[CV] END bootstrap=True, max_depth=10, max_features=sqrt, min_samples_leaf=4, min_samples_split=10, n_estimators=100; total time=  10.5s\n",
            "[CV] END bootstrap=True, max_depth=10, max_features=sqrt, min_samples_leaf=4, min_samples_split=10, n_estimators=100; total time=  10.5s\n",
            "[CV] END bootstrap=True, max_depth=10, max_features=sqrt, min_samples_leaf=4, min_samples_split=10, n_estimators=100; total time=  10.3s\n",
            "[CV] END bootstrap=True, max_depth=None, max_features=sqrt, min_samples_leaf=1, min_samples_split=2, n_estimators=100; total time=  16.9s\n",
            "[CV] END bootstrap=True, max_depth=None, max_features=sqrt, min_samples_leaf=1, min_samples_split=2, n_estimators=100; total time=  16.9s\n",
            "[CV] END bootstrap=True, max_depth=None, max_features=sqrt, min_samples_leaf=1, min_samples_split=2, n_estimators=100; total time=  17.1s\n",
            "[CV] END bootstrap=True, max_depth=10, max_features=sqrt, min_samples_leaf=2, min_samples_split=10, n_estimators=200; total time=  21.4s\n",
            "[CV] END bootstrap=True, max_depth=10, max_features=sqrt, min_samples_leaf=2, min_samples_split=10, n_estimators=200; total time=  20.8s\n",
            "[CV] END bootstrap=True, max_depth=10, max_features=sqrt, min_samples_leaf=2, min_samples_split=10, n_estimators=200; total time=  20.7s\n",
            "[CV] END bootstrap=True, max_depth=40, max_features=sqrt, min_samples_leaf=1, min_samples_split=10, n_estimators=200; total time=  34.0s\n",
            "[CV] END bootstrap=True, max_depth=40, max_features=sqrt, min_samples_leaf=1, min_samples_split=10, n_estimators=200; total time=  33.5s\n",
            "[CV] END bootstrap=True, max_depth=40, max_features=sqrt, min_samples_leaf=1, min_samples_split=10, n_estimators=200; total time=  33.4s\n",
            "[CV] END bootstrap=False, max_depth=100, max_features=sqrt, min_samples_leaf=2, min_samples_split=2, n_estimators=300; total time= 1.3min\n",
            "[CV] END bootstrap=False, max_depth=100, max_features=sqrt, min_samples_leaf=2, min_samples_split=2, n_estimators=300; total time= 1.3min\n",
            "[CV] END bootstrap=False, max_depth=100, max_features=sqrt, min_samples_leaf=2, min_samples_split=2, n_estimators=300; total time= 1.3min\n"
          ]
        }
      ]
    },
    {
      "cell_type": "code",
      "source": [
        "rf_random_scaled.best_params_"
      ],
      "metadata": {
        "id": "dLIP_Ht1fLU0"
      },
      "execution_count": null,
      "outputs": []
    },
    {
      "cell_type": "markdown",
      "source": [
        "Gradient Boosting"
      ],
      "metadata": {
        "id": "5UiJsUDJQB--"
      }
    },
    {
      "cell_type": "code",
      "source": [
        "from sklearn.ensemble import AdaBoostClassifier\n",
        "#clf_ada = AdaBoostClassifier(n_estimators=300, random_state=42)\n",
        "#clf_ada.fit(X_train_smote, y_train_smote)\n",
        "#clf_ada.score(X_test, y_test)"
      ],
      "metadata": {
        "id": "kSpXEa_MQA3q"
      },
      "execution_count": null,
      "outputs": []
    },
    {
      "cell_type": "code",
      "source": [
        "from sklearn.ensemble import GradientBoostingClassifier\n",
        "clf = GradientBoostingClassifier(n_estimators=300, random_state=42).fit(X_train_smote, y_train_smote)\n",
        "clf.score(X_test, y_test)"
      ],
      "metadata": {
        "id": "UkjNYRXWQ_wT",
        "colab": {
          "base_uri": "https://localhost:8080/"
        },
        "outputId": "0030a1cf-1031-40fe-e810-4f969a1cf0ae"
      },
      "execution_count": null,
      "outputs": [
        {
          "output_type": "execute_result",
          "data": {
            "text/plain": [
              "0.8873427169972276"
            ]
          },
          "metadata": {},
          "execution_count": 66
        }
      ]
    },
    {
      "cell_type": "code",
      "source": [
        "predicted_gb = clf.predict(X_test)"
      ],
      "metadata": {
        "id": "iVHH070fWM41"
      },
      "execution_count": null,
      "outputs": []
    },
    {
      "cell_type": "code",
      "source": [
        "print(classification_report(y_test,predicted_gb))"
      ],
      "metadata": {
        "colab": {
          "base_uri": "https://localhost:8080/"
        },
        "id": "B1xFTGJTY9eC",
        "outputId": "c58c12fd-241a-4628-ea0e-91dcde121ae7"
      },
      "execution_count": null,
      "outputs": [
        {
          "output_type": "stream",
          "name": "stdout",
          "text": [
            "              precision    recall  f1-score   support\n",
            "\n",
            "           0       0.95      0.92      0.93     15981\n",
            "           1       0.60      0.70      0.65      2775\n",
            "\n",
            "    accuracy                           0.89     18756\n",
            "   macro avg       0.77      0.81      0.79     18756\n",
            "weighted avg       0.90      0.89      0.89     18756\n",
            "\n"
          ]
        }
      ]
    },
    {
      "cell_type": "code",
      "source": [
        "plot_confusion_matrix(clf, X_test, y_test) "
      ],
      "metadata": {
        "colab": {
          "base_uri": "https://localhost:8080/",
          "height": 351
        },
        "id": "AYubJ1uDZFWF",
        "outputId": "ab532510-3266-45ab-e1ae-b6907209ae61"
      },
      "execution_count": null,
      "outputs": [
        {
          "output_type": "stream",
          "name": "stderr",
          "text": [
            "/usr/local/lib/python3.7/dist-packages/sklearn/utils/deprecation.py:87: FutureWarning: Function plot_confusion_matrix is deprecated; Function `plot_confusion_matrix` is deprecated in 1.0 and will be removed in 1.2. Use one of the class methods: ConfusionMatrixDisplay.from_predictions or ConfusionMatrixDisplay.from_estimator.\n",
            "  warnings.warn(msg, category=FutureWarning)\n"
          ]
        },
        {
          "output_type": "execute_result",
          "data": {
            "text/plain": [
              "<sklearn.metrics._plot.confusion_matrix.ConfusionMatrixDisplay at 0x7f8d7a90d5d0>"
            ]
          },
          "metadata": {},
          "execution_count": 69
        },
        {
          "output_type": "display_data",
          "data": {
            "text/plain": [
              "<Figure size 432x288 with 2 Axes>"
            ],
            "image/png": "[encoded data removed]"
          },
          "metadata": {
            "needs_background": "light"
          }
        }
      ]
    },
    {
      "cell_type": "markdown",
      "source": [
        "Gradient Boosting with Scaling\n",
        "\n",
        "\n"
      ],
      "metadata": {
        "id": "6nMlzoDScC6D"
      }
    },
    {
      "cell_type": "code",
      "source": [
        "pipe_v2 = Pipeline([('scaler', MinMaxScaler()), ('gb', clf)])\n",
        "pipe_v2.fit(X_train_smote, y_train_smote)\n",
        "pipe_v2.score(X_test, y_test)"
      ],
      "metadata": {
        "colab": {
          "base_uri": "https://localhost:8080/"
        },
        "id": "-cwkEHitcKzh",
        "outputId": "d5c8c8b8-7d2a-48ad-b441-44b41eb18d77"
      },
      "execution_count": null,
      "outputs": [
        {
          "output_type": "execute_result",
          "data": {
            "text/plain": [
              "0.88744934954148"
            ]
          },
          "metadata": {},
          "execution_count": 70
        }
      ]
    },
    {
      "cell_type": "code",
      "source": [
        "predicted_gb_scaled = pipe_v2.predict(X_test)\n",
        "print(classification_report(y_test,predicted_gb_scaled))"
      ],
      "metadata": {
        "colab": {
          "base_uri": "https://localhost:8080/"
        },
        "id": "3R84BINzdIrd",
        "outputId": "a0087caf-48bf-42b5-bd13-0f86a259f2b8"
      },
      "execution_count": null,
      "outputs": [
        {
          "output_type": "stream",
          "name": "stdout",
          "text": [
            "              precision    recall  f1-score   support\n",
            "\n",
            "           0       0.95      0.92      0.93     15981\n",
            "           1       0.60      0.70      0.65      2775\n",
            "\n",
            "    accuracy                           0.89     18756\n",
            "   macro avg       0.77      0.81      0.79     18756\n",
            "weighted avg       0.90      0.89      0.89     18756\n",
            "\n"
          ]
        }
      ]
    },
    {
      "cell_type": "code",
      "source": [
        "from sklearn.ensemble import VotingClassifier\n",
        "eclf1 = VotingClassifier(estimators=[\n",
        "        ('gb', GradientBoostingClassifier(n_estimators=300, random_state=42)),\n",
        "         ('rfc', RandomForestClassifier(n_estimators=300, random_state=42)),\n",
        "          ('ada', AdaBoostClassifier(n_estimators=300, random_state=42))], voting='soft')\n",
        "eclf1.fit(X_train_smote, y_train_smote)\n"
      ],
      "metadata": {
        "id": "SEIMW-6CZotv",
        "colab": {
          "base_uri": "https://localhost:8080/"
        },
        "outputId": "cab935ca-c1b3-4013-81bc-c3bb9ea85ed6"
      },
      "execution_count": null,
      "outputs": [
        {
          "output_type": "execute_result",
          "data": {
            "text/plain": [
              "VotingClassifier(estimators=[('gb',\n",
              "                              GradientBoostingClassifier(n_estimators=300,\n",
              "                                                         random_state=42)),\n",
              "                             ('rfc',\n",
              "                              RandomForestClassifier(n_estimators=300,\n",
              "                                                     random_state=42)),\n",
              "                             ('ada',\n",
              "                              AdaBoostClassifier(n_estimators=300,\n",
              "                                                 random_state=42))],\n",
              "                 voting='soft')"
            ]
          },
          "metadata": {},
          "execution_count": 74
        }
      ]
    },
    {
      "cell_type": "code",
      "source": [
        "eclf1.score(X_test, y_test)\n",
        "voting_predict = eclf1.predict(X_test)"
      ],
      "metadata": {
        "id": "nB0zjRCabgbV"
      },
      "execution_count": null,
      "outputs": []
    },
    {
      "cell_type": "code",
      "source": [
        "print(classification_report(y_test,voting_predict))"
      ],
      "metadata": {
        "id": "RhsvTDYVbkc3"
      },
      "execution_count": null,
      "outputs": []
    },
    {
      "cell_type": "code",
      "source": [
        "import pickle\n",
        "filename = 'model_ensembled_tuned.sav'\n",
        "pickle.dump(eclf1, open(f\"/content/drive/MyDrive/BT4222/models/{filename}\", 'wb'))"
      ],
      "metadata": {
        "id": "c7lq-HZtiMh9"
      },
      "execution_count": null,
      "outputs": []
    },
    {
      "cell_type": "markdown",
      "source": [
        "Random Forest Classification with Oversampling"
      ],
      "metadata": {
        "id": "294gbUvXbCtl"
      }
    },
    {
      "cell_type": "code",
      "source": [
        "from imblearn.over_sampling import RandomOverSampler\n",
        "oversample = RandomOverSampler(sampling_strategy='minority')\n",
        "X_train_over, y_train_over = oversample.fit_resample(X_train, y_train)\n",
        "scaler = MinMaxScaler()\n",
        "X_train_over_scaled = scaler.fit_transform(X_train_over)\n",
        "X_test_scaled = scaler.transform(X_test)"
      ],
      "metadata": {
        "id": "y0ihKL0Eeidv"
      },
      "execution_count": null,
      "outputs": []
    },
    {
      "cell_type": "code",
      "source": [
        "rfc_over = RandomForestClassifier(n_estimators=300, random_state=42, max_features='sqrt')\n",
        "rfc_over.fit(X_train_over_scaled, y_train_over)\n"
      ],
      "metadata": {
        "colab": {
          "base_uri": "https://localhost:8080/"
        },
        "id": "t0Zu3TbOiB_s",
        "outputId": "8e70cf46-5541-40f8-cc17-cc79e98aa1b0"
      },
      "execution_count": null,
      "outputs": [
        {
          "output_type": "execute_result",
          "data": {
            "text/plain": [
              "RandomForestClassifier(max_features='sqrt', n_estimators=300, random_state=42)"
            ]
          },
          "metadata": {},
          "execution_count": 10
        }
      ]
    },
    {
      "cell_type": "code",
      "source": [
        "rfc_over.score(X_test_scaled, y_test)"
      ],
      "metadata": {
        "colab": {
          "base_uri": "https://localhost:8080/"
        },
        "id": "88A8R7J9mo_B",
        "outputId": "f845203e-d1d3-4a4a-822b-d1d77e2d4bbb"
      },
      "execution_count": null,
      "outputs": [
        {
          "output_type": "execute_result",
          "data": {
            "text/plain": [
              "0.9114949882704201"
            ]
          },
          "metadata": {},
          "execution_count": 11
        }
      ]
    },
    {
      "cell_type": "code",
      "source": [
        "predicted_rfc_over = rfc_over.predict(X_test_scaled)"
      ],
      "metadata": {
        "id": "ELcRX9OjmuFi"
      },
      "execution_count": null,
      "outputs": []
    },
    {
      "cell_type": "code",
      "source": [
        "predicted_rfc_over"
      ],
      "metadata": {
        "colab": {
          "base_uri": "https://localhost:8080/"
        },
        "id": "sMlaOCwSnAOg",
        "outputId": "57cac60e-4ef8-4bd8-91f8-feac2dba0ddd"
      },
      "execution_count": null,
      "outputs": [
        {
          "output_type": "execute_result",
          "data": {
            "text/plain": [
              "array([0, 0, 0, ..., 1, 0, 0])"
            ]
          },
          "metadata": {},
          "execution_count": 13
        }
      ]
    },
    {
      "cell_type": "code",
      "source": [
        "from sklearn.metrics import classification_report\n",
        "print(classification_report(y_test,predicted_rfc_over))"
      ],
      "metadata": {
        "colab": {
          "base_uri": "https://localhost:8080/"
        },
        "id": "e48rnuI0m1hY",
        "outputId": "9c32d640-e2f1-45a3-8e84-e101869fd102"
      },
      "execution_count": null,
      "outputs": [
        {
          "output_type": "stream",
          "name": "stdout",
          "text": [
            "              precision    recall  f1-score   support\n",
            "\n",
            "           0       0.94      0.96      0.95     15981\n",
            "           1       0.73      0.63      0.68      2775\n",
            "\n",
            "    accuracy                           0.91     18756\n",
            "   macro avg       0.84      0.80      0.81     18756\n",
            "weighted avg       0.91      0.91      0.91     18756\n",
            "\n"
          ]
        }
      ]
    },
    {
      "cell_type": "code",
      "source": [
        "rfc_over_tuned = RandomForestClassifier(n_estimators=3000, random_state=42)\n",
        "rfc_over_tuned.fit(X_train_over_scaled, y_train_over)\n",
        "rfc_over_tuned.score(X_test_scaled, y_test)"
      ],
      "metadata": {
        "id": "fGPobU08zQHo",
        "colab": {
          "base_uri": "https://localhost:8080/"
        },
        "outputId": "a6614f8c-7d13-4b0c-e1e3-d5ee22ab2414"
      },
      "execution_count": null,
      "outputs": [
        {
          "output_type": "execute_result",
          "data": {
            "text/plain": [
              "0.9121880998080614"
            ]
          },
          "metadata": {},
          "execution_count": 19
        }
      ]
    },
    {
      "cell_type": "code",
      "source": [
        "import pickle\n",
        "filename = 'rfc_over_tuned.sav'\n",
        "pickle.dump(rfc_over_tuned, open(f\"/content/drive/MyDrive/BT4222/models/{filename}\", 'wb'))"
      ],
      "metadata": {
        "id": "MvnBhdsL3anV"
      },
      "execution_count": null,
      "outputs": []
    },
    {
      "cell_type": "code",
      "source": [
        "predicted_rfc_over = rfc_over.predict(X_test_scaled)"
      ],
      "metadata": {
        "id": "v-JQygTv3hZE"
      },
      "execution_count": null,
      "outputs": []
    },
    {
      "cell_type": "code",
      "source": [
        "print(classification_report(y_test,predicted_rfc_over))"
      ],
      "metadata": {
        "id": "VVRZssOR3n05",
        "colab": {
          "base_uri": "https://localhost:8080/"
        },
        "outputId": "3b59e172-96d0-4c27-9d49-080487e07a6b"
      },
      "execution_count": null,
      "outputs": [
        {
          "output_type": "stream",
          "name": "stdout",
          "text": [
            "              precision    recall  f1-score   support\n",
            "\n",
            "           0       0.94      0.96      0.95     15981\n",
            "           1       0.73      0.63      0.68      2775\n",
            "\n",
            "    accuracy                           0.91     18756\n",
            "   macro avg       0.84      0.80      0.81     18756\n",
            "weighted avg       0.91      0.91      0.91     18756\n",
            "\n"
          ]
        }
      ]
    },
    {
      "cell_type": "markdown",
      "source": [
        "Can try Extremely Randomized Trees"
      ],
      "metadata": {
        "id": "ta4iHp9Svkm9"
      }
    },
    {
      "cell_type": "code",
      "source": [
        "from sklearn.ensemble import ExtraTreesClassifier\n",
        "clf_extra = ExtraTreesClassifier(n_estimators=3000, random_state=42)\n",
        "clf_extra.fit(X_train_over_scaled, y_train_over)\n",
        "clf_extra.score(X_test_scaled, y_test)"
      ],
      "metadata": {
        "id": "dPMFB5bv3265"
      },
      "execution_count": null,
      "outputs": []
    },
    {
      "cell_type": "code",
      "source": [
        "import pickle\n",
        "filename = 'rfc_over_extra.sav'\n",
        "pickle.dump(rfc_over_tuned, open(f\"/content/drive/MyDrive/BT4222/models/{filename}\", 'wb'))"
      ],
      "metadata": {
        "id": "jrbhWnVR59PB"
      },
      "execution_count": null,
      "outputs": []
    },
    {
      "cell_type": "code",
      "source": [
        "predicted_rfc_over_extra = clf_extra.predict(X_test_scaled)"
      ],
      "metadata": {
        "id": "J08KFOs66EDj"
      },
      "execution_count": null,
      "outputs": []
    },
    {
      "cell_type": "code",
      "source": [
        "print(classification_report(y_test,predicted_rfc_over_extra))"
      ],
      "metadata": {
        "id": "MKvVBoM16J22"
      },
      "execution_count": null,
      "outputs": []
    },
    {
      "cell_type": "markdown",
      "source": [
        "Ensemble"
      ],
      "metadata": {
        "id": "6mKqk0es34ir"
      }
    },
    {
      "cell_type": "code",
      "source": [
        "eclf2 = VotingClassifier(estimators=[\n",
        "        ('gb', GradientBoostingClassifier(n_estimators=3000, random_state=42)),\n",
        "         ('rfc', RandomForestClassifier(n_estimators=3000, random_state=42)),\n",
        "          ('etc', ExtraTreesClassifier(n_estimators=3000, random_state=42))], voting='soft')\n",
        "eclf2.fit(X_train_over_scaled, y_train_over)"
      ],
      "metadata": {
        "id": "wzl74BNW8E1a",
        "colab": {
          "base_uri": "https://localhost:8080/"
        },
        "outputId": "048700df-abdc-4066-d975-eb9f93242372"
      },
      "execution_count": null,
      "outputs": [
        {
          "output_type": "execute_result",
          "data": {
            "text/plain": [
              "VotingClassifier(estimators=[('gb',\n",
              "                              GradientBoostingClassifier(n_estimators=3000,\n",
              "                                                         random_state=42)),\n",
              "                             ('rfc',\n",
              "                              RandomForestClassifier(n_estimators=3000,\n",
              "                                                     random_state=42)),\n",
              "                             ('etc',\n",
              "                              ExtraTreesClassifier(n_estimators=3000,\n",
              "                                                   random_state=42))],\n",
              "                 voting='soft')"
            ]
          },
          "metadata": {},
          "execution_count": 19
        }
      ]
    },
    {
      "cell_type": "code",
      "source": [
        "import pickle\n",
        "filename = 'ensembled_over.sav'\n",
        "pickle.dump(eclf2, open(f\"/content/drive/MyDrive/BT4222/models/{filename}\", 'wb'))"
      ],
      "metadata": {
        "id": "FbXeB8LT8jMd"
      },
      "execution_count": null,
      "outputs": []
    },
    {
      "cell_type": "code",
      "source": [
        "#filename = 'ensembled_over.sav'\n",
        "#eclf2 = pickle.load(open(f\"/content/drive/MyDrive/BT4222/models/{filename}\", 'rb'))"
      ],
      "metadata": {
        "id": "HYRqhaNbMIP8"
      },
      "execution_count": null,
      "outputs": []
    },
    {
      "cell_type": "code",
      "source": [
        "eclf2.score(X_test_scaled, y_test)"
      ],
      "metadata": {
        "id": "WS0R0t4J81qY",
        "colab": {
          "base_uri": "https://localhost:8080/"
        },
        "outputId": "3064b0b6-75c6-4422-b461-25c0ce0b3439"
      },
      "execution_count": null,
      "outputs": [
        {
          "output_type": "execute_result",
          "data": {
            "text/plain": [
              "0.9141074856046065"
            ]
          },
          "metadata": {},
          "execution_count": 23
        }
      ]
    },
    {
      "cell_type": "code",
      "source": [
        "predicted_eclf2 = eclf2.predict(X_test_scaled)"
      ],
      "metadata": {
        "id": "KaaSHTuIFlb4"
      },
      "execution_count": null,
      "outputs": []
    },
    {
      "cell_type": "code",
      "source": [
        "print(classification_report(y_test,predicted_eclf2))"
      ],
      "metadata": {
        "id": "CorxDPe6Gg1h",
        "colab": {
          "base_uri": "https://localhost:8080/"
        },
        "outputId": "0a196a68-8e81-4b9a-c9c1-40d86830f6d9"
      },
      "execution_count": null,
      "outputs": [
        {
          "output_type": "stream",
          "name": "stdout",
          "text": [
            "              precision    recall  f1-score   support\n",
            "\n",
            "           0       0.95      0.95      0.95     15981\n",
            "           1       0.72      0.69      0.70      2775\n",
            "\n",
            "    accuracy                           0.91     18756\n",
            "   macro avg       0.83      0.82      0.83     18756\n",
            "weighted avg       0.91      0.91      0.91     18756\n",
            "\n"
          ]
        }
      ]
    },
    {
      "cell_type": "code",
      "source": [
        "from sklearn.metrics import plot_confusion_matrix\n",
        "plot_confusion_matrix(eclf2, X_test_scaled, y_test) "
      ],
      "metadata": {
        "id": "41K_MrbaG9an",
        "colab": {
          "base_uri": "https://localhost:8080/",
          "height": 351
        },
        "outputId": "fa854492-9dc6-483f-90f5-d74ddc61f394"
      },
      "execution_count": null,
      "outputs": [
        {
          "output_type": "stream",
          "name": "stderr",
          "text": [
            "/usr/local/lib/python3.7/dist-packages/sklearn/utils/deprecation.py:87: FutureWarning: Function plot_confusion_matrix is deprecated; Function `plot_confusion_matrix` is deprecated in 1.0 and will be removed in 1.2. Use one of the class methods: ConfusionMatrixDisplay.from_predictions or ConfusionMatrixDisplay.from_estimator.\n",
            "  warnings.warn(msg, category=FutureWarning)\n"
          ]
        },
        {
          "output_type": "execute_result",
          "data": {
            "text/plain": [
              "<sklearn.metrics._plot.confusion_matrix.ConfusionMatrixDisplay at 0x7fc4749475d0>"
            ]
          },
          "metadata": {},
          "execution_count": 28
        },
        {
          "output_type": "display_data",
          "data": {
            "text/plain": [
              "<Figure size 432x288 with 2 Axes>"
            ],
            "image/png": "[encoded data removed]"
          },
          "metadata": {
            "needs_background": "light"
          }
        }
      ]
    },
    {
      "cell_type": "code",
      "source": [
        "#Give ROC AUC score\n",
        "from sklearn.metrics import roc_auc_score\n",
        "roc_auc_score(y_test, eclf2.predict_proba(X_test_scaled)[:, 1])"
      ],
      "metadata": {
        "id": "toBbqUm3MSsG",
        "colab": {
          "base_uri": "https://localhost:8080/"
        },
        "outputId": "d0de0051-bd60-4df5-fc6e-030a90751eda"
      },
      "execution_count": null,
      "outputs": [
        {
          "output_type": "execute_result",
          "data": {
            "text/plain": [
              "0.9395028443123055"
            ]
          },
          "metadata": {},
          "execution_count": 29
        }
      ]
    },
    {
      "cell_type": "code",
      "source": [
        "from sklearn import datasets, metrics\n",
        "metrics.plot_roc_curve(eclf2, X_test_scaled, y_test) "
      ],
      "metadata": {
        "id": "OmrP5-zKNX4q",
        "colab": {
          "base_uri": "https://localhost:8080/",
          "height": 351
        },
        "outputId": "a3562b90-899d-40c8-fd2f-2603b332827d"
      },
      "execution_count": null,
      "outputs": [
        {
          "output_type": "stream",
          "name": "stderr",
          "text": [
            "/usr/local/lib/python3.7/dist-packages/sklearn/utils/deprecation.py:87: FutureWarning: Function plot_roc_curve is deprecated; Function :func:`plot_roc_curve` is deprecated in 1.0 and will be removed in 1.2. Use one of the class methods: :meth:`sklearn.metric.RocCurveDisplay.from_predictions` or :meth:`sklearn.metric.RocCurveDisplay.from_estimator`.\n",
            "  warnings.warn(msg, category=FutureWarning)\n"
          ]
        },
        {
          "output_type": "execute_result",
          "data": {
            "text/plain": [
              "<sklearn.metrics._plot.roc_curve.RocCurveDisplay at 0x7fc4747a5d10>"
            ]
          },
          "metadata": {},
          "execution_count": 30
        },
        {
          "output_type": "display_data",
          "data": {
            "text/plain": [
              "<Figure size 432x288 with 1 Axes>"
            ],
            "image/png": "[encoded data removed]"
          },
          "metadata": {
            "needs_background": "light"
          }
        }
      ]
    },
    {
      "cell_type": "markdown",
      "source": [
        "Training Set Score"
      ],
      "metadata": {
        "id": "qfgWoHKGNt3G"
      }
    },
    {
      "cell_type": "code",
      "source": [
        "eclf2.score(X_train_over_scaled, y_train_over)"
      ],
      "metadata": {
        "id": "ZgzFm_v1Nv-r",
        "colab": {
          "base_uri": "https://localhost:8080/"
        },
        "outputId": "ed4a7c6e-89d9-4a70-af45-51a4c2f8f671"
      },
      "execution_count": null,
      "outputs": [
        {
          "output_type": "execute_result",
          "data": {
            "text/plain": [
              "1.0"
            ]
          },
          "metadata": {},
          "execution_count": 31
        }
      ]
    },
    {
      "cell_type": "code",
      "source": [
        "X_test"
      ],
      "metadata": {
        "id": "ChKq5aKJjxlI",
        "colab": {
          "base_uri": "https://localhost:8080/",
          "height": 505
        },
        "outputId": "adebb36e-83d3-45b4-f25e-8ab72c1140e4"
      },
      "execution_count": null,
      "outputs": [
        {
          "output_type": "execute_result",
          "data": {
            "text/plain": [
              "       track_number  danceability  energy  key  loudness  mode  speechiness  \\\n",
              "36072             8         0.309   0.928    7    -2.187     0       0.1600   \n",
              "20550             5         0.625   0.852    0    -5.314     1       0.0788   \n",
              "38287             6         0.555   0.639   10    -6.291     0       0.0242   \n",
              "50245             2         0.723   0.636    0    -7.011     1       0.0648   \n",
              "13371             5         0.825   0.766    1    -7.306     1       0.2960   \n",
              "...             ...           ...     ...  ...       ...   ...          ...   \n",
              "15044             3         0.378   0.817    2    -6.060     1       0.0372   \n",
              "32880             4         0.317   0.857    6    -5.468     1       0.0605   \n",
              "54943             7         0.848   0.591   11    -5.273     1       0.0620   \n",
              "24825             3         0.597   0.675    4    -8.229     1       0.0635   \n",
              "53557            10         0.250   0.318    5    -6.492     1       0.0280   \n",
              "\n",
              "       acousticness  instrumentalness  liveness  ...  r&b  rap  rock  \\\n",
              "36072      0.393000          0.000000    0.3400  ...    0    0     0   \n",
              "20550      0.004380          0.005070    0.2580  ...    1    0     0   \n",
              "38287      0.316000          0.000002    0.1820  ...    0    0     0   \n",
              "50245      0.235000          0.389000    0.0680  ...    0    0     0   \n",
              "13371      0.027900          0.000000    0.1480  ...    0    1     0   \n",
              "...             ...               ...       ...  ...  ...  ...   ...   \n",
              "15044      0.000654          0.000000    0.1170  ...    0    0     0   \n",
              "32880      0.036600          0.000001    0.1350  ...    0    0     1   \n",
              "54943      0.379000          0.000000    0.1010  ...    0    1     0   \n",
              "24825      0.142000          0.000000    0.1680  ...    0    0     0   \n",
              "53557      0.641000          0.000000    0.0955  ...    0    0     0   \n",
              "\n",
              "       soft rock  southern hip hop  trap  urban contemporary  \\\n",
              "36072          0                 0     0                   0   \n",
              "20550          0                 0     0                   1   \n",
              "38287          0                 0     0                   0   \n",
              "50245          0                 0     0                   0   \n",
              "13371          0                 0     0                   0   \n",
              "...          ...               ...   ...                 ...   \n",
              "15044          0                 0     0                   0   \n",
              "32880          0                 0     0                   0   \n",
              "54943          0                 0     1                   0   \n",
              "24825          0                 0     0                   0   \n",
              "53557          0                 0     0                   0   \n",
              "\n",
              "       average_year_success  is_success  bert_dense_lyrics  \n",
              "36072                    26           1           0.614289  \n",
              "20550                    -1           0           0.573500  \n",
              "38287                    -1           0           0.572983  \n",
              "50245                    -1           0           0.577553  \n",
              "13371                    -1           0           0.679667  \n",
              "...                     ...         ...                ...  \n",
              "15044                    -1           0           0.579702  \n",
              "32880                    -1           0           0.588688  \n",
              "54943                    60           1           0.626926  \n",
              "24825                    -1           0           0.540868  \n",
              "53557                    26           1           0.610912  \n",
              "\n",
              "[18756 rows x 46 columns]"
            ],
            "text/html": [
              "\n",
              "  <div id=\"df-82ab4d79-da55-42af-beb6-2d4301f9e678\">\n",
              "    <div class=\"colab-df-container\">\n",
              "      <div>\n",
              "<style scoped>\n",
              "    .dataframe tbody tr th:only-of-type {\n",
              "        vertical-align: middle;\n",
              "    }\n",
              "\n",
              "    .dataframe tbody tr th {\n",
              "        vertical-align: top;\n",
              "    }\n",
              "\n",
              "    .dataframe thead th {\n",
              "        text-align: right;\n",
              "    }\n",
              "</style>\n",
              "<table border=\"1\" class=\"dataframe\">\n",
              "  <thead>\n",
              "    <tr style=\"text-align: right;\">\n",
              "      <th></th>\n",
              "      <th>track_number</th>\n",
              "      <th>danceability</th>\n",
              "      <th>energy</th>\n",
              "      <th>key</th>\n",
              "      <th>loudness</th>\n",
              "      <th>mode</th>\n",
              "      <th>speechiness</th>\n",
              "      <th>acousticness</th>\n",
              "      <th>instrumentalness</th>\n",
              "      <th>liveness</th>\n",
              "      <th>...</th>\n",
              "      <th>r&amp;b</th>\n",
              "      <th>rap</th>\n",
              "      <th>rock</th>\n",
              "      <th>soft rock</th>\n",
              "      <th>southern hip hop</th>\n",
              "      <th>trap</th>\n",
              "      <th>urban contemporary</th>\n",
              "      <th>average_year_success</th>\n",
              "      <th>is_success</th>\n",
              "      <th>bert_dense_lyrics</th>\n",
              "    </tr>\n",
              "  </thead>\n",
              "  <tbody>\n",
              "    <tr>\n",
              "      <th>36072</th>\n",
              "      <td>8</td>\n",
              "      <td>0.309</td>\n",
              "      <td>0.928</td>\n",
              "      <td>7</td>\n",
              "      <td>-2.187</td>\n",
              "      <td>0</td>\n",
              "      <td>0.1600</td>\n",
              "      <td>0.393000</td>\n",
              "      <td>0.000000</td>\n",
              "      <td>0.3400</td>\n",
              "      <td>...</td>\n",
              "      <td>0</td>\n",
              "      <td>0</td>\n",
              "      <td>0</td>\n",
              "      <td>0</td>\n",
              "      <td>0</td>\n",
              "      <td>0</td>\n",
              "      <td>0</td>\n",
              "      <td>26</td>\n",
              "      <td>1</td>\n",
              "      <td>0.614289</td>\n",
              "    </tr>\n",
              "    <tr>\n",
              "      <th>20550</th>\n",
              "      <td>5</td>\n",
              "      <td>0.625</td>\n",
              "      <td>0.852</td>\n",
              "      <td>0</td>\n",
              "      <td>-5.314</td>\n",
              "      <td>1</td>\n",
              "      <td>0.0788</td>\n",
              "      <td>0.004380</td>\n",
              "      <td>0.005070</td>\n",
              "      <td>0.2580</td>\n",
              "      <td>...</td>\n",
              "      <td>1</td>\n",
              "      <td>0</td>\n",
              "      <td>0</td>\n",
              "      <td>0</td>\n",
              "      <td>0</td>\n",
              "      <td>0</td>\n",
              "      <td>1</td>\n",
              "      <td>-1</td>\n",
              "      <td>0</td>\n",
              "      <td>0.573500</td>\n",
              "    </tr>\n",
              "    <tr>\n",
              "      <th>38287</th>\n",
              "      <td>6</td>\n",
              "      <td>0.555</td>\n",
              "      <td>0.639</td>\n",
              "      <td>10</td>\n",
              "      <td>-6.291</td>\n",
              "      <td>0</td>\n",
              "      <td>0.0242</td>\n",
              "      <td>0.316000</td>\n",
              "      <td>0.000002</td>\n",
              "      <td>0.1820</td>\n",
              "      <td>...</td>\n",
              "      <td>0</td>\n",
              "      <td>0</td>\n",
              "      <td>0</td>\n",
              "      <td>0</td>\n",
              "      <td>0</td>\n",
              "      <td>0</td>\n",
              "      <td>0</td>\n",
              "      <td>-1</td>\n",
              "      <td>0</td>\n",
              "      <td>0.572983</td>\n",
              "    </tr>\n",
              "    <tr>\n",
              "      <th>50245</th>\n",
              "      <td>2</td>\n",
              "      <td>0.723</td>\n",
              "      <td>0.636</td>\n",
              "      <td>0</td>\n",
              "      <td>-7.011</td>\n",
              "      <td>1</td>\n",
              "      <td>0.0648</td>\n",
              "      <td>0.235000</td>\n",
              "      <td>0.389000</td>\n",
              "      <td>0.0680</td>\n",
              "      <td>...</td>\n",
              "      <td>0</td>\n",
              "      <td>0</td>\n",
              "      <td>0</td>\n",
              "      <td>0</td>\n",
              "      <td>0</td>\n",
              "      <td>0</td>\n",
              "      <td>0</td>\n",
              "      <td>-1</td>\n",
              "      <td>0</td>\n",
              "      <td>0.577553</td>\n",
              "    </tr>\n",
              "    <tr>\n",
              "      <th>13371</th>\n",
              "      <td>5</td>\n",
              "      <td>0.825</td>\n",
              "      <td>0.766</td>\n",
              "      <td>1</td>\n",
              "      <td>-7.306</td>\n",
              "      <td>1</td>\n",
              "      <td>0.2960</td>\n",
              "      <td>0.027900</td>\n",
              "      <td>0.000000</td>\n",
              "      <td>0.1480</td>\n",
              "      <td>...</td>\n",
              "      <td>0</td>\n",
              "      <td>1</td>\n",
              "      <td>0</td>\n",
              "      <td>0</td>\n",
              "      <td>0</td>\n",
              "      <td>0</td>\n",
              "      <td>0</td>\n",
              "      <td>-1</td>\n",
              "      <td>0</td>\n",
              "      <td>0.679667</td>\n",
              "    </tr>\n",
              "    <tr>\n",
              "      <th>...</th>\n",
              "      <td>...</td>\n",
              "      <td>...</td>\n",
              "      <td>...</td>\n",
              "      <td>...</td>\n",
              "      <td>...</td>\n",
              "      <td>...</td>\n",
              "      <td>...</td>\n",
              "      <td>...</td>\n",
              "      <td>...</td>\n",
              "      <td>...</td>\n",
              "      <td>...</td>\n",
              "      <td>...</td>\n",
              "      <td>...</td>\n",
              "      <td>...</td>\n",
              "      <td>...</td>\n",
              "      <td>...</td>\n",
              "      <td>...</td>\n",
              "      <td>...</td>\n",
              "      <td>...</td>\n",
              "      <td>...</td>\n",
              "      <td>...</td>\n",
              "    </tr>\n",
              "    <tr>\n",
              "      <th>15044</th>\n",
              "      <td>3</td>\n",
              "      <td>0.378</td>\n",
              "      <td>0.817</td>\n",
              "      <td>2</td>\n",
              "      <td>-6.060</td>\n",
              "      <td>1</td>\n",
              "      <td>0.0372</td>\n",
              "      <td>0.000654</td>\n",
              "      <td>0.000000</td>\n",
              "      <td>0.1170</td>\n",
              "      <td>...</td>\n",
              "      <td>0</td>\n",
              "      <td>0</td>\n",
              "      <td>0</td>\n",
              "      <td>0</td>\n",
              "      <td>0</td>\n",
              "      <td>0</td>\n",
              "      <td>0</td>\n",
              "      <td>-1</td>\n",
              "      <td>0</td>\n",
              "      <td>0.579702</td>\n",
              "    </tr>\n",
              "    <tr>\n",
              "      <th>32880</th>\n",
              "      <td>4</td>\n",
              "      <td>0.317</td>\n",
              "      <td>0.857</td>\n",
              "      <td>6</td>\n",
              "      <td>-5.468</td>\n",
              "      <td>1</td>\n",
              "      <td>0.0605</td>\n",
              "      <td>0.036600</td>\n",
              "      <td>0.000001</td>\n",
              "      <td>0.1350</td>\n",
              "      <td>...</td>\n",
              "      <td>0</td>\n",
              "      <td>0</td>\n",
              "      <td>1</td>\n",
              "      <td>0</td>\n",
              "      <td>0</td>\n",
              "      <td>0</td>\n",
              "      <td>0</td>\n",
              "      <td>-1</td>\n",
              "      <td>0</td>\n",
              "      <td>0.588688</td>\n",
              "    </tr>\n",
              "    <tr>\n",
              "      <th>54943</th>\n",
              "      <td>7</td>\n",
              "      <td>0.848</td>\n",
              "      <td>0.591</td>\n",
              "      <td>11</td>\n",
              "      <td>-5.273</td>\n",
              "      <td>1</td>\n",
              "      <td>0.0620</td>\n",
              "      <td>0.379000</td>\n",
              "      <td>0.000000</td>\n",
              "      <td>0.1010</td>\n",
              "      <td>...</td>\n",
              "      <td>0</td>\n",
              "      <td>1</td>\n",
              "      <td>0</td>\n",
              "      <td>0</td>\n",
              "      <td>0</td>\n",
              "      <td>1</td>\n",
              "      <td>0</td>\n",
              "      <td>60</td>\n",
              "      <td>1</td>\n",
              "      <td>0.626926</td>\n",
              "    </tr>\n",
              "    <tr>\n",
              "      <th>24825</th>\n",
              "      <td>3</td>\n",
              "      <td>0.597</td>\n",
              "      <td>0.675</td>\n",
              "      <td>4</td>\n",
              "      <td>-8.229</td>\n",
              "      <td>1</td>\n",
              "      <td>0.0635</td>\n",
              "      <td>0.142000</td>\n",
              "      <td>0.000000</td>\n",
              "      <td>0.1680</td>\n",
              "      <td>...</td>\n",
              "      <td>0</td>\n",
              "      <td>0</td>\n",
              "      <td>0</td>\n",
              "      <td>0</td>\n",
              "      <td>0</td>\n",
              "      <td>0</td>\n",
              "      <td>0</td>\n",
              "      <td>-1</td>\n",
              "      <td>0</td>\n",
              "      <td>0.540868</td>\n",
              "    </tr>\n",
              "    <tr>\n",
              "      <th>53557</th>\n",
              "      <td>10</td>\n",
              "      <td>0.250</td>\n",
              "      <td>0.318</td>\n",
              "      <td>5</td>\n",
              "      <td>-6.492</td>\n",
              "      <td>1</td>\n",
              "      <td>0.0280</td>\n",
              "      <td>0.641000</td>\n",
              "      <td>0.000000</td>\n",
              "      <td>0.0955</td>\n",
              "      <td>...</td>\n",
              "      <td>0</td>\n",
              "      <td>0</td>\n",
              "      <td>0</td>\n",
              "      <td>0</td>\n",
              "      <td>0</td>\n",
              "      <td>0</td>\n",
              "      <td>0</td>\n",
              "      <td>26</td>\n",
              "      <td>1</td>\n",
              "      <td>0.610912</td>\n",
              "    </tr>\n",
              "  </tbody>\n",
              "</table>\n",
              "<p>18756 rows × 46 columns</p>\n",
              "</div>\n",
              "      <button class=\"colab-df-convert\" onclick=\"convertToInteractive('df-82ab4d79-da55-42af-beb6-2d4301f9e678')\"\n",
              "              title=\"Convert this dataframe to an interactive table.\"\n",
              "              style=\"display:none;\">\n",
              "        \n",
              "  <svg xmlns=\"http://www.w3.org/2000/svg\" height=\"24px\"viewBox=\"0 0 24 24\"\n",
              "       width=\"24px\">\n",
              "    <path d=\"M0 0h24v24H0V0z\" fill=\"none\"/>\n",
              "    <path d=\"M18.56 5.44l.94 2.06.94-2.06 2.06-.94-2.06-.94-.94-2.06-.94 2.06-2.06.94zm-11 1L8.5 8.5l.94-2.06 2.06-.94-2.06-.94L8.5 2.5l-.94 2.06-2.06.94zm10 10l.94 2.06.94-2.06 2.06-.94-2.06-.94-.94-2.06-.94 2.06-2.06.94z\"/><path d=\"M17.41 7.96l-1.37-1.37c-.4-.4-.92-.59-1.43-.59-.52 0-1.04.2-1.43.59L10.3 9.45l-7.72 7.72c-.78.78-.78 2.05 0 2.83L4 21.41c.39.39.9.59 1.41.59.51 0 1.02-.2 1.41-.59l7.78-7.78 2.81-2.81c.8-.78.8-2.07 0-2.86zM5.41 20L4 18.59l7.72-7.72 1.47 1.35L5.41 20z\"/>\n",
              "  </svg>\n",
              "      </button>\n",
              "      \n",
              "  <style>\n",
              "    .colab-df-container {\n",
              "      display:flex;\n",
              "      flex-wrap:wrap;\n",
              "      gap: 12px;\n",
              "    }\n",
              "\n",
              "    .colab-df-convert {\n",
              "      background-color: #E8F0FE;\n",
              "      border: none;\n",
              "      border-radius: 50%;\n",
              "      cursor: pointer;\n",
              "      display: none;\n",
              "      fill: #1967D2;\n",
              "      height: 32px;\n",
              "      padding: 0 0 0 0;\n",
              "      width: 32px;\n",
              "    }\n",
              "\n",
              "    .colab-df-convert:hover {\n",
              "      background-color: #E2EBFA;\n",
              "      box-shadow: 0px 1px 2px rgba(60, 64, 67, 0.3), 0px 1px 3px 1px rgba(60, 64, 67, 0.15);\n",
              "      fill: #174EA6;\n",
              "    }\n",
              "\n",
              "    [theme=dark] .colab-df-convert {\n",
              "      background-color: #3B4455;\n",
              "      fill: #D2E3FC;\n",
              "    }\n",
              "\n",
              "    [theme=dark] .colab-df-convert:hover {\n",
              "      background-color: #434B5C;\n",
              "      box-shadow: 0px 1px 3px 1px rgba(0, 0, 0, 0.15);\n",
              "      filter: drop-shadow(0px 1px 2px rgba(0, 0, 0, 0.3));\n",
              "      fill: #FFFFFF;\n",
              "    }\n",
              "  </style>\n",
              "\n",
              "      <script>\n",
              "        const buttonEl =\n",
              "          document.querySelector('#df-82ab4d79-da55-42af-beb6-2d4301f9e678 button.colab-df-convert');\n",
              "        buttonEl.style.display =\n",
              "          google.colab.kernel.accessAllowed ? 'block' : 'none';\n",
              "\n",
              "        async function convertToInteractive(key) {\n",
              "          const element = document.querySelector('#df-82ab4d79-da55-42af-beb6-2d4301f9e678');\n",
              "          const dataTable =\n",
              "            await google.colab.kernel.invokeFunction('convertToInteractive',\n",
              "                                                     [key], {});\n",
              "          if (!dataTable) return;\n",
              "\n",
              "          const docLinkHtml = 'Like what you see? Visit the ' +\n",
              "            '<a target=\"_blank\" href=https://colab.research.google.com/notebooks/data_table.ipynb>data table notebook</a>'\n",
              "            + ' to learn more about interactive tables.';\n",
              "          element.innerHTML = '';\n",
              "          dataTable['output_type'] = 'display_data';\n",
              "          await google.colab.output.renderOutput(dataTable, element);\n",
              "          const docLink = document.createElement('div');\n",
              "          docLink.innerHTML = docLinkHtml;\n",
              "          element.appendChild(docLink);\n",
              "        }\n",
              "      </script>\n",
              "    </div>\n",
              "  </div>\n",
              "  "
            ]
          },
          "metadata": {},
          "execution_count": 32
        }
      ]
    },
    {
      "cell_type": "markdown",
      "source": [
        "Naive checking"
      ],
      "metadata": {
        "id": "3TRdjn-8jjVG"
      }
    },
    {
      "cell_type": "code",
      "source": [
        "accuracy_score(X_test[\"is_success\"], y_test)"
      ],
      "metadata": {
        "id": "9fDpk_HPjigD"
      },
      "execution_count": null,
      "outputs": []
    }
  ]
}