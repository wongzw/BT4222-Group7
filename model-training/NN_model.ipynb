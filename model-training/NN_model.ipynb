{
  "nbformat": 4,
  "nbformat_minor": 0,
  "metadata": {
    "colab": {
      "provenance": [],
      "collapsed_sections": []
    },
    "kernelspec": {
      "name": "python3",
      "display_name": "Python 3"
    },
    "language_info": {
      "name": "python"
    },
    "accelerator": "GPU",
    "gpuClass": "standard"
  },
  "cells": [
    {
      "cell_type": "code",
      "source": [
        "import datetime\n",
        "now = datetime.datetime.now()\n",
        "print (\"Current date and time : \")\n",
        "print (now.strftime(\"%Y-%m-%d %H:%M:%S\"))"
      ],
      "metadata": {
        "colab": {
          "base_uri": "https://localhost:8080/"
        },
        "id": "worVxzLnLPHi",
        "outputId": "4d7390b8-7c1c-49e6-a4b4-dc9b17e3c075"
      },
      "execution_count": null,
      "outputs": [
        {
          "output_type": "stream",
          "name": "stdout",
          "text": [
            "Current date and time : \n",
            "2022-11-06 18:21:33\n"
          ]
        }
      ]
    },
    {
      "cell_type": "code",
      "source": [
        "! pip install sklearn\n",
        "! pip install keras-tuner\n",
        "! pip install pytorch-tabnet\n",
        "! pip install torchvision\n",
        "! pip install transformers\n",
        "! pip install optuna"
      ],
      "metadata": {
        "colab": {
          "base_uri": "https://localhost:8080/"
        },
        "id": "25TUd2rRP6ga",
        "outputId": "1d63a6a4-2f07-4824-8308-db140f30d52c"
      },
      "execution_count": null,
      "outputs": [
        {
          "output_type": "stream",
          "name": "stdout",
          "text": [
            "Looking in indexes: https://pypi.org/simple, https://us-python.pkg.dev/colab-wheels/public/simple/\n",
            "Collecting sklearn\n",
            "  Downloading sklearn-0.0.tar.gz (1.1 kB)\n",
            "Requirement already satisfied: scikit-learn in /usr/local/lib/python3.7/dist-packages (from sklearn) (1.0.2)\n",
            "Requirement already satisfied: joblib>=0.11 in /usr/local/lib/python3.7/dist-packages (from scikit-learn->sklearn) (1.2.0)\n",
            "Requirement already satisfied: scipy>=1.1.0 in /usr/local/lib/python3.7/dist-packages (from scikit-learn->sklearn) (1.7.3)\n",
            "Requirement already satisfied: threadpoolctl>=2.0.0 in /usr/local/lib/python3.7/dist-packages (from scikit-learn->sklearn) (3.1.0)\n",
            "Requirement already satisfied: numpy>=1.14.6 in /usr/local/lib/python3.7/dist-packages (from scikit-learn->sklearn) (1.21.6)\n",
            "Building wheels for collected packages: sklearn\n",
            "  Building wheel for sklearn (setup.py) ... \u001b[?25l\u001b[?25hdone\n",
            "  Created wheel for sklearn: filename=sklearn-0.0-py2.py3-none-any.whl size=1310 sha256=d5006120957c1b9a798bd4e6e8f48036d506ae95b1cace7d9893eae94437d0ac\n",
            "  Stored in directory: /root/.cache/pip/wheels/46/ef/c3/157e41f5ee1372d1be90b09f74f82b10e391eaacca8f22d33e\n",
            "Successfully built sklearn\n",
            "Installing collected packages: sklearn\n",
            "Successfully installed sklearn-0.0\n",
            "Looking in indexes: https://pypi.org/simple, https://us-python.pkg.dev/colab-wheels/public/simple/\n",
            "Collecting keras-tuner\n",
            "  Downloading keras_tuner-1.1.3-py3-none-any.whl (135 kB)\n",
            "\u001b[K     |████████████████████████████████| 135 kB 28.2 MB/s \n",
            "\u001b[?25hRequirement already satisfied: ipython in /usr/local/lib/python3.7/dist-packages (from keras-tuner) (7.9.0)\n",
            "Collecting kt-legacy\n",
            "  Downloading kt_legacy-1.0.4-py3-none-any.whl (9.6 kB)\n",
            "Requirement already satisfied: numpy in /usr/local/lib/python3.7/dist-packages (from keras-tuner) (1.21.6)\n",
            "Requirement already satisfied: requests in /usr/local/lib/python3.7/dist-packages (from keras-tuner) (2.23.0)\n",
            "Requirement already satisfied: packaging in /usr/local/lib/python3.7/dist-packages (from keras-tuner) (21.3)\n",
            "Requirement already satisfied: tensorboard in /usr/local/lib/python3.7/dist-packages (from keras-tuner) (2.9.1)\n",
            "Collecting jedi>=0.10\n",
            "  Downloading jedi-0.18.1-py2.py3-none-any.whl (1.6 MB)\n",
            "\u001b[K     |████████████████████████████████| 1.6 MB 41.2 MB/s \n",
            "\u001b[?25hRequirement already satisfied: backcall in /usr/local/lib/python3.7/dist-packages (from ipython->keras-tuner) (0.2.0)\n",
            "Requirement already satisfied: pickleshare in /usr/local/lib/python3.7/dist-packages (from ipython->keras-tuner) (0.7.5)\n",
            "Requirement already satisfied: traitlets>=4.2 in /usr/local/lib/python3.7/dist-packages (from ipython->keras-tuner) (5.1.1)\n",
            "Requirement already satisfied: decorator in /usr/local/lib/python3.7/dist-packages (from ipython->keras-tuner) (4.4.2)\n",
            "Requirement already satisfied: setuptools>=18.5 in /usr/local/lib/python3.7/dist-packages (from ipython->keras-tuner) (57.4.0)\n",
            "Requirement already satisfied: prompt-toolkit<2.1.0,>=2.0.0 in /usr/local/lib/python3.7/dist-packages (from ipython->keras-tuner) (2.0.10)\n",
            "Requirement already satisfied: pexpect in /usr/local/lib/python3.7/dist-packages (from ipython->keras-tuner) (4.8.0)\n",
            "Requirement already satisfied: pygments in /usr/local/lib/python3.7/dist-packages (from ipython->keras-tuner) (2.6.1)\n",
            "Requirement already satisfied: parso<0.9.0,>=0.8.0 in /usr/local/lib/python3.7/dist-packages (from jedi>=0.10->ipython->keras-tuner) (0.8.3)\n",
            "Requirement already satisfied: wcwidth in /usr/local/lib/python3.7/dist-packages (from prompt-toolkit<2.1.0,>=2.0.0->ipython->keras-tuner) (0.2.5)\n",
            "Requirement already satisfied: six>=1.9.0 in /usr/local/lib/python3.7/dist-packages (from prompt-toolkit<2.1.0,>=2.0.0->ipython->keras-tuner) (1.15.0)\n",
            "Requirement already satisfied: pyparsing!=3.0.5,>=2.0.2 in /usr/local/lib/python3.7/dist-packages (from packaging->keras-tuner) (3.0.9)\n",
            "Requirement already satisfied: ptyprocess>=0.5 in /usr/local/lib/python3.7/dist-packages (from pexpect->ipython->keras-tuner) (0.7.0)\n",
            "Requirement already satisfied: certifi>=2017.4.17 in /usr/local/lib/python3.7/dist-packages (from requests->keras-tuner) (2022.9.24)\n",
            "Requirement already satisfied: chardet<4,>=3.0.2 in /usr/local/lib/python3.7/dist-packages (from requests->keras-tuner) (3.0.4)\n",
            "Requirement already satisfied: urllib3!=1.25.0,!=1.25.1,<1.26,>=1.21.1 in /usr/local/lib/python3.7/dist-packages (from requests->keras-tuner) (1.24.3)\n",
            "Requirement already satisfied: idna<3,>=2.5 in /usr/local/lib/python3.7/dist-packages (from requests->keras-tuner) (2.10)\n",
            "Requirement already satisfied: google-auth<3,>=1.6.3 in /usr/local/lib/python3.7/dist-packages (from tensorboard->keras-tuner) (1.35.0)\n",
            "Requirement already satisfied: google-auth-oauthlib<0.5,>=0.4.1 in /usr/local/lib/python3.7/dist-packages (from tensorboard->keras-tuner) (0.4.6)\n",
            "Requirement already satisfied: werkzeug>=1.0.1 in /usr/local/lib/python3.7/dist-packages (from tensorboard->keras-tuner) (1.0.1)\n",
            "Requirement already satisfied: absl-py>=0.4 in /usr/local/lib/python3.7/dist-packages (from tensorboard->keras-tuner) (1.3.0)\n",
            "Requirement already satisfied: wheel>=0.26 in /usr/local/lib/python3.7/dist-packages (from tensorboard->keras-tuner) (0.37.1)\n",
            "Requirement already satisfied: markdown>=2.6.8 in /usr/local/lib/python3.7/dist-packages (from tensorboard->keras-tuner) (3.4.1)\n",
            "Requirement already satisfied: grpcio>=1.24.3 in /usr/local/lib/python3.7/dist-packages (from tensorboard->keras-tuner) (1.50.0)\n",
            "Requirement already satisfied: protobuf<3.20,>=3.9.2 in /usr/local/lib/python3.7/dist-packages (from tensorboard->keras-tuner) (3.17.3)\n",
            "Requirement already satisfied: tensorboard-plugin-wit>=1.6.0 in /usr/local/lib/python3.7/dist-packages (from tensorboard->keras-tuner) (1.8.1)\n",
            "Requirement already satisfied: tensorboard-data-server<0.7.0,>=0.6.0 in /usr/local/lib/python3.7/dist-packages (from tensorboard->keras-tuner) (0.6.1)\n",
            "Requirement already satisfied: pyasn1-modules>=0.2.1 in /usr/local/lib/python3.7/dist-packages (from google-auth<3,>=1.6.3->tensorboard->keras-tuner) (0.2.8)\n",
            "Requirement already satisfied: cachetools<5.0,>=2.0.0 in /usr/local/lib/python3.7/dist-packages (from google-auth<3,>=1.6.3->tensorboard->keras-tuner) (4.2.4)\n",
            "Requirement already satisfied: rsa<5,>=3.1.4 in /usr/local/lib/python3.7/dist-packages (from google-auth<3,>=1.6.3->tensorboard->keras-tuner) (4.9)\n",
            "Requirement already satisfied: requests-oauthlib>=0.7.0 in /usr/local/lib/python3.7/dist-packages (from google-auth-oauthlib<0.5,>=0.4.1->tensorboard->keras-tuner) (1.3.1)\n",
            "Requirement already satisfied: importlib-metadata>=4.4 in /usr/local/lib/python3.7/dist-packages (from markdown>=2.6.8->tensorboard->keras-tuner) (4.13.0)\n",
            "Requirement already satisfied: typing-extensions>=3.6.4 in /usr/local/lib/python3.7/dist-packages (from importlib-metadata>=4.4->markdown>=2.6.8->tensorboard->keras-tuner) (4.1.1)\n",
            "Requirement already satisfied: zipp>=0.5 in /usr/local/lib/python3.7/dist-packages (from importlib-metadata>=4.4->markdown>=2.6.8->tensorboard->keras-tuner) (3.10.0)\n",
            "Requirement already satisfied: pyasn1<0.5.0,>=0.4.6 in /usr/local/lib/python3.7/dist-packages (from pyasn1-modules>=0.2.1->google-auth<3,>=1.6.3->tensorboard->keras-tuner) (0.4.8)\n",
            "Requirement already satisfied: oauthlib>=3.0.0 in /usr/local/lib/python3.7/dist-packages (from requests-oauthlib>=0.7.0->google-auth-oauthlib<0.5,>=0.4.1->tensorboard->keras-tuner) (3.2.2)\n",
            "Installing collected packages: jedi, kt-legacy, keras-tuner\n",
            "Successfully installed jedi-0.18.1 keras-tuner-1.1.3 kt-legacy-1.0.4\n",
            "Looking in indexes: https://pypi.org/simple, https://us-python.pkg.dev/colab-wheels/public/simple/\n",
            "Collecting pytorch-tabnet\n",
            "  Downloading pytorch_tabnet-4.0-py3-none-any.whl (41 kB)\n",
            "\u001b[K     |████████████████████████████████| 41 kB 604 kB/s \n",
            "\u001b[?25hRequirement already satisfied: scipy>1.4 in /usr/local/lib/python3.7/dist-packages (from pytorch-tabnet) (1.7.3)\n",
            "Requirement already satisfied: torch<2.0,>=1.2 in /usr/local/lib/python3.7/dist-packages (from pytorch-tabnet) (1.12.1+cu113)\n",
            "Requirement already satisfied: numpy<2.0,>=1.17 in /usr/local/lib/python3.7/dist-packages (from pytorch-tabnet) (1.21.6)\n",
            "Requirement already satisfied: tqdm<5.0,>=4.36 in /usr/local/lib/python3.7/dist-packages (from pytorch-tabnet) (4.64.1)\n",
            "Requirement already satisfied: scikit_learn>0.21 in /usr/local/lib/python3.7/dist-packages (from pytorch-tabnet) (1.0.2)\n",
            "Requirement already satisfied: threadpoolctl>=2.0.0 in /usr/local/lib/python3.7/dist-packages (from scikit_learn>0.21->pytorch-tabnet) (3.1.0)\n",
            "Requirement already satisfied: joblib>=0.11 in /usr/local/lib/python3.7/dist-packages (from scikit_learn>0.21->pytorch-tabnet) (1.2.0)\n",
            "Requirement already satisfied: typing-extensions in /usr/local/lib/python3.7/dist-packages (from torch<2.0,>=1.2->pytorch-tabnet) (4.1.1)\n",
            "Installing collected packages: pytorch-tabnet\n",
            "Successfully installed pytorch-tabnet-4.0\n",
            "Looking in indexes: https://pypi.org/simple, https://us-python.pkg.dev/colab-wheels/public/simple/\n",
            "Requirement already satisfied: torchvision in /usr/local/lib/python3.7/dist-packages (0.13.1+cu113)\n",
            "Requirement already satisfied: numpy in /usr/local/lib/python3.7/dist-packages (from torchvision) (1.21.6)\n",
            "Requirement already satisfied: pillow!=8.3.*,>=5.3.0 in /usr/local/lib/python3.7/dist-packages (from torchvision) (7.1.2)\n",
            "Requirement already satisfied: requests in /usr/local/lib/python3.7/dist-packages (from torchvision) (2.23.0)\n",
            "Requirement already satisfied: torch==1.12.1 in /usr/local/lib/python3.7/dist-packages (from torchvision) (1.12.1+cu113)\n",
            "Requirement already satisfied: typing-extensions in /usr/local/lib/python3.7/dist-packages (from torchvision) (4.1.1)\n",
            "Requirement already satisfied: chardet<4,>=3.0.2 in /usr/local/lib/python3.7/dist-packages (from requests->torchvision) (3.0.4)\n",
            "Requirement already satisfied: certifi>=2017.4.17 in /usr/local/lib/python3.7/dist-packages (from requests->torchvision) (2022.9.24)\n",
            "Requirement already satisfied: idna<3,>=2.5 in /usr/local/lib/python3.7/dist-packages (from requests->torchvision) (2.10)\n",
            "Requirement already satisfied: urllib3!=1.25.0,!=1.25.1,<1.26,>=1.21.1 in /usr/local/lib/python3.7/dist-packages (from requests->torchvision) (1.24.3)\n",
            "Looking in indexes: https://pypi.org/simple, https://us-python.pkg.dev/colab-wheels/public/simple/\n",
            "Collecting transformers\n",
            "  Downloading transformers-4.24.0-py3-none-any.whl (5.5 MB)\n",
            "\u001b[K     |████████████████████████████████| 5.5 MB 9.7 MB/s \n",
            "\u001b[?25hRequirement already satisfied: numpy>=1.17 in /usr/local/lib/python3.7/dist-packages (from transformers) (1.21.6)\n",
            "Requirement already satisfied: packaging>=20.0 in /usr/local/lib/python3.7/dist-packages (from transformers) (21.3)\n",
            "Requirement already satisfied: importlib-metadata in /usr/local/lib/python3.7/dist-packages (from transformers) (4.13.0)\n",
            "Collecting huggingface-hub<1.0,>=0.10.0\n",
            "  Downloading huggingface_hub-0.10.1-py3-none-any.whl (163 kB)\n",
            "\u001b[K     |████████████████████████████████| 163 kB 52.0 MB/s \n",
            "\u001b[?25hRequirement already satisfied: regex!=2019.12.17 in /usr/local/lib/python3.7/dist-packages (from transformers) (2022.6.2)\n",
            "Requirement already satisfied: requests in /usr/local/lib/python3.7/dist-packages (from transformers) (2.23.0)\n",
            "Requirement already satisfied: tqdm>=4.27 in /usr/local/lib/python3.7/dist-packages (from transformers) (4.64.1)\n",
            "Requirement already satisfied: pyyaml>=5.1 in /usr/local/lib/python3.7/dist-packages (from transformers) (6.0)\n",
            "Requirement already satisfied: filelock in /usr/local/lib/python3.7/dist-packages (from transformers) (3.8.0)\n",
            "Collecting tokenizers!=0.11.3,<0.14,>=0.11.1\n",
            "  Downloading tokenizers-0.13.1-cp37-cp37m-manylinux_2_17_x86_64.manylinux2014_x86_64.whl (7.6 MB)\n",
            "\u001b[K     |████████████████████████████████| 7.6 MB 18.5 MB/s \n",
            "\u001b[?25hRequirement already satisfied: typing-extensions>=3.7.4.3 in /usr/local/lib/python3.7/dist-packages (from huggingface-hub<1.0,>=0.10.0->transformers) (4.1.1)\n",
            "Requirement already satisfied: pyparsing!=3.0.5,>=2.0.2 in /usr/local/lib/python3.7/dist-packages (from packaging>=20.0->transformers) (3.0.9)\n",
            "Requirement already satisfied: zipp>=0.5 in /usr/local/lib/python3.7/dist-packages (from importlib-metadata->transformers) (3.10.0)\n",
            "Requirement already satisfied: idna<3,>=2.5 in /usr/local/lib/python3.7/dist-packages (from requests->transformers) (2.10)\n",
            "Requirement already satisfied: chardet<4,>=3.0.2 in /usr/local/lib/python3.7/dist-packages (from requests->transformers) (3.0.4)\n",
            "Requirement already satisfied: certifi>=2017.4.17 in /usr/local/lib/python3.7/dist-packages (from requests->transformers) (2022.9.24)\n",
            "Requirement already satisfied: urllib3!=1.25.0,!=1.25.1,<1.26,>=1.21.1 in /usr/local/lib/python3.7/dist-packages (from requests->transformers) (1.24.3)\n",
            "Installing collected packages: tokenizers, huggingface-hub, transformers\n",
            "Successfully installed huggingface-hub-0.10.1 tokenizers-0.13.1 transformers-4.24.0\n",
            "Looking in indexes: https://pypi.org/simple, https://us-python.pkg.dev/colab-wheels/public/simple/\n",
            "Collecting optuna\n",
            "  Downloading optuna-3.0.3-py3-none-any.whl (348 kB)\n",
            "\u001b[K     |████████████████████████████████| 348 kB 33.5 MB/s \n",
            "\u001b[?25hRequirement already satisfied: packaging>=20.0 in /usr/local/lib/python3.7/dist-packages (from optuna) (21.3)\n",
            "Collecting cmaes>=0.8.2\n",
            "  Downloading cmaes-0.8.2-py3-none-any.whl (15 kB)\n",
            "Requirement already satisfied: PyYAML in /usr/local/lib/python3.7/dist-packages (from optuna) (6.0)\n",
            "Requirement already satisfied: importlib-metadata<5.0.0 in /usr/local/lib/python3.7/dist-packages (from optuna) (4.13.0)\n",
            "Requirement already satisfied: sqlalchemy>=1.3.0 in /usr/local/lib/python3.7/dist-packages (from optuna) (1.4.42)\n",
            "Collecting colorlog\n",
            "  Downloading colorlog-6.7.0-py2.py3-none-any.whl (11 kB)\n",
            "Requirement already satisfied: tqdm in /usr/local/lib/python3.7/dist-packages (from optuna) (4.64.1)\n",
            "Collecting cliff\n",
            "  Downloading cliff-3.10.1-py3-none-any.whl (81 kB)\n",
            "\u001b[K     |████████████████████████████████| 81 kB 7.3 MB/s \n",
            "\u001b[?25hRequirement already satisfied: scipy<1.9.0,>=1.7.0 in /usr/local/lib/python3.7/dist-packages (from optuna) (1.7.3)\n",
            "Requirement already satisfied: numpy in /usr/local/lib/python3.7/dist-packages (from optuna) (1.21.6)\n",
            "Collecting alembic>=1.5.0\n",
            "  Downloading alembic-1.8.1-py3-none-any.whl (209 kB)\n",
            "\u001b[K     |████████████████████████████████| 209 kB 76.7 MB/s \n",
            "\u001b[?25hRequirement already satisfied: importlib-resources in /usr/local/lib/python3.7/dist-packages (from alembic>=1.5.0->optuna) (5.10.0)\n",
            "Collecting Mako\n",
            "  Downloading Mako-1.2.3-py3-none-any.whl (78 kB)\n",
            "\u001b[K     |████████████████████████████████| 78 kB 7.9 MB/s \n",
            "\u001b[?25hRequirement already satisfied: typing-extensions>=3.6.4 in /usr/local/lib/python3.7/dist-packages (from importlib-metadata<5.0.0->optuna) (4.1.1)\n",
            "Requirement already satisfied: zipp>=0.5 in /usr/local/lib/python3.7/dist-packages (from importlib-metadata<5.0.0->optuna) (3.10.0)\n",
            "Requirement already satisfied: pyparsing!=3.0.5,>=2.0.2 in /usr/local/lib/python3.7/dist-packages (from packaging>=20.0->optuna) (3.0.9)\n",
            "Requirement already satisfied: greenlet!=0.4.17 in /usr/local/lib/python3.7/dist-packages (from sqlalchemy>=1.3.0->optuna) (1.1.3.post0)\n",
            "Collecting stevedore>=2.0.1\n",
            "  Downloading stevedore-3.5.2-py3-none-any.whl (50 kB)\n",
            "\u001b[K     |████████████████████████████████| 50 kB 6.6 MB/s \n",
            "\u001b[?25hCollecting autopage>=0.4.0\n",
            "  Downloading autopage-0.5.1-py3-none-any.whl (29 kB)\n",
            "Collecting cmd2>=1.0.0\n",
            "  Downloading cmd2-2.4.2-py3-none-any.whl (147 kB)\n",
            "\u001b[K     |████████████████████████████████| 147 kB 71.5 MB/s \n",
            "\u001b[?25hRequirement already satisfied: PrettyTable>=0.7.2 in /usr/local/lib/python3.7/dist-packages (from cliff->optuna) (3.4.1)\n",
            "Collecting pbr!=2.1.0,>=2.0.0\n",
            "  Downloading pbr-5.11.0-py2.py3-none-any.whl (112 kB)\n",
            "\u001b[K     |████████████████████████████████| 112 kB 65.5 MB/s \n",
            "\u001b[?25hRequirement already satisfied: attrs>=16.3.0 in /usr/local/lib/python3.7/dist-packages (from cmd2>=1.0.0->cliff->optuna) (22.1.0)\n",
            "Requirement already satisfied: wcwidth>=0.1.7 in /usr/local/lib/python3.7/dist-packages (from cmd2>=1.0.0->cliff->optuna) (0.2.5)\n",
            "Collecting pyperclip>=1.6\n",
            "  Downloading pyperclip-1.8.2.tar.gz (20 kB)\n",
            "Requirement already satisfied: MarkupSafe>=0.9.2 in /usr/local/lib/python3.7/dist-packages (from Mako->alembic>=1.5.0->optuna) (2.0.1)\n",
            "Building wheels for collected packages: pyperclip\n",
            "  Building wheel for pyperclip (setup.py) ... \u001b[?25l\u001b[?25hdone\n",
            "  Created wheel for pyperclip: filename=pyperclip-1.8.2-py3-none-any.whl size=11137 sha256=812081fa530bf60ea58a16dbf068f27344945babd946e01837d6801078c9a544\n",
            "  Stored in directory: /root/.cache/pip/wheels/9f/18/84/8f69f8b08169c7bae2dde6bd7daf0c19fca8c8e500ee620a28\n",
            "Successfully built pyperclip\n",
            "Installing collected packages: pyperclip, pbr, stevedore, Mako, cmd2, autopage, colorlog, cmaes, cliff, alembic, optuna\n",
            "Successfully installed Mako-1.2.3 alembic-1.8.1 autopage-0.5.1 cliff-3.10.1 cmaes-0.8.2 cmd2-2.4.2 colorlog-6.7.0 optuna-3.0.3 pbr-5.11.0 pyperclip-1.8.2 stevedore-3.5.2\n"
          ]
        }
      ]
    },
    {
      "cell_type": "code",
      "execution_count": null,
      "metadata": {
        "colab": {
          "base_uri": "https://localhost:8080/"
        },
        "id": "o9c049qNI4DN",
        "outputId": "c80f9a10-1208-47ae-b29d-7de23639cf05"
      },
      "outputs": [
        {
          "output_type": "stream",
          "name": "stdout",
          "text": [
            "Mounted at /content/drive\n"
          ]
        }
      ],
      "source": [
        "import pandas as pd\n",
        "import numpy as np\n",
        "import tensorflow as tf\n",
        "from google.colab import drive\n",
        "drive.mount('/content/drive',)"
      ]
    },
    {
      "cell_type": "code",
      "source": [
        "fname = f\"/content/drive/MyDrive/NUS/Y4S1/BT4222 (1)/data/feature_eng_combined_v2.csv\"\n",
        "\n",
        "df = pd.read_csv(fname)\n",
        "df"
      ],
      "metadata": {
        "colab": {
          "base_uri": "https://localhost:8080/",
          "height": 713
        },
        "id": "Izjg7UAlJahB",
        "outputId": "f956311e-2fad-4c6d-a36a-cec1f3742a5f"
      },
      "execution_count": null,
      "outputs": [
        {
          "output_type": "stream",
          "name": "stderr",
          "text": [
            "/usr/local/lib/python3.7/dist-packages/IPython/core/interactiveshell.py:3326: DtypeWarning: Columns (19) have mixed types.Specify dtype option on import or set low_memory=False.\n",
            "  exec(code_obj, self.user_global_ns, self.user_ns)\n"
          ]
        },
        {
          "output_type": "execute_result",
          "data": {
            "text/plain": [
              "       Unnamed: 0                      id                       name  \\\n",
              "0               0  0gplL1WMoJ6iYaPgMCL0gX                 Easy On Me   \n",
              "1               1  4BI4iNZigfF4SUq13TcFPh   INDUSTRY BABY - EXTENDED   \n",
              "2               2  58UKC45GPNTflCN6nwCUeF                 Fancy Like   \n",
              "3               3  3rmo8F54jFF8OgYsqTxm5d                 Bad Habits   \n",
              "4               4  50nfwKoDiSYg8zOCREWAm5                    Shivers   \n",
              "...           ...                     ...                        ...   \n",
              "56830       56830  4lCAS06lKCJiFVGhHqxCtW              Talk About It   \n",
              "56831       56831  60xDmDoYJytWs5do9aHI0F              Beat the Odds   \n",
              "56832       56832  6bAHtwPD7MBjSD8UmZFsh8                  Geography   \n",
              "56833       56833  0G9CL2p0TP4kTIXroDR326  twin hearts (feat. YURMS)   \n",
              "56834       56834  1S0EjHjqfjjadNWQMxv6rb                      Fácil   \n",
              "\n",
              "                                                 artists  \\\n",
              "0                                              ['Adele']   \n",
              "1                           ['Lil Nas X', 'Jack Harlow']   \n",
              "2                                       ['Walker Hayes']   \n",
              "3                                         ['Ed Sheeran']   \n",
              "4                                         ['Ed Sheeran']   \n",
              "...                                                  ...   \n",
              "56830                         ['A Boogie Wit da Hoodie']   \n",
              "56831                                      ['Money Man']   \n",
              "56832  ['Chaos Chaos', 'Kevin Hickey', 'Lucas McCross...   \n",
              "56833                            ['ITSOKTOCRY', 'Yurms']   \n",
              "56834                                     ['Kat Dahlia']   \n",
              "\n",
              "                                              artist_ids  track_number  \\\n",
              "0                             ['4dpARuHxo51G3z768sgnrY']             1   \n",
              "1      ['7jVv8c5Fj3E9VhNjxT4snq', '2LIk90788K0zvyj2JJ...             2   \n",
              "2                             ['7sKxqpSqbIzphAKAhrqvlf']             6   \n",
              "3                             ['6eUKZXaKkcviH0Ku9w2n3V']             4   \n",
              "4                             ['6eUKZXaKkcviH0Ku9w2n3V']             2   \n",
              "...                                                  ...           ...   \n",
              "56830                         ['31W5EY0aAly4Qieq6OFu6I']             9   \n",
              "56831                         ['3Rx4PJ7SP6unkOk5elPUK7']             8   \n",
              "56832  ['6D6rjLdxyE5vwhMlkuQq0E', '12Cqmjoj96GR0wFIup...             1   \n",
              "56833  ['2BUUAEl4BwFRA9NBDgMWSf', '2IaEQEZ606L3nZuGnm...             6   \n",
              "56834                         ['1peH5tSqnYm8W6Bo3I5egE']             3   \n",
              "\n",
              "       danceability  energy  key  loudness  ...  rock  soft rock  \\\n",
              "0             0.604   0.366    5    -7.519  ...     0          0   \n",
              "1             0.732   0.708   10    -6.775  ...     0          0   \n",
              "2             0.647   0.765    1    -6.459  ...     0          0   \n",
              "3             0.807   0.893   11    -3.745  ...     0          0   \n",
              "4             0.788   0.859    2    -2.724  ...     0          0   \n",
              "...             ...     ...  ...       ...  ...   ...        ...   \n",
              "56830         0.445   0.584    1    -9.666  ...     0          0   \n",
              "56831         0.787   0.590   10    -7.123  ...     0          0   \n",
              "56832         0.522   0.788   10    -5.926  ...     0          0   \n",
              "56833         0.786   0.609   11    -6.139  ...     0          0   \n",
              "56834         0.869   0.590   11    -4.453  ...     0          0   \n",
              "\n",
              "       southern hip hop  trap  urban contemporary  release_date  \\\n",
              "0                     0     0                   0      14/10/21   \n",
              "1                     0     0                   0       9/10/21   \n",
              "2                     0     0                   0       21/1/22   \n",
              "3                     0     0                   0      29/10/21   \n",
              "4                     0     0                   0      29/10/21   \n",
              "...                 ...   ...                 ...           ...   \n",
              "56830                 0     1                   0       18/6/20   \n",
              "56831                 1     1                   0       20/3/20   \n",
              "56832                 0     0                   0       21/2/20   \n",
              "56833                 0     0                   0       6/11/20   \n",
              "56834                 0     0                   0      30/10/20   \n",
              "\n",
              "       release_month  average_year_success  is_success bert_dense_lyrics  \n",
              "0            2021-10                    38           1          0.677761  \n",
              "1            2021-10                    27           1          0.587171  \n",
              "2            2022-01                    12           1          0.616422  \n",
              "3            2021-10                    22           1          0.596769  \n",
              "4            2021-10                    22           1          0.640173  \n",
              "...              ...                   ...         ...               ...  \n",
              "56830        2020-06                    64           1          0.597523  \n",
              "56831        2020-03                    -1           0          0.596241  \n",
              "56832        2020-02                    -1           0          0.652086  \n",
              "56833        2020-11                    -1           0          0.560518  \n",
              "56834        2020-10                    71           1          0.613869  \n",
              "\n",
              "[56835 rows x 59 columns]"
            ],
            "text/html": [
              "\n",
              "  <div id=\"df-ea838cea-1c1c-414b-bfdd-c494acc9c3e9\">\n",
              "    <div class=\"colab-df-container\">\n",
              "      <div>\n",
              "<style scoped>\n",
              "    .dataframe tbody tr th:only-of-type {\n",
              "        vertical-align: middle;\n",
              "    }\n",
              "\n",
              "    .dataframe tbody tr th {\n",
              "        vertical-align: top;\n",
              "    }\n",
              "\n",
              "    .dataframe thead th {\n",
              "        text-align: right;\n",
              "    }\n",
              "</style>\n",
              "<table border=\"1\" class=\"dataframe\">\n",
              "  <thead>\n",
              "    <tr style=\"text-align: right;\">\n",
              "      <th></th>\n",
              "      <th>Unnamed: 0</th>\n",
              "      <th>id</th>\n",
              "      <th>name</th>\n",
              "      <th>artists</th>\n",
              "      <th>artist_ids</th>\n",
              "      <th>track_number</th>\n",
              "      <th>danceability</th>\n",
              "      <th>energy</th>\n",
              "      <th>key</th>\n",
              "      <th>loudness</th>\n",
              "      <th>...</th>\n",
              "      <th>rock</th>\n",
              "      <th>soft rock</th>\n",
              "      <th>southern hip hop</th>\n",
              "      <th>trap</th>\n",
              "      <th>urban contemporary</th>\n",
              "      <th>release_date</th>\n",
              "      <th>release_month</th>\n",
              "      <th>average_year_success</th>\n",
              "      <th>is_success</th>\n",
              "      <th>bert_dense_lyrics</th>\n",
              "    </tr>\n",
              "  </thead>\n",
              "  <tbody>\n",
              "    <tr>\n",
              "      <th>0</th>\n",
              "      <td>0</td>\n",
              "      <td>0gplL1WMoJ6iYaPgMCL0gX</td>\n",
              "      <td>Easy On Me</td>\n",
              "      <td>['Adele']</td>\n",
              "      <td>['4dpARuHxo51G3z768sgnrY']</td>\n",
              "      <td>1</td>\n",
              "      <td>0.604</td>\n",
              "      <td>0.366</td>\n",
              "      <td>5</td>\n",
              "      <td>-7.519</td>\n",
              "      <td>...</td>\n",
              "      <td>0</td>\n",
              "      <td>0</td>\n",
              "      <td>0</td>\n",
              "      <td>0</td>\n",
              "      <td>0</td>\n",
              "      <td>14/10/21</td>\n",
              "      <td>2021-10</td>\n",
              "      <td>38</td>\n",
              "      <td>1</td>\n",
              "      <td>0.677761</td>\n",
              "    </tr>\n",
              "    <tr>\n",
              "      <th>1</th>\n",
              "      <td>1</td>\n",
              "      <td>4BI4iNZigfF4SUq13TcFPh</td>\n",
              "      <td>INDUSTRY BABY - EXTENDED</td>\n",
              "      <td>['Lil Nas X', 'Jack Harlow']</td>\n",
              "      <td>['7jVv8c5Fj3E9VhNjxT4snq', '2LIk90788K0zvyj2JJ...</td>\n",
              "      <td>2</td>\n",
              "      <td>0.732</td>\n",
              "      <td>0.708</td>\n",
              "      <td>10</td>\n",
              "      <td>-6.775</td>\n",
              "      <td>...</td>\n",
              "      <td>0</td>\n",
              "      <td>0</td>\n",
              "      <td>0</td>\n",
              "      <td>0</td>\n",
              "      <td>0</td>\n",
              "      <td>9/10/21</td>\n",
              "      <td>2021-10</td>\n",
              "      <td>27</td>\n",
              "      <td>1</td>\n",
              "      <td>0.587171</td>\n",
              "    </tr>\n",
              "    <tr>\n",
              "      <th>2</th>\n",
              "      <td>2</td>\n",
              "      <td>58UKC45GPNTflCN6nwCUeF</td>\n",
              "      <td>Fancy Like</td>\n",
              "      <td>['Walker Hayes']</td>\n",
              "      <td>['7sKxqpSqbIzphAKAhrqvlf']</td>\n",
              "      <td>6</td>\n",
              "      <td>0.647</td>\n",
              "      <td>0.765</td>\n",
              "      <td>1</td>\n",
              "      <td>-6.459</td>\n",
              "      <td>...</td>\n",
              "      <td>0</td>\n",
              "      <td>0</td>\n",
              "      <td>0</td>\n",
              "      <td>0</td>\n",
              "      <td>0</td>\n",
              "      <td>21/1/22</td>\n",
              "      <td>2022-01</td>\n",
              "      <td>12</td>\n",
              "      <td>1</td>\n",
              "      <td>0.616422</td>\n",
              "    </tr>\n",
              "    <tr>\n",
              "      <th>3</th>\n",
              "      <td>3</td>\n",
              "      <td>3rmo8F54jFF8OgYsqTxm5d</td>\n",
              "      <td>Bad Habits</td>\n",
              "      <td>['Ed Sheeran']</td>\n",
              "      <td>['6eUKZXaKkcviH0Ku9w2n3V']</td>\n",
              "      <td>4</td>\n",
              "      <td>0.807</td>\n",
              "      <td>0.893</td>\n",
              "      <td>11</td>\n",
              "      <td>-3.745</td>\n",
              "      <td>...</td>\n",
              "      <td>0</td>\n",
              "      <td>0</td>\n",
              "      <td>0</td>\n",
              "      <td>0</td>\n",
              "      <td>0</td>\n",
              "      <td>29/10/21</td>\n",
              "      <td>2021-10</td>\n",
              "      <td>22</td>\n",
              "      <td>1</td>\n",
              "      <td>0.596769</td>\n",
              "    </tr>\n",
              "    <tr>\n",
              "      <th>4</th>\n",
              "      <td>4</td>\n",
              "      <td>50nfwKoDiSYg8zOCREWAm5</td>\n",
              "      <td>Shivers</td>\n",
              "      <td>['Ed Sheeran']</td>\n",
              "      <td>['6eUKZXaKkcviH0Ku9w2n3V']</td>\n",
              "      <td>2</td>\n",
              "      <td>0.788</td>\n",
              "      <td>0.859</td>\n",
              "      <td>2</td>\n",
              "      <td>-2.724</td>\n",
              "      <td>...</td>\n",
              "      <td>0</td>\n",
              "      <td>0</td>\n",
              "      <td>0</td>\n",
              "      <td>0</td>\n",
              "      <td>0</td>\n",
              "      <td>29/10/21</td>\n",
              "      <td>2021-10</td>\n",
              "      <td>22</td>\n",
              "      <td>1</td>\n",
              "      <td>0.640173</td>\n",
              "    </tr>\n",
              "    <tr>\n",
              "      <th>...</th>\n",
              "      <td>...</td>\n",
              "      <td>...</td>\n",
              "      <td>...</td>\n",
              "      <td>...</td>\n",
              "      <td>...</td>\n",
              "      <td>...</td>\n",
              "      <td>...</td>\n",
              "      <td>...</td>\n",
              "      <td>...</td>\n",
              "      <td>...</td>\n",
              "      <td>...</td>\n",
              "      <td>...</td>\n",
              "      <td>...</td>\n",
              "      <td>...</td>\n",
              "      <td>...</td>\n",
              "      <td>...</td>\n",
              "      <td>...</td>\n",
              "      <td>...</td>\n",
              "      <td>...</td>\n",
              "      <td>...</td>\n",
              "      <td>...</td>\n",
              "    </tr>\n",
              "    <tr>\n",
              "      <th>56830</th>\n",
              "      <td>56830</td>\n",
              "      <td>4lCAS06lKCJiFVGhHqxCtW</td>\n",
              "      <td>Talk About It</td>\n",
              "      <td>['A Boogie Wit da Hoodie']</td>\n",
              "      <td>['31W5EY0aAly4Qieq6OFu6I']</td>\n",
              "      <td>9</td>\n",
              "      <td>0.445</td>\n",
              "      <td>0.584</td>\n",
              "      <td>1</td>\n",
              "      <td>-9.666</td>\n",
              "      <td>...</td>\n",
              "      <td>0</td>\n",
              "      <td>0</td>\n",
              "      <td>0</td>\n",
              "      <td>1</td>\n",
              "      <td>0</td>\n",
              "      <td>18/6/20</td>\n",
              "      <td>2020-06</td>\n",
              "      <td>64</td>\n",
              "      <td>1</td>\n",
              "      <td>0.597523</td>\n",
              "    </tr>\n",
              "    <tr>\n",
              "      <th>56831</th>\n",
              "      <td>56831</td>\n",
              "      <td>60xDmDoYJytWs5do9aHI0F</td>\n",
              "      <td>Beat the Odds</td>\n",
              "      <td>['Money Man']</td>\n",
              "      <td>['3Rx4PJ7SP6unkOk5elPUK7']</td>\n",
              "      <td>8</td>\n",
              "      <td>0.787</td>\n",
              "      <td>0.590</td>\n",
              "      <td>10</td>\n",
              "      <td>-7.123</td>\n",
              "      <td>...</td>\n",
              "      <td>0</td>\n",
              "      <td>0</td>\n",
              "      <td>1</td>\n",
              "      <td>1</td>\n",
              "      <td>0</td>\n",
              "      <td>20/3/20</td>\n",
              "      <td>2020-03</td>\n",
              "      <td>-1</td>\n",
              "      <td>0</td>\n",
              "      <td>0.596241</td>\n",
              "    </tr>\n",
              "    <tr>\n",
              "      <th>56832</th>\n",
              "      <td>56832</td>\n",
              "      <td>6bAHtwPD7MBjSD8UmZFsh8</td>\n",
              "      <td>Geography</td>\n",
              "      <td>['Chaos Chaos', 'Kevin Hickey', 'Lucas McCross...</td>\n",
              "      <td>['6D6rjLdxyE5vwhMlkuQq0E', '12Cqmjoj96GR0wFIup...</td>\n",
              "      <td>1</td>\n",
              "      <td>0.522</td>\n",
              "      <td>0.788</td>\n",
              "      <td>10</td>\n",
              "      <td>-5.926</td>\n",
              "      <td>...</td>\n",
              "      <td>0</td>\n",
              "      <td>0</td>\n",
              "      <td>0</td>\n",
              "      <td>0</td>\n",
              "      <td>0</td>\n",
              "      <td>21/2/20</td>\n",
              "      <td>2020-02</td>\n",
              "      <td>-1</td>\n",
              "      <td>0</td>\n",
              "      <td>0.652086</td>\n",
              "    </tr>\n",
              "    <tr>\n",
              "      <th>56833</th>\n",
              "      <td>56833</td>\n",
              "      <td>0G9CL2p0TP4kTIXroDR326</td>\n",
              "      <td>twin hearts (feat. YURMS)</td>\n",
              "      <td>['ITSOKTOCRY', 'Yurms']</td>\n",
              "      <td>['2BUUAEl4BwFRA9NBDgMWSf', '2IaEQEZ606L3nZuGnm...</td>\n",
              "      <td>6</td>\n",
              "      <td>0.786</td>\n",
              "      <td>0.609</td>\n",
              "      <td>11</td>\n",
              "      <td>-6.139</td>\n",
              "      <td>...</td>\n",
              "      <td>0</td>\n",
              "      <td>0</td>\n",
              "      <td>0</td>\n",
              "      <td>0</td>\n",
              "      <td>0</td>\n",
              "      <td>6/11/20</td>\n",
              "      <td>2020-11</td>\n",
              "      <td>-1</td>\n",
              "      <td>0</td>\n",
              "      <td>0.560518</td>\n",
              "    </tr>\n",
              "    <tr>\n",
              "      <th>56834</th>\n",
              "      <td>56834</td>\n",
              "      <td>1S0EjHjqfjjadNWQMxv6rb</td>\n",
              "      <td>Fácil</td>\n",
              "      <td>['Kat Dahlia']</td>\n",
              "      <td>['1peH5tSqnYm8W6Bo3I5egE']</td>\n",
              "      <td>3</td>\n",
              "      <td>0.869</td>\n",
              "      <td>0.590</td>\n",
              "      <td>11</td>\n",
              "      <td>-4.453</td>\n",
              "      <td>...</td>\n",
              "      <td>0</td>\n",
              "      <td>0</td>\n",
              "      <td>0</td>\n",
              "      <td>0</td>\n",
              "      <td>0</td>\n",
              "      <td>30/10/20</td>\n",
              "      <td>2020-10</td>\n",
              "      <td>71</td>\n",
              "      <td>1</td>\n",
              "      <td>0.613869</td>\n",
              "    </tr>\n",
              "  </tbody>\n",
              "</table>\n",
              "<p>56835 rows × 59 columns</p>\n",
              "</div>\n",
              "      <button class=\"colab-df-convert\" onclick=\"convertToInteractive('df-ea838cea-1c1c-414b-bfdd-c494acc9c3e9')\"\n",
              "              title=\"Convert this dataframe to an interactive table.\"\n",
              "              style=\"display:none;\">\n",
              "        \n",
              "  <svg xmlns=\"http://www.w3.org/2000/svg\" height=\"24px\"viewBox=\"0 0 24 24\"\n",
              "       width=\"24px\">\n",
              "    <path d=\"M0 0h24v24H0V0z\" fill=\"none\"/>\n",
              "    <path d=\"M18.56 5.44l.94 2.06.94-2.06 2.06-.94-2.06-.94-.94-2.06-.94 2.06-2.06.94zm-11 1L8.5 8.5l.94-2.06 2.06-.94-2.06-.94L8.5 2.5l-.94 2.06-2.06.94zm10 10l.94 2.06.94-2.06 2.06-.94-2.06-.94-.94-2.06-.94 2.06-2.06.94z\"/><path d=\"M17.41 7.96l-1.37-1.37c-.4-.4-.92-.59-1.43-.59-.52 0-1.04.2-1.43.59L10.3 9.45l-7.72 7.72c-.78.78-.78 2.05 0 2.83L4 21.41c.39.39.9.59 1.41.59.51 0 1.02-.2 1.41-.59l7.78-7.78 2.81-2.81c.8-.78.8-2.07 0-2.86zM5.41 20L4 18.59l7.72-7.72 1.47 1.35L5.41 20z\"/>\n",
              "  </svg>\n",
              "      </button>\n",
              "      \n",
              "  <style>\n",
              "    .colab-df-container {\n",
              "      display:flex;\n",
              "      flex-wrap:wrap;\n",
              "      gap: 12px;\n",
              "    }\n",
              "\n",
              "    .colab-df-convert {\n",
              "      background-color: #E8F0FE;\n",
              "      border: none;\n",
              "      border-radius: 50%;\n",
              "      cursor: pointer;\n",
              "      display: none;\n",
              "      fill: #1967D2;\n",
              "      height: 32px;\n",
              "      padding: 0 0 0 0;\n",
              "      width: 32px;\n",
              "    }\n",
              "\n",
              "    .colab-df-convert:hover {\n",
              "      background-color: #E2EBFA;\n",
              "      box-shadow: 0px 1px 2px rgba(60, 64, 67, 0.3), 0px 1px 3px 1px rgba(60, 64, 67, 0.15);\n",
              "      fill: #174EA6;\n",
              "    }\n",
              "\n",
              "    [theme=dark] .colab-df-convert {\n",
              "      background-color: #3B4455;\n",
              "      fill: #D2E3FC;\n",
              "    }\n",
              "\n",
              "    [theme=dark] .colab-df-convert:hover {\n",
              "      background-color: #434B5C;\n",
              "      box-shadow: 0px 1px 3px 1px rgba(0, 0, 0, 0.15);\n",
              "      filter: drop-shadow(0px 1px 2px rgba(0, 0, 0, 0.3));\n",
              "      fill: #FFFFFF;\n",
              "    }\n",
              "  </style>\n",
              "\n",
              "      <script>\n",
              "        const buttonEl =\n",
              "          document.querySelector('#df-ea838cea-1c1c-414b-bfdd-c494acc9c3e9 button.colab-df-convert');\n",
              "        buttonEl.style.display =\n",
              "          google.colab.kernel.accessAllowed ? 'block' : 'none';\n",
              "\n",
              "        async function convertToInteractive(key) {\n",
              "          const element = document.querySelector('#df-ea838cea-1c1c-414b-bfdd-c494acc9c3e9');\n",
              "          const dataTable =\n",
              "            await google.colab.kernel.invokeFunction('convertToInteractive',\n",
              "                                                     [key], {});\n",
              "          if (!dataTable) return;\n",
              "\n",
              "          const docLinkHtml = 'Like what you see? Visit the ' +\n",
              "            '<a target=\"_blank\" href=https://colab.research.google.com/notebooks/data_table.ipynb>data table notebook</a>'\n",
              "            + ' to learn more about interactive tables.';\n",
              "          element.innerHTML = '';\n",
              "          dataTable['output_type'] = 'display_data';\n",
              "          await google.colab.output.renderOutput(dataTable, element);\n",
              "          const docLink = document.createElement('div');\n",
              "          docLink.innerHTML = docLinkHtml;\n",
              "          element.appendChild(docLink);\n",
              "        }\n",
              "      </script>\n",
              "    </div>\n",
              "  </div>\n",
              "  "
            ]
          },
          "metadata": {},
          "execution_count": 4
        }
      ]
    },
    {
      "cell_type": "code",
      "source": [
        "from sklearn.model_selection import train_test_split\n",
        "\n",
        "#Feature selection for training\n",
        "print(df.columns)\n",
        "df_model = df.copy().drop(columns=['Unnamed: 0', 'id', 'name', 'artists', 'artist_ids', 'release_date_x', 'release_date', 'date', 'lyrics', 'non_stop_lyrics', 'release_month', 'sentiment'])\n",
        "\n",
        "#Split train and test set\n",
        "X, y = df_model.drop(columns=['target']), df_model['target']\n"
      ],
      "metadata": {
        "colab": {
          "base_uri": "https://localhost:8080/"
        },
        "id": "sfaC2i2LJcwI",
        "outputId": "924a827e-6512-43a5-df66-4b597962e530"
      },
      "execution_count": null,
      "outputs": [
        {
          "output_type": "stream",
          "name": "stdout",
          "text": [
            "Index(['Unnamed: 0', 'id', 'name', 'artists', 'artist_ids', 'track_number',\n",
            "       'danceability', 'energy', 'key', 'loudness', 'mode', 'speechiness',\n",
            "       'acousticness', 'instrumentalness', 'liveness', 'valence', 'tempo',\n",
            "       'explicit', 'duration_ms', 'date', 'release_date_x', 'lyrics', 'target',\n",
            "       'length_lyrics', 'unique_length_lyrics', 'title_length',\n",
            "       'non_stop_lyrics', 'length_lyrics_non', 'unique_length_lyrics_non',\n",
            "       'sentiment', 'positive', 'neutral', 'negative', 'compound',\n",
            "       'alternative rock', 'country', 'country rock', 'dance pop', 'folk',\n",
            "       'gangster rap', 'hip hop', 'indie rock', 'mellow gold', 'pop',\n",
            "       'pop rap', 'pop rock', 'post-teen pop', 'r&b', 'rap', 'rock',\n",
            "       'soft rock', 'southern hip hop', 'trap', 'urban contemporary',\n",
            "       'release_date', 'release_month', 'average_year_success', 'is_success',\n",
            "       'bert_dense_lyrics'],\n",
            "      dtype='object')\n"
          ]
        }
      ]
    },
    {
      "cell_type": "code",
      "source": [
        "X.columns"
      ],
      "metadata": {
        "colab": {
          "base_uri": "https://localhost:8080/"
        },
        "id": "fjlMhljFPCUV",
        "outputId": "ca69b611-a07a-47d8-c64a-a3fdddf32133"
      },
      "execution_count": null,
      "outputs": [
        {
          "output_type": "execute_result",
          "data": {
            "text/plain": [
              "Index(['track_number', 'danceability', 'energy', 'key', 'loudness', 'mode',\n",
              "       'speechiness', 'acousticness', 'instrumentalness', 'liveness',\n",
              "       'valence', 'tempo', 'explicit', 'duration_ms', 'length_lyrics',\n",
              "       'unique_length_lyrics', 'title_length', 'length_lyrics_non',\n",
              "       'unique_length_lyrics_non', 'positive', 'neutral', 'negative',\n",
              "       'compound', 'alternative rock', 'country', 'country rock', 'dance pop',\n",
              "       'folk', 'gangster rap', 'hip hop', 'indie rock', 'mellow gold', 'pop',\n",
              "       'pop rap', 'pop rock', 'post-teen pop', 'r&b', 'rap', 'rock',\n",
              "       'soft rock', 'southern hip hop', 'trap', 'urban contemporary',\n",
              "       'average_year_success', 'is_success', 'bert_dense_lyrics'],\n",
              "      dtype='object')"
            ]
          },
          "metadata": {},
          "execution_count": 5
        }
      ]
    },
    {
      "cell_type": "code",
      "source": [
        "X.dtypes"
      ],
      "metadata": {
        "colab": {
          "base_uri": "https://localhost:8080/"
        },
        "id": "L1RYH1JMGenM",
        "outputId": "8be01a70-322f-492f-de03-f3adc5cad132"
      },
      "execution_count": null,
      "outputs": [
        {
          "output_type": "execute_result",
          "data": {
            "text/plain": [
              "track_number                  int64\n",
              "danceability                float64\n",
              "energy                      float64\n",
              "key                           int64\n",
              "loudness                    float64\n",
              "mode                          int64\n",
              "speechiness                 float64\n",
              "acousticness                float64\n",
              "instrumentalness            float64\n",
              "liveness                    float64\n",
              "valence                     float64\n",
              "tempo                       float64\n",
              "explicit                       bool\n",
              "duration_ms                   int64\n",
              "length_lyrics                 int64\n",
              "unique_length_lyrics          int64\n",
              "title_length                  int64\n",
              "length_lyrics_non             int64\n",
              "unique_length_lyrics_non      int64\n",
              "positive                    float64\n",
              "neutral                     float64\n",
              "negative                    float64\n",
              "compound                    float64\n",
              "alternative rock              int64\n",
              "country                       int64\n",
              "country rock                  int64\n",
              "dance pop                     int64\n",
              "folk                          int64\n",
              "gangster rap                  int64\n",
              "hip hop                       int64\n",
              "indie rock                    int64\n",
              "mellow gold                   int64\n",
              "pop                           int64\n",
              "pop rap                       int64\n",
              "pop rock                      int64\n",
              "post-teen pop                 int64\n",
              "r&b                           int64\n",
              "rap                           int64\n",
              "rock                          int64\n",
              "soft rock                     int64\n",
              "southern hip hop              int64\n",
              "trap                          int64\n",
              "urban contemporary            int64\n",
              "average_year_success          int64\n",
              "is_success                    int64\n",
              "bert_dense_lyrics           float64\n",
              "dtype: object"
            ]
          },
          "metadata": {},
          "execution_count": 6
        }
      ]
    },
    {
      "cell_type": "code",
      "source": [
        "X_train, X_test, y_train, y_test = train_test_split(X, y, test_size=0.33, random_state=42)"
      ],
      "metadata": {
        "id": "uGXXYmS4RWGe"
      },
      "execution_count": null,
      "outputs": []
    },
    {
      "cell_type": "markdown",
      "source": [
        "MinMax Scaler\n",
        "\n",
        "\n",
        "---\n",
        "\n"
      ],
      "metadata": {
        "id": "PxQKMp6gMxn6"
      }
    },
    {
      "cell_type": "code",
      "source": [
        "from sklearn.preprocessing import MinMaxScaler, StandardScaler\n",
        "scalar_list = dict()\n",
        "# for i in [ 'duration_ms', 'length_lyrics','unique_length_lyrics', 'title_length', 'length_lyrics_non','unique_length_lyrics_non']:\n",
        "#   scalar = MinMaxScaler()\n",
        "#   X_train[i] = scalar.fit_transform(X_train[i].to_numpy().reshape(-1,1))\n",
        "#   X_test[i] = scalar.transform(X_test[i].to_numpy().reshape(-1,1))\n",
        "#   scalar_list[i] = scalar\n",
        "scaler = MinMaxScaler()\n",
        "X_train = scaler.fit_transform(X_train)\n",
        "X_test= scaler.transform(X_test)"
      ],
      "metadata": {
        "id": "IRwqhTtCPYqH"
      },
      "execution_count": null,
      "outputs": []
    },
    {
      "cell_type": "markdown",
      "source": [
        "NN Model without SMOTE without Tuning\n",
        "\n",
        "\n",
        "---\n",
        "\n"
      ],
      "metadata": {
        "id": "zW9UA62tK2zT"
      }
    },
    {
      "cell_type": "code",
      "source": [
        "from tensorflow.keras import Sequential, layers\n",
        "from tensorflow import keras\n",
        "import keras_tuner as kt\n",
        "\n",
        "def model_builder(hp):\n",
        "  model = Sequential()\n",
        "\n",
        "  # Tune the number of units in the first Dense layer\n",
        "  # Choose an optimal value between 32-512\n",
        "  model.add(layers.Input(shape=(46,)))\n",
        "  hp_units1 = hp.Int('units1', min_value=128, max_value=512, step=32)\n",
        "  hp_units2 = hp.Int('units2', min_value=128, max_value=512, step=32)\n",
        "  hp_units3 = hp.Int('units3', min_value=32, max_value=128, step=32)\n",
        "  model.add(layers.Dense(units=hp_units1, activation='relu'))\n",
        "  model.add(layers.Dense(units=hp_units2,activation='relu'))\n",
        "  model.add(layers.Dense(units=hp_units3,activation='relu'))\n",
        "  model.add(layers.Dense(1,activation='sigmoid'))\n",
        "\n",
        "  # Tune the learning rate for the optimizer\n",
        "  # Choose an optimal value from 0.01, 0.001, or 0.0001\n",
        "  hp_learning_rate = hp.Choice('learning_rate', values=[1e-2, 1e-3, 1e-4])\n",
        "\n",
        "  model.compile(optimizer=keras.optimizers.Adam(learning_rate=hp_learning_rate),\n",
        "                loss=keras.losses.BinaryCrossentropy(from_logits=True),\n",
        "                metrics=['accuracy'])\n",
        "\n",
        "  return model"
      ],
      "metadata": {
        "id": "GY3ZmadILDaJ"
      },
      "execution_count": null,
      "outputs": []
    },
    {
      "cell_type": "code",
      "source": [
        "import keras_tuner as kt\n",
        "tuner = kt.Hyperband(model_builder,\n",
        "                     objective='val_accuracy',\n",
        "                     max_epochs=20,\n",
        "                     factor=3)"
      ],
      "metadata": {
        "id": "GUzFRBXSLGdG"
      },
      "execution_count": null,
      "outputs": []
    },
    {
      "cell_type": "code",
      "source": [
        "stop_early = tf.keras.callbacks.EarlyStopping(monitor='val_loss', patience=5)"
      ],
      "metadata": {
        "id": "XDQvEgrm6nLX"
      },
      "execution_count": null,
      "outputs": []
    },
    {
      "cell_type": "code",
      "source": [
        "tuner.search(X_train, y_train, epochs=50, validation_split=0.2, callbacks=[stop_early])"
      ],
      "metadata": {
        "id": "99sO9pLk607g"
      },
      "execution_count": null,
      "outputs": []
    },
    {
      "cell_type": "code",
      "source": [
        "best_hps=tuner.get_best_hyperparameters(num_trials=1)[0]"
      ],
      "metadata": {
        "id": "1xfz47Ov65wS"
      },
      "execution_count": null,
      "outputs": []
    },
    {
      "cell_type": "code",
      "source": [
        "model = tuner.hypermodel.build(best_hps)\n",
        "history = model.fit(X_train, y_train, epochs=50, validation_split=0.2)"
      ],
      "metadata": {
        "id": "WiKFle-TL4z2"
      },
      "execution_count": null,
      "outputs": []
    },
    {
      "cell_type": "code",
      "source": [
        "import pickle\n",
        "filename = f'model_nn_no_SMOTE.sav'\n",
        "pickle.dump(model, open(f\"/content/drive/MyDrive/BT4222/{filename}\", 'wb'))"
      ],
      "metadata": {
        "id": "6xI_rHl9LZTv"
      },
      "execution_count": null,
      "outputs": []
    },
    {
      "cell_type": "code",
      "source": [
        "import pickle\n",
        "filename = f'/content/drive/MyDrive/BT4222/models/model_nn_no_SMOTE.sav'\n",
        "model = pickle.load(open(filename, 'rb'))"
      ],
      "metadata": {
        "id": "cztLhtmnUgZ_"
      },
      "execution_count": null,
      "outputs": []
    },
    {
      "cell_type": "code",
      "source": [
        "predictions = loaded_clf.predict(X_test)"
      ],
      "metadata": {
        "id": "peHUV6MHXtjf"
      },
      "execution_count": null,
      "outputs": []
    },
    {
      "cell_type": "code",
      "source": [
        "predictions = (model.predict(X_test) > 0.5).astype(\"int32\")"
      ],
      "metadata": {
        "colab": {
          "base_uri": "https://localhost:8080/"
        },
        "id": "xAvdN311WGF7",
        "outputId": "2708390d-825a-4f5a-c044-92a560f0437d"
      },
      "execution_count": null,
      "outputs": [
        {
          "output_type": "stream",
          "name": "stdout",
          "text": [
            "587/587 [==============================] - 1s 1ms/step\n"
          ]
        }
      ]
    },
    {
      "cell_type": "code",
      "source": [
        "from sklearn.metrics import accuracy_score, classification_report, f1_score,recall_score,accuracy_score,roc_auc_score,precision_score\n",
        "y_test_formatted = y_test.to_numpy().astype('int64')\n",
        "print(accuracy_score(y_test,predictions))\n",
        "print(classification_report(y_test,predictions))\n",
        "print(f\"Accuracy: {accuracy_score(y_test,predictions)}\")\n",
        "print(f\"Precision: {precision_score(y_test,predictions)}\")\n",
        "print(f\"Recall: {recall_score(y_test,predictions)}\")\n",
        "print(f\"F1-score: {f1_score(y_test,predictions)}\")"
      ],
      "metadata": {
        "colab": {
          "base_uri": "https://localhost:8080/"
        },
        "id": "3HnGvf7kV-vt",
        "outputId": "26830f4c-cddb-4da2-b226-f279dc911cba"
      },
      "execution_count": null,
      "outputs": [
        {
          "output_type": "stream",
          "name": "stdout",
          "text": [
            "0.8882490936233739\n",
            "              precision    recall  f1-score   support\n",
            "\n",
            "           0       0.94      0.93      0.93     15981\n",
            "           1       0.62      0.63      0.62      2775\n",
            "\n",
            "    accuracy                           0.89     18756\n",
            "   macro avg       0.78      0.78      0.78     18756\n",
            "weighted avg       0.89      0.89      0.89     18756\n",
            "\n",
            "Accuracy: 0.8882490936233739\n",
            "Precision: 0.6212933190425152\n",
            "Recall: 0.6266666666666667\n",
            "F1-score: 0.6239684248295658\n"
          ]
        }
      ]
    },
    {
      "cell_type": "code",
      "source": [
        "from sklearn.metrics import confusion_matrix\n",
        "import seaborn as sb\n",
        "cf_matrix = confusion_matrix(y_test,predictions)  \n",
        "sb.heatmap(cf_matrix, annot=True, fmt='g')"
      ],
      "metadata": {
        "colab": {
          "base_uri": "https://localhost:8080/",
          "height": 282
        },
        "id": "41RyUOvOYXPm",
        "outputId": "eb0ba4f0-7906-4656-fa94-983f3ddf6893"
      },
      "execution_count": null,
      "outputs": [
        {
          "output_type": "execute_result",
          "data": {
            "text/plain": [
              "<matplotlib.axes._subplots.AxesSubplot at 0x7fc104779450>"
            ]
          },
          "metadata": {},
          "execution_count": 18
        },
        {
          "output_type": "display_data",
          "data": {
            "text/plain": [
              "<Figure size 432x288 with 2 Axes>"
            ],
            "image/png": "[encoded data removed]"
          },
          "metadata": {
            "needs_background": "light"
          }
        }
      ]
    },
    {
      "cell_type": "code",
      "source": [
        "model.evaluate(X_test,y_test)"
      ],
      "metadata": {
        "colab": {
          "base_uri": "https://localhost:8080/"
        },
        "id": "6hg1mSq6rx4n",
        "outputId": "e935e472-a501-474f-ab9f-eaabb48475db"
      },
      "execution_count": null,
      "outputs": [
        {
          "output_type": "stream",
          "name": "stdout",
          "text": [
            "587/587 [==============================] - 1s 2ms/step - loss: 0.3027 - accuracy: 0.8706\n"
          ]
        },
        {
          "output_type": "execute_result",
          "data": {
            "text/plain": [
              "[0.302734375, 0.8706014156341553]"
            ]
          },
          "metadata": {},
          "execution_count": 54
        }
      ]
    },
    {
      "cell_type": "markdown",
      "source": [
        "NN Model with Tuning, Smote\n",
        "\n",
        "\n",
        "---\n",
        "\n"
      ],
      "metadata": {
        "id": "6JYk0-unKKPx"
      }
    },
    {
      "cell_type": "code",
      "source": [
        "# Oversample and plot imbalanced dataset with SMOTE\n",
        "from collections import Counter\n",
        "from imblearn.over_sampling import SMOTE\n",
        "from matplotlib import pyplot\n",
        "from numpy import where\n",
        "# transform the dataset\n",
        "oversample = SMOTE()\n",
        "X_train_smote, y_train_smote = oversample.fit_resample(X_train, y_train)\n",
        "X_train_smote = np.asarray(X_train_smote).astype('float32')\n",
        "# summarize the new class distribution\n",
        "counter = Counter(y_train_smote)\n",
        "print(counter)"
      ],
      "metadata": {
        "colab": {
          "base_uri": "https://localhost:8080/"
        },
        "id": "j3RWpetULm44",
        "outputId": "d1d41360-2e18-4c81-b71f-afe3d38f6505"
      },
      "execution_count": null,
      "outputs": [
        {
          "output_type": "stream",
          "name": "stdout",
          "text": [
            "Counter({0: 32660, 1: 32660})\n"
          ]
        }
      ]
    },
    {
      "cell_type": "code",
      "source": [
        "from tensorflow.keras import Sequential, layers\n",
        "from tensorflow import keras\n",
        "import keras_tuner as kt\n",
        "\n",
        "def model_builder(hp):\n",
        "  model = Sequential()\n",
        "\n",
        "  # Tune the number of units in the first Dense layer\n",
        "  # Choose an optimal value between 32-512\n",
        "  model.add(layers.Input(shape=(46,)))\n",
        "  hp_units1 = hp.Int('units1', min_value=128, max_value=512, step=32)\n",
        "  hp_units2 = hp.Int('units2', min_value=128, max_value=512, step=32)\n",
        "  hp_units3 = hp.Int('units3', min_value=32, max_value=128, step=32)\n",
        "  model.add(layers.Dense(units=hp_units1, activation='relu'))\n",
        "  model.add(layers.Dense(units=hp_units2,activation='relu'))\n",
        "  model.add(layers.Dense(units=hp_units3,activation='relu'))\n",
        "  model.add(layers.Dense(1,activation='sigmoid'))\n",
        "\n",
        "  # Tune the learning rate for the optimizer\n",
        "  # Choose an optimal value from 0.01, 0.001, or 0.0001\n",
        "  hp_learning_rate = hp.Choice('learning_rate', values=[1e-2, 1e-3, 1e-4])\n",
        "\n",
        "  model.compile(optimizer=keras.optimizers.Adam(learning_rate=hp_learning_rate),\n",
        "                loss=keras.losses.BinaryCrossentropy(from_logits=True),\n",
        "                metrics=['accuracy'])\n",
        "\n",
        "  return model"
      ],
      "metadata": {
        "id": "T-Lg4SrXTjAL"
      },
      "execution_count": null,
      "outputs": []
    },
    {
      "cell_type": "code",
      "source": [
        "import keras_tuner as kt\n",
        "tuner = kt.Hyperband(model_builder,\n",
        "                     objective='val_accuracy',\n",
        "                     max_epochs=20,\n",
        "                     factor=3)"
      ],
      "metadata": {
        "id": "YC6BGT_MUI68"
      },
      "execution_count": null,
      "outputs": []
    },
    {
      "cell_type": "code",
      "source": [
        "stop_early = tf.keras.callbacks.EarlyStopping(monitor='val_loss', patience=5)"
      ],
      "metadata": {
        "id": "QQmIhpaiVy-P"
      },
      "execution_count": null,
      "outputs": []
    },
    {
      "cell_type": "code",
      "source": [
        "tuner.search(X_train_smote, y_train_smote, epochs=50, validation_split=0.2, callbacks=[stop_early])"
      ],
      "metadata": {
        "colab": {
          "base_uri": "https://localhost:8080/"
        },
        "id": "sC6aeTJEV3si",
        "outputId": "1051e5cb-2024-461f-a652-0ca9f756ac2c"
      },
      "execution_count": null,
      "outputs": [
        {
          "output_type": "stream",
          "name": "stdout",
          "text": [
            "Trial 30 Complete [00h 01m 03s]\n",
            "val_accuracy: 0.8818891644477844\n",
            "\n",
            "Best val_accuracy So Far: 0.9579761028289795\n",
            "Total elapsed time: 00h 22m 00s\n"
          ]
        }
      ]
    },
    {
      "cell_type": "code",
      "source": [
        "best_hps=tuner.get_best_hyperparameters(num_trials=1)[0]"
      ],
      "metadata": {
        "id": "ONvfbYf3fegh"
      },
      "execution_count": null,
      "outputs": []
    },
    {
      "cell_type": "code",
      "source": [
        "model = tuner.hypermodel.build(best_hps)\n",
        "history = model.fit(X_train_smote, y_train_smote, epochs=50, validation_split=0.2)"
      ],
      "metadata": {
        "colab": {
          "base_uri": "https://localhost:8080/"
        },
        "id": "fAvA3EdIqihc",
        "outputId": "7d39cb09-4c5f-4fca-bc01-7e2baab6904b"
      },
      "execution_count": null,
      "outputs": [
        {
          "output_type": "stream",
          "name": "stdout",
          "text": [
            "Epoch 1/50\n",
            "1633/1633 [==============================] - 6s 3ms/step - loss: 0.3657 - accuracy: 0.8460 - val_loss: 0.3555 - val_accuracy: 0.8414\n",
            "Epoch 2/50\n",
            "1633/1633 [==============================] - 5s 3ms/step - loss: 0.3250 - accuracy: 0.8626 - val_loss: 0.5303 - val_accuracy: 0.7815\n",
            "Epoch 3/50\n",
            "1633/1633 [==============================] - 5s 3ms/step - loss: 0.3022 - accuracy: 0.8729 - val_loss: 0.4527 - val_accuracy: 0.8020\n",
            "Epoch 4/50\n",
            "1633/1633 [==============================] - 5s 3ms/step - loss: 0.2859 - accuracy: 0.8801 - val_loss: 0.3276 - val_accuracy: 0.8612\n",
            "Epoch 5/50\n",
            "1633/1633 [==============================] - 5s 3ms/step - loss: 0.2725 - accuracy: 0.8859 - val_loss: 0.3126 - val_accuracy: 0.8923\n",
            "Epoch 6/50\n",
            "1633/1633 [==============================] - 5s 3ms/step - loss: 0.2609 - accuracy: 0.8922 - val_loss: 0.2854 - val_accuracy: 0.8826\n",
            "Epoch 7/50\n",
            "1633/1633 [==============================] - 5s 3ms/step - loss: 0.2508 - accuracy: 0.8962 - val_loss: 0.2791 - val_accuracy: 0.8918\n",
            "Epoch 8/50\n",
            "1633/1633 [==============================] - 5s 3ms/step - loss: 0.2396 - accuracy: 0.9004 - val_loss: 0.3033 - val_accuracy: 0.8864\n",
            "Epoch 9/50\n",
            "1633/1633 [==============================] - 5s 3ms/step - loss: 0.2292 - accuracy: 0.9062 - val_loss: 0.2814 - val_accuracy: 0.8832\n",
            "Epoch 10/50\n",
            "1633/1633 [==============================] - 5s 3ms/step - loss: 0.2168 - accuracy: 0.9104 - val_loss: 0.3335 - val_accuracy: 0.8727\n",
            "Epoch 11/50\n",
            "1633/1633 [==============================] - 5s 3ms/step - loss: 0.2069 - accuracy: 0.9157 - val_loss: 0.1922 - val_accuracy: 0.9303\n",
            "Epoch 12/50\n",
            "1633/1633 [==============================] - 5s 3ms/step - loss: 0.1964 - accuracy: 0.9192 - val_loss: 0.3399 - val_accuracy: 0.8597\n",
            "Epoch 13/50\n",
            "1633/1633 [==============================] - 5s 3ms/step - loss: 0.1906 - accuracy: 0.9224 - val_loss: 0.3946 - val_accuracy: 0.8406\n",
            "Epoch 14/50\n",
            "1633/1633 [==============================] - 5s 3ms/step - loss: 0.1783 - accuracy: 0.9283 - val_loss: 0.1642 - val_accuracy: 0.9450\n",
            "Epoch 15/50\n",
            "1633/1633 [==============================] - 7s 4ms/step - loss: 0.1709 - accuracy: 0.9315 - val_loss: 0.1599 - val_accuracy: 0.9461\n",
            "Epoch 16/50\n",
            "1633/1633 [==============================] - 6s 3ms/step - loss: 0.1616 - accuracy: 0.9338 - val_loss: 0.2077 - val_accuracy: 0.9264\n",
            "Epoch 17/50\n",
            "1633/1633 [==============================] - 5s 3ms/step - loss: 0.1531 - accuracy: 0.9395 - val_loss: 0.1696 - val_accuracy: 0.9368\n",
            "Epoch 18/50\n",
            "1633/1633 [==============================] - 7s 4ms/step - loss: 0.1469 - accuracy: 0.9411 - val_loss: 0.1478 - val_accuracy: 0.9491\n",
            "Epoch 19/50\n",
            "1633/1633 [==============================] - 5s 3ms/step - loss: 0.1366 - accuracy: 0.9459 - val_loss: 0.2263 - val_accuracy: 0.9064\n",
            "Epoch 20/50\n",
            "1633/1633 [==============================] - 5s 3ms/step - loss: 0.1312 - accuracy: 0.9474 - val_loss: 0.1686 - val_accuracy: 0.9345\n",
            "Epoch 21/50\n",
            "1633/1633 [==============================] - 5s 3ms/step - loss: 0.1234 - accuracy: 0.9514 - val_loss: 0.1455 - val_accuracy: 0.9466\n",
            "Epoch 22/50\n",
            "1633/1633 [==============================] - 5s 3ms/step - loss: 0.1171 - accuracy: 0.9537 - val_loss: 0.1329 - val_accuracy: 0.9560\n",
            "Epoch 23/50\n",
            "1633/1633 [==============================] - 5s 3ms/step - loss: 0.1117 - accuracy: 0.9567 - val_loss: 0.1559 - val_accuracy: 0.9473\n",
            "Epoch 24/50\n",
            "1633/1633 [==============================] - 5s 3ms/step - loss: 0.1067 - accuracy: 0.9585 - val_loss: 0.1178 - val_accuracy: 0.9592\n",
            "Epoch 25/50\n",
            "1633/1633 [==============================] - 5s 3ms/step - loss: 0.1026 - accuracy: 0.9606 - val_loss: 0.1176 - val_accuracy: 0.9612\n",
            "Epoch 26/50\n",
            "1633/1633 [==============================] - 5s 3ms/step - loss: 0.0969 - accuracy: 0.9624 - val_loss: 0.1243 - val_accuracy: 0.9532\n",
            "Epoch 27/50\n",
            "1633/1633 [==============================] - 5s 3ms/step - loss: 0.0933 - accuracy: 0.9643 - val_loss: 0.1526 - val_accuracy: 0.9451\n",
            "Epoch 28/50\n",
            "1633/1633 [==============================] - 5s 3ms/step - loss: 0.0866 - accuracy: 0.9674 - val_loss: 0.1358 - val_accuracy: 0.9548\n",
            "Epoch 29/50\n",
            "1633/1633 [==============================] - 5s 3ms/step - loss: 0.0860 - accuracy: 0.9671 - val_loss: 0.1104 - val_accuracy: 0.9646\n",
            "Epoch 30/50\n",
            "1633/1633 [==============================] - 5s 3ms/step - loss: 0.0794 - accuracy: 0.9701 - val_loss: 0.1472 - val_accuracy: 0.9456\n",
            "Epoch 31/50\n",
            "1633/1633 [==============================] - 5s 3ms/step - loss: 0.0794 - accuracy: 0.9705 - val_loss: 0.1460 - val_accuracy: 0.9509\n",
            "Epoch 32/50\n",
            "1633/1633 [==============================] - 6s 4ms/step - loss: 0.0747 - accuracy: 0.9723 - val_loss: 0.0965 - val_accuracy: 0.9687\n",
            "Epoch 33/50\n",
            "1633/1633 [==============================] - 7s 4ms/step - loss: 0.0718 - accuracy: 0.9732 - val_loss: 0.0715 - val_accuracy: 0.9774\n",
            "Epoch 34/50\n",
            "1633/1633 [==============================] - 5s 3ms/step - loss: 0.0694 - accuracy: 0.9736 - val_loss: 0.0856 - val_accuracy: 0.9697\n",
            "Epoch 35/50\n",
            "1633/1633 [==============================] - 5s 3ms/step - loss: 0.0626 - accuracy: 0.9770 - val_loss: 0.0596 - val_accuracy: 0.9828\n",
            "Epoch 36/50\n",
            "1633/1633 [==============================] - 5s 3ms/step - loss: 0.0611 - accuracy: 0.9769 - val_loss: 0.0854 - val_accuracy: 0.9762\n",
            "Epoch 37/50\n",
            "1633/1633 [==============================] - 5s 3ms/step - loss: 0.0606 - accuracy: 0.9771 - val_loss: 0.1197 - val_accuracy: 0.9595\n",
            "Epoch 38/50\n",
            "1633/1633 [==============================] - 5s 3ms/step - loss: 0.0593 - accuracy: 0.9778 - val_loss: 0.1508 - val_accuracy: 0.9511\n",
            "Epoch 39/50\n",
            "1633/1633 [==============================] - 5s 3ms/step - loss: 0.0568 - accuracy: 0.9793 - val_loss: 0.0791 - val_accuracy: 0.9753\n",
            "Epoch 40/50\n",
            "1633/1633 [==============================] - 5s 3ms/step - loss: 0.0554 - accuracy: 0.9797 - val_loss: 0.0914 - val_accuracy: 0.9693\n",
            "Epoch 41/50\n",
            "1633/1633 [==============================] - 5s 3ms/step - loss: 0.0533 - accuracy: 0.9809 - val_loss: 0.0799 - val_accuracy: 0.9768\n",
            "Epoch 42/50\n",
            "1633/1633 [==============================] - 5s 3ms/step - loss: 0.0501 - accuracy: 0.9808 - val_loss: 0.1286 - val_accuracy: 0.9571\n",
            "Epoch 43/50\n",
            "1633/1633 [==============================] - 5s 3ms/step - loss: 0.0497 - accuracy: 0.9820 - val_loss: 0.1127 - val_accuracy: 0.9633\n",
            "Epoch 44/50\n",
            "1633/1633 [==============================] - 5s 3ms/step - loss: 0.0456 - accuracy: 0.9839 - val_loss: 0.0865 - val_accuracy: 0.9724\n",
            "Epoch 45/50\n",
            "1633/1633 [==============================] - 5s 3ms/step - loss: 0.0469 - accuracy: 0.9830 - val_loss: 0.0816 - val_accuracy: 0.9756\n",
            "Epoch 46/50\n",
            "1633/1633 [==============================] - 5s 3ms/step - loss: 0.0440 - accuracy: 0.9842 - val_loss: 0.1171 - val_accuracy: 0.9649\n",
            "Epoch 47/50\n",
            "1633/1633 [==============================] - 5s 3ms/step - loss: 0.0452 - accuracy: 0.9840 - val_loss: 0.0674 - val_accuracy: 0.9801\n",
            "Epoch 48/50\n",
            "1633/1633 [==============================] - 5s 3ms/step - loss: 0.0399 - accuracy: 0.9861 - val_loss: 0.1169 - val_accuracy: 0.9631\n",
            "Epoch 49/50\n",
            "1633/1633 [==============================] - 5s 3ms/step - loss: 0.0419 - accuracy: 0.9849 - val_loss: 0.0798 - val_accuracy: 0.9760\n",
            "Epoch 50/50\n",
            "1633/1633 [==============================] - 5s 3ms/step - loss: 0.0421 - accuracy: 0.9846 - val_loss: 0.0795 - val_accuracy: 0.9771\n"
          ]
        }
      ]
    },
    {
      "cell_type": "code",
      "source": [
        "X_test = np.asarray(X_test).astype('float32')"
      ],
      "metadata": {
        "id": "wqWXy_Vgr9Jt"
      },
      "execution_count": null,
      "outputs": []
    },
    {
      "cell_type": "code",
      "source": [
        "import pickle\n",
        "filename = f'model_nn_w_tuning_SMOTE.sav'\n",
        "pickle.dump(model, open(f\"/content/drive/MyDrive/BT4222/{filename}\", 'wb'))"
      ],
      "metadata": {
        "id": "9gHCP31j1YQY"
      },
      "execution_count": null,
      "outputs": []
    },
    {
      "cell_type": "code",
      "source": [
        "from pytorch_tabnet.tab_model import TabNetClassifier\n",
        "loaded_clf = TabNetClassifier()\n",
        "saved_filepath = f'/content/drive/MyDrive/BT4222/models/tabnet_model.zip'\n",
        "loaded_clf.load_model(saved_filepath)"
      ],
      "metadata": {
        "colab": {
          "base_uri": "https://localhost:8080/"
        },
        "id": "dnIGuWozXVFC",
        "outputId": "af8fa48a-5b69-4155-8b08-ba19703ef396"
      },
      "execution_count": null,
      "outputs": [
        {
          "output_type": "stream",
          "name": "stderr",
          "text": [
            "/usr/local/lib/python3.7/dist-packages/pytorch_tabnet/abstract_model.py:75: UserWarning: Device used : cpu\n",
            "  warnings.warn(f\"Device used : {self.device}\")\n"
          ]
        }
      ]
    },
    {
      "cell_type": "code",
      "source": [
        "import pickle\n",
        "filename = '/content/drive/MyDrive/BT4222/model_nn_w_tuning.sav'\n",
        "pickle.dump(model, open(filename, 'wb'))"
      ],
      "metadata": {
        "id": "97EPUBxy2J1E"
      },
      "execution_count": null,
      "outputs": []
    },
    {
      "cell_type": "code",
      "source": [
        "from tensorflow.keras import Sequential, layers\n",
        "\n",
        "\n",
        "model = Sequential()\n",
        "model.add(layers.Dense(100,activation='relu',input_shape=(46,)))\n",
        "model.add(layers.Dense(64,activation='relu'))\n",
        "model.add(layers.Dense(16,activation='relu'))\n",
        "model.add(layers.Dense(1,activation='sigmoid'))\n",
        "model.summary()"
      ],
      "metadata": {
        "id": "E2QHBPejL0Na",
        "colab": {
          "base_uri": "https://localhost:8080/"
        },
        "outputId": "be56b2d9-6b85-49cb-d85d-9a081fc95611"
      },
      "execution_count": null,
      "outputs": [
        {
          "output_type": "stream",
          "name": "stdout",
          "text": [
            "Model: \"sequential_2\"\n",
            "_________________________________________________________________\n",
            " Layer (type)                Output Shape              Param #   \n",
            "=================================================================\n",
            " dense_8 (Dense)             (None, 100)               4700      \n",
            "                                                                 \n",
            " dense_9 (Dense)             (None, 64)                6464      \n",
            "                                                                 \n",
            " dense_10 (Dense)            (None, 16)                1040      \n",
            "                                                                 \n",
            " dense_11 (Dense)            (None, 1)                 17        \n",
            "                                                                 \n",
            "=================================================================\n",
            "Total params: 12,221\n",
            "Trainable params: 12,221\n",
            "Non-trainable params: 0\n",
            "_________________________________________________________________\n"
          ]
        }
      ]
    },
    {
      "cell_type": "code",
      "source": [
        "model.compile(optimizer='adam',loss='binary_crossentropy',metrics=['Recall'])"
      ],
      "metadata": {
        "id": "9OPPO7SgMa7o"
      },
      "execution_count": null,
      "outputs": []
    },
    {
      "cell_type": "code",
      "source": [
        "X_train = np.asarray(X_train).astype('float32')"
      ],
      "metadata": {
        "id": "8WNSgl4yNSNU"
      },
      "execution_count": null,
      "outputs": []
    },
    {
      "cell_type": "code",
      "source": [
        "history = model.fit(X_train, y_train,epochs=20,batch_size=64)"
      ],
      "metadata": {
        "id": "q4hHhNCXMqeO",
        "colab": {
          "base_uri": "https://localhost:8080/"
        },
        "outputId": "0883b765-26e3-4aec-e3e2-552f838e5db9"
      },
      "execution_count": null,
      "outputs": [
        {
          "output_type": "stream",
          "name": "stdout",
          "text": [
            "Epoch 1/20\n",
            "595/595 [==============================] - 2s 2ms/step - loss: 0.3053 - recall: 0.3390\n",
            "Epoch 2/20\n",
            "595/595 [==============================] - 1s 2ms/step - loss: 0.2691 - recall: 0.4543\n",
            "Epoch 3/20\n",
            "595/595 [==============================] - 1s 2ms/step - loss: 0.2562 - recall: 0.4962\n",
            "Epoch 4/20\n",
            "595/595 [==============================] - 1s 2ms/step - loss: 0.2540 - recall: 0.5108\n",
            "Epoch 5/20\n",
            "595/595 [==============================] - 1s 2ms/step - loss: 0.2481 - recall: 0.5289\n",
            "Epoch 6/20\n",
            "595/595 [==============================] - 1s 2ms/step - loss: 0.2457 - recall: 0.5309\n",
            "Epoch 7/20\n",
            "595/595 [==============================] - 1s 2ms/step - loss: 0.2425 - recall: 0.5446\n",
            "Epoch 8/20\n",
            "595/595 [==============================] - 1s 2ms/step - loss: 0.2430 - recall: 0.5422\n",
            "Epoch 9/20\n",
            "595/595 [==============================] - 1s 2ms/step - loss: 0.2400 - recall: 0.5403\n",
            "Epoch 10/20\n",
            "595/595 [==============================] - 1s 2ms/step - loss: 0.2399 - recall: 0.5516\n",
            "Epoch 11/20\n",
            "595/595 [==============================] - 1s 2ms/step - loss: 0.2376 - recall: 0.5494\n",
            "Epoch 12/20\n",
            "595/595 [==============================] - 1s 2ms/step - loss: 0.2374 - recall: 0.5518\n",
            "Epoch 13/20\n",
            "595/595 [==============================] - 1s 2ms/step - loss: 0.2364 - recall: 0.5490\n",
            "Epoch 14/20\n",
            "595/595 [==============================] - 1s 2ms/step - loss: 0.2357 - recall: 0.5505\n",
            "Epoch 15/20\n",
            "595/595 [==============================] - 1s 2ms/step - loss: 0.2339 - recall: 0.5586\n",
            "Epoch 16/20\n",
            "595/595 [==============================] - 1s 2ms/step - loss: 0.2342 - recall: 0.5536\n",
            "Epoch 17/20\n",
            "595/595 [==============================] - 1s 2ms/step - loss: 0.2345 - recall: 0.5492\n",
            "Epoch 18/20\n",
            "595/595 [==============================] - 1s 2ms/step - loss: 0.2325 - recall: 0.5577\n",
            "Epoch 19/20\n",
            "595/595 [==============================] - 1s 2ms/step - loss: 0.2319 - recall: 0.5540\n",
            "Epoch 20/20\n",
            "595/595 [==============================] - 1s 2ms/step - loss: 0.2301 - recall: 0.5562\n"
          ]
        }
      ]
    },
    {
      "cell_type": "code",
      "source": [
        "X_test = np.asarray(X_test).astype('float32')"
      ],
      "metadata": {
        "id": "aM6djFtnOYM3"
      },
      "execution_count": null,
      "outputs": []
    },
    {
      "cell_type": "code",
      "source": [
        "model.evaluate(X_test,y_test)"
      ],
      "metadata": {
        "id": "OHMvyicEOTcy",
        "colab": {
          "base_uri": "https://localhost:8080/"
        },
        "outputId": "18ef8f3c-b425-4b30-8b28-a1ad7ed0d9ae"
      },
      "execution_count": null,
      "outputs": [
        {
          "output_type": "stream",
          "name": "stdout",
          "text": [
            "587/587 [==============================] - 1s 2ms/step - loss: 0.2413 - recall: 0.5016\n"
          ]
        },
        {
          "output_type": "execute_result",
          "data": {
            "text/plain": [
              "[0.2412615716457367, 0.5016216039657593]"
            ]
          },
          "metadata": {},
          "execution_count": 43
        }
      ]
    },
    {
      "cell_type": "code",
      "source": [
        "predictions = (model.predict(X_test) > 0.5).astype(\"int32\")"
      ],
      "metadata": {
        "colab": {
          "base_uri": "https://localhost:8080/"
        },
        "id": "FVwiknceOo4u",
        "outputId": "fd05549c-24ba-46c3-9a6b-7416fbe1687e"
      },
      "execution_count": null,
      "outputs": [
        {
          "output_type": "stream",
          "name": "stdout",
          "text": [
            "587/587 [==============================] - 1s 1ms/step\n"
          ]
        }
      ]
    },
    {
      "cell_type": "code",
      "source": [
        "predictions"
      ],
      "metadata": {
        "colab": {
          "base_uri": "https://localhost:8080/"
        },
        "id": "qduwmpvnO9yL",
        "outputId": "2eed383e-ac85-437b-fb34-8c34c2d3ceba"
      },
      "execution_count": null,
      "outputs": [
        {
          "output_type": "execute_result",
          "data": {
            "text/plain": [
              "array([[0],\n",
              "       [0],\n",
              "       [0],\n",
              "       ...,\n",
              "       [1],\n",
              "       [0],\n",
              "       [0]], dtype=int32)"
            ]
          },
          "metadata": {},
          "execution_count": 45
        }
      ]
    },
    {
      "cell_type": "code",
      "source": [
        "from sklearn.metrics import accuracy_score, classification_report, f1_score,recall_score,accuracy_score,roc_auc_score,precision_score\n",
        "y_test_formatted = y_test.to_numpy().astype('int64')\n",
        "print(accuracy_score(y_test,predictions))\n",
        "print(classification_report(y_test,predictions))\n",
        "print(f\"Accuracy: {accuracy_score(y_test,predictions)}\")\n",
        "print(f\"Precision: {precision_score(y_test,predictions)}\")\n",
        "print(f\"Recall: {recall_score(y_test,predictions)}\")\n",
        "print(f\"F1-score: {f1_score(y_test,predictions)}\")"
      ],
      "metadata": {
        "colab": {
          "base_uri": "https://localhost:8080/"
        },
        "id": "Xdzy7jpIOEnk",
        "outputId": "aacce1bd-6c4d-43de-b005-feeca3e99aa1"
      },
      "execution_count": null,
      "outputs": [
        {
          "output_type": "stream",
          "name": "stdout",
          "text": [
            "0.9013115802943058\n",
            "              precision    recall  f1-score   support\n",
            "\n",
            "           0       0.92      0.97      0.94     15981\n",
            "           1       0.75      0.50      0.60      2775\n",
            "\n",
            "    accuracy                           0.90     18756\n",
            "   macro avg       0.83      0.74      0.77     18756\n",
            "weighted avg       0.89      0.90      0.89     18756\n",
            "\n",
            "Accuracy: 0.9013115802943058\n",
            "Precision: 0.7483870967741936\n",
            "Recall: 0.5016216216216216\n",
            "F1-score: 0.6006472491909386\n"
          ]
        }
      ]
    },
    {
      "cell_type": "code",
      "source": [
        "import pickle\n",
        "filename = '/content/drive/MyDrive/BT4222/model_nn_no_SMOTE.sav'\n",
        "pickle.dump(model, open(filename, 'wb'))"
      ],
      "metadata": {
        "id": "MxQrSNMY2Rsi"
      },
      "execution_count": null,
      "outputs": []
    },
    {
      "cell_type": "code",
      "source": [
        "from pytorch_tabnet.tab_model import TabNetClassifier\n",
        "from torchvision import transforms"
      ],
      "metadata": {
        "id": "_9imvJzjEy3Z"
      },
      "execution_count": null,
      "outputs": []
    },
    {
      "cell_type": "code",
      "source": [
        "X_train_formatted = X_train_smote.astype('float64')\n",
        "y_train_formatted = y_train_smote.astype('int64')"
      ],
      "metadata": {
        "id": "0HqlILH3JQfk"
      },
      "execution_count": null,
      "outputs": []
    },
    {
      "cell_type": "code",
      "source": [
        "from sklearn.model_selection import train_test_split\n",
        "# X_train_formatted, X_val_formatted, y_train_formatted, y_val_formatted = train_test_split(X_train_formatted,y_train_formatted,random_state=42,test_size = 0.2)\n",
        "# X_train_formatted_0, X_val_formatted_0, y_train_formatted_0, y_val_formatted_0 = train_test_split(X_train_formatted_0,y_train_formatted_0,random_state=42,test_size = 0.2)\n",
        "X_train_formatted, X_val_formatted, y_train_formatted, y_val_formatted = train_test_split(X_train_smote, y_train_smote,random_state=42,test_size = 0.2)"
      ],
      "metadata": {
        "id": "d1ZJyjJGkFjY"
      },
      "execution_count": null,
      "outputs": []
    },
    {
      "cell_type": "code",
      "source": [
        "clf = TabNetClassifier()\n",
        "clf.fit(X_train_formatted, y_train_formatted,\n",
        "    eval_set=[(X_train_formatted, y_train_formatted), (X_val_formatted, y_val_formatted)],\n",
        "    eval_name=['train', 'valid'],\n",
        "    eval_metric=['accuracy'],\n",
        "    )"
      ],
      "metadata": {
        "colab": {
          "base_uri": "https://localhost:8080/"
        },
        "id": "3kJqOcQbE39n",
        "outputId": "5c7fde71-8460-4f48-a4e7-d21dcf65c892"
      },
      "execution_count": null,
      "outputs": [
        {
          "output_type": "stream",
          "name": "stderr",
          "text": [
            "/usr/local/lib/python3.7/dist-packages/pytorch_tabnet/abstract_model.py:75: UserWarning: Device used : cuda\n",
            "  warnings.warn(f\"Device used : {self.device}\")\n"
          ]
        },
        {
          "output_type": "stream",
          "name": "stdout",
          "text": [
            "epoch 0  | loss: 0.53064 | train_accuracy: 0.61981 | valid_accuracy: 0.62232 |  0:00:03s\n",
            "epoch 1  | loss: 0.43173 | train_accuracy: 0.74971 | valid_accuracy: 0.74648 |  0:00:06s\n",
            "epoch 2  | loss: 0.39033 | train_accuracy: 0.80823 | valid_accuracy: 0.80772 |  0:00:09s\n",
            "epoch 3  | loss: 0.36954 | train_accuracy: 0.79436 | valid_accuracy: 0.7908  |  0:00:12s\n",
            "epoch 4  | loss: 0.35571 | train_accuracy: 0.81271 | valid_accuracy: 0.8133  |  0:00:15s\n",
            "epoch 5  | loss: 0.34833 | train_accuracy: 0.81395 | valid_accuracy: 0.81422 |  0:00:21s\n",
            "epoch 6  | loss: 0.34626 | train_accuracy: 0.81156 | valid_accuracy: 0.8107  |  0:00:25s\n",
            "epoch 7  | loss: 0.34514 | train_accuracy: 0.83732 | valid_accuracy: 0.83581 |  0:00:28s\n",
            "epoch 8  | loss: 0.34184 | train_accuracy: 0.84274 | valid_accuracy: 0.83979 |  0:00:31s\n",
            "epoch 9  | loss: 0.34072 | train_accuracy: 0.85736 | valid_accuracy: 0.8587  |  0:00:35s\n",
            "epoch 10 | loss: 0.33464 | train_accuracy: 0.86237 | valid_accuracy: 0.86252 |  0:00:38s\n",
            "epoch 11 | loss: 0.33043 | train_accuracy: 0.86373 | valid_accuracy: 0.86252 |  0:00:41s\n",
            "epoch 12 | loss: 0.3267  | train_accuracy: 0.87031 | valid_accuracy: 0.86765 |  0:00:44s\n",
            "epoch 13 | loss: 0.32107 | train_accuracy: 0.87156 | valid_accuracy: 0.86658 |  0:00:47s\n",
            "epoch 14 | loss: 0.31735 | train_accuracy: 0.87464 | valid_accuracy: 0.87347 |  0:00:50s\n",
            "epoch 15 | loss: 0.31235 | train_accuracy: 0.87678 | valid_accuracy: 0.87148 |  0:00:53s\n",
            "epoch 16 | loss: 0.31143 | train_accuracy: 0.87565 | valid_accuracy: 0.874   |  0:00:57s\n",
            "epoch 17 | loss: 0.30843 | train_accuracy: 0.87904 | valid_accuracy: 0.87653 |  0:01:01s\n",
            "epoch 18 | loss: 0.30455 | train_accuracy: 0.88091 | valid_accuracy: 0.87477 |  0:01:04s\n",
            "epoch 19 | loss: 0.3035  | train_accuracy: 0.88042 | valid_accuracy: 0.87837 |  0:01:07s\n",
            "epoch 20 | loss: 0.29925 | train_accuracy: 0.88486 | valid_accuracy: 0.8789  |  0:01:10s\n",
            "epoch 21 | loss: 0.29281 | train_accuracy: 0.88589 | valid_accuracy: 0.88273 |  0:01:13s\n",
            "epoch 22 | loss: 0.29374 | train_accuracy: 0.88216 | valid_accuracy: 0.8773  |  0:01:16s\n",
            "epoch 23 | loss: 0.29223 | train_accuracy: 0.88763 | valid_accuracy: 0.8822  |  0:01:19s\n",
            "epoch 24 | loss: 0.29108 | train_accuracy: 0.89048 | valid_accuracy: 0.88434 |  0:01:22s\n",
            "epoch 25 | loss: 0.28645 | train_accuracy: 0.88824 | valid_accuracy: 0.88304 |  0:01:25s\n",
            "epoch 26 | loss: 0.28629 | train_accuracy: 0.89217 | valid_accuracy: 0.88464 |  0:01:29s\n",
            "epoch 27 | loss: 0.28345 | train_accuracy: 0.8927  | valid_accuracy: 0.88541 |  0:01:32s\n",
            "epoch 28 | loss: 0.28053 | train_accuracy: 0.89157 | valid_accuracy: 0.88365 |  0:01:35s\n",
            "epoch 29 | loss: 0.27726 | train_accuracy: 0.88954 | valid_accuracy: 0.88304 |  0:01:38s\n",
            "epoch 30 | loss: 0.27665 | train_accuracy: 0.8927  | valid_accuracy: 0.8838  |  0:01:41s\n",
            "epoch 31 | loss: 0.27546 | train_accuracy: 0.89655 | valid_accuracy: 0.88625 |  0:01:44s\n",
            "epoch 32 | loss: 0.27194 | train_accuracy: 0.89551 | valid_accuracy: 0.88717 |  0:01:47s\n",
            "epoch 33 | loss: 0.27125 | train_accuracy: 0.89764 | valid_accuracy: 0.88916 |  0:01:50s\n",
            "epoch 34 | loss: 0.27213 | train_accuracy: 0.89634 | valid_accuracy: 0.88656 |  0:01:53s\n",
            "epoch 35 | loss: 0.27226 | train_accuracy: 0.8953  | valid_accuracy: 0.8897  |  0:01:56s\n",
            "epoch 36 | loss: 0.27178 | train_accuracy: 0.8968  | valid_accuracy: 0.88755 |  0:01:59s\n",
            "epoch 37 | loss: 0.26766 | train_accuracy: 0.89932 | valid_accuracy: 0.88809 |  0:02:02s\n",
            "epoch 38 | loss: 0.26393 | train_accuracy: 0.8967  | valid_accuracy: 0.89023 |  0:02:05s\n",
            "epoch 39 | loss: 0.26408 | train_accuracy: 0.89921 | valid_accuracy: 0.89207 |  0:02:08s\n",
            "epoch 40 | loss: 0.26407 | train_accuracy: 0.90015 | valid_accuracy: 0.89    |  0:02:11s\n",
            "epoch 41 | loss: 0.26373 | train_accuracy: 0.89865 | valid_accuracy: 0.88732 |  0:02:15s\n",
            "epoch 42 | loss: 0.26256 | train_accuracy: 0.90126 | valid_accuracy: 0.88993 |  0:02:18s\n",
            "epoch 43 | loss: 0.26832 | train_accuracy: 0.8954  | valid_accuracy: 0.88709 |  0:02:21s\n",
            "epoch 44 | loss: 0.26478 | train_accuracy: 0.90024 | valid_accuracy: 0.88985 |  0:02:24s\n",
            "epoch 45 | loss: 0.25834 | train_accuracy: 0.90124 | valid_accuracy: 0.88924 |  0:02:27s\n",
            "epoch 46 | loss: 0.25466 | train_accuracy: 0.9034  | valid_accuracy: 0.89023 |  0:02:30s\n",
            "epoch 47 | loss: 0.25633 | train_accuracy: 0.90422 | valid_accuracy: 0.89398 |  0:02:33s\n",
            "epoch 48 | loss: 0.26342 | train_accuracy: 0.89833 | valid_accuracy: 0.88641 |  0:02:36s\n",
            "epoch 49 | loss: 0.25426 | train_accuracy: 0.90652 | valid_accuracy: 0.89513 |  0:02:39s\n",
            "epoch 50 | loss: 0.25247 | train_accuracy: 0.90614 | valid_accuracy: 0.89528 |  0:02:43s\n",
            "epoch 51 | loss: 0.25095 | train_accuracy: 0.90673 | valid_accuracy: 0.89628 |  0:02:46s\n",
            "epoch 52 | loss: 0.25591 | train_accuracy: 0.90122 | valid_accuracy: 0.88725 |  0:02:49s\n",
            "epoch 53 | loss: 0.2532  | train_accuracy: 0.90489 | valid_accuracy: 0.89222 |  0:02:52s\n",
            "epoch 54 | loss: 0.24944 | train_accuracy: 0.91033 | valid_accuracy: 0.89827 |  0:02:55s\n",
            "epoch 55 | loss: 0.24789 | train_accuracy: 0.90414 | valid_accuracy: 0.89329 |  0:02:58s\n",
            "epoch 56 | loss: 0.25733 | train_accuracy: 0.90585 | valid_accuracy: 0.89444 |  0:03:01s\n",
            "epoch 57 | loss: 0.25034 | train_accuracy: 0.91172 | valid_accuracy: 0.89712 |  0:03:04s\n",
            "epoch 58 | loss: 0.24731 | train_accuracy: 0.90908 | valid_accuracy: 0.89513 |  0:03:07s\n",
            "epoch 59 | loss: 0.24766 | train_accuracy: 0.9091  | valid_accuracy: 0.89727 |  0:03:10s\n",
            "epoch 60 | loss: 0.24717 | train_accuracy: 0.90451 | valid_accuracy: 0.89207 |  0:03:13s\n",
            "epoch 61 | loss: 0.24581 | train_accuracy: 0.91134 | valid_accuracy: 0.89766 |  0:03:16s\n",
            "epoch 62 | loss: 0.23842 | train_accuracy: 0.91191 | valid_accuracy: 0.90095 |  0:03:19s\n",
            "epoch 63 | loss: 0.23928 | train_accuracy: 0.91287 | valid_accuracy: 0.90003 |  0:03:23s\n",
            "epoch 64 | loss: 0.23795 | train_accuracy: 0.91287 | valid_accuracy: 0.89835 |  0:03:26s\n",
            "epoch 65 | loss: 0.24712 | train_accuracy: 0.91167 | valid_accuracy: 0.89949 |  0:03:29s\n",
            "epoch 66 | loss: 0.239   | train_accuracy: 0.91278 | valid_accuracy: 0.89896 |  0:03:32s\n",
            "epoch 67 | loss: 0.23889 | train_accuracy: 0.90338 | valid_accuracy: 0.88801 |  0:03:37s\n",
            "epoch 68 | loss: 0.24311 | train_accuracy: 0.91526 | valid_accuracy: 0.90018 |  0:03:42s\n",
            "epoch 69 | loss: 0.23557 | train_accuracy: 0.91733 | valid_accuracy: 0.89995 |  0:03:45s\n",
            "epoch 70 | loss: 0.23498 | train_accuracy: 0.91607 | valid_accuracy: 0.90171 |  0:03:48s\n",
            "epoch 71 | loss: 0.23399 | train_accuracy: 0.91737 | valid_accuracy: 0.90072 |  0:03:51s\n",
            "epoch 72 | loss: 0.24219 | train_accuracy: 0.91323 | valid_accuracy: 0.90026 |  0:03:54s\n",
            "epoch 73 | loss: 0.23285 | train_accuracy: 0.91683 | valid_accuracy: 0.9034  |  0:03:57s\n",
            "epoch 74 | loss: 0.2322  | train_accuracy: 0.9179  | valid_accuracy: 0.90271 |  0:04:00s\n",
            "epoch 75 | loss: 0.23658 | train_accuracy: 0.90799 | valid_accuracy: 0.89582 |  0:04:03s\n",
            "epoch 76 | loss: 0.24075 | train_accuracy: 0.90225 | valid_accuracy: 0.8884  |  0:04:06s\n",
            "epoch 77 | loss: 0.25825 | train_accuracy: 0.90338 | valid_accuracy: 0.89406 |  0:04:09s\n",
            "epoch 78 | loss: 0.2481  | train_accuracy: 0.90952 | valid_accuracy: 0.89804 |  0:04:12s\n",
            "epoch 79 | loss: 0.2458  | train_accuracy: 0.91235 | valid_accuracy: 0.89804 |  0:04:16s\n",
            "epoch 80 | loss: 0.23584 | train_accuracy: 0.91394 | valid_accuracy: 0.89452 |  0:04:19s\n",
            "epoch 81 | loss: 0.23443 | train_accuracy: 0.91436 | valid_accuracy: 0.89911 |  0:04:22s\n",
            "epoch 82 | loss: 0.23049 | train_accuracy: 0.9175  | valid_accuracy: 0.90493 |  0:04:25s\n",
            "epoch 83 | loss: 0.23288 | train_accuracy: 0.91507 | valid_accuracy: 0.90095 |  0:04:28s\n",
            "epoch 84 | loss: 0.23176 | train_accuracy: 0.91758 | valid_accuracy: 0.90386 |  0:04:31s\n",
            "epoch 85 | loss: 0.23072 | train_accuracy: 0.9127  | valid_accuracy: 0.89528 |  0:04:34s\n",
            "epoch 86 | loss: 0.23032 | train_accuracy: 0.92058 | valid_accuracy: 0.90256 |  0:04:37s\n",
            "epoch 87 | loss: 0.23478 | train_accuracy: 0.91184 | valid_accuracy: 0.89896 |  0:04:40s\n",
            "epoch 88 | loss: 0.23015 | train_accuracy: 0.91798 | valid_accuracy: 0.9021  |  0:04:43s\n",
            "epoch 89 | loss: 0.23321 | train_accuracy: 0.91921 | valid_accuracy: 0.90317 |  0:04:46s\n",
            "epoch 90 | loss: 0.22801 | train_accuracy: 0.91995 | valid_accuracy: 0.9034  |  0:04:49s\n",
            "epoch 91 | loss: 0.22567 | train_accuracy: 0.92231 | valid_accuracy: 0.90631 |  0:04:52s\n",
            "epoch 92 | loss: 0.23302 | train_accuracy: 0.91639 | valid_accuracy: 0.89957 |  0:04:55s\n",
            "epoch 93 | loss: 0.23258 | train_accuracy: 0.91743 | valid_accuracy: 0.90049 |  0:04:58s\n",
            "epoch 94 | loss: 0.22479 | train_accuracy: 0.9197  | valid_accuracy: 0.90547 |  0:05:01s\n",
            "epoch 95 | loss: 0.22401 | train_accuracy: 0.92382 | valid_accuracy: 0.90845 |  0:05:05s\n",
            "epoch 96 | loss: 0.22104 | train_accuracy: 0.92435 | valid_accuracy: 0.90615 |  0:05:08s\n",
            "epoch 97 | loss: 0.21802 | train_accuracy: 0.92433 | valid_accuracy: 0.90837 |  0:05:13s\n",
            "epoch 98 | loss: 0.22006 | train_accuracy: 0.9225  | valid_accuracy: 0.90493 |  0:05:18s\n",
            "epoch 99 | loss: 0.22177 | train_accuracy: 0.92502 | valid_accuracy: 0.90608 |  0:05:21s\n",
            "Stop training because you reached max_epochs = 100 with best_epoch = 95 and best_valid_accuracy = 0.90845\n"
          ]
        },
        {
          "output_type": "stream",
          "name": "stderr",
          "text": [
            "/usr/local/lib/python3.7/dist-packages/pytorch_tabnet/callbacks.py:172: UserWarning: Best weights from best epoch are automatically used!\n",
            "  warnings.warn(wrn_msg)\n"
          ]
        }
      ]
    },
    {
      "cell_type": "code",
      "source": [
        "preds = clf.predict(X_test)"
      ],
      "metadata": {
        "id": "VsvV475iJxpm"
      },
      "execution_count": null,
      "outputs": []
    },
    {
      "cell_type": "code",
      "source": [
        "from sklearn.metrics import accuracy_score, classification_report, f1_score,recall_score,accuracy_score,roc_auc_score,precision_score\n",
        "y_test_formatted = y_test.to_numpy().astype('int64')\n",
        "print(accuracy_score(y_test,preds))\n",
        "print(classification_report(y_test,preds))\n",
        "print(f\"Accuracy: {accuracy_score(y_test,preds)}\")\n",
        "print(f\"Precision: {precision_score(y_test,preds)}\")\n",
        "print(f\"Recall: {recall_score(y_test,preds)}\")\n",
        "print(f\"F1-score: {f1_score(y_test,preds)}\")"
      ],
      "metadata": {
        "colab": {
          "base_uri": "https://localhost:8080/"
        },
        "id": "wRausLroKfmP",
        "outputId": "4feaad81-7304-4d07-c0aa-53410d788208"
      },
      "execution_count": null,
      "outputs": [
        {
          "output_type": "stream",
          "name": "stdout",
          "text": [
            "0.858765195137556\n",
            "              precision    recall  f1-score   support\n",
            "\n",
            "           0       0.96      0.87      0.91     15981\n",
            "           1       0.51      0.80      0.63      2775\n",
            "\n",
            "    accuracy                           0.86     18756\n",
            "   macro avg       0.74      0.84      0.77     18756\n",
            "weighted avg       0.90      0.86      0.87     18756\n",
            "\n",
            "Accuracy: 0.858765195137556\n",
            "Precision: 0.5145228215767634\n",
            "Recall: 0.8043243243243243\n",
            "F1-score: 0.6275832981864192\n"
          ]
        }
      ]
    },
    {
      "cell_type": "code",
      "source": [
        "from sklearn.metrics import confusion_matrix\n",
        "import seaborn as sb\n",
        "cf_matrix = confusion_matrix(y_test_formatted,preds)  \n",
        "sb.heatmap(cf_matrix, annot=True, fmt='g')"
      ],
      "metadata": {
        "colab": {
          "base_uri": "https://localhost:8080/",
          "height": 282
        },
        "id": "GEMvmA--uJrx",
        "outputId": "f0008e6d-baed-4222-d931-f31ae86a06d1"
      },
      "execution_count": null,
      "outputs": [
        {
          "output_type": "execute_result",
          "data": {
            "text/plain": [
              "<matplotlib.axes._subplots.AxesSubplot at 0x7fc11a0417d0>"
            ]
          },
          "metadata": {},
          "execution_count": 26
        },
        {
          "output_type": "display_data",
          "data": {
            "text/plain": [
              "<Figure size 432x288 with 2 Axes>"
            ],
            "image/png": "[encoded data removed]"
          },
          "metadata": {
            "needs_background": "light"
          }
        }
      ]
    },
    {
      "cell_type": "code",
      "source": [
        "import pickle\n",
        "filename = '/content/drive/MyDrive/BT4222/model_tabnet_SMOTE.sav'\n",
        "pickle.dump(clf, open(filename, 'wb'))"
      ],
      "metadata": {
        "id": "We4Wf0CWtlXi"
      },
      "execution_count": null,
      "outputs": []
    },
    {
      "cell_type": "code",
      "source": [
        "saving_path_name = \"/content/drive/MyDrive/BT4222/tabnet_model_SMOTE\"\n",
        "saved_filepath = clf.save_model(saving_path_name)"
      ],
      "metadata": {
        "colab": {
          "base_uri": "https://localhost:8080/"
        },
        "id": "Z2CNkmQEtKdt",
        "outputId": "f534af06-30f8-445d-f403-8bc641ff6d65"
      },
      "execution_count": null,
      "outputs": [
        {
          "output_type": "stream",
          "name": "stdout",
          "text": [
            "Successfully saved model at /content/drive/MyDrive/BT4222/tabnet_model_SMOTE.zip\n"
          ]
        }
      ]
    }
  ]
}