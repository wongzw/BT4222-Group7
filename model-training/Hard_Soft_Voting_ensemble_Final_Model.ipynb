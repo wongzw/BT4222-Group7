{
  "nbformat": 4,
  "nbformat_minor": 0,
  "metadata": {
    "colab": {
      "provenance": []
    },
    "kernelspec": {
      "name": "python3",
      "display_name": "Python 3"
    },
    "language_info": {
      "name": "python"
    },
    "gpuClass": "standard"
  },
  "cells": [
    {
      "cell_type": "markdown",
      "source": [
        "## Installations"
      ],
      "metadata": {
        "id": "QkH_tpsaTmFC"
      }
    },
    {
      "cell_type": "code",
      "source": [
        "import datetime\n",
        "now = datetime.datetime.now()\n",
        "print (\"Current date and time : \")\n",
        "print (now.strftime(\"%Y-%m-%d %H:%M:%S\"))"
      ],
      "metadata": {
        "colab": {
          "base_uri": "https://localhost:8080/"
        },
        "id": "HZwPYR5hz_pu",
        "outputId": "c4ace82f-bf99-4a2b-9c82-13508d030fad"
      },
      "execution_count": 1,
      "outputs": [
        {
          "output_type": "stream",
          "name": "stdout",
          "text": [
            "Current date and time : \n",
            "2022-11-07 15:58:11\n"
          ]
        }
      ]
    },
    {
      "cell_type": "code",
      "source": [
        "! pip install skorch\n",
        "! pip install pytorch-tabnet\n",
        "! pip install mlxtend"
      ],
      "metadata": {
        "colab": {
          "base_uri": "https://localhost:8080/"
        },
        "id": "SLldlMT5TlYo",
        "outputId": "24f87de9-39ab-4140-9ffc-6cf80b9335d1"
      },
      "execution_count": null,
      "outputs": [
        {
          "output_type": "stream",
          "name": "stdout",
          "text": [
            "Looking in indexes: https://pypi.org/simple, https://us-python.pkg.dev/colab-wheels/public/simple/\n",
            "Collecting skorch\n",
            "  Downloading skorch-0.12.0-py3-none-any.whl (185 kB)\n",
            "\u001b[K     |████████████████████████████████| 185 kB 5.2 MB/s \n",
            "\u001b[?25hRequirement already satisfied: scipy>=1.1.0 in /usr/local/lib/python3.7/dist-packages (from skorch) (1.7.3)\n",
            "Requirement already satisfied: tqdm>=4.14.0 in /usr/local/lib/python3.7/dist-packages (from skorch) (4.64.1)\n",
            "Requirement already satisfied: numpy>=1.13.3 in /usr/local/lib/python3.7/dist-packages (from skorch) (1.21.6)\n",
            "Requirement already satisfied: tabulate>=0.7.7 in /usr/local/lib/python3.7/dist-packages (from skorch) (0.8.10)\n",
            "Requirement already satisfied: scikit-learn>=0.22.0 in /usr/local/lib/python3.7/dist-packages (from skorch) (1.0.2)\n",
            "Requirement already satisfied: joblib>=0.11 in /usr/local/lib/python3.7/dist-packages (from scikit-learn>=0.22.0->skorch) (1.2.0)\n",
            "Requirement already satisfied: threadpoolctl>=2.0.0 in /usr/local/lib/python3.7/dist-packages (from scikit-learn>=0.22.0->skorch) (3.1.0)\n",
            "Installing collected packages: skorch\n",
            "Successfully installed skorch-0.12.0\n",
            "Looking in indexes: https://pypi.org/simple, https://us-python.pkg.dev/colab-wheels/public/simple/\n",
            "Collecting pytorch-tabnet\n",
            "  Downloading pytorch_tabnet-4.0-py3-none-any.whl (41 kB)\n",
            "\u001b[K     |████████████████████████████████| 41 kB 120 kB/s \n",
            "\u001b[?25hRequirement already satisfied: scipy>1.4 in /usr/local/lib/python3.7/dist-packages (from pytorch-tabnet) (1.7.3)\n",
            "Requirement already satisfied: numpy<2.0,>=1.17 in /usr/local/lib/python3.7/dist-packages (from pytorch-tabnet) (1.21.6)\n",
            "Requirement already satisfied: torch<2.0,>=1.2 in /usr/local/lib/python3.7/dist-packages (from pytorch-tabnet) (1.12.1+cu113)\n",
            "Requirement already satisfied: scikit_learn>0.21 in /usr/local/lib/python3.7/dist-packages (from pytorch-tabnet) (1.0.2)\n",
            "Requirement already satisfied: tqdm<5.0,>=4.36 in /usr/local/lib/python3.7/dist-packages (from pytorch-tabnet) (4.64.1)\n",
            "Requirement already satisfied: joblib>=0.11 in /usr/local/lib/python3.7/dist-packages (from scikit_learn>0.21->pytorch-tabnet) (1.2.0)\n",
            "Requirement already satisfied: threadpoolctl>=2.0.0 in /usr/local/lib/python3.7/dist-packages (from scikit_learn>0.21->pytorch-tabnet) (3.1.0)\n",
            "Requirement already satisfied: typing-extensions in /usr/local/lib/python3.7/dist-packages (from torch<2.0,>=1.2->pytorch-tabnet) (4.1.1)\n",
            "Installing collected packages: pytorch-tabnet\n",
            "Successfully installed pytorch-tabnet-4.0\n",
            "Looking in indexes: https://pypi.org/simple, https://us-python.pkg.dev/colab-wheels/public/simple/\n",
            "Requirement already satisfied: mlxtend in /usr/local/lib/python3.7/dist-packages (0.14.0)\n",
            "Requirement already satisfied: numpy>=1.10.4 in /usr/local/lib/python3.7/dist-packages (from mlxtend) (1.21.6)\n",
            "Requirement already satisfied: scikit-learn>=0.18 in /usr/local/lib/python3.7/dist-packages (from mlxtend) (1.0.2)\n",
            "Requirement already satisfied: matplotlib>=1.5.1 in /usr/local/lib/python3.7/dist-packages (from mlxtend) (3.2.2)\n",
            "Requirement already satisfied: pandas>=0.17.1 in /usr/local/lib/python3.7/dist-packages (from mlxtend) (1.3.5)\n",
            "Requirement already satisfied: scipy>=0.17 in /usr/local/lib/python3.7/dist-packages (from mlxtend) (1.7.3)\n",
            "Requirement already satisfied: setuptools in /usr/local/lib/python3.7/dist-packages (from mlxtend) (57.4.0)\n",
            "Requirement already satisfied: cycler>=0.10 in /usr/local/lib/python3.7/dist-packages (from matplotlib>=1.5.1->mlxtend) (0.11.0)\n",
            "Requirement already satisfied: pyparsing!=2.0.4,!=2.1.2,!=2.1.6,>=2.0.1 in /usr/local/lib/python3.7/dist-packages (from matplotlib>=1.5.1->mlxtend) (3.0.9)\n",
            "Requirement already satisfied: kiwisolver>=1.0.1 in /usr/local/lib/python3.7/dist-packages (from matplotlib>=1.5.1->mlxtend) (1.4.4)\n",
            "Requirement already satisfied: python-dateutil>=2.1 in /usr/local/lib/python3.7/dist-packages (from matplotlib>=1.5.1->mlxtend) (2.8.2)\n",
            "Requirement already satisfied: typing-extensions in /usr/local/lib/python3.7/dist-packages (from kiwisolver>=1.0.1->matplotlib>=1.5.1->mlxtend) (4.1.1)\n",
            "Requirement already satisfied: pytz>=2017.3 in /usr/local/lib/python3.7/dist-packages (from pandas>=0.17.1->mlxtend) (2022.5)\n",
            "Requirement already satisfied: six>=1.5 in /usr/local/lib/python3.7/dist-packages (from python-dateutil>=2.1->matplotlib>=1.5.1->mlxtend) (1.15.0)\n",
            "Requirement already satisfied: joblib>=0.11 in /usr/local/lib/python3.7/dist-packages (from scikit-learn>=0.18->mlxtend) (1.2.0)\n",
            "Requirement already satisfied: threadpoolctl>=2.0.0 in /usr/local/lib/python3.7/dist-packages (from scikit-learn>=0.18->mlxtend) (3.1.0)\n"
          ]
        }
      ]
    },
    {
      "cell_type": "markdown",
      "source": [
        "## *Imports*"
      ],
      "metadata": {
        "id": "2YGyIcsufEz6"
      }
    },
    {
      "cell_type": "code",
      "execution_count": null,
      "metadata": {
        "id": "pS5RW-ckd_Nq"
      },
      "outputs": [],
      "source": [
        "import pandas as pd\n",
        "import numpy as np\n",
        "import tensorflow as tf\n",
        "import pickle\n",
        "import seaborn as sb\n",
        "import six\n",
        "import sys\n",
        "sys.modules['sklearn.externals.six'] = six\n",
        "from sklearn.model_selection import train_test_split\n",
        "from sklearn.preprocessing import MinMaxScaler\n",
        "from pytorch_tabnet.tab_model import TabNetClassifier\n",
        "from skorch import NeuralNetClassifier\n",
        "from mlxtend.classifier import EnsembleVoteClassifier\n",
        "from sklearn.metrics import accuracy_score, classification_report, f1_score,recall_score,accuracy_score,roc_auc_score,precision_score, confusion_matrix"
      ]
    },
    {
      "cell_type": "code",
      "source": [
        "from google.colab import drive\n",
        "drive.mount('/content/drive',)"
      ],
      "metadata": {
        "colab": {
          "base_uri": "https://localhost:8080/"
        },
        "id": "WJXF0wj7fj7Z",
        "outputId": "9915c9a9-587b-47e4-e8ef-ca80ff1a08c7"
      },
      "execution_count": null,
      "outputs": [
        {
          "output_type": "stream",
          "name": "stdout",
          "text": [
            "Mounted at /content/drive\n"
          ]
        }
      ]
    },
    {
      "cell_type": "markdown",
      "source": [
        "## Loading of Dataset"
      ],
      "metadata": {
        "id": "q7R_TxR3XNF0"
      }
    },
    {
      "cell_type": "code",
      "source": [
        "fname = f\"/content/drive/MyDrive/BT4222/data/feature_eng_combined_v2.csv\"\n",
        "df = pd.read_csv(fname)\n",
        "#Feature selection for training\n",
        "df_model = df.copy().drop(columns=['Unnamed: 0', 'id', 'name', 'artists', 'artist_ids', 'release_date_x', 'release_date', 'date', 'lyrics', 'non_stop_lyrics', 'release_month', 'sentiment'])\n",
        "\n",
        "#Split train and test set\n",
        "X, y = df_model.drop(columns=['target']), df_model['target']\n",
        "\n",
        "X_train, X_test, y_train, y_test = train_test_split(X, y, test_size=0.33, random_state=42)\n",
        "\n",
        "scaler = MinMaxScaler()\n",
        "X_train = scaler.fit_transform(X_train)\n",
        "X_test= scaler.transform(X_test)"
      ],
      "metadata": {
        "colab": {
          "base_uri": "https://localhost:8080/"
        },
        "id": "6FxLCEu1XQvo",
        "outputId": "5cd91e47-3d78-4d9f-8562-df38b6e84c7f"
      },
      "execution_count": null,
      "outputs": [
        {
          "output_type": "stream",
          "name": "stderr",
          "text": [
            "/usr/local/lib/python3.7/dist-packages/IPython/core/interactiveshell.py:3326: DtypeWarning: Columns (19) have mixed types.Specify dtype option on import or set low_memory=False.\n",
            "  exec(code_obj, self.user_global_ns, self.user_ns)\n"
          ]
        }
      ]
    },
    {
      "cell_type": "markdown",
      "source": [
        "## Loading of Models"
      ],
      "metadata": {
        "id": "1lmDHFFofMJy"
      }
    },
    {
      "cell_type": "markdown",
      "source": [
        "Tuned Naive Bayes Model without SMOTE\n"
      ],
      "metadata": {
        "id": "h8wfxsg1fVb-"
      }
    },
    {
      "cell_type": "code",
      "source": [
        "filename = f'/content/drive/MyDrive/BT4222/models/model_gs_nb_tuned.sav'\n",
        "Tuned_NB_model = pickle.load(open(filename, 'rb'))"
      ],
      "metadata": {
        "id": "SLJMRN1ifLDV"
      },
      "execution_count": null,
      "outputs": []
    },
    {
      "cell_type": "markdown",
      "source": [
        "Tuned DNN Model with SMOTE"
      ],
      "metadata": {
        "id": "TyvF0teTS076"
      }
    },
    {
      "cell_type": "code",
      "source": [
        "filename = f'/content/drive/MyDrive/BT4222/models/model_nn_w_tuning.sav'\n",
        "Tuned_DNN_w_SMOTE_model = pickle.load(open(filename, 'rb'))"
      ],
      "metadata": {
        "id": "hjZ63_vASroq"
      },
      "execution_count": null,
      "outputs": []
    },
    {
      "cell_type": "markdown",
      "source": [
        "TabNet With SMOTE"
      ],
      "metadata": {
        "id": "cUqfX9C2TLf5"
      }
    },
    {
      "cell_type": "code",
      "source": [
        "Tabnet_clf = TabNetClassifier()\n",
        "saved_filepath = f'/content/drive/MyDrive/BT4222/models/tabnet_model_SMOTE.zip'\n",
        "Tabnet_clf.load_model(saved_filepath)"
      ],
      "metadata": {
        "colab": {
          "base_uri": "https://localhost:8080/"
        },
        "id": "noAYc9PSTKdO",
        "outputId": "169e77a5-d2db-40ef-e647-f6332164fc06"
      },
      "execution_count": null,
      "outputs": [
        {
          "output_type": "stream",
          "name": "stderr",
          "text": [
            "/usr/local/lib/python3.7/dist-packages/pytorch_tabnet/abstract_model.py:75: UserWarning: Device used : cpu\n",
            "  warnings.warn(f\"Device used : {self.device}\")\n"
          ]
        }
      ]
    },
    {
      "cell_type": "markdown",
      "source": [
        "Ensembled (RFC, GradientBoosted, ExtraTrees) w Oversample (NOT SMOTE) and MinMaxScale"
      ],
      "metadata": {
        "id": "MRCKFQspT6p7"
      }
    },
    {
      "cell_type": "code",
      "source": [
        "filename = f'/content/drive/MyDrive/BT4222/models/ensembled_over.sav'\n",
        "Ensembled_Trees_model = pickle.load(open(filename, 'rb'))"
      ],
      "metadata": {
        "id": "IbcSlZubT9EV"
      },
      "execution_count": null,
      "outputs": []
    },
    {
      "cell_type": "markdown",
      "source": [
        "RandomForest (Oversampled) w Scaling"
      ],
      "metadata": {
        "id": "l70S3FSxU9bu"
      }
    },
    {
      "cell_type": "code",
      "source": [
        "filename = f'/content/drive/MyDrive/BT4222/models/rfc_over_tuned.sav'\n",
        "Random_forest_model = pickle.load(open(filename, 'rb'))"
      ],
      "metadata": {
        "id": "TYdus4xIU8hR"
      },
      "execution_count": null,
      "outputs": []
    },
    {
      "cell_type": "markdown",
      "source": [
        "XGBoost Smote Scaled"
      ],
      "metadata": {
        "id": "2jvTqwovVPyN"
      }
    },
    {
      "cell_type": "code",
      "source": [
        "filename = f'/content/drive/MyDrive/BT4222/models/model_xgboost_tuned_smote_npy_ver.sav'\n",
        "XGB_SMOTE_Scaled = pickle.load(open(filename, 'rb'))"
      ],
      "metadata": {
        "id": "BMzOGl_xVMsu"
      },
      "execution_count": null,
      "outputs": []
    },
    {
      "cell_type": "markdown",
      "source": [
        "Tuned SVM Classifier"
      ],
      "metadata": {
        "id": "9rSCS44EVYeQ"
      }
    },
    {
      "cell_type": "code",
      "source": [
        "filename = f'/content/drive/MyDrive/BT4222/models/model_svc_tuned.sav'\n",
        "Tuned_SVC = pickle.load(open(filename, 'rb'))"
      ],
      "metadata": {
        "id": "u3c7KSOEVXnR"
      },
      "execution_count": null,
      "outputs": []
    },
    {
      "cell_type": "code",
      "source": [
        "Tuned_DNN_w_SMOTE_model.summary()"
      ],
      "metadata": {
        "colab": {
          "base_uri": "https://localhost:8080/"
        },
        "id": "jDa1fc2xXRrm",
        "outputId": "e78eecdb-0d5b-4ac9-bf87-e27e220e13b9"
      },
      "execution_count": null,
      "outputs": [
        {
          "output_type": "stream",
          "name": "stdout",
          "text": [
            "Model: \"sequential_4\"\n",
            "_________________________________________________________________\n",
            " Layer (type)                Output Shape              Param #   \n",
            "=================================================================\n",
            " dense_17 (Dense)            (None, 320)               15040     \n",
            "                                                                 \n",
            " dense_18 (Dense)            (None, 480)               154080    \n",
            "                                                                 \n",
            " dense_19 (Dense)            (None, 32)                15392     \n",
            "                                                                 \n",
            " dense_20 (Dense)            (None, 1)                 33        \n",
            "                                                                 \n",
            "=================================================================\n",
            "Total params: 184,545\n",
            "Trainable params: 184,545\n",
            "Non-trainable params: 0\n",
            "_________________________________________________________________\n"
          ]
        }
      ]
    },
    {
      "cell_type": "code",
      "source": [
        "import keras.backend as K\n",
        "print(K.eval(Tuned_DNN_w_SMOTE_model.optimizer.lr))"
      ],
      "metadata": {
        "colab": {
          "base_uri": "https://localhost:8080/"
        },
        "id": "Y7L6EWBsXyiN",
        "outputId": "65bfa1bb-be35-41ee-b269-fa1b305c9575"
      },
      "execution_count": null,
      "outputs": [
        {
          "output_type": "stream",
          "name": "stdout",
          "text": [
            "1e-04\n"
          ]
        }
      ]
    },
    {
      "cell_type": "markdown",
      "source": [
        "## Voting Classifier Building"
      ],
      "metadata": {
        "id": "tousZZYRWK_B"
      }
    },
    {
      "cell_type": "markdown",
      "source": [
        "Estimators"
      ],
      "metadata": {
        "id": "K63FeqPEAabs"
      }
    },
    {
      "cell_type": "code",
      "source": [
        "estimators_list = [\n",
        "    Tuned_NB_model,\n",
        "    Tuned_DNN_w_SMOTE_model,\n",
        "    Tabnet_clf,\n",
        "    Ensembled_Trees_model,\n",
        "    Random_forest_model,\n",
        "    XGB_SMOTE_Scaled,\n",
        "    Tuned_SVC\n",
        "]"
      ],
      "metadata": {
        "id": "A3VoBoHAAZrI"
      },
      "execution_count": null,
      "outputs": []
    },
    {
      "cell_type": "code",
      "source": [
        "import inspect\n",
        "inspect.getfullargspec(EnsembleVoteClassifier)"
      ],
      "metadata": {
        "colab": {
          "base_uri": "https://localhost:8080/"
        },
        "id": "AathiszMD04t",
        "outputId": "41d96388-15f3-4770-acc5-efe8cee45a89"
      },
      "execution_count": null,
      "outputs": [
        {
          "output_type": "execute_result",
          "data": {
            "text/plain": [
              "FullArgSpec(args=['self', 'clfs', 'voting', 'weights', 'verbose', 'refit'], varargs=None, varkw=None, defaults=('hard', None, 0, True), kwonlyargs=[], kwonlydefaults=None, annotations={})"
            ]
          },
          "metadata": {},
          "execution_count": 32
        }
      ]
    },
    {
      "cell_type": "markdown",
      "source": [
        "Hard Voting"
      ],
      "metadata": {
        "id": "qKofcQtc_wS6"
      }
    },
    {
      "cell_type": "code",
      "source": [
        "eclf = EnsembleVoteClassifier(clfs=estimators_list, refit=False)"
      ],
      "metadata": {
        "id": "fypq04mr_zlv"
      },
      "execution_count": null,
      "outputs": []
    },
    {
      "cell_type": "code",
      "source": [
        "eclf = eclf.fit(X_train, y_train)"
      ],
      "metadata": {
        "id": "NCJSOMTKEDnH"
      },
      "execution_count": null,
      "outputs": []
    },
    {
      "cell_type": "code",
      "source": [
        "eclf.predict(X_train)"
      ],
      "metadata": {
        "id": "k4G7RviZEUo5"
      },
      "execution_count": null,
      "outputs": []
    },
    {
      "cell_type": "markdown",
      "source": [
        "Hard Voting(Manual)"
      ],
      "metadata": {
        "id": "tL2tNcAD3sdY"
      }
    },
    {
      "cell_type": "code",
      "source": [
        "estimators = [\n",
        "    ('NB',Tuned_NB_model),\n",
        "    ('DNN',Tuned_DNN_w_SMOTE_model),\n",
        "    ('TBNT',Tabnet_clf),\n",
        "    ('Ensb',Ensembled_Trees_model),\n",
        "    ('RndmF',Random_forest_model),\n",
        "    ('XGB',XGB_SMOTE_Scaled),\n",
        "    ('SVC',Tuned_SVC)\n",
        "]\n",
        "hard_results_list = []\n",
        "for i in range(0,len(estimators)):\n",
        "  temp_estimator = estimators[i][1]\n",
        "  y_pred_hard_component = temp_estimator.predict(X_test)\n",
        "  if i==1:\n",
        "    y_pred_hard_component = (y_pred_hard_component > 0.5).astype(\"int32\")\n",
        "    y_pred_hard_component = y_pred_hard_component.reshape(-1)\n",
        "  hard_results_list.append(y_pred_hard_component)\n",
        "\n",
        "\n",
        "base_result_list = np.vstack(hard_results_list).transpose()\n",
        "output_array = []\n",
        "for i in base_result_list:\n",
        "  if sum(i) >= 4:\n",
        "    output_array.append(1)\n",
        "  else:\n",
        "    output_array.append(0)\n",
        "output_array = np.asarray(output_array)"
      ],
      "metadata": {
        "colab": {
          "base_uri": "https://localhost:8080/"
        },
        "id": "oJG7YRAjbvqA",
        "outputId": "bdca93a3-04dd-419c-c402-f40e3765db56"
      },
      "execution_count": null,
      "outputs": [
        {
          "output_type": "stream",
          "name": "stdout",
          "text": [
            "587/587 [==============================] - 2s 2ms/step\n"
          ]
        }
      ]
    },
    {
      "cell_type": "code",
      "source": [
        "print(classification_report(y_test,output_array))\n",
        "print(f\"Accuracy: {accuracy_score(y_test,output_array)}\")\n",
        "print(f\"Precision: {precision_score(y_test,output_array)}\")\n",
        "print(f\"Recall: {recall_score(y_test,output_array)}\")\n",
        "print(f\"F1-score: {f1_score(y_test,output_array)}\")\n",
        "\n",
        "\n",
        "cf_matrix = confusion_matrix(y_test,output_array)  \n",
        "sb.heatmap(cf_matrix, annot=True, fmt='g')"
      ],
      "metadata": {
        "colab": {
          "base_uri": "https://localhost:8080/",
          "height": 508
        },
        "id": "sfzMvj7Cz1Va",
        "outputId": "80fb8479-d3d9-4ca0-a4d6-e4f82d0fe395"
      },
      "execution_count": null,
      "outputs": [
        {
          "output_type": "stream",
          "name": "stdout",
          "text": [
            "              precision    recall  f1-score   support\n",
            "\n",
            "           0       0.95      0.95      0.95     15981\n",
            "           1       0.69      0.69      0.69      2775\n",
            "\n",
            "    accuracy                           0.91     18756\n",
            "   macro avg       0.82      0.82      0.82     18756\n",
            "weighted avg       0.91      0.91      0.91     18756\n",
            "\n",
            "Accuracy: 0.9087758583919813\n",
            "Precision: 0.6926140477914554\n",
            "Recall: 0.6893693693693693\n",
            "F1-score: 0.6909878995846126\n"
          ]
        },
        {
          "output_type": "execute_result",
          "data": {
            "text/plain": [
              "<matplotlib.axes._subplots.AxesSubplot at 0x7f47020d5fd0>"
            ]
          },
          "metadata": {},
          "execution_count": 13
        },
        {
          "output_type": "display_data",
          "data": {
            "text/plain": [
              "<Figure size 432x288 with 2 Axes>"
            ],
            "image/png": "[encoded data removed]"
          },
          "metadata": {
            "needs_background": "light"
          }
        }
      ]
    }
  ]
}